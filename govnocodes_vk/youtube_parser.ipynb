{
 "cells": [
  {
   "cell_type": "markdown",
   "metadata": {},
   "source": [
    "# Качаем комментарии с youtube "
   ]
  },
  {
   "cell_type": "code",
   "execution_count": 276,
   "metadata": {},
   "outputs": [],
   "source": [
    "import requests\n",
    "import pickle\n",
    "\n",
    "from tqdm import tqdm_notebook\n",
    "\n",
    "# Для распараллеливания кода\n",
    "from joblib import Parallel, delayed"
   ]
  },
  {
   "cell_type": "markdown",
   "metadata": {},
   "source": [
    "* https://medium.com/greyatom/youtube-data-in-python-6147160c5833\n",
    "* https://console.developers.google.com/apis/api/youtube.googleapis.com/quotas?project=hopeful-vim-228218"
   ]
  },
  {
   "cell_type": "code",
   "execution_count": 177,
   "metadata": {},
   "outputs": [],
   "source": [
    "api_key = ###"
   ]
  },
  {
   "cell_type": "markdown",
   "metadata": {},
   "source": [
    "В коде страницы искать id по ссылке как: \"externalId\":"
   ]
  },
  {
   "cell_type": "code",
   "execution_count": 247,
   "metadata": {},
   "outputs": [],
   "source": [
    "def get_all_video_in_channel(channel_id, api_key):\n",
    "    \"\"\"\n",
    "    Достаёт словарь из id и имен всех видео с канала по его id\n",
    "        channel_id : string\n",
    "            id канала\n",
    "        api_key : string\n",
    "            ключ доступа к API\n",
    "    \"\"\"\n",
    "\n",
    "    base_search_url = 'https://www.googleapis.com/youtube/v3/search?'\n",
    "    \n",
    "    first_url = base_search_url+'key={}&channelId={}&part=snippet,id&order=date&maxResults=25'.format(api_key, channel_id)\n",
    "\n",
    "    video_links = { }\n",
    "    url = first_url\n",
    "    while True:\n",
    "        req = requests.get(url)\n",
    "        resp = req.json()\n",
    "\n",
    "        for i in resp['items']:\n",
    "            if i['id']['kind'] == \"youtube#video\":\n",
    "                video_links.update({i['id']['videoId'] : i['snippet']['title']})\n",
    "\n",
    "        try:\n",
    "            next_page_token = resp['nextPageToken']\n",
    "            url = first_url + '&pageToken={}'.format(next_page_token)\n",
    "        except:\n",
    "            break\n",
    "    return video_links\n",
    "\n",
    "\n",
    "def get_all_video_in_playlist(playlist_id, api_key):\n",
    "    \"\"\"\n",
    "    Достаёт словарь из id и имен всех видео с плейлиста по его id\n",
    "        playlist_id : string\n",
    "            id канала\n",
    "        api_key : string\n",
    "            ключ доступа к API\n",
    "    \"\"\"\n",
    "\n",
    "    base_search_url = 'https://www.googleapis.com/youtube/v3/playlistItems?'\n",
    "    \n",
    "    first_url = base_search_url+'key={}&playlistId={}&part=id,snippet&order=date&maxResults=25'.format(api_key, playlist_id)\n",
    "\n",
    "    video_links = { }\n",
    "    url = first_url\n",
    "    while True:\n",
    "        req = requests.get(url)\n",
    "        resp = req.json()\n",
    "\n",
    "        for i in resp['items']:\n",
    "            if i['snippet']['resourceId']['kind'] == \"youtube#video\":\n",
    "                video_links.update({i['snippet']['resourceId']['videoId'] : i['snippet']['title']})\n",
    "\n",
    "        try:\n",
    "            next_page_token = resp['nextPageToken']\n",
    "            url = first_url + '&pageToken={}'.format(next_page_token)\n",
    "        except:\n",
    "            break\n",
    "    return video_links\n",
    "\n",
    "\n",
    "def get_comment_threads(video_id, api_key, style, performer, video_dict, limit=1000):\n",
    "    \"\"\"\n",
    "    Достёт из-под видео 500 комментов\n",
    "        video_id : string \n",
    "            id видяшки\n",
    "        api_key : string\n",
    "            ключ доступа к API \n",
    "        style : string\n",
    "            стиль музыки \n",
    "        performer : string\n",
    "            исполнитель\n",
    "        video_divt : dict\n",
    "            словарь с соответствием id и названий видео\n",
    "    \"\"\"\n",
    "\n",
    "    base_search_url = 'https://www.googleapis.com/youtube/v3/commentThreads?'\n",
    "    first_url = base_search_url+'key={}&videoId={}&part=snippet&maxResults=100&textFormat=plainText'.format(api_key, video_id)\n",
    "\n",
    "    com_inf = [ ]\n",
    "    url = first_url\n",
    "\n",
    "    while len(com_inf) < limit:\n",
    "        req = requests.get(url)\n",
    "        resp = req.json()\n",
    "\n",
    "        for item in resp['items']:\n",
    "            comment = item[\"snippet\"][\"topLevelComment\"]\n",
    "            if comment['kind'] == 'youtube#comment':\n",
    "                cur_infa = {\n",
    "                    'music_style' : style,\n",
    "                    'performer' : performer,\n",
    "                    'video_name' : video_dict[video_id],\n",
    "                    'comment_id' : comment[\"id\"],\n",
    "                    'author' : comment[\"snippet\"][\"authorDisplayName\"],\n",
    "                    'text' : comment[\"snippet\"][\"textDisplay\"],\n",
    "                    'date' : comment[\"snippet\"]['publishedAt'],\n",
    "                    'likes' : comment[\"snippet\"]['likeCount']\n",
    "                }\n",
    "\n",
    "                com_inf.append(cur_infa)       \n",
    "        try:\n",
    "            next_page_token = resp['nextPageToken']\n",
    "            url = first_url + '&pageToken={}'.format(next_page_token)\n",
    "        except:\n",
    "            break    \n",
    "    return com_inf"
   ]
  },
  {
   "cell_type": "code",
   "execution_count": 270,
   "metadata": {},
   "outputs": [],
   "source": [
    "style = 'popsa'\n",
    "\n",
    "target = {\n",
    "    \"loboda\" : {'канал' : \"UCiU8w7NabK3xFgjxmHovjCg\", 'листы' : [\"PL2944ACC2EC785BD5\"]},\n",
    "    'билан' : {'канал' : \"UCrnxeDn1Biodm9jO8yAyj3g\", 'листы' : [\"PL57Ql2OzGW1BDEuMJ3qi6fbzYON26fUTU\"]},\n",
    "    'темникова' : {'канал' : \"UC4EiMlCetZkEOfFK8pfRAvw\", 'листы' : [\"PLQ7t2Z77CsoW6oeoaMxa665eO7hWA4s-t\"]},\n",
    "    'serebro' : {'канал' : \"UCE3faOl-pvohsu7hof1Fnsw\", 'листы' : [\"PLcH8mHDiTxZ0DadRGyfEpSZFA6RZ203Ln\"]},\n",
    "    'гагарина' : {'канал' : \"UCs6h0i7chZZX3fWD4IOh1kQ\", 'листы' : [\"PLjtCcgIBP_Ttn3N5JvdhQRBQGqrNTaQwK\"]},\n",
    "    'ёлка' : {'канал' : \"UC3-HSETEZNYumQ4GXUiQAuw\", 'листы' : [ ]},\n",
    "    'виа_гра' : {'канал' : \"UCgpnEoslcNaqYuf_78avHXw\", 'листы' : [\"PLmR3vfNp_YiO_fNanIM1ym-l8qqRbY0-i\"]},\n",
    "    'бузова' : {'канал' : \"UCzTom8k7UduI9jcs6umWD9Q\", 'листы' : [\"PLqM15F9IQUAFbQW1XjBY3c7trFyOZ9Uol\"]},\n",
    "    'караулова' : {'канал' : \"UCDGjJgCgyrbMfyjBzuo1xiA\", 'листы' : [\"PLP2A5cnvW__Ur_S0EOLCoLRyOZzUdCaFm\"]},\n",
    "    'кока' : {'канал' : \"UCbj1rZy7-qktxZTawl1S_nA\", 'листы' : [\"PLdnFu7fbWUIMRoI5lFpait4mxL1JzU7Go\"]},\n",
    "    'нюша' : {'канал' : \"UCm9VWKAFz0aXpuEHPHMae7w\", 'листы' : [\"PLJIRUPzMCrKKvenaGgQmjCDo49o7YByyT\"]},\n",
    "    'макsим' : {'канал' : \"UCUy_4pyOCyQK7VM6pR5WxSw\", 'листы' : [\"PL6E039C93D2424F75\"]},\n",
    "    'градусы' : {'канал' : \"UCBKvd5NasOgVXB1JmCL1urg\", 'листы' : [\"PLHb8DB_PqBc9fypbfTj0Hh41DP3CtwDnZ\"]},\n",
    "    'лазарев' : {'канал' : \"UCRSZzzNedo9M2629ZTKBANA\", 'листы' : [\"PLVwU9Hicy4XVXQ6uHamkBfDygMbN53Tx7\"]},\n",
    "    'барских' : {'канал' : \"UCSZP_I8E-_pRFVm90S0Zy6Q\", 'листы' : [\"PLyqQ1XMQ458rhd1QaXWhkX3YLuEO9CRTO\"]},\n",
    "    'крид' : {'канал' : \"UCZeinbsBPa37qf4HPj_w-lw\", 'листы' : [\"PLomtNzMp4OgW3gmEb-IO35ojDS83gRgAe\"]},\n",
    "    'тимати' : {'канал' : \"UCJjMGnyycI7f4Vl_UMuDB1Q\", 'листы' : [\"PLFBB9F68AF5C4F818\"]},\n",
    "    'руки_вверх' : {'канал' : \"UCf5XmQY79pqR3i2oliGqMQg\", 'листы' : [\"PLLf5zOiu21LGS51xGPeHeDgO8H8QIPtbs\"]},\n",
    "    'astudio' : {'канал' : \"UC0cst8k3zK9A8BRwZ4tE3AA\", 'листы' : [\"PLA9467A4A29649490\"]},\n",
    "    'iowa' : {'канал' : \"UCj2K424HxCZTLWuw-PLBGNA\", 'листы' : [\"PLy3FBKe3LReDB5zQMMU9F9TB2_XjlQW3n\"]},\n",
    "    '2маши' : {'канал' : \"UCt2p-g_IT0F_yuCfz79yKRw\", 'листы' : [\"PLrG9pIP1c-m9fyzfQfvFMVXHedc8LO-S5\"]}\n",
    "    }"
   ]
  },
  {
   "cell_type": "code",
   "execution_count": 267,
   "metadata": {},
   "outputs": [],
   "source": [
    "style = 'estrada'\n",
    "\n",
    "target = {\n",
    "    'киркоров' : {'канал' : \"UCJgUXBCxgiWUivJV2RmLD6g\", 'листы' : [\"PL1T7-Rtn2AzkT55xxmXmC01gKGXb0Br-b\"]},\n",
    "    'лепс' : {'канал' : \"UCWopWNCej06Z3S4IG39yHLA\", 'листы' : [\"PLfBFsBXvPtQ5UCjScTwQxR2i00rKXN9ZM\", \"PLQuC5fFp9MxdUV0tNpkYcQMskJFhoFlN0\"]},\n",
    "    'пугачёва' : {'канал' : \"UCtLuREHRfDQbKAzlomUvgzQ\", 'листы' : [ ]},\n",
    "    'михайлов': {'канал' : \"UCc_rpSa6PXPow6aVRhlnQ8g\", 'листы' : [\"PLA360E570CE8C6566\"]},\n",
    "    'меладзе': {'канал' : \"UCQKQrhLrtENPdxCNjeYUReg\", 'листы' : [ ]},\n",
    "    'ваенга': {'канал' : \"UCyAcXWJxwjraTlzckEbgMfQ\", 'листы' : [\"PLS6Hv_KxWNTxZtQ3PyyfZNZaxW7D02rL8\"]},\n",
    "    'валерия': {'канал' : \"UC8ctItMhn_FNS1c301_Q-zA\", 'листы' : [\"PLapk1eIugjg4wTQYSsAPNz9ZQnaH8ijSP\"]},\n",
    "    'агутин': {'канал' : \"UCVafaAr4oDm-DurxwclK3Zg\", 'листы' : [ ]},\n",
    "    'басков': {'канал' : \"UCJqsNPrsH71EnsP8kbtrHoA\", 'листы' : [\"PLU3z5rOtm15b41T47fJiX1GRqDA1LVbcP\"]},\n",
    "    'ротару': {'канал' : \"UC0Ux11GJjRsXA-DbU6zUMkw\", 'листы' : [ ]},\n",
    "    'лолита' : {'канал' : \"UCaKeasZJuQ_ZYw0o9hsfGbg\", 'листы' : [\"PL7Mdigi3VDUd2hkYvisfOEojlzkO3XZp4\"]},\n",
    "    'газманов': {'канал' : \"UCxPUxaXn8sVLABf7HxxMabQ\", 'листы' : [\"PL7yxEFBiOVQYSFwc9Rn_G1tHM2epv5IxH\"]},\n",
    "    'николаев': {'канал' : \"UC9nYweZwDnAr-kIkADlJA6A\", 'листы' : [\"PL23vzKgeCvbwQVzrR23jSSV5G9D_KHOOX\"]},\n",
    "    'леонтьев': {'канал' : \"UCi0x0GBJ7095DM4qjTIwp9w\", 'листы' : [ ]},\n",
    "    'буйнов': {'канал' : \"UCRlcuihl8_Qp657AYTC_KUA\", 'листы' : [ ]}      \n",
    "    }\n"
   ]
  },
  {
   "cell_type": "code",
   "execution_count": 268,
   "metadata": {},
   "outputs": [],
   "source": [
    "comments_dict = { }"
   ]
  },
  {
   "cell_type": "code",
   "execution_count": 269,
   "metadata": {
    "scrolled": false
   },
   "outputs": [
    {
     "name": "stdout",
     "output_type": "stream",
     "text": [
      "Качаю киркоров\n",
      "Видео с канала: 334\n",
      "Видео с плейлиста: 189\n",
      "Видео всего: 453\n"
     ]
    },
    {
     "data": {
      "application/vnd.jupyter.widget-view+json": {
       "model_id": "44c4b6fc462446fe90dfe0ece674b64e",
       "version_major": 2,
       "version_minor": 0
      },
      "text/html": [
       "<p>Failed to display Jupyter Widget of type <code>HBox</code>.</p>\n",
       "<p>\n",
       "  If you're reading this message in the Jupyter Notebook or JupyterLab Notebook, it may mean\n",
       "  that the widgets JavaScript is still loading. If this message persists, it\n",
       "  likely means that the widgets JavaScript library is either not installed or\n",
       "  not enabled. See the <a href=\"https://ipywidgets.readthedocs.io/en/stable/user_install.html\">Jupyter\n",
       "  Widgets Documentation</a> for setup instructions.\n",
       "</p>\n",
       "<p>\n",
       "  If you're reading this message in another frontend (for example, a static\n",
       "  rendering on GitHub or <a href=\"https://nbviewer.jupyter.org/\">NBViewer</a>),\n",
       "  it may mean that your frontend doesn't currently support widgets.\n",
       "</p>\n"
      ],
      "text/plain": [
       "HBox(children=(IntProgress(value=0, max=453), HTML(value='')))"
      ]
     },
     "metadata": {},
     "output_type": "display_data"
    },
    {
     "name": "stdout",
     "output_type": "stream",
     "text": [
      "Error in https://www.youtube.com/watch?time_continue=1&v=W-27R8SBu1A\n",
      "Добыто комментариев 18207\n",
      "==================================================\n",
      "Качаю лепс\n",
      "Видео с канала: 386\n",
      "Видео с плейлиста: 222\n",
      "Видео всего: 480\n"
     ]
    },
    {
     "data": {
      "application/vnd.jupyter.widget-view+json": {
       "model_id": "bb9e9b26bc4a4ba19b13948768ce5fea",
       "version_major": 2,
       "version_minor": 0
      },
      "text/html": [
       "<p>Failed to display Jupyter Widget of type <code>HBox</code>.</p>\n",
       "<p>\n",
       "  If you're reading this message in the Jupyter Notebook or JupyterLab Notebook, it may mean\n",
       "  that the widgets JavaScript is still loading. If this message persists, it\n",
       "  likely means that the widgets JavaScript library is either not installed or\n",
       "  not enabled. See the <a href=\"https://ipywidgets.readthedocs.io/en/stable/user_install.html\">Jupyter\n",
       "  Widgets Documentation</a> for setup instructions.\n",
       "</p>\n",
       "<p>\n",
       "  If you're reading this message in another frontend (for example, a static\n",
       "  rendering on GitHub or <a href=\"https://nbviewer.jupyter.org/\">NBViewer</a>),\n",
       "  it may mean that your frontend doesn't currently support widgets.\n",
       "</p>\n"
      ],
      "text/plain": [
       "HBox(children=(IntProgress(value=0, max=480), HTML(value='')))"
      ]
     },
     "metadata": {},
     "output_type": "display_data"
    },
    {
     "name": "stdout",
     "output_type": "stream",
     "text": [
      "Error in https://www.youtube.com/watch?time_continue=1&v=9Ht3f1WPG4g\n",
      "Error in https://www.youtube.com/watch?time_continue=1&v=wG28KFqsJQA\n",
      "Error in https://www.youtube.com/watch?time_continue=1&v=4uDNofw0aG8\n",
      "Error in https://www.youtube.com/watch?time_continue=1&v=FZqbkPvrUIo\n",
      "Добыто комментариев 12561\n",
      "==================================================\n",
      "Качаю пугачёва\n",
      "Видео с канала: 387\n",
      "Видео с плейлиста: 0\n",
      "Видео всего: 387\n"
     ]
    },
    {
     "data": {
      "application/vnd.jupyter.widget-view+json": {
       "model_id": "3c8cbd5b98e64874949b9fab11db5e29",
       "version_major": 2,
       "version_minor": 0
      },
      "text/html": [
       "<p>Failed to display Jupyter Widget of type <code>HBox</code>.</p>\n",
       "<p>\n",
       "  If you're reading this message in the Jupyter Notebook or JupyterLab Notebook, it may mean\n",
       "  that the widgets JavaScript is still loading. If this message persists, it\n",
       "  likely means that the widgets JavaScript library is either not installed or\n",
       "  not enabled. See the <a href=\"https://ipywidgets.readthedocs.io/en/stable/user_install.html\">Jupyter\n",
       "  Widgets Documentation</a> for setup instructions.\n",
       "</p>\n",
       "<p>\n",
       "  If you're reading this message in another frontend (for example, a static\n",
       "  rendering on GitHub or <a href=\"https://nbviewer.jupyter.org/\">NBViewer</a>),\n",
       "  it may mean that your frontend doesn't currently support widgets.\n",
       "</p>\n"
      ],
      "text/plain": [
       "HBox(children=(IntProgress(value=0, max=387), HTML(value='')))"
      ]
     },
     "metadata": {},
     "output_type": "display_data"
    },
    {
     "name": "stdout",
     "output_type": "stream",
     "text": [
      "Добыто комментариев 21\n",
      "==================================================\n",
      "Качаю михайлов\n",
      "Видео с канала: 508\n",
      "Видео с плейлиста: 18\n",
      "Видео всего: 509\n"
     ]
    },
    {
     "data": {
      "application/vnd.jupyter.widget-view+json": {
       "model_id": "7c03b5b253ca4f3ea440022cdf8d8a6a",
       "version_major": 2,
       "version_minor": 0
      },
      "text/html": [
       "<p>Failed to display Jupyter Widget of type <code>HBox</code>.</p>\n",
       "<p>\n",
       "  If you're reading this message in the Jupyter Notebook or JupyterLab Notebook, it may mean\n",
       "  that the widgets JavaScript is still loading. If this message persists, it\n",
       "  likely means that the widgets JavaScript library is either not installed or\n",
       "  not enabled. See the <a href=\"https://ipywidgets.readthedocs.io/en/stable/user_install.html\">Jupyter\n",
       "  Widgets Documentation</a> for setup instructions.\n",
       "</p>\n",
       "<p>\n",
       "  If you're reading this message in another frontend (for example, a static\n",
       "  rendering on GitHub or <a href=\"https://nbviewer.jupyter.org/\">NBViewer</a>),\n",
       "  it may mean that your frontend doesn't currently support widgets.\n",
       "</p>\n"
      ],
      "text/plain": [
       "HBox(children=(IntProgress(value=0, max=509), HTML(value='')))"
      ]
     },
     "metadata": {},
     "output_type": "display_data"
    },
    {
     "name": "stdout",
     "output_type": "stream",
     "text": [
      "Добыто комментариев 25477\n",
      "==================================================\n",
      "Качаю меладзе\n",
      "Видео с канала: 104\n",
      "Видео с плейлиста: 0\n",
      "Видео всего: 104\n"
     ]
    },
    {
     "data": {
      "application/vnd.jupyter.widget-view+json": {
       "model_id": "69b03a28ce4c495683893df78c03ce93",
       "version_major": 2,
       "version_minor": 0
      },
      "text/html": [
       "<p>Failed to display Jupyter Widget of type <code>HBox</code>.</p>\n",
       "<p>\n",
       "  If you're reading this message in the Jupyter Notebook or JupyterLab Notebook, it may mean\n",
       "  that the widgets JavaScript is still loading. If this message persists, it\n",
       "  likely means that the widgets JavaScript library is either not installed or\n",
       "  not enabled. See the <a href=\"https://ipywidgets.readthedocs.io/en/stable/user_install.html\">Jupyter\n",
       "  Widgets Documentation</a> for setup instructions.\n",
       "</p>\n",
       "<p>\n",
       "  If you're reading this message in another frontend (for example, a static\n",
       "  rendering on GitHub or <a href=\"https://nbviewer.jupyter.org/\">NBViewer</a>),\n",
       "  it may mean that your frontend doesn't currently support widgets.\n",
       "</p>\n"
      ],
      "text/plain": [
       "HBox(children=(IntProgress(value=0, max=104), HTML(value='')))"
      ]
     },
     "metadata": {},
     "output_type": "display_data"
    },
    {
     "name": "stdout",
     "output_type": "stream",
     "text": [
      "Добыто комментариев 2797\n",
      "==================================================\n",
      "Качаю ваенга\n",
      "Видео с канала: 463\n",
      "Видео с плейлиста: 77\n",
      "Видео всего: 488\n"
     ]
    },
    {
     "data": {
      "application/vnd.jupyter.widget-view+json": {
       "model_id": "4f7bc38213464ddd85568843e7f44f6b",
       "version_major": 2,
       "version_minor": 0
      },
      "text/html": [
       "<p>Failed to display Jupyter Widget of type <code>HBox</code>.</p>\n",
       "<p>\n",
       "  If you're reading this message in the Jupyter Notebook or JupyterLab Notebook, it may mean\n",
       "  that the widgets JavaScript is still loading. If this message persists, it\n",
       "  likely means that the widgets JavaScript library is either not installed or\n",
       "  not enabled. See the <a href=\"https://ipywidgets.readthedocs.io/en/stable/user_install.html\">Jupyter\n",
       "  Widgets Documentation</a> for setup instructions.\n",
       "</p>\n",
       "<p>\n",
       "  If you're reading this message in another frontend (for example, a static\n",
       "  rendering on GitHub or <a href=\"https://nbviewer.jupyter.org/\">NBViewer</a>),\n",
       "  it may mean that your frontend doesn't currently support widgets.\n",
       "</p>\n"
      ],
      "text/plain": [
       "HBox(children=(IntProgress(value=0, max=488), HTML(value='')))"
      ]
     },
     "metadata": {},
     "output_type": "display_data"
    },
    {
     "name": "stdout",
     "output_type": "stream",
     "text": [
      "Добыто комментариев 3647\n",
      "==================================================\n",
      "Качаю валерия\n",
      "Видео с канала: 549\n",
      "Видео с плейлиста: 60\n",
      "Видео всего: 560\n"
     ]
    },
    {
     "data": {
      "application/vnd.jupyter.widget-view+json": {
       "model_id": "e2b6c622219c485d97ce2766503bdf78",
       "version_major": 2,
       "version_minor": 0
      },
      "text/html": [
       "<p>Failed to display Jupyter Widget of type <code>HBox</code>.</p>\n",
       "<p>\n",
       "  If you're reading this message in the Jupyter Notebook or JupyterLab Notebook, it may mean\n",
       "  that the widgets JavaScript is still loading. If this message persists, it\n",
       "  likely means that the widgets JavaScript library is either not installed or\n",
       "  not enabled. See the <a href=\"https://ipywidgets.readthedocs.io/en/stable/user_install.html\">Jupyter\n",
       "  Widgets Documentation</a> for setup instructions.\n",
       "</p>\n",
       "<p>\n",
       "  If you're reading this message in another frontend (for example, a static\n",
       "  rendering on GitHub or <a href=\"https://nbviewer.jupyter.org/\">NBViewer</a>),\n",
       "  it may mean that your frontend doesn't currently support widgets.\n",
       "</p>\n"
      ],
      "text/plain": [
       "HBox(children=(IntProgress(value=0, max=560), HTML(value='')))"
      ]
     },
     "metadata": {},
     "output_type": "display_data"
    },
    {
     "name": "stdout",
     "output_type": "stream",
     "text": [
      "Добыто комментариев 16914\n",
      "==================================================\n",
      "Качаю агутин\n",
      "Видео с канала: 3\n",
      "Видео с плейлиста: 0\n",
      "Видео всего: 3\n"
     ]
    },
    {
     "data": {
      "application/vnd.jupyter.widget-view+json": {
       "model_id": "1b6501115d1544d4afb2b8b1cb05811b",
       "version_major": 2,
       "version_minor": 0
      },
      "text/html": [
       "<p>Failed to display Jupyter Widget of type <code>HBox</code>.</p>\n",
       "<p>\n",
       "  If you're reading this message in the Jupyter Notebook or JupyterLab Notebook, it may mean\n",
       "  that the widgets JavaScript is still loading. If this message persists, it\n",
       "  likely means that the widgets JavaScript library is either not installed or\n",
       "  not enabled. See the <a href=\"https://ipywidgets.readthedocs.io/en/stable/user_install.html\">Jupyter\n",
       "  Widgets Documentation</a> for setup instructions.\n",
       "</p>\n",
       "<p>\n",
       "  If you're reading this message in another frontend (for example, a static\n",
       "  rendering on GitHub or <a href=\"https://nbviewer.jupyter.org/\">NBViewer</a>),\n",
       "  it may mean that your frontend doesn't currently support widgets.\n",
       "</p>\n"
      ],
      "text/plain": [
       "HBox(children=(IntProgress(value=0, max=3), HTML(value='')))"
      ]
     },
     "metadata": {},
     "output_type": "display_data"
    },
    {
     "name": "stdout",
     "output_type": "stream",
     "text": [
      "Добыто комментариев 0\n",
      "==================================================\n",
      "Качаю басков\n",
      "Видео с канала: 99\n",
      "Видео с плейлиста: 22\n",
      "Видео всего: 121\n"
     ]
    },
    {
     "data": {
      "application/vnd.jupyter.widget-view+json": {
       "model_id": "9c6e6956385848e9bc7a07aaf2ecbab3",
       "version_major": 2,
       "version_minor": 0
      },
      "text/html": [
       "<p>Failed to display Jupyter Widget of type <code>HBox</code>.</p>\n",
       "<p>\n",
       "  If you're reading this message in the Jupyter Notebook or JupyterLab Notebook, it may mean\n",
       "  that the widgets JavaScript is still loading. If this message persists, it\n",
       "  likely means that the widgets JavaScript library is either not installed or\n",
       "  not enabled. See the <a href=\"https://ipywidgets.readthedocs.io/en/stable/user_install.html\">Jupyter\n",
       "  Widgets Documentation</a> for setup instructions.\n",
       "</p>\n",
       "<p>\n",
       "  If you're reading this message in another frontend (for example, a static\n",
       "  rendering on GitHub or <a href=\"https://nbviewer.jupyter.org/\">NBViewer</a>),\n",
       "  it may mean that your frontend doesn't currently support widgets.\n",
       "</p>\n"
      ],
      "text/plain": [
       "HBox(children=(IntProgress(value=0, max=121), HTML(value='')))"
      ]
     },
     "metadata": {},
     "output_type": "display_data"
    },
    {
     "name": "stdout",
     "output_type": "stream",
     "text": [
      "Error in https://www.youtube.com/watch?time_continue=1&v=kebi-K_9f-s\n",
      "Добыто комментариев 6128\n",
      "==================================================\n",
      "Качаю ротару\n",
      "Видео с канала: 72\n",
      "Видео с плейлиста: 0\n",
      "Видео всего: 72\n"
     ]
    },
    {
     "data": {
      "application/vnd.jupyter.widget-view+json": {
       "model_id": "cb85db8b183c437d9e7cf0b493d0c141",
       "version_major": 2,
       "version_minor": 0
      },
      "text/html": [
       "<p>Failed to display Jupyter Widget of type <code>HBox</code>.</p>\n",
       "<p>\n",
       "  If you're reading this message in the Jupyter Notebook or JupyterLab Notebook, it may mean\n",
       "  that the widgets JavaScript is still loading. If this message persists, it\n",
       "  likely means that the widgets JavaScript library is either not installed or\n",
       "  not enabled. See the <a href=\"https://ipywidgets.readthedocs.io/en/stable/user_install.html\">Jupyter\n",
       "  Widgets Documentation</a> for setup instructions.\n",
       "</p>\n",
       "<p>\n",
       "  If you're reading this message in another frontend (for example, a static\n",
       "  rendering on GitHub or <a href=\"https://nbviewer.jupyter.org/\">NBViewer</a>),\n",
       "  it may mean that your frontend doesn't currently support widgets.\n",
       "</p>\n"
      ],
      "text/plain": [
       "HBox(children=(IntProgress(value=0, max=72), HTML(value='')))"
      ]
     },
     "metadata": {},
     "output_type": "display_data"
    },
    {
     "name": "stdout",
     "output_type": "stream",
     "text": [
      "Добыто комментариев 4\n",
      "==================================================\n",
      "Качаю лолита\n",
      "Видео с канала: 2\n",
      "Видео с плейлиста: 46\n",
      "Видео всего: 46\n"
     ]
    },
    {
     "data": {
      "application/vnd.jupyter.widget-view+json": {
       "model_id": "fae0df02240740cd91839180f9c49662",
       "version_major": 2,
       "version_minor": 0
      },
      "text/html": [
       "<p>Failed to display Jupyter Widget of type <code>HBox</code>.</p>\n",
       "<p>\n",
       "  If you're reading this message in the Jupyter Notebook or JupyterLab Notebook, it may mean\n",
       "  that the widgets JavaScript is still loading. If this message persists, it\n",
       "  likely means that the widgets JavaScript library is either not installed or\n",
       "  not enabled. See the <a href=\"https://ipywidgets.readthedocs.io/en/stable/user_install.html\">Jupyter\n",
       "  Widgets Documentation</a> for setup instructions.\n",
       "</p>\n",
       "<p>\n",
       "  If you're reading this message in another frontend (for example, a static\n",
       "  rendering on GitHub or <a href=\"https://nbviewer.jupyter.org/\">NBViewer</a>),\n",
       "  it may mean that your frontend doesn't currently support widgets.\n",
       "</p>\n"
      ],
      "text/plain": [
       "HBox(children=(IntProgress(value=0, max=46), HTML(value='')))"
      ]
     },
     "metadata": {},
     "output_type": "display_data"
    },
    {
     "name": "stdout",
     "output_type": "stream",
     "text": [
      "Добыто комментариев 3201\n",
      "==================================================\n",
      "Качаю газманов\n",
      "Видео с канала: 122\n",
      "Видео с плейлиста: 137\n",
      "Видео всего: 218\n"
     ]
    },
    {
     "data": {
      "application/vnd.jupyter.widget-view+json": {
       "model_id": "ea35847f49b64e1a926197591a64cd98",
       "version_major": 2,
       "version_minor": 0
      },
      "text/html": [
       "<p>Failed to display Jupyter Widget of type <code>HBox</code>.</p>\n",
       "<p>\n",
       "  If you're reading this message in the Jupyter Notebook or JupyterLab Notebook, it may mean\n",
       "  that the widgets JavaScript is still loading. If this message persists, it\n",
       "  likely means that the widgets JavaScript library is either not installed or\n",
       "  not enabled. See the <a href=\"https://ipywidgets.readthedocs.io/en/stable/user_install.html\">Jupyter\n",
       "  Widgets Documentation</a> for setup instructions.\n",
       "</p>\n",
       "<p>\n",
       "  If you're reading this message in another frontend (for example, a static\n",
       "  rendering on GitHub or <a href=\"https://nbviewer.jupyter.org/\">NBViewer</a>),\n",
       "  it may mean that your frontend doesn't currently support widgets.\n",
       "</p>\n"
      ],
      "text/plain": [
       "HBox(children=(IntProgress(value=0, max=218), HTML(value='')))"
      ]
     },
     "metadata": {},
     "output_type": "display_data"
    },
    {
     "name": "stdout",
     "output_type": "stream",
     "text": [
      "Добыто комментариев 8108\n",
      "==================================================\n",
      "Качаю николаев\n",
      "Видео с канала: 508\n",
      "Видео с плейлиста: 132\n",
      "Видео всего: 566\n"
     ]
    },
    {
     "data": {
      "application/vnd.jupyter.widget-view+json": {
       "model_id": "035f3e042c414f749b72e63ccf2f35f4",
       "version_major": 2,
       "version_minor": 0
      },
      "text/html": [
       "<p>Failed to display Jupyter Widget of type <code>HBox</code>.</p>\n",
       "<p>\n",
       "  If you're reading this message in the Jupyter Notebook or JupyterLab Notebook, it may mean\n",
       "  that the widgets JavaScript is still loading. If this message persists, it\n",
       "  likely means that the widgets JavaScript library is either not installed or\n",
       "  not enabled. See the <a href=\"https://ipywidgets.readthedocs.io/en/stable/user_install.html\">Jupyter\n",
       "  Widgets Documentation</a> for setup instructions.\n",
       "</p>\n",
       "<p>\n",
       "  If you're reading this message in another frontend (for example, a static\n",
       "  rendering on GitHub or <a href=\"https://nbviewer.jupyter.org/\">NBViewer</a>),\n",
       "  it may mean that your frontend doesn't currently support widgets.\n",
       "</p>\n"
      ],
      "text/plain": [
       "HBox(children=(IntProgress(value=0, max=566), HTML(value='')))"
      ]
     },
     "metadata": {},
     "output_type": "display_data"
    },
    {
     "name": "stdout",
     "output_type": "stream",
     "text": [
      "Error in https://www.youtube.com/watch?time_continue=1&v=k-hWXEW4Wd0\n",
      "Error in https://www.youtube.com/watch?time_continue=1&v=W0JtOMzN96o\n",
      "Error in https://www.youtube.com/watch?time_continue=1&v=s7lRuXX2H8I\n",
      "Error in https://www.youtube.com/watch?time_continue=1&v=NlQDhYGWUmc\n",
      "Добыто комментариев 3645\n",
      "==================================================\n",
      "Качаю леонтьев\n",
      "Видео с канала: 76\n",
      "Видео с плейлиста: 0\n",
      "Видео всего: 76\n"
     ]
    },
    {
     "data": {
      "application/vnd.jupyter.widget-view+json": {
       "model_id": "ccdfd8785613451ba0596000b611d0b2",
       "version_major": 2,
       "version_minor": 0
      },
      "text/html": [
       "<p>Failed to display Jupyter Widget of type <code>HBox</code>.</p>\n",
       "<p>\n",
       "  If you're reading this message in the Jupyter Notebook or JupyterLab Notebook, it may mean\n",
       "  that the widgets JavaScript is still loading. If this message persists, it\n",
       "  likely means that the widgets JavaScript library is either not installed or\n",
       "  not enabled. See the <a href=\"https://ipywidgets.readthedocs.io/en/stable/user_install.html\">Jupyter\n",
       "  Widgets Documentation</a> for setup instructions.\n",
       "</p>\n",
       "<p>\n",
       "  If you're reading this message in another frontend (for example, a static\n",
       "  rendering on GitHub or <a href=\"https://nbviewer.jupyter.org/\">NBViewer</a>),\n",
       "  it may mean that your frontend doesn't currently support widgets.\n",
       "</p>\n"
      ],
      "text/plain": [
       "HBox(children=(IntProgress(value=0, max=76), HTML(value='')))"
      ]
     },
     "metadata": {},
     "output_type": "display_data"
    },
    {
     "name": "stdout",
     "output_type": "stream",
     "text": [
      "Добыто комментариев 3\n",
      "==================================================\n",
      "Качаю буйнов\n",
      "Видео с канала: 43\n",
      "Видео с плейлиста: 0\n",
      "Видео всего: 43\n"
     ]
    },
    {
     "data": {
      "application/vnd.jupyter.widget-view+json": {
       "model_id": "f88a3503ce914c1c89e3cff036f3b73d",
       "version_major": 2,
       "version_minor": 0
      },
      "text/html": [
       "<p>Failed to display Jupyter Widget of type <code>HBox</code>.</p>\n",
       "<p>\n",
       "  If you're reading this message in the Jupyter Notebook or JupyterLab Notebook, it may mean\n",
       "  that the widgets JavaScript is still loading. If this message persists, it\n",
       "  likely means that the widgets JavaScript library is either not installed or\n",
       "  not enabled. See the <a href=\"https://ipywidgets.readthedocs.io/en/stable/user_install.html\">Jupyter\n",
       "  Widgets Documentation</a> for setup instructions.\n",
       "</p>\n",
       "<p>\n",
       "  If you're reading this message in another frontend (for example, a static\n",
       "  rendering on GitHub or <a href=\"https://nbviewer.jupyter.org/\">NBViewer</a>),\n",
       "  it may mean that your frontend doesn't currently support widgets.\n",
       "</p>\n"
      ],
      "text/plain": [
       "HBox(children=(IntProgress(value=0, max=43), HTML(value='')))"
      ]
     },
     "metadata": {},
     "output_type": "display_data"
    },
    {
     "name": "stdout",
     "output_type": "stream",
     "text": [
      "Добыто комментариев 0\n",
      "==================================================\n"
     ]
    }
   ],
   "source": [
    "\n",
    "for performer in target.keys():\n",
    "#for performer in ['басков', 'лолита']:\n",
    "    print('Качаю {}'.format(performer))\n",
    "    \n",
    "    channel_id = target[performer]['канал']\n",
    "    playlist_ids =  target[performer]['листы']\n",
    "\n",
    "    # видосы с основного канала \n",
    "    video_chanel = get_all_video_in_channel(channel_id, api_key)\n",
    "\n",
    "    # видосы с плейлистов\n",
    "    video_playlist = { }\n",
    "    for lst in playlist_ids:\n",
    "        video_playlist.update(get_all_video_in_playlist(lst, api_key))\n",
    "\n",
    "    print('Видео с канала:',len(video_chanel))\n",
    "    print('Видео с плейлиста:',len(video_playlist))\n",
    "    video_playlist.update(video_chanel)\n",
    "    print('Видео всего:',len(video_playlist))\n",
    "    \n",
    "    # пошли комменты\n",
    "    def getCom(x):\n",
    "        try:\n",
    "            return get_comment_threads(x, api_key, style, performer, video_playlist)\n",
    "        except:\n",
    "            print('Error in https://www.youtube.com/watch?time_continue=1&v={}'.format(x))\n",
    "            return [ ]\n",
    "\n",
    "    n_jobs = -1 # параллелим на все ядра \n",
    "    result = Parallel(n_jobs=n_jobs)(delayed(getCom)(\n",
    "        text) for text in tqdm_notebook(list(video_playlist.keys())))\n",
    "    \n",
    "    comments = [ ]\n",
    "    for item in result:\n",
    "        comments.extend(item)\n",
    "\n",
    "    print('Добыто комментариев', len(comments))\n",
    "    \n",
    "    # воткнуть сюда сохранялку\n",
    "    comments_dict[performer] = comments\n",
    "    print(\"==================================================\")"
   ]
  },
  {
   "cell_type": "code",
   "execution_count": 277,
   "metadata": {},
   "outputs": [],
   "source": [
    "# Путь к данным\n",
    "path = '/Users/fulyankin/Yandex.Disk.localized/Проекты/top_russian_music/comments/youtube/by_style'\n",
    "\n",
    "with open(path + 'youtube_popsa', 'wb') as f:\n",
    "    pickle.dump(comments_dict, f)"
   ]
  },
  {
   "cell_type": "code",
   "execution_count": null,
   "metadata": {},
   "outputs": [],
   "source": []
  },
  {
   "cell_type": "code",
   "execution_count": 271,
   "metadata": {},
   "outputs": [
    {
     "data": {
      "text/plain": [
       "100713"
      ]
     },
     "execution_count": 271,
     "metadata": {},
     "output_type": "execute_result"
    }
   ],
   "source": [
    "full_comments = [ ]\n",
    "for item in comments_dict:\n",
    "    full_comments.extend(comments_dict[item])\n",
    "    \n",
    "len(full_comments)"
   ]
  },
  {
   "cell_type": "code",
   "execution_count": 272,
   "metadata": {},
   "outputs": [
    {
     "data": {
      "text/plain": [
       "{'author': 'Толя друг',\n",
       " 'comment_id': 'UgzNDKFueNMZ1O8Ie4N4AaABAg',\n",
       " 'date': '2018-06-23T09:40:17.000Z',\n",
       " 'likes': 1,\n",
       " 'music_style': 'estrada',\n",
       " 'performer': 'михайлов',\n",
       " 'text': 'Круто',\n",
       " 'video_name': 'Стас Михайлов и Елена Север - Не зови, не слышу (LIVE RU TV 2017)'}"
      ]
     },
     "execution_count": 272,
     "metadata": {},
     "output_type": "execute_result"
    }
   ],
   "source": [
    "full_comments[40000]"
   ]
  },
  {
   "cell_type": "code",
   "execution_count": 273,
   "metadata": {},
   "outputs": [
    {
     "data": {
      "text/plain": [
       "[{'author': 'qalina rtty',\n",
       "  'comment_id': 'UgxbyUad0DaDsKvho9h4AaABAg',\n",
       "  'date': '2019-01-02T12:07:59.000Z',\n",
       "  'likes': 0,\n",
       "  'music_style': 'estrada',\n",
       "  'performer': 'леонтьев',\n",
       "  'text': 'классно!!! но жаль, что без видео.',\n",
       "  'video_name': 'Старый город в ритме дождя'},\n",
       " {'author': 'ipr vrn',\n",
       "  'comment_id': 'Ugz5suvHJnz3_Gc_WZV4AaABAg',\n",
       "  'date': '2018-12-20T02:40:16.000Z',\n",
       "  'likes': 0,\n",
       "  'music_style': 'estrada',\n",
       "  'performer': 'леонтьев',\n",
       "  'text': 'Именно та запись, что слушал 35 лет тому... 👍',\n",
       "  'video_name': 'Там, в сентябре'},\n",
       " {'author': 'John Cartwright',\n",
       "  'comment_id': 'UgyQm8pcV5ockJjNWjp4AaABAg',\n",
       "  'date': '2018-12-04T23:15:51.000Z',\n",
       "  'likes': 0,\n",
       "  'music_style': 'estrada',\n",
       "  'performer': 'леонтьев',\n",
       "  'text': 'Stalker OLR 2.5 brought me here.',\n",
       "  'video_name': 'Flight on a hang glider'}]"
      ]
     },
     "execution_count": 273,
     "metadata": {},
     "output_type": "execute_result"
    }
   ],
   "source": [
    "comments_dict['леонтьев']"
   ]
  },
  {
   "cell_type": "code",
   "execution_count": null,
   "metadata": {},
   "outputs": [],
   "source": []
  },
  {
   "cell_type": "code",
   "execution_count": null,
   "metadata": {},
   "outputs": [],
   "source": []
  },
  {
   "cell_type": "code",
   "execution_count": null,
   "metadata": {},
   "outputs": [],
   "source": []
  },
  {
   "cell_type": "code",
   "execution_count": null,
   "metadata": {},
   "outputs": [],
   "source": []
  }
 ],
 "metadata": {
  "kernelspec": {
   "display_name": "Python 3",
   "language": "python",
   "name": "python3"
  },
  "language_info": {
   "codemirror_mode": {
    "name": "ipython",
    "version": 3
   },
   "file_extension": ".py",
   "mimetype": "text/x-python",
   "name": "python",
   "nbconvert_exporter": "python",
   "pygments_lexer": "ipython3",
   "version": "3.6.4"
  }
 },
 "nbformat": 4,
 "nbformat_minor": 2
}
