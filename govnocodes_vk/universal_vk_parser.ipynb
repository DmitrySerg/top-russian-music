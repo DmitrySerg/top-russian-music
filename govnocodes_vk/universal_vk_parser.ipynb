{
 "cells": [
  {
   "cell_type": "markdown",
   "metadata": {},
   "source": [
    "# 1. Парсер vk\n",
    "\n",
    "По каждому жанру нам нужно сделать 5 файлов для решения различных задач. Именно по этим файлам дальше будет разбита вся наша тетрадка. \n",
    "\n",
    "* Файл с подписчиками каждой группы жанра: \n",
    "\n",
    "```\n",
    "    {\"id группы 1\" : [id подписчиков], .... }\n",
    "```\n",
    "\n",
    "* Файл с комментами каждой группы жанра: \n",
    "\n",
    "```\n",
    "    {\"id группы 1\" : [комменты], .... }\n",
    "```\n",
    "\n",
    "Когда по каждому жанру будут скачаны подписчики, из низ надо сделать `set()` и по id каждого подписчика скачать: \n",
    "\n",
    "\n",
    "* Файл со стенками подписчиков: \n",
    "\n",
    "```\n",
    "    {\"подписчик 1\" : [стена],  .... }\n",
    "```\n",
    "\n",
    "* Файл с топ-10 подписками по каждому подписчику: \n",
    "\n",
    "```\n",
    "    {\"подписчик 1\" : [id его подписок],  .... }\n",
    "```\n",
    "\n",
    "Когда будут скачаны все паблики, из них надо сделать `set()` и по id каждого скачать: \n",
    "\n",
    "* Сотня последних постов с каждого паблика\n",
    "\n",
    "```\n",
    "    {\"id паблика\" :  [100 последних постов] , ....  }\n",
    "```"
   ]
  },
  {
   "cell_type": "code",
   "execution_count": 38,
   "metadata": {},
   "outputs": [],
   "source": [
    "# Загружаем необходимые библиотеки\n",
    "\n",
    "import datetime                  # Пакет для работы с временными форматами\n",
    "import pickle                    # Пакет для подгрузки данных специфического для питона формата\n",
    "import requests                  # Пакет для скачки данных из этих ваших интернетов\n",
    "import pandas as pd              # Пакет для работы с таблицами\n",
    "import numpy as np               # Пакет для работы с векторами и матрицами\n",
    "import matplotlib.pyplot as plt  # Пакет для строительства графиков\n",
    "import time            # Пакет для работы со временем. Например, помогает ставить заглушки \n",
    "                       # time.sleep(секунды), необходимые для того что ВК не банил нащего\n",
    "                       # сборщика данных из-за слишком частых запросов\n",
    "        \n",
    "# Пакет для красивых циклов. При желании его можно отключить. Тогда из всех циклов придётся \n",
    "# удалять команду tqdm_notebook.\n",
    "from tqdm import tqdm_notebook   # подробнее: https://github.com/tqdm/tqdm"
   ]
  },
  {
   "cell_type": "code",
   "execution_count": 39,
   "metadata": {},
   "outputs": [],
   "source": [
    "# мой номер странички\n",
    "my_user_id = 91857120\n",
    "# версия используемого API\n",
    "version = '5.73' \n",
    "# подгружаем токен\n",
    "with open('token.txt') as f:\n",
    "    token = f.read()"
   ]
  },
  {
   "cell_type": "code",
   "execution_count": 40,
   "metadata": {},
   "outputs": [
    {
     "data": {
      "text/plain": [
       "{'response': [{'first_name': 'Дмитрий',\n",
       "   'id': 91857120,\n",
       "   'last_name': 'Сергеев'}]}"
      ]
     },
     "execution_count": 40,
     "metadata": {},
     "output_type": "execute_result"
    }
   ],
   "source": [
    "def vkDownload(method, parameters, token=token, version=version):\n",
    "    \"\"\"\n",
    "        Возвращает результат запроса по методу\n",
    "        \n",
    "        method: string\n",
    "            метод из документации, который хотим использовать\n",
    "            \n",
    "        parameters: string\n",
    "            параметры используемого метода\n",
    "            \n",
    "        token: string\n",
    "            токен Oauth доступа\n",
    "        \n",
    "        version: string\n",
    "            версия API\n",
    "    \"\"\"\n",
    "    \n",
    "    # составляем ссылку\n",
    "    url = 'https://api.vk.com/method/{method}?{parameters}&access_token={token}&v={version}'\n",
    "    url = url.format(method=method, parameters=parameters, token=token, version=version)\n",
    "    # запрашиваем ссылку и переводим в json (словарь)\n",
    "    response = requests.get(url).json()\n",
    "    \n",
    "    return response\n",
    "\n",
    "vkDownload('users.get','user_ids=91857120')"
   ]
  },
  {
   "cell_type": "markdown",
   "metadata": {},
   "source": [
    "## 1.1 Подписчики каждой группы для жанра"
   ]
  },
  {
   "cell_type": "code",
   "execution_count": 41,
   "metadata": {},
   "outputs": [],
   "source": [
    "music_style = 'эстрада'\n",
    "\n",
    "target_groups ={\n",
    "     'Пугачёва': 'allapugachevapro'\n",
    "    }"
   ]
  },
  {
   "cell_type": "code",
   "execution_count": 42,
   "metadata": {},
   "outputs": [],
   "source": [
    "# слоаврь группа-юзеры\n",
    "group_users_dct = { }"
   ]
  },
  {
   "cell_type": "markdown",
   "metadata": {},
   "source": [
    "Перед тем, как сохранять юзеров, надо профильтровать их на предмет существования... "
   ]
  },
  {
   "cell_type": "code",
   "execution_count": 43,
   "metadata": {},
   "outputs": [
    {
     "data": {
      "text/plain": [
       "{'response': [{'deactivated': 'deleted',\n",
       "   'first_name': 'Наталья',\n",
       "   'id': 13034843,\n",
       "   'last_name': 'Савостьянова'}]}"
      ]
     },
     "execution_count": 43,
     "metadata": {},
     "output_type": "execute_result"
    }
   ],
   "source": [
    "vkDownload('users.get','user_ids=barbizon_kid')"
   ]
  },
  {
   "cell_type": "code",
   "execution_count": 124,
   "metadata": {},
   "outputs": [],
   "source": [
    "def checkExisting(uids):\n",
    "    \"\"\"\n",
    "        Проверяет существование id и оставляет только не удаленные \n",
    "    \"\"\"\n",
    "    \n",
    "    cur_inf = vkDownload('users.get','user_ids={}'.format(','.join(str(e) for e in uids)))\n",
    "    cur_inf = cur_inf['response']\n",
    "    clean_members = [us_inf['id'] for us_inf in cur_inf if us_inf.get('deactivated','real') == 'real']\n",
    "    return clean_members\n",
    "\n",
    "\n",
    "def getGroupMembers(group_id):\n",
    "    \"\"\"\n",
    "        Возвращает список всех пользователей данной группы\n",
    "        Итерации идут батчами по 1000 пользователей\n",
    "        \n",
    "        group_id: string\n",
    "            идентификатор группы (ссылка)\n",
    "    \"\"\"\n",
    "    \n",
    "    # Узнаём число запросов, которое надо сделать \n",
    "    count = vkDownload('groups.getMembers','group_id=' + group_id)['response']['count']\n",
    "    \n",
    "    # выясняем, сколько запросов нам понадобиться\n",
    "    n = int(np.ceil(count/1000))  \n",
    "    \n",
    "    # вектор, где мы будем хранить id пользователей\n",
    "    members = []     \n",
    "    \n",
    "    for i in tqdm_notebook(range(n)): \n",
    "        # при помощи метода groups.getMembers получаем пользователей группы\n",
    "        current_members = vkDownload('groups.getMembers','group_id='+group_id+'&offset='+str(1000*i))\n",
    "        current_members = current_members['response']['items']\n",
    "        \n",
    "        # проверим реально ли существуют все юзеры из списка выше\n",
    "        for i in range(0,1000,200):\n",
    "            time.sleep(0.3)\n",
    "            members.extend(checkExisting(current_members[i:i+200]))\n",
    "        \n",
    "        # перед следующим запросом немножко подождем\n",
    "        time.sleep(0.4)\n",
    "        \n",
    "    return members"
   ]
  },
  {
   "cell_type": "code",
   "execution_count": 125,
   "metadata": {},
   "outputs": [
    {
     "data": {
      "application/vnd.jupyter.widget-view+json": {
       "model_id": "a97d1476870c4bb2a737721b35760856",
       "version_major": 2,
       "version_minor": 0
      },
      "text/html": [
       "<p>Failed to display Jupyter Widget of type <code>HBox</code>.</p>\n",
       "<p>\n",
       "  If you're reading this message in the Jupyter Notebook or JupyterLab Notebook, it may mean\n",
       "  that the widgets JavaScript is still loading. If this message persists, it\n",
       "  likely means that the widgets JavaScript library is either not installed or\n",
       "  not enabled. See the <a href=\"https://ipywidgets.readthedocs.io/en/stable/user_install.html\">Jupyter\n",
       "  Widgets Documentation</a> for setup instructions.\n",
       "</p>\n",
       "<p>\n",
       "  If you're reading this message in another frontend (for example, a static\n",
       "  rendering on GitHub or <a href=\"https://nbviewer.jupyter.org/\">NBViewer</a>),\n",
       "  it may mean that your frontend doesn't currently support widgets.\n",
       "</p>\n"
      ],
      "text/plain": [
       "HBox(children=(IntProgress(value=0, max=1), HTML(value='')))"
      ]
     },
     "metadata": {},
     "output_type": "display_data"
    },
    {
     "name": "stdout",
     "output_type": "stream",
     "text": [
      "\n"
     ]
    },
    {
     "name": "stderr",
     "output_type": "stream",
     "text": [
      "Exception in thread Thread-19:\n",
      "Traceback (most recent call last):\n",
      "  File \"/usr/local/Cellar/python/3.6.4_4/Frameworks/Python.framework/Versions/3.6/lib/python3.6/threading.py\", line 916, in _bootstrap_inner\n",
      "    self.run()\n",
      "  File \"/usr/local/lib/python3.6/site-packages/tqdm/_monitor.py\", line 62, in run\n",
      "    for instance in self.tqdm_cls._instances:\n",
      "  File \"/usr/local/Cellar/python/3.6.4_4/Frameworks/Python.framework/Versions/3.6/lib/python3.6/_weakrefset.py\", line 60, in __iter__\n",
      "    for itemref in self.data:\n",
      "RuntimeError: Set changed size during iteration\n",
      "\n"
     ]
    },
    {
     "data": {
      "application/vnd.jupyter.widget-view+json": {
       "model_id": "2a911739c792418ebd170a9358ffb676",
       "version_major": 2,
       "version_minor": 0
      },
      "text/html": [
       "<p>Failed to display Jupyter Widget of type <code>HBox</code>.</p>\n",
       "<p>\n",
       "  If you're reading this message in the Jupyter Notebook or JupyterLab Notebook, it may mean\n",
       "  that the widgets JavaScript is still loading. If this message persists, it\n",
       "  likely means that the widgets JavaScript library is either not installed or\n",
       "  not enabled. See the <a href=\"https://ipywidgets.readthedocs.io/en/stable/user_install.html\">Jupyter\n",
       "  Widgets Documentation</a> for setup instructions.\n",
       "</p>\n",
       "<p>\n",
       "  If you're reading this message in another frontend (for example, a static\n",
       "  rendering on GitHub or <a href=\"https://nbviewer.jupyter.org/\">NBViewer</a>),\n",
       "  it may mean that your frontend doesn't currently support widgets.\n",
       "</p>\n"
      ],
      "text/plain": [
       "HBox(children=(IntProgress(value=0, max=33), HTML(value='')))"
      ]
     },
     "metadata": {},
     "output_type": "display_data"
    },
    {
     "name": "stdout",
     "output_type": "stream",
     "text": [
      "Пугачёва : 29140\n",
      "\n"
     ]
    }
   ],
   "source": [
    "# по каждому id группы сохраняем подписчиков \n",
    "for k,v in tqdm_notebook(target_groups.items()):\n",
    "    members = getGroupMembers(target_groups[k]) \n",
    "    print(k,':',len(members))\n",
    "    group_users_dct[v] = members"
   ]
  },
  {
   "cell_type": "code",
   "execution_count": 126,
   "metadata": {
    "scrolled": true
   },
   "outputs": [
    {
     "data": {
      "text/plain": [
       "[519952826,\n",
       " 519986903,\n",
       " 520391736,\n",
       " 520931611,\n",
       " 521001719,\n",
       " 521097546,\n",
       " 521146892,\n",
       " 521190661,\n",
       " 521505972,\n",
       " 521540712,\n",
       " 521560189,\n",
       " 521772661,\n",
       " 521887515,\n",
       " 521923792,\n",
       " 522548600,\n",
       " 522998936,\n",
       " 523271589,\n",
       " 523478186,\n",
       " 523508174,\n",
       " 523729785]"
      ]
     },
     "execution_count": 126,
     "metadata": {},
     "output_type": "execute_result"
    }
   ],
   "source": [
    "group_users_dct['allapugachevapro'][-20:]"
   ]
  },
  {
   "cell_type": "code",
   "execution_count": null,
   "metadata": {},
   "outputs": [],
   "source": [
    "# Сохраняем словарик для текущего жанра \n",
    "with open('data/{music_style}_group_users', 'wb') as f:\n",
    "    pickle.dump(group_users_dct, f)"
   ]
  },
  {
   "cell_type": "markdown",
   "metadata": {},
   "source": [
    "## 1.2 Файл с комментами каждой группы жанра"
   ]
  },
  {
   "cell_type": "markdown",
   "metadata": {},
   "source": [
    "Скачиваем с группы все посты."
   ]
  },
  {
   "cell_type": "code",
   "execution_count": null,
   "metadata": {},
   "outputs": [],
   "source": [
    "# Сюда сунуть цикл, который по всем группам жанра качает id постов с офсетом вниз "
   ]
  },
  {
   "cell_type": "code",
   "execution_count": null,
   "metadata": {},
   "outputs": [],
   "source": []
  },
  {
   "cell_type": "code",
   "execution_count": null,
   "metadata": {},
   "outputs": [],
   "source": [
    "def makeBatch(uids):\n",
    "    \"\"\"\n",
    "        Возвращает лист листов из пользователей, батчами по 25 человек \n",
    "    \"\"\"\n",
    "    batches = [uids[i:i+25] for i in range(0,len(uids),25)]\n",
    "    \n",
    "    return batches \n",
    "\n",
    "\n",
    "# !!! Переписать функцию под комментарии по аналогии с лайками (см цикл ниже)\n",
    "\n",
    "def makePublicUrl(batch, token=token):\n",
    "    \"\"\"\n",
    "        Создаёт ссылку для метода execute на основе батчей пользователей для скачки пабликов\n",
    "            batch - батч из id \n",
    "            token - ключ доступа\n",
    "    \"\"\"\n",
    "    \n",
    "    # составляем ссылку из кусочков\n",
    "    begin = 'https://api.vk.com/method/execute?code=return['\n",
    "    end = '];&access_token='+token+'&v=5.78'\n",
    "    middle = ''\n",
    "    # для каждого пользователя из батча используем метод wall.get \n",
    "    for bt in batch:\n",
    "        middle += 'API.users.getSubscriptions({\"user_id\": \"'+str(bt)+'\"}),'   \n",
    "    return begin + middle[:-1] + end \n",
    "\n",
    "# !!! Переписать под комментарии по аналогии с лайками (см цикл ниже)\n",
    "\n",
    "def getUsersPublics(uids):\n",
    "    \"\"\"\n",
    "    Достаёт список пабликов для всех людей из списка uids\n",
    "        uids - id людей \n",
    "    \"\"\"\n",
    "    \n",
    "    batches = makeBatch(uids) # дробим на батчи\n",
    "    \n",
    "    # сюда будем записывать соответсвие между юзером и пабликами \n",
    "    id_group_list = { }\n",
    "    \n",
    "    for item in tqdm_notebook(batches):\n",
    "        time.sleep(0.3)\n",
    "        response = requests.get(makePublicUrl(item))\n",
    "        cur_resp = response.json()['response']\n",
    "        \n",
    "        # распаковываем список подписок по подписчикам\n",
    "        for uid,cur in zip(item,cur_resp):\n",
    "            id_group_list[uid] = cur['groups']['items'][:10] # первые 10\n",
    "            \n",
    "    return(id_group_list)\n"
   ]
  },
  {
   "cell_type": "code",
   "execution_count": null,
   "metadata": {},
   "outputs": [],
   "source": [
    "requ = [ ]\n",
    "req_info = [ ]  # здесь будет лежать информация о каждом запросе\n",
    "# Проходимся по всем группам\n",
    "for group_id in posts_id.keys():\n",
    "    # Проходимся по всем постам в группе \n",
    "    for item in posts_id[group_id]:\n",
    "        # Сдвиги в лайках для текущего поста \n",
    "        for ofset in range(item[1]//1000 + 1):\n",
    "            s = 'API.likes.getList({\"type\":\"post\",\"owner_id\":\"-' + str(group_id) + \\\n",
    "                 '\",\"item_id\":\"' + str(item[0]) + '\",\"count\":\"1000\",\"offset\":\"'+str(1000*ofset)+'\"}),'\n",
    "            s_inf = (group_id, item[0], 1000*ofset, item[1])\n",
    "            requ.append(s)\n",
    "            req_info.append(s_inf)"
   ]
  },
  {
   "cell_type": "code",
   "execution_count": 26,
   "metadata": {},
   "outputs": [],
   "source": [
    "\n",
    "\n",
    "\n"
   ]
  },
  {
   "cell_type": "code",
   "execution_count": null,
   "metadata": {},
   "outputs": [],
   "source": []
  },
  {
   "cell_type": "code",
   "execution_count": null,
   "metadata": {},
   "outputs": [],
   "source": []
  },
  {
   "cell_type": "code",
   "execution_count": null,
   "metadata": {},
   "outputs": [],
   "source": []
  },
  {
   "cell_type": "code",
   "execution_count": null,
   "metadata": {},
   "outputs": [],
   "source": []
  },
  {
   "cell_type": "code",
   "execution_count": null,
   "metadata": {},
   "outputs": [],
   "source": []
  },
  {
   "cell_type": "code",
   "execution_count": null,
   "metadata": {},
   "outputs": [],
   "source": []
  },
  {
   "cell_type": "markdown",
   "metadata": {},
   "source": [
    "## 1.3 Файл со стенками подписчиков \n",
    "\n",
    "Мы скачали подписчиков по каждому из жанров. Подгрузим их сюда и сделаем по ним `set()`."
   ]
  },
  {
   "cell_type": "code",
   "execution_count": null,
   "metadata": {},
   "outputs": [],
   "source": [
    "# !!! Внимание! По этому методу есть лимит в 10к запросов. Имеет смысл брать жанр, \n",
    "# после делать по нему случайную выборку в 15к людей и качать стенки только по ним !!!"
   ]
  },
  {
   "cell_type": "code",
   "execution_count": null,
   "metadata": {},
   "outputs": [],
   "source": [
    "def makeWallUrl(batch, token=token):\n",
    "    \"\"\"\n",
    "        Создаёт ссылку для метода execute на основе батчей пользователей\n",
    "    \"\"\"\n",
    "    # составляем ссылку из кусочков\n",
    "    begin = 'https://api.vk.com/method/execute?code=return['\n",
    "    end = '];&access_token='+token+'&v='+version\n",
    "    middle = ''\n",
    "    # для каждого пользователя из батча используем метод wall.get \n",
    "    for bt in batch:\n",
    "        middle += 'API.wall.get({\"owner_id\": \"'+str(bt)+'\",\"count\":\"100\"}),'\n",
    "        \n",
    "    return begin + middle[:-1] + end \n",
    "\n",
    "def getAllPosts(candidate):\n",
    "    \"\"\"\n",
    "        Возвращает список словарей, в каждом их которых посты пользователей\n",
    "    \"\"\"\n",
    "    \n",
    "    # инициализируем список для хранения постов\n",
    "    wall = []\n",
    "    # берем всех людей текущего кандидата\n",
    "    people = candidate_people[candidate]\n",
    "    \n",
    "    # рандомно перемешаем наших пользователей, чтобы обеспечить репрезентативность выборки\n",
    "    np.random.shuffle(people)\n",
    "    \n",
    "    # создадим свой небольшой класс для кастомной ошибки \n",
    "    # на случай превышения лимита запросов\n",
    "    class LimitExceeded(Exception):\n",
    "        pass\n",
    "    \n",
    "    # батчи пользователей\n",
    "    batches = makeBatch(people)\n",
    "    \n",
    "    # итерируем по батчам\n",
    "    for item in tqdm_notebook(batches):\n",
    "        # если насобирали 10 тысяч пользователей, останавливаемся\n",
    "        if len(wall) < 10000:\n",
    "            try:\n",
    "                # пробуем выгрузить по батчу стенки пользователей\n",
    "                res = requests.get(makeWallUrl(item))\n",
    "                res = res.json()['response']\n",
    "                \n",
    "                # если нас забанили (все респонсы пусты), поднимем ошибку\n",
    "                if res == [False]*25:\n",
    "                    raise LimitExceeded(\"Превышено число запросов\")\n",
    "                \n",
    "                # записываем полученные данные в список\n",
    "                wall.extend(res)\n",
    "                \n",
    "            except LimitExceeded:\n",
    "                # если забанили - подождем минутку, чтобы обновились лимиты запросов\n",
    "                time.sleep(60)\n",
    "                \n",
    "            # в конце каждой итерации ждем 2 секунды, чтобы не словить бан\n",
    "            time.sleep(2)\n",
    "        else:\n",
    "            break\n",
    "            \n",
    "    return wall"
   ]
  },
  {
   "cell_type": "code",
   "execution_count": null,
   "metadata": {},
   "outputs": [],
   "source": []
  },
  {
   "cell_type": "code",
   "execution_count": null,
   "metadata": {},
   "outputs": [],
   "source": []
  },
  {
   "cell_type": "code",
   "execution_count": null,
   "metadata": {},
   "outputs": [],
   "source": []
  },
  {
   "cell_type": "code",
   "execution_count": null,
   "metadata": {},
   "outputs": [],
   "source": []
  },
  {
   "cell_type": "markdown",
   "metadata": {},
   "source": [
    "## 1.4 Файл с топ-10 подписками по каждому подписчику"
   ]
  },
  {
   "cell_type": "code",
   "execution_count": 23,
   "metadata": {},
   "outputs": [
    {
     "data": {
      "text/plain": [
       "[2022, 8088, 9954, 15067, 17110]"
      ]
     },
     "execution_count": 23,
     "metadata": {},
     "output_type": "execute_result"
    }
   ],
   "source": [
    "unique_users = group_users_dct['allapugachevapro'][:100]\n",
    "unique_users[:5]"
   ]
  },
  {
   "cell_type": "code",
   "execution_count": 28,
   "metadata": {},
   "outputs": [],
   "source": [
    "def makePublicUrl(batch, token=token):\n",
    "    \"\"\"\n",
    "        Создаёт ссылку для метода execute на основе батчей пользователей для скачки пабликов\n",
    "            batch - батч из id \n",
    "            token - ключ доступа\n",
    "    \"\"\"\n",
    "    \n",
    "    # составляем ссылку из кусочков\n",
    "    begin = 'https://api.vk.com/method/execute?code=return['\n",
    "    end = '];&access_token='+token+'&v=5.78'\n",
    "    middle = ''\n",
    "    # для каждого пользователя из батча используем метод wall.get \n",
    "    for bt in batch:\n",
    "        middle += 'API.users.getSubscriptions({\"user_id\": \"'+str(bt)+'\"}),'   \n",
    "    return begin + middle[:-1] + end \n",
    "\n",
    "def getUsersPublics(uids):\n",
    "    \"\"\"\n",
    "    Достаёт список пабликов для всех людей из списка uids\n",
    "        uids - id людей \n",
    "    \"\"\"\n",
    "    \n",
    "    batches = makeBatch(uids) # дробим на батчи\n",
    "    \n",
    "    # сюда будем записывать соответсвие между юзером и пабликами \n",
    "    id_group_list = { }\n",
    "    \n",
    "    for item in tqdm_notebook(batches):\n",
    "        time.sleep(0.3)\n",
    "        response = requests.get(makePublicUrl(item))\n",
    "        cur_resp = response.json()['response']\n",
    "        \n",
    "        # распаковываем список подписок по подписчикам\n",
    "        for uid,cur in zip(item,cur_resp):\n",
    "            id_group_list[uid] = cur['groups']['items'][:10] # первые 10\n",
    "            \n",
    "    return(id_group_list)"
   ]
  },
  {
   "cell_type": "code",
   "execution_count": 31,
   "metadata": {},
   "outputs": [
    {
     "data": {
      "text/plain": [
       "'https://api.vk.com/method/execute?code=return[API.users.getSubscriptions({\"user_id\": \"2022\"}),API.users.getSubscriptions({\"user_id\": \"8088\"})];&access_token=a53f98e78b71d1d9fc2d4a2c90c74248a0e56e3fe9fd194f4ad5ad34b8ee17681b1b49e727952e1de8e13&v=5.78'"
      ]
     },
     "execution_count": 31,
     "metadata": {},
     "output_type": "execute_result"
    }
   ],
   "source": [
    "makePublicUrl(unique_users[:2])"
   ]
  },
  {
   "cell_type": "code",
   "execution_count": null,
   "metadata": {},
   "outputs": [],
   "source": []
  },
  {
   "cell_type": "code",
   "execution_count": 32,
   "metadata": {
    "scrolled": false
   },
   "outputs": [
    {
     "data": {
      "application/vnd.jupyter.widget-view+json": {
       "model_id": "a05828c449c94d549fff34bd38a5e42f",
       "version_major": 2,
       "version_minor": 0
      },
      "text/html": [
       "<p>Failed to display Jupyter Widget of type <code>HBox</code>.</p>\n",
       "<p>\n",
       "  If you're reading this message in the Jupyter Notebook or JupyterLab Notebook, it may mean\n",
       "  that the widgets JavaScript is still loading. If this message persists, it\n",
       "  likely means that the widgets JavaScript library is either not installed or\n",
       "  not enabled. See the <a href=\"https://ipywidgets.readthedocs.io/en/stable/user_install.html\">Jupyter\n",
       "  Widgets Documentation</a> for setup instructions.\n",
       "</p>\n",
       "<p>\n",
       "  If you're reading this message in another frontend (for example, a static\n",
       "  rendering on GitHub or <a href=\"https://nbviewer.jupyter.org/\">NBViewer</a>),\n",
       "  it may mean that your frontend doesn't currently support widgets.\n",
       "</p>\n"
      ],
      "text/plain": [
       "HBox(children=(IntProgress(value=0, max=1), HTML(value='')))"
      ]
     },
     "metadata": {},
     "output_type": "display_data"
    },
    {
     "name": "stdout",
     "output_type": "stream",
     "text": [
      "\n"
     ]
    },
    {
     "data": {
      "text/plain": [
       "{2022: [49135017,\n",
       "  141352710,\n",
       "  107199843,\n",
       "  24098496,\n",
       "  33592301,\n",
       "  133846520,\n",
       "  39444069,\n",
       "  34274053,\n",
       "  50911295,\n",
       "  149082322],\n",
       " 8088: [29653869,\n",
       "  32822100,\n",
       "  31823204,\n",
       "  82088213,\n",
       "  166586790,\n",
       "  51125160,\n",
       "  28890647,\n",
       "  133386541,\n",
       "  93159176,\n",
       "  170445225]}"
      ]
     },
     "execution_count": 32,
     "metadata": {},
     "output_type": "execute_result"
    }
   ],
   "source": [
    "# !!! Проверить правда ли это верхние 10 пабликов или нихера !!!\n",
    "\n",
    "getUsersPublics(unique_users[:2])"
   ]
  },
  {
   "cell_type": "code",
   "execution_count": null,
   "metadata": {},
   "outputs": [],
   "source": [
    "# Сохраняем это чудо "
   ]
  },
  {
   "cell_type": "markdown",
   "metadata": {},
   "source": [
    "## 1.5 Сотня последних постов с каждого паблика\n",
    "\n",
    "Мы скачали все топы подписок по каждому подписчику. Теперь нужно сделать по ним `set()`."
   ]
  },
  {
   "cell_type": "code",
   "execution_count": null,
   "metadata": {},
   "outputs": [],
   "source": []
  },
  {
   "cell_type": "code",
   "execution_count": null,
   "metadata": {},
   "outputs": [],
   "source": []
  },
  {
   "cell_type": "code",
   "execution_count": null,
   "metadata": {},
   "outputs": [],
   "source": []
  },
  {
   "cell_type": "code",
   "execution_count": null,
   "metadata": {},
   "outputs": [],
   "source": []
  },
  {
   "cell_type": "code",
   "execution_count": null,
   "metadata": {},
   "outputs": [],
   "source": [
    "# Сделать по аналогии для 100 постов с каждого паблика !!!\n",
    "\n",
    "def makePublicUrl(batch, token=token):\n",
    "    \"\"\"\n",
    "        Создаёт ссылку для метода execute на основе батчей пользователей для скачки пабликов\n",
    "            batch - батч из id \n",
    "            token - ключ доступа\n",
    "    \"\"\"\n",
    "    \n",
    "    # составляем ссылку из кусочков\n",
    "    begin = 'https://api.vk.com/method/execute?code=return['\n",
    "    end = '];&access_token='+token+'&v=5.78'\n",
    "    middle = ''\n",
    "    # для каждого пользователя из батча используем метод wall.get \n",
    "    for bt in batch:\n",
    "        middle += 'API.users.getSubscriptions({\"user_id\": \"'+str(bt)+'\"}),'   \n",
    "    return begin + middle[:-1] + end \n",
    "\n",
    "def getUsersPublics(uids):\n",
    "    \"\"\"\n",
    "    Достаёт список пабликов для всех людей из списка uids\n",
    "        uids - id людей \n",
    "    \"\"\"\n",
    "    \n",
    "    batches = makeBatch(uids) # дробим на батчи\n",
    "    \n",
    "    # сюда будем записывать соответсвие между юзером и пабликами \n",
    "    id_group_list = { }\n",
    "    \n",
    "    for item in tqdm_notebook(batches):\n",
    "        time.sleep(0.3)\n",
    "        response = requests.get(makePublicUrl(item))\n",
    "        cur_resp = response.json()['response']\n",
    "        \n",
    "        # распаковываем список подписок по подписчикам\n",
    "        for uid,cur in zip(item,cur_resp):\n",
    "            id_group_list[uid] = cur['groups']['items'][:10] # первые 10\n",
    "            \n",
    "    return(id_group_list)"
   ]
  },
  {
   "cell_type": "code",
   "execution_count": null,
   "metadata": {},
   "outputs": [],
   "source": []
  },
  {
   "cell_type": "code",
   "execution_count": null,
   "metadata": {},
   "outputs": [],
   "source": []
  }
 ],
 "metadata": {
  "kernelspec": {
   "display_name": "Python 3",
   "language": "python",
   "name": "python3"
  },
  "language_info": {
   "codemirror_mode": {
    "name": "ipython",
    "version": 3
   },
   "file_extension": ".py",
   "mimetype": "text/x-python",
   "name": "python",
   "nbconvert_exporter": "python",
   "pygments_lexer": "ipython3",
   "version": "3.6.4"
  }
 },
 "nbformat": 4,
 "nbformat_minor": 2
}
