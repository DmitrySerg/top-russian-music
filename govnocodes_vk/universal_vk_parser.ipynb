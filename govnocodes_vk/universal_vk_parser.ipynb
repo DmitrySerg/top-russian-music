{
 "cells": [
  {
   "cell_type": "markdown",
   "metadata": {},
   "source": [
    "# 1. Парсер vk\n",
    "\n",
    "По каждому жанру нам нужно сделать 5 файлов для решения различных задач. Именно по этим файлам дальше будет разбита вся наша тетрадка. \n",
    "\n",
    "* Файл с подписчиками каждой группы жанра: \n",
    "\n",
    "```\n",
    "    {\"id группы 1\" : [id подписчиков], .... }\n",
    "```\n",
    "\n",
    "* Файл с комментами каждой группы жанра: \n",
    "\n",
    "```\n",
    "    {\"id группы 1\" : [комменты], .... }\n",
    "```\n",
    "\n",
    "Когда по каждому жанру будут скачаны подписчики, из низ надо сделать `set()` и по id каждого подписчика скачать: \n",
    "\n",
    "\n",
    "* Файл со стенками подписчиков: \n",
    "\n",
    "```\n",
    "    {\"подписчик 1\" : [стена],  .... }\n",
    "```\n",
    "\n",
    "* Файл с топ-10 подписками по каждому подписчику: \n",
    "\n",
    "```\n",
    "    {\"подписчик 1\" : [id его подписок],  .... }\n",
    "```\n",
    "\n",
    "Когда будут скачаны все паблики, из них надо сделать `set()` и по id каждого скачать: \n",
    "\n",
    "* Сотня последних постов с каждого паблика\n",
    "\n",
    "```\n",
    "    {\"id паблика\" :  [100 последних постов] , ....  }\n",
    "```"
   ]
  },
  {
   "cell_type": "code",
   "execution_count": 1,
   "metadata": {},
   "outputs": [],
   "source": [
    "# Загружаем необходимые библиотеки\n",
    "\n",
    "import datetime                  # Пакет для работы с временными форматами\n",
    "import pickle                    # Пакет для подгрузки данных специфического для питона формата\n",
    "import requests                  # Пакет для скачки данных из этих ваших интернетов\n",
    "import pandas as pd              # Пакет для работы с таблицами\n",
    "import numpy as np               # Пакет для работы с векторами и матрицами\n",
    "import matplotlib.pyplot as plt  # Пакет для строительства графиков\n",
    "import time            # Пакет для работы со временем. Например, помогает ставить заглушки \n",
    "                       # time.sleep(секунды), необходимые для того что ВК не банил нащего\n",
    "                       # сборщика данных из-за слишком частых запросов\n",
    "        \n",
    "# Пакет для красивых циклов. При желании его можно отключить. Тогда из всех циклов придётся \n",
    "# удалять команду tqdm_notebook.\n",
    "from tqdm import tqdm_notebook   # подробнее: https://github.com/tqdm/tqdm"
   ]
  },
  {
   "cell_type": "code",
   "execution_count": 29,
   "metadata": {},
   "outputs": [],
   "source": [
    "# мой номер странички\n",
    "my_user_id = 91857120\n",
    "# версия используемого API\n",
    "version = '5.73' \n",
    "# подгружаем токен\n",
    "with open('../token.txt') as f:\n",
    "    token = f.read()"
   ]
  },
  {
   "cell_type": "code",
   "execution_count": 30,
   "metadata": {},
   "outputs": [
    {
     "data": {
      "text/plain": [
       "{'response': [{'id': 6045249,\n",
       "   'first_name': 'Филипп',\n",
       "   'last_name': 'Ульянкин'}]}"
      ]
     },
     "execution_count": 30,
     "metadata": {},
     "output_type": "execute_result"
    }
   ],
   "source": [
    "def vkDownload(method, parameters, token=token, version=version):\n",
    "    \"\"\"\n",
    "        Возвращает результат запроса по методу\n",
    "        \n",
    "        method: string\n",
    "            метод из документации, который хотим использовать\n",
    "            \n",
    "        parameters: string\n",
    "            параметры используемого метода\n",
    "            \n",
    "        token: string\n",
    "            токен Oauth доступа\n",
    "        \n",
    "        version: string\n",
    "            версия API\n",
    "    \"\"\"\n",
    "    \n",
    "    # составляем ссылку\n",
    "    url = 'https://api.vk.com/method/{method}?{parameters}&access_token={token}&v={version}'\n",
    "    url = url.format(method=method, parameters=parameters, token=token, version=version)\n",
    "    # запрашиваем ссылку и переводим в json (словарь)\n",
    "    response = requests.get(url).json()\n",
    "    \n",
    "    return response\n",
    "\n",
    "vkDownload('users.get','user_ids=ppilif')"
   ]
  },
  {
   "cell_type": "code",
   "execution_count": 5,
   "metadata": {},
   "outputs": [],
   "source": [
    "def makeBatch(uids, size=25):\n",
    "    \"\"\"\n",
    "        Возвращает лист листов из пользователей, батчами по size человек \n",
    "        По умолчанию size=25\n",
    "    \"\"\"\n",
    "    batches = [uids[i:i + size] for i in range(0,len(uids),size)]\n",
    "    \n",
    "    return batches "
   ]
  },
  {
   "cell_type": "markdown",
   "metadata": {},
   "source": [
    "## 1.1 Подписчики каждой группы для жанра"
   ]
  },
  {
   "cell_type": "code",
   "execution_count": 26,
   "metadata": {},
   "outputs": [],
   "source": [
    "music_style = 'эстрада'\n",
    "\n",
    "target_groups ={\n",
    "     #'Лепс' : '52228413',\n",
    "     'Пугачёва' : '24164800',\n",
    "     #'Михайлов' : '925262',\n",
    "     #'Меладзе' : '4336146',\n",
    "     #'Ваенга' : '57465816',\n",
    "     #'Киркоров' : '24344295',\n",
    "     #'Валерия' : '17890994',\n",
    "     #'Агутин' : '290390',\n",
    "     #'Газманов' : '5640401',\n",
    "     #'Басков' : '40705635',\n",
    "     #'Николаев' : '106027463',\n",
    "     'Ротару' : '37165678',\n",
    "     'Лолита' : '1162252',\n",
    "     'Леонтьев' : '9208',\n",
    "     'Буйнов' : '157276422'\n",
    "    }\n",
    "\n",
    "\n",
    "music_style = \"classic\"\n",
    "\n",
    "target_groups = {\n",
    "    'classic_relax':'30166068',\n",
    "    'classic_best':'49945538',\n",
    "    'inclassic':'26484100',\n",
    "    'classicstories':'67287907_',\n",
    "    'classical_music_guide':'153374206',\n",
    "    'contemporary_classical':'44705245',\n",
    "    'pi_a_no':'52678432',\n",
    "    'petertchaikovsky':'21244691',\n",
    "    'wmozart':'126406',\n",
    "    'ludvigvonbeethoven':'191869',\n",
    "}\n",
    "\n",
    "music_style = \"rap\"\n",
    "\n",
    "target_groups ={\n",
    "     'gazgolder': '1415705',           # 2 179 327\n",
    "     'NoizeMC': '77521',               # 1 075 908\n",
    "     'Miyagi&Эндшпиль': '85512864',    # 612 138\n",
    "     'Элджей': '148220303',            # 97 904 (на оф странице 1.2 миллиона)\n",
    "     'Feduk': '18022279',              # 279 565\n",
    "     'Грибы': '120376084',             # 312 122\n",
    "     'Oxxxymiron': '3113588',          # 921 242\n",
    "     'PHARAON': '97439489',            # 204 034\n",
    "     'Johnyboy': '10697541',           # 167 631\n",
    "     'Хаски': '59790294',              # 237 918\n",
    "     'LOne': '38213334',               # 681 506\n",
    "     'Мот': '847771',                  # 760 959\n",
    "     'ЛСП': '30314549',                # 815 224\n",
    "     'Face': '95470601'                # 757 411\n",
    "}"
   ]
  },
  {
   "cell_type": "code",
   "execution_count": 48,
   "metadata": {},
   "outputs": [],
   "source": [
    "# слоаврь группа-юзеры\n",
    "group_users_dct = { }"
   ]
  },
  {
   "cell_type": "markdown",
   "metadata": {},
   "source": [
    "Перед тем, как сохранять юзеров, надо профильтровать их на предмет существования... "
   ]
  },
  {
   "cell_type": "code",
   "execution_count": 31,
   "metadata": {},
   "outputs": [
    {
     "data": {
      "text/plain": [
       "{'response': [{'id': 13034843,\n",
       "   'first_name': 'Наталья',\n",
       "   'last_name': 'Савостьянова',\n",
       "   'deactivated': 'deleted'}]}"
      ]
     },
     "execution_count": 31,
     "metadata": {},
     "output_type": "execute_result"
    }
   ],
   "source": [
    "vkDownload('users.get','user_ids=barbizon_kid')"
   ]
  },
  {
   "cell_type": "code",
   "execution_count": 54,
   "metadata": {},
   "outputs": [],
   "source": [
    "def checkExisting(uids):\n",
    "    \"\"\"\n",
    "        Проверяет существование id и оставляет только не удаленные \n",
    "    \"\"\"\n",
    "    \n",
    "    cur_inf = vkDownload('users.get','user_ids={}'.format(','.join(str(e) for e in uids)))\n",
    "    cur_inf = cur_inf['response']\n",
    "    clean_members = [us_inf['id'] for us_inf in cur_inf if us_inf.get('deactivated','real') == 'real']\n",
    "    return clean_members\n",
    "\n",
    "\n",
    "def getGroupMembers(group_id):\n",
    "    \"\"\"\n",
    "        Возвращает список всех пользователей данной группы\n",
    "        Итерации идут батчами по 1000 пользователей\n",
    "        \n",
    "        group_id: string\n",
    "            идентификатор группы (ссылка)\n",
    "    \"\"\"\n",
    "    \n",
    "    # Узнаём число запросов, которое надо сделать \n",
    "    count = vkDownload('groups.getMembers','group_id=' + group_id)['response']['count']\n",
    "    \n",
    "    # сэплируем число подписчиков, которые мы хотим вытащить\n",
    "    # берём либо 10%, либо 100 000, смотря что больше\n",
    "    n_sampled = int(max(0.1 * count, min(count, 100000)))\n",
    "    print(\"Общее число пользователей: {}\\nСэмплированное число пользователей: {}\".format(count, n_sampled))\n",
    "    \n",
    "    # выясняем, сколько запросов нам понадобится\n",
    "    n = np.linspace(0, count, num=n_sampled/1000).astype(int)\n",
    "    \n",
    "    #n = int(np.ceil(count/1000))  \n",
    "    \n",
    "    # вектор, где мы будем хранить id пользователей\n",
    "    members = []     \n",
    "    \n",
    "    for i in tqdm_notebook(n): \n",
    "        try:\n",
    "            # при помощи метода groups.getMembers получаем пользователей группы\n",
    "            current_members = vkDownload('groups.getMembers','group_id='+group_id+'&offset='+str(1000*i))\n",
    "            current_members = current_members['response']['items']\n",
    "        \n",
    "            # проверим реально ли существуют все юзеры из списка выше\n",
    "            for i in range(0,1000,200):\n",
    "                time.sleep(0.3)\n",
    "                members.extend(checkExisting(current_members[i:i+200]))\n",
    "\n",
    "            # перед следующим запросом немножко подождем\n",
    "            time.sleep(0.3)\n",
    "        except Exception as e:\n",
    "            print(e)\n",
    "            next\n",
    "        \n",
    "    return members"
   ]
  },
  {
   "cell_type": "code",
   "execution_count": null,
   "metadata": {},
   "outputs": [
    {
     "data": {
      "application/vnd.jupyter.widget-view+json": {
       "model_id": "d6277b6015a44cb2997bd8ee2935f6fe",
       "version_major": 2,
       "version_minor": 0
      },
      "text/plain": [
       "HBox(children=(IntProgress(value=0, max=14), HTML(value='')))"
      ]
     },
     "metadata": {},
     "output_type": "display_data"
    },
    {
     "name": "stdout",
     "output_type": "stream",
     "text": [
      "Общее число пользователей: 2179332\n",
      "Сэмплированное число пользователей: 217933\n"
     ]
    },
    {
     "name": "stderr",
     "output_type": "stream",
     "text": [
      "/anaconda3/lib/python3.6/site-packages/ipykernel_launcher.py:30: DeprecationWarning: object of type <class 'float'> cannot be safely interpreted as an integer.\n"
     ]
    },
    {
     "data": {
      "application/vnd.jupyter.widget-view+json": {
       "model_id": "36abaedd6cdc4bcc9417fbd76b386d00",
       "version_major": 2,
       "version_minor": 0
      },
      "text/plain": [
       "HBox(children=(IntProgress(value=0, max=217), HTML(value='')))"
      ]
     },
     "metadata": {},
     "output_type": "display_data"
    }
   ],
   "source": [
    "# по каждому id группы сохраняем подписчиков \n",
    "for k,v in tqdm_notebook(target_groups.items()):\n",
    "    members = getGroupMembers(target_groups[k]) \n",
    "    print(k,':',len(members))\n",
    "    group_users_dct[k] = members"
   ]
  },
  {
   "cell_type": "code",
   "execution_count": 12,
   "metadata": {},
   "outputs": [],
   "source": [
    "# Сохраняем словарик для текущего жанра \n",
    "with open('../data/{}_group_users'.format(music_style), 'wb') as f:\n",
    "    pickle.dump(group_users_dct, f)"
   ]
  },
  {
   "cell_type": "code",
   "execution_count": 14,
   "metadata": {},
   "outputs": [],
   "source": [
    "with open('../data/{}_group_users'.format(music_style), 'rb') as f:\n",
    "    group_users_dct = pickle.load(f)"
   ]
  },
  {
   "cell_type": "markdown",
   "metadata": {},
   "source": [
    "## 1.2 Файл с комментами каждой группы жанра"
   ]
  },
  {
   "cell_type": "markdown",
   "metadata": {},
   "source": [
    "Скачиваем с группы все посты."
   ]
  },
  {
   "cell_type": "code",
   "execution_count": 16,
   "metadata": {},
   "outputs": [],
   "source": [
    "def getPosts(group_id):\n",
    "    \"\"\"\n",
    "        Качает по группе список всех постов, которые в \n",
    "        ней есть и возвращает список из их id \n",
    "    \"\"\"\n",
    "    \n",
    "    post_ids = [ ] # для сбора id\n",
    "    \n",
    "    # Выясним сколько всего в группе постов \n",
    "    n = vkDownload('wall.get','owner_id=-{}'.format(group_id))['response']['count']\n",
    "    print(\"В группе {} должно быть {} постов\".format(group_id,n))\n",
    "    \n",
    "    for i in tqdm_notebook(range(0, n + 100, 100)):\n",
    "        time.sleep(0.3)\n",
    "        \n",
    "        wall = vkDownload('wall.get','owner_id=-{}&count=100&offset='.format(group_id)+str(i))['response']['items']\n",
    "        # если захочется отделить комменты группы от других, есть поле from_id \n",
    "        post_ids.extend([item['id'] for item in wall])\n",
    "        \n",
    "    return post_ids\n",
    "\n",
    "\n",
    "def prepareComments(group_id, posts):\n",
    "    \"\"\"\n",
    "        Мы будем скачивать 25 запросами за раз, эта функция готовит запросы \n",
    "        к последущему использованию, понимая сколько комментов под каким постом, \n",
    "        выкидывая посты с нулевым количеством комментов и делая тройки (группа, пост, оффсет)\n",
    "    \"\"\"\n",
    "\n",
    "    triple_comments = [ ] # для троек (group_id, post_id, offset)\n",
    "\n",
    "    # делаем из всех постов батчи по 25 штук, чтобы было быстрее\n",
    "    posts_batch = makeBatch(posts)\n",
    "\n",
    "    for batch in tqdm_notebook(posts_batch):\n",
    "        time.sleep(0.4)\n",
    "\n",
    "        # готовим запрос для комметов из батча, который выяснит число комментов под постом\n",
    "        begin = 'https://api.vk.com/method/execute?code=return['\n",
    "        end = '];&access_token='+token+'&v=5.78'\n",
    "        middle = ''\n",
    "\n",
    "        # для каждого поста из батча используем метод wall.getComments\n",
    "        for bt in batch:            \n",
    "            middle += 'API.wall.getComments({\"owner_id\":\"-' + str(group_id) + '\",\"post_id\":\"' + str(bt) + '\"}),'\n",
    "\n",
    "        # делаем запрос для текущих 25 комментов\n",
    "        requests.get(begin + middle[:-1] + end)\n",
    "\n",
    "        # выясняем сколько всего комментов под постом \n",
    "        s = requests.get(begin + middle[:-1] + end)\n",
    "\n",
    "        # СТРАННОСТЬ: \n",
    "        # В каждом запросе нужные мне 25 ответов в поле 'response' \n",
    "        # и 26 сообщений Permission to perform this action is denied  в поле 'execute_errors'\n",
    "        # Но но но я же могу его сделать...  Какие нафиг запреты? Мб скоро прикроют API - ? \n",
    "\n",
    "        # по добытой информации готовим запросы на будущее\n",
    "\n",
    "        for post,item in zip(batch, s.json()['response']):\n",
    "            if item is False:\n",
    "                print('False в посте {} группы {}'.format(post, group_id))\n",
    "                continue\n",
    "\n",
    "            n = item['count']\n",
    "\n",
    "            # пост с нулевым числом комментов игнорим\n",
    "            if n == 0:\n",
    "                continue \n",
    "            else:\n",
    "                # для каждой сотни комментов из-под поста с комментами будет свой запрос для добычи\n",
    "                for i in range(0, n, 100):\n",
    "                    triple_comments.append((group_id, post, i))\n",
    "    return triple_comments\n",
    "\n",
    "\n",
    "def getComments(triple_comments):\n",
    "    \"\"\"\n",
    "        Делит элементы вектора вида (group_id, post_id, offset), \n",
    "        на батчи по 15 штук и качает комменты аки демон\n",
    "    \"\"\"\n",
    "    \n",
    "    comments = [ ] # для сбора комментов \n",
    "\n",
    "    # делаем батчи \n",
    "    precom_batch = makeBatch(triple_comments, 15)\n",
    "\n",
    "    for batch in tqdm_notebook(precom_batch):\n",
    "        time.sleep(0.4)\n",
    "        # клепаем запрос \n",
    "        begin = 'https://api.vk.com/method/execute?code=return['\n",
    "        end = '];&access_token='+token+'&v=5.78'\n",
    "        middle = ''\n",
    "\n",
    "        for bt in batch:            \n",
    "            middle += 'API.wall.getComments({\"owner_id\":\"-' + str(bt[0]) + '\",\"post_id\":\"' + str(bt[1]) + '\",\\\n",
    "            \"need_likes\":\"1\",\"preview_length\":\"0\",\"count\":\"100\",\"offset\":\"'+ str(bt[2])+'\"}),'\n",
    "\n",
    "        # делаем запрос для текущих 20 комментов\n",
    "        s = requests.get(begin + middle[:-1] + end)\n",
    "\n",
    "        # распаковываем добытое добро\n",
    "        cur_com = [ ]\n",
    "        for item, post in zip(s.json()['response'], batch):\n",
    "            for jtem in item['items']:\n",
    "                jtem['likes'] = jtem['likes']['count']\n",
    "                jtem['post_id'] = post[1]\n",
    "                jtem['group_id'] = post[0]\n",
    "                cur_com.append(jtem)\n",
    "                \n",
    "        comments.extend(cur_com) \n",
    "        \n",
    "    return comments    "
   ]
  },
  {
   "cell_type": "code",
   "execution_count": 23,
   "metadata": {},
   "outputs": [],
   "source": [
    "target_groups = {\n",
    "    #'classic_relax':'30166068',\n",
    "    #'classic_best':'49945538',\n",
    "    #'inclassic':'26484100',\n",
    "    'classicstories':'67287907',\n",
    "    'classical_music_guide':'153374206',\n",
    "    'contemporary_classical':'44705245',\n",
    "    'pi_a_no':'52678432',\n",
    "    'petertchaikovsky':'21244691',\n",
    "    'wmozart':'126406',\n",
    "    'ludvigvonbeethoven':'191869',\n",
    "}\n",
    "\n",
    "group_names = {v:k for k,v in target_groups.items()}"
   ]
  },
  {
   "cell_type": "code",
   "execution_count": 25,
   "metadata": {
    "scrolled": true
   },
   "outputs": [
    {
     "name": "stdout",
     "output_type": "stream",
     "text": [
      "В группе 67287907 должно быть 1347 постов\n"
     ]
    },
    {
     "data": {
      "application/vnd.jupyter.widget-view+json": {
       "model_id": "d50b8de47556418ebe13c54aa3740f8b",
       "version_major": 2,
       "version_minor": 0
      },
      "text/plain": [
       "HBox(children=(IntProgress(value=0, max=15), HTML(value='')))"
      ]
     },
     "metadata": {},
     "output_type": "display_data"
    },
    {
     "name": "stdout",
     "output_type": "stream",
     "text": [
      "\n",
      "Из группы 67287907 имени classicstories скачалось 1347 постов\n"
     ]
    },
    {
     "data": {
      "application/vnd.jupyter.widget-view+json": {
       "model_id": "dabd7f6f149549f8b980439d28b52c76",
       "version_major": 2,
       "version_minor": 0
      },
      "text/plain": [
       "HBox(children=(IntProgress(value=0, max=54), HTML(value='')))"
      ]
     },
     "metadata": {},
     "output_type": "display_data"
    },
    {
     "name": "stdout",
     "output_type": "stream",
     "text": [
      "\n",
      "Число запросов: 652\n"
     ]
    },
    {
     "data": {
      "application/vnd.jupyter.widget-view+json": {
       "model_id": "8572d99672334dcb9b9a3d2d66450c77",
       "version_major": 2,
       "version_minor": 0
      },
      "text/plain": [
       "HBox(children=(IntProgress(value=0, max=44), HTML(value='')))"
      ]
     },
     "metadata": {},
     "output_type": "display_data"
    },
    {
     "name": "stdout",
     "output_type": "stream",
     "text": [
      "\n",
      "Число комментов: 2415, из них уникальных: 2415\n",
      "108 360\n",
      "Мацуев растёт, и это очень важно для музыканта!\n",
      "--------------------\n",
      "18 19\n",
      "бедный Дьёрдь\n",
      "--------------------\n",
      "18 20\n",
      "Пляски\n",
      "--------------------\n",
      "18 105\n",
      "Аааааа\n",
      "--------------------\n",
      "18 106\n",
      "Аааааа\n",
      "--------------------\n",
      "15 16\n",
      "Панк рок )\n",
      "--------------------\n",
      "15 17\n",
      "[id51400451|Виталий],\n",
      "--------------------\n",
      "14 23\n",
      "Пьеса \"Бабочки\"\n",
      "--------------------\n",
      "11 12\n",
      "так и травму получить можно\n",
      "--------------------\n",
      "7 8\n",
      ")\n",
      "--------------------\n",
      "====================================================================\n",
      "В группе 153374206 должно быть 132 постов\n"
     ]
    },
    {
     "data": {
      "application/vnd.jupyter.widget-view+json": {
       "model_id": "25c9f547a4254ae1ad8dd89ee65c701f",
       "version_major": 2,
       "version_minor": 0
      },
      "text/plain": [
       "HBox(children=(IntProgress(value=0, max=3), HTML(value='')))"
      ]
     },
     "metadata": {},
     "output_type": "display_data"
    },
    {
     "name": "stdout",
     "output_type": "stream",
     "text": [
      "\n",
      "Из группы 153374206 имени classical_music_guide скачалось 132 постов\n"
     ]
    },
    {
     "data": {
      "application/vnd.jupyter.widget-view+json": {
       "model_id": "7ad13e9c4add491ea81f92b931caf84b",
       "version_major": 2,
       "version_minor": 0
      },
      "text/plain": [
       "HBox(children=(IntProgress(value=0, max=6), HTML(value='')))"
      ]
     },
     "metadata": {},
     "output_type": "display_data"
    },
    {
     "name": "stdout",
     "output_type": "stream",
     "text": [
      "\n",
      "Число запросов: 11\n"
     ]
    },
    {
     "data": {
      "application/vnd.jupyter.widget-view+json": {
       "model_id": "c8c416db5e4d4fb88354d02fedf38520",
       "version_major": 2,
       "version_minor": 0
      },
      "text/plain": [
       "HBox(children=(IntProgress(value=0, max=1), HTML(value='')))"
      ]
     },
     "metadata": {},
     "output_type": "display_data"
    },
    {
     "name": "stdout",
     "output_type": "stream",
     "text": [
      "\n",
      "Число комментов: 23, из них уникальных: 23\n",
      "148 165\n",
      "покажем\n",
      "t.me/https://T.ME/ONa1551_bot\n",
      "--------------------\n",
      "142 143\n",
      "https://youtu.be/QP7ChdHDJRA Оцените творчество,админ если не в тему,удали просто,не ругайся)Важна оценка людей которые уважают такую музыку.\n",
      "--------------------\n",
      "134 151\n",
      "Музыка - это состояние души.\n",
      "--------------------\n",
      "123 124\n",
      "мои любимые в этом уходящем году ❤\n",
      "--------------------\n",
      "123 126\n",
      "Duo Divites - J.S.Bach Piano Concerto f-moll, 2 mov.\n",
      "https://youtu.be/IE67Ul4ffEo\n",
      "--------------------\n",
      "115 116\n",
      "попадал по детству!\n",
      "--------------------\n",
      "64 73\n",
      "Попробовал \"просто слушать и наслаждаться\". Хватило на три минуты, дальше хоть на стену бросайся, лишь бы не слышать. Наслаждаться такой музыкой можно только, если к этому приучили в детстве, а взрослому поздно переучиваться. Да и не получится, голову уже не та.\n",
      "--------------------\n",
      "9 11\n",
      "Ой как приятно иметь что-то общее с Моцартом)\n",
      "--------------------\n",
      "9 12\n",
      "А как на счет Бетховена?)\n",
      "--------------------\n",
      "9 13\n",
      "Ещё бы эталонный вид добавить для контраста)\n",
      "--------------------\n",
      "====================================================================\n",
      "В группе 44705245 должно быть 832 постов\n"
     ]
    },
    {
     "data": {
      "application/vnd.jupyter.widget-view+json": {
       "model_id": "bce183e272184a48b32dd84c5c3ef6e6",
       "version_major": 2,
       "version_minor": 0
      },
      "text/plain": [
       "HBox(children=(IntProgress(value=0, max=10), HTML(value='')))"
      ]
     },
     "metadata": {},
     "output_type": "display_data"
    },
    {
     "name": "stdout",
     "output_type": "stream",
     "text": [
      "\n",
      "Из группы 44705245 имени contemporary_classical скачалось 832 постов\n"
     ]
    },
    {
     "data": {
      "application/vnd.jupyter.widget-view+json": {
       "model_id": "e0fdfcd8f65e47d888f73a9c71870ba1",
       "version_major": 2,
       "version_minor": 0
      },
      "text/plain": [
       "HBox(children=(IntProgress(value=0, max=34), HTML(value='')))"
      ]
     },
     "metadata": {},
     "output_type": "display_data"
    },
    {
     "name": "stdout",
     "output_type": "stream",
     "text": [
      "\n",
      "Число запросов: 152\n"
     ]
    },
    {
     "data": {
      "application/vnd.jupyter.widget-view+json": {
       "model_id": "b70b92c3165f4f7092fbdc6d44864ba9",
       "version_major": 2,
       "version_minor": 0
      },
      "text/plain": [
       "HBox(children=(IntProgress(value=0, max=11), HTML(value='')))"
      ]
     },
     "metadata": {},
     "output_type": "display_data"
    },
    {
     "name": "stdout",
     "output_type": "stream",
     "text": [
      "\n",
      "Число комментов: 355, из них уникальных: 355\n",
      "19 20\n",
      "он охуенен, но только не этот альбом\n",
      "--------------------\n",
      "18 22\n",
      "Люблю его\n",
      "--------------------\n",
      "10 13\n",
      "Терпеть его не могу\n",
      "--------------------\n",
      "10 14\n",
      "Довольно интересно\n",
      "--------------------\n",
      "10 16\n",
      "люблю его\n",
      "--------------------\n",
      "3 4\n",
      "ну конечно, кто же еще первым постом попался бы\n",
      "--------------------\n",
      "3 5\n",
      "Наконец то появился такой бложег.\n",
      "Желаю вам постить только годноту :-D\n",
      "--------------------\n",
      "3 6\n",
      "Вам еще один администратор не нужен?)\n",
      "--------------------\n",
      "3 7\n",
      "будем старатся, спасибо)\n",
      "--------------------\n",
      "3 8\n",
      "пока нет, а там посмотрим)\n",
      "--------------------\n",
      "====================================================================\n",
      "В группе 52678432 должно быть 655 постов\n"
     ]
    },
    {
     "data": {
      "application/vnd.jupyter.widget-view+json": {
       "model_id": "a07b2574d16149698416de37dec1ca2d",
       "version_major": 2,
       "version_minor": 0
      },
      "text/plain": [
       "HBox(children=(IntProgress(value=0, max=8), HTML(value='')))"
      ]
     },
     "metadata": {},
     "output_type": "display_data"
    },
    {
     "name": "stdout",
     "output_type": "stream",
     "text": [
      "\n",
      "Из группы 52678432 имени pi_a_no скачалось 655 постов\n"
     ]
    },
    {
     "data": {
      "application/vnd.jupyter.widget-view+json": {
       "model_id": "64c54e58a76441eb90d61627c329990b",
       "version_major": 2,
       "version_minor": 0
      },
      "text/plain": [
       "HBox(children=(IntProgress(value=0, max=27), HTML(value='')))"
      ]
     },
     "metadata": {},
     "output_type": "display_data"
    },
    {
     "name": "stdout",
     "output_type": "stream",
     "text": [
      "\n",
      "Число запросов: 230\n"
     ]
    },
    {
     "data": {
      "application/vnd.jupyter.widget-view+json": {
       "model_id": "50f9f2c6567a4c0bbbef9dc7870e8c8c",
       "version_major": 2,
       "version_minor": 0
      },
      "text/plain": [
       "HBox(children=(IntProgress(value=0, max=16), HTML(value='')))"
      ]
     },
     "metadata": {},
     "output_type": "display_data"
    },
    {
     "name": "stdout",
     "output_type": "stream",
     "text": [
      "\n",
      "Число комментов: 557, из них уникальных: 557\n",
      "114 179\n",
      "Stunning.\n",
      "--------------------\n",
      "50 157\n",
      "Волшебная!\n",
      "--------------------\n",
      "29 33\n",
      "невероятно красивая\n",
      "--------------------\n",
      "29 34\n",
      "ееееее\n",
      "--------------------\n",
      "29 36\n",
      "Волшебная!\n",
      "--------------------\n",
      "29 39\n",
      "расплакаться можно\n",
      "--------------------\n",
      "24 460\n",
      "😢\n",
      "--------------------\n",
      "24 967\n",
      "!!!\n",
      "--------------------\n",
      "15 16\n",
      "Круть\n",
      "--------------------\n",
      "15 17\n",
      "уносит\n",
      "--------------------\n",
      "====================================================================\n",
      "В группе 21244691 должно быть 2054 постов\n"
     ]
    },
    {
     "data": {
      "application/vnd.jupyter.widget-view+json": {
       "model_id": "e7eea8f75b1940d687658865bfca26f5",
       "version_major": 2,
       "version_minor": 0
      },
      "text/plain": [
       "HBox(children=(IntProgress(value=0, max=22), HTML(value='')))"
      ]
     },
     "metadata": {},
     "output_type": "display_data"
    },
    {
     "name": "stdout",
     "output_type": "stream",
     "text": [
      "\n",
      "Из группы 21244691 имени petertchaikovsky скачалось 2054 постов\n"
     ]
    },
    {
     "data": {
      "application/vnd.jupyter.widget-view+json": {
       "model_id": "b57510a100034e6fa44accda196811a0",
       "version_major": 2,
       "version_minor": 0
      },
      "text/plain": [
       "HBox(children=(IntProgress(value=0, max=83), HTML(value='')))"
      ]
     },
     "metadata": {},
     "output_type": "display_data"
    },
    {
     "name": "stdout",
     "output_type": "stream",
     "text": [
      "\n",
      "Число запросов: 674\n"
     ]
    },
    {
     "data": {
      "application/vnd.jupyter.widget-view+json": {
       "model_id": "b7260448ff154cf5a31b16bbe4290b6c",
       "version_major": 2,
       "version_minor": 0
      },
      "text/plain": [
       "HBox(children=(IntProgress(value=0, max=45), HTML(value='')))"
      ]
     },
     "metadata": {},
     "output_type": "display_data"
    },
    {
     "name": "stdout",
     "output_type": "stream",
     "text": [
      "\n",
      "Число комментов: 2072, из них уникальных: 2072\n",
      "58 108\n",
      "я нет...тот статус композитора это не то что щас, тогда был очень высок этот статус, его имели мало кто и почти все при королях и тд, то есть высшее общество...тот статус очень ценился, его даже такие как глюк только в зрелом возрасте получали и немолодом\n",
      "--------------------\n",
      "58 109\n",
      "Вот я о том же))\n",
      "Сейчас \"композитором\" может стать любой неудашийся простите меня пианист(и не только) \n",
      "А вот например у Верди вообще не было образования....и не только))Многие потомственные композиторы  не имели справки из консы,..но профессионализм,а тем более в музыке меритсяч не бумажками!!\n",
      "--------------------\n",
      "51 53\n",
      "Напишите мне в личку майл я Вам вышлю)\n",
      "--------------------\n",
      "26 34\n",
      "ок,Пётр Ильич:)))\n",
      "--------------------\n",
      "26 35\n",
      ":)\n",
      "--------------------\n",
      "24 25\n",
      "Ваш покорный слуга=)\n",
      "--------------------\n",
      "24 48\n",
      "Приглашение принимаю - спасибо, Маша Ким))\n",
      "--------------------\n",
      "21 23\n",
      "Дайте ссылки пожайлуста\n",
      "--------------------\n",
      "21 37\n",
      "пожалуйста) \n",
      "http://vkontakte.ru/club11899725\n",
      "http://vkontakte.ru/club11543226\n",
      "--------------------\n",
      "9 10\n",
      "То ли ещё будет )))))\n",
      "--------------------\n",
      "====================================================================\n",
      "В группе 126406 должно быть 883 постов\n"
     ]
    },
    {
     "data": {
      "application/vnd.jupyter.widget-view+json": {
       "model_id": "3d9fc4b9c4a14603846bc4d71164ab9b",
       "version_major": 2,
       "version_minor": 0
      },
      "text/plain": [
       "HBox(children=(IntProgress(value=0, max=10), HTML(value='')))"
      ]
     },
     "metadata": {},
     "output_type": "display_data"
    },
    {
     "name": "stdout",
     "output_type": "stream",
     "text": [
      "\n",
      "Из группы 126406 имени wmozart скачалось 883 постов\n"
     ]
    },
    {
     "data": {
      "application/vnd.jupyter.widget-view+json": {
       "model_id": "3ec767a238f24077b8f62c51b72c614f",
       "version_major": 2,
       "version_minor": 0
      },
      "text/plain": [
       "HBox(children=(IntProgress(value=0, max=36), HTML(value='')))"
      ]
     },
     "metadata": {},
     "output_type": "display_data"
    },
    {
     "name": "stdout",
     "output_type": "stream",
     "text": [
      "\n",
      "Число запросов: 495\n"
     ]
    },
    {
     "data": {
      "application/vnd.jupyter.widget-view+json": {
       "model_id": "5831e83f70ee479b86f9a7d5aecae78d",
       "version_major": 2,
       "version_minor": 0
      },
      "text/plain": [
       "HBox(children=(IntProgress(value=0, max=33), HTML(value='')))"
      ]
     },
     "metadata": {},
     "output_type": "display_data"
    },
    {
     "name": "stdout",
     "output_type": "stream",
     "text": [
      "\n",
      "Число комментов: 3644, из них уникальных: 3644\n",
      "937 945\n",
      "Сказочно!\n",
      "--------------------\n",
      "931 932\n",
      "Извините а можно как нибудь фильтровать записи добавляемые в группу ? Чтотакие вещи как Даб степ и реклама не попадали в общий список .\n",
      "--------------------\n",
      "931 933\n",
      "По окончанию \"ремонтных работ\" в группе, остануться лишь записи В. Моцарта, классифицированные по папкам. Но в любом случае, мы будем благодарны Вам, на указание наших недоработок!\n",
      "--------------------\n",
      "919 925\n",
      "по-моему, он не был придворным композитором. хотел им стать. но его не взяли. после ухода от Колоредо он был свободным художником. Никакого жалованья. только гонорары\n",
      "--------------------\n",
      "910 934\n",
      "Спасибо за очень красивые фотографии!\n",
      "--------------------\n",
      "907 909\n",
      "красиво\n",
      "--------------------\n",
      "907 911\n",
      "Символично. Одно крыло - почти небесный.\n",
      "--------------------\n",
      "905 906\n",
      "Красота! Как счастливо, что я там была, на земле самого ВЕЛИКОГО!\n",
      "--------------------\n",
      "905 908\n",
      "Это действительно счастье побывать в Зальцбурге, побродить по его узким улочкам. Может показаться странным, но после поездки в Зальцбург я немного иначе стала воспринимать музыку Моцарта - еще светлее, ярче, как-будто стены дома, где родился и жил Моцарт открыли какую-то тайну...\n",
      "--------------------\n",
      "893 903\n",
      "\"О Вольфганге Моцарте с юмором. \"\n",
      "так это шутка?\n",
      "--------------------\n",
      "====================================================================\n",
      "В группе 191869 должно быть 1596 постов\n"
     ]
    },
    {
     "data": {
      "application/vnd.jupyter.widget-view+json": {
       "model_id": "dec91356e27142209535f07a3d58f464",
       "version_major": 2,
       "version_minor": 0
      },
      "text/plain": [
       "HBox(children=(IntProgress(value=0, max=17), HTML(value='')))"
      ]
     },
     "metadata": {},
     "output_type": "display_data"
    },
    {
     "name": "stdout",
     "output_type": "stream",
     "text": [
      "\n",
      "Из группы 191869 имени ludvigvonbeethoven скачалось 1596 постов\n"
     ]
    },
    {
     "data": {
      "application/vnd.jupyter.widget-view+json": {
       "model_id": "2d8e5cf47c7445e6b31c5a1f942ff68c",
       "version_major": 2,
       "version_minor": 0
      },
      "text/plain": [
       "HBox(children=(IntProgress(value=0, max=64), HTML(value='')))"
      ]
     },
     "metadata": {},
     "output_type": "display_data"
    },
    {
     "name": "stdout",
     "output_type": "stream",
     "text": [
      "\n",
      "Число запросов: 177\n"
     ]
    },
    {
     "data": {
      "application/vnd.jupyter.widget-view+json": {
       "model_id": "b532e6e1ea174d0b9c40115686c66db5",
       "version_major": 2,
       "version_minor": 0
      },
      "text/plain": [
       "HBox(children=(IntProgress(value=0, max=12), HTML(value='')))"
      ]
     },
     "metadata": {},
     "output_type": "display_data"
    },
    {
     "name": "stdout",
     "output_type": "stream",
     "text": [
      "\n",
      "Число комментов: 376, из них уникальных: 376\n",
      "839 1118\n",
      "Это не в сторону Преснякова, оговорюсь.\n",
      "--------------------\n",
      "839 1126\n",
      "Что это за мать вашу?, ну подобрать \"к Элизе\" не так тяжело,(вы ребята джаз не пробовали снимать), а что за СТРАННАЯ импровизация звучит в середине?\n",
      "--------------------\n",
      "839 1127\n",
      "Это кавер. Что и подразумевает что изначальная композиция не должна звучать как оригинал. Посмотрите его канал на Ютубе, у него везде импровизации, как Михаил изволил выразиться. Как чувствует, так и играет.\n",
      "--------------------\n",
      "839 1128\n",
      "Понятие кавер неприменимо к классическим композициям. Вся нынешняя музыка, в таком случае - один большой кавер. Причем не лучшего качества.\n",
      "--------------------\n",
      "839 1254\n",
      "Для импровизации нормально, для классики непримиримо!\n",
      "--------------------\n",
      "839 1265\n",
      "Ой , да ладно !\n",
      "Слушайте если хотите , или не слушайте , если не хотите ! А если не устраивает современная музыка , попробуйте создать что нибудь не \"каверное\" !!\n",
      "ценители то ещё !\n",
      "когда у самого музыка зазвучит в голове , напишешь что нибудь что не оставит равнодушным , когда почувствуешь , тогда и говори !\n",
      "--------------------\n",
      "839 1266\n",
      "То есть к дискуссии на тему допускаются лишь те, кто успел создать что-то свое? :) Но я считаю это несправедливым, ведь даже товарищ с видео играет не свое. А с критиков требуют композиторского таланта. Вона как.\n",
      "--------------------\n",
      "839 1397\n",
      "Порнография какая-то!\n",
      "--------------------\n",
      "839 1398\n",
      "Большая порнография на данное произведение - только у Поля Мориа!\n",
      "--------------------\n",
      "839 1402\n",
      "Да, у Поля Мориа чересчур жизнерадостные интерпретации чужих композиций получаются, а это не всегда плюс :)\n",
      "--------------------\n",
      "====================================================================\n"
     ]
    }
   ],
   "source": [
    "unique_comments = { }\n",
    "\n",
    "for name in target_groups:\n",
    "    \n",
    "    # качаем посты \n",
    "    group_id = target_groups[name]\n",
    "    posts = getPosts(group_id)\n",
    "\n",
    "    print('Из группы {} имени {} скачалось {} постов'.format(target_groups[name], name, len(posts)))\n",
    "    \n",
    "    # готовим батчи из запросов для комментов\n",
    "    triple_comments = prepareComments(group_id, posts)\n",
    "    \n",
    "    print('Число запросов: {}'.format(len(triple_comments)))\n",
    "    \n",
    "    # качаем комменты\n",
    "    comments = getComments(triple_comments)\n",
    "    \n",
    "    setlen = len(set([str(comment['post_id']) + '_' + str(comment['id']) for comment in comments]))\n",
    "    print('Число комментов: {}, из них уникальных: {}'.format(len(comments), setlen ))\n",
    "    \n",
    "    # смотрим на десяток последних комментов \n",
    "    for comment in comments[-10:]:\n",
    "        print(comment['post_id'],comment['id'])\n",
    "        print(comment['text'])\n",
    "        print('--------------------')\n",
    "        \n",
    "    # записываем накачаное добро в словарик\n",
    "    unique_comments[name] = comments\n",
    "    \n",
    "    # Сохраняем ну хоть что-нибудь... \n",
    "    with open('../data/{}_group_comments_{}'.format(music_style, group_names[group_id]), 'wb') as f:\n",
    "        pickle.dump(comments, f)\n",
    "    \n",
    "    print('====================================================================')\n",
    "    "
   ]
  },
  {
   "cell_type": "code",
   "execution_count": null,
   "metadata": {},
   "outputs": [],
   "source": [
    "# Сохраняем ну хоть что-нибудь... \n",
    "with open('../data/{}_group_comments'.format(music_style), 'wb') as f:\n",
    "    pickle.dump(unique_comments, f)"
   ]
  },
  {
   "cell_type": "code",
   "execution_count": null,
   "metadata": {
    "scrolled": false
   },
   "outputs": [],
   "source": [
    "!ls ../data"
   ]
  },
  {
   "cell_type": "code",
   "execution_count": null,
   "metadata": {},
   "outputs": [],
   "source": []
  },
  {
   "cell_type": "code",
   "execution_count": null,
   "metadata": {},
   "outputs": [],
   "source": []
  },
  {
   "cell_type": "markdown",
   "metadata": {},
   "source": [
    "## 1.3 Файл с топ-10 подписками по каждому подписчику"
   ]
  },
  {
   "cell_type": "code",
   "execution_count": null,
   "metadata": {},
   "outputs": [],
   "source": [
    "unique_users = group_users_dct['24164800'][:100]\n",
    "unique_users[:5]"
   ]
  },
  {
   "cell_type": "code",
   "execution_count": null,
   "metadata": {},
   "outputs": [],
   "source": [
    "def makePublicUrl(batch, token=token):\n",
    "    \"\"\"\n",
    "        Создаёт ссылку для метода execute на основе батчей пользователей для скачки пабликов\n",
    "            batch - батч из id \n",
    "            token - ключ доступа\n",
    "    \"\"\"\n",
    "    \n",
    "    # составляем ссылку из кусочков\n",
    "    begin = 'https://api.vk.com/method/execute?code=return['\n",
    "    end = '];&access_token='+token+'&v=5.78'\n",
    "    middle = ''\n",
    "    # для каждого пользователя из батча используем метод wall.get \n",
    "    for bt in batch:\n",
    "        middle += 'API.users.getSubscriptions({\"user_id\": \"'+str(bt)+'\"}),'   \n",
    "    return begin + middle[:-1] + end \n",
    "\n",
    "\n",
    "def getUsersPublics(uids):\n",
    "    \"\"\"\n",
    "    Достаёт список пабликов для всех людей из списка uids\n",
    "        uids - id людей \n",
    "    \"\"\"\n",
    "    \n",
    "    batches = makeBatch(uids) # дробим на батчи\n",
    "    \n",
    "    # сюда будем записывать соответсвие между юзером и пабликами \n",
    "    id_group_list = { }\n",
    "    \n",
    "    for item in tqdm_notebook(batches):\n",
    "        time.sleep(0.3)\n",
    "        response = requests.get(makePublicUrl(item))\n",
    "        cur_resp = response.json()['response']\n",
    "        \n",
    "        # распаковываем список подписок по подписчикам\n",
    "        for uid,cur in zip(item,cur_resp):\n",
    "            id_group_list[uid] = cur['groups']['items'][:10] # первые 10\n",
    "            \n",
    "    return(id_group_list)"
   ]
  },
  {
   "cell_type": "code",
   "execution_count": null,
   "metadata": {},
   "outputs": [],
   "source": [
    "users_top_publics = getUsersPublics(unique_users[:2])"
   ]
  },
  {
   "cell_type": "code",
   "execution_count": null,
   "metadata": {},
   "outputs": [],
   "source": [
    "users_top_publics"
   ]
  },
  {
   "cell_type": "code",
   "execution_count": null,
   "metadata": {},
   "outputs": [],
   "source": [
    "# Сохраняем это чудо "
   ]
  },
  {
   "cell_type": "code",
   "execution_count": null,
   "metadata": {},
   "outputs": [],
   "source": []
  },
  {
   "cell_type": "code",
   "execution_count": null,
   "metadata": {},
   "outputs": [],
   "source": []
  },
  {
   "cell_type": "code",
   "execution_count": null,
   "metadata": {},
   "outputs": [],
   "source": []
  },
  {
   "cell_type": "markdown",
   "metadata": {},
   "source": [
    "## 1.4 Файл со стенками подписчиков \n",
    "\n",
    "* Додумываем процедуру сбора"
   ]
  },
  {
   "cell_type": "code",
   "execution_count": null,
   "metadata": {},
   "outputs": [],
   "source": [
    "# !!! Внимание! По этому методу есть лимит в 10к запросов. Имеет смысл брать жанр, \n",
    "# после делать по нему случайную выборку в 15к людей и качать стенки только по ним !!!"
   ]
  },
  {
   "cell_type": "code",
   "execution_count": null,
   "metadata": {},
   "outputs": [],
   "source": [
    "def makeWallUrl(batch, token=token):\n",
    "    \"\"\"\n",
    "        Создаёт ссылку для метода execute на основе батчей пользователей\n",
    "    \"\"\"\n",
    "    # составляем ссылку из кусочков\n",
    "    begin = 'https://api.vk.com/method/execute?code=return['\n",
    "    end = '];&access_token='+token+'&v='+version\n",
    "    middle = ''\n",
    "    # для каждого пользователя из батча используем метод wall.get \n",
    "    for bt in batch:\n",
    "        middle += 'API.wall.get({\"owner_id\": \"'+str(bt)+'\",\"count\":\"100\"}),'\n",
    "        \n",
    "    return begin + middle[:-1] + end \n",
    "\n",
    "def getAllPosts(candidate):\n",
    "    \"\"\"\n",
    "        Возвращает список словарей, в каждом их которых посты пользователей\n",
    "    \"\"\"\n",
    "    \n",
    "    # инициализируем список для хранения постов\n",
    "    wall = []\n",
    "    # берем всех людей текущего кандидата\n",
    "    people = candidate_people[candidate]\n",
    "    \n",
    "    # рандомно перемешаем наших пользователей, чтобы обеспечить репрезентативность выборки\n",
    "    np.random.shuffle(people)\n",
    "    \n",
    "    # создадим свой небольшой класс для кастомной ошибки \n",
    "    # на случай превышения лимита запросов\n",
    "    class LimitExceeded(Exception):\n",
    "        pass\n",
    "    \n",
    "    # батчи пользователей\n",
    "    batches = makeBatch(people)\n",
    "    \n",
    "    # итерируем по батчам\n",
    "    for item in tqdm_notebook(batches):\n",
    "        # если насобирали 10 тысяч пользователей, останавливаемся\n",
    "        if len(wall) < 10000:\n",
    "            try:\n",
    "                # пробуем выгрузить по батчу стенки пользователей\n",
    "                res = requests.get(makeWallUrl(item))\n",
    "                res = res.json()['response']\n",
    "                \n",
    "                # если нас забанили (все респонсы пусты), поднимем ошибку\n",
    "                if res == [False]*25:\n",
    "                    raise LimitExceeded(\"Превышено число запросов\")\n",
    "                \n",
    "                # записываем полученные данные в список\n",
    "                wall.extend(res)\n",
    "                \n",
    "            except LimitExceeded:\n",
    "                # если забанили - подождем минутку, чтобы обновились лимиты запросов\n",
    "                time.sleep(60)\n",
    "                \n",
    "            # в конце каждой итерации ждем 2 секунды, чтобы не словить бан\n",
    "            time.sleep(2)\n",
    "        else:\n",
    "            break\n",
    "            \n",
    "    return wall"
   ]
  },
  {
   "cell_type": "markdown",
   "metadata": {},
   "source": [
    "## 1.5 Сотня последних постов с каждого паблика\n",
    "\n",
    "Мы скачали все топы подписок по каждому подписчику. Теперь нужно сделать по ним `set()`."
   ]
  },
  {
   "cell_type": "code",
   "execution_count": null,
   "metadata": {},
   "outputs": [],
   "source": [
    "# Тут появится код в самом-самом конце :3 "
   ]
  },
  {
   "cell_type": "code",
   "execution_count": null,
   "metadata": {},
   "outputs": [],
   "source": []
  },
  {
   "cell_type": "code",
   "execution_count": null,
   "metadata": {},
   "outputs": [],
   "source": []
  },
  {
   "cell_type": "code",
   "execution_count": null,
   "metadata": {},
   "outputs": [],
   "source": []
  },
  {
   "cell_type": "code",
   "execution_count": null,
   "metadata": {},
   "outputs": [],
   "source": [
    "# Сделать по аналогии для 100 постов с каждого паблика !!!\n",
    "\n",
    "def makePublicUrl(batch, token=token):\n",
    "    \"\"\"\n",
    "        Создаёт ссылку для метода execute на основе батчей пользователей для скачки пабликов\n",
    "            batch - батч из id \n",
    "            token - ключ доступа\n",
    "    \"\"\"\n",
    "    \n",
    "    # составляем ссылку из кусочков\n",
    "    begin = 'https://api.vk.com/method/execute?code=return['\n",
    "    end = '];&access_token='+token+'&v=5.78'\n",
    "    middle = ''\n",
    "    # для каждого пользователя из батча используем метод wall.get \n",
    "    for bt in batch:\n",
    "        middle += 'API.users.getSubscriptions({\"user_id\": \"'+str(bt)+'\"}),'   \n",
    "    return begin + middle[:-1] + end \n",
    "\n",
    "def getUsersPublics(uids):\n",
    "    \"\"\"\n",
    "    Достаёт список пабликов для всех людей из списка uids\n",
    "        uids - id людей \n",
    "    \"\"\"\n",
    "    \n",
    "    batches = makeBatch(uids) # дробим на батчи\n",
    "    \n",
    "    # сюда будем записывать соответсвие между юзером и пабликами \n",
    "    id_group_list = { }\n",
    "    \n",
    "    for item in tqdm_notebook(batches):\n",
    "        time.sleep(0.3)\n",
    "        response = requests.get(makePublicUrl(item))\n",
    "        cur_resp = response.json()['response']\n",
    "        \n",
    "        # распаковываем список подписок по подписчикам\n",
    "        for uid,cur in zip(item,cur_resp):\n",
    "            id_group_list[uid] = cur['groups']['items'][:10] # первые 10\n",
    "            \n",
    "    return(id_group_list)"
   ]
  },
  {
   "cell_type": "code",
   "execution_count": null,
   "metadata": {},
   "outputs": [],
   "source": []
  },
  {
   "cell_type": "code",
   "execution_count": null,
   "metadata": {},
   "outputs": [],
   "source": []
  },
  {
   "cell_type": "code",
   "execution_count": null,
   "metadata": {},
   "outputs": [],
   "source": []
  },
  {
   "cell_type": "code",
   "execution_count": null,
   "metadata": {},
   "outputs": [],
   "source": []
  },
  {
   "cell_type": "code",
   "execution_count": null,
   "metadata": {},
   "outputs": [],
   "source": []
  }
 ],
 "metadata": {
  "kernelspec": {
   "display_name": "Python 3",
   "language": "python",
   "name": "python3"
  },
  "language_info": {
   "codemirror_mode": {
    "name": "ipython",
    "version": 3
   },
   "file_extension": ".py",
   "mimetype": "text/x-python",
   "name": "python",
   "nbconvert_exporter": "python",
   "pygments_lexer": "ipython3",
   "version": "3.6.5"
  },
  "varInspector": {
   "cols": {
    "lenName": 16,
    "lenType": 16,
    "lenVar": 40
   },
   "kernels_config": {
    "python": {
     "delete_cmd_postfix": "",
     "delete_cmd_prefix": "del ",
     "library": "var_list.py",
     "varRefreshCmd": "print(var_dic_list())"
    },
    "r": {
     "delete_cmd_postfix": ") ",
     "delete_cmd_prefix": "rm(",
     "library": "var_list.r",
     "varRefreshCmd": "cat(var_dic_list()) "
    }
   },
   "types_to_exclude": [
    "module",
    "function",
    "builtin_function_or_method",
    "instance",
    "_Feature"
   ],
   "window_display": false
  }
 },
 "nbformat": 4,
 "nbformat_minor": 2
}
