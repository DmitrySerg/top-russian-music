{
 "cells": [
  {
   "cell_type": "markdown",
   "metadata": {},
   "source": [
    "# 1. Парсер vk\n",
    "\n",
    "По каждому жанру нам нужно сделать 5 файлов для решения различных задач. Именно по этим файлам дальше будет разбита вся наша тетрадка. \n",
    "\n",
    "* Файл с подписчиками каждой группы жанра: \n",
    "\n",
    "```\n",
    "    {\"id группы 1\" : [id подписчиков], .... }\n",
    "```\n",
    "\n",
    "* Файл с комментами каждой группы жанра: \n",
    "\n",
    "```\n",
    "    {\"id группы 1\" : [комменты], .... }\n",
    "```\n",
    "\n",
    "Когда по каждому жанру будут скачаны подписчики, из низ надо сделать `set()` и по id каждого подписчика скачать: \n",
    "\n",
    "\n",
    "* Файл со стенками подписчиков: \n",
    "\n",
    "```\n",
    "    {\"подписчик 1\" : [стена],  .... }\n",
    "```\n",
    "\n",
    "* Файл с топ-10 подписками по каждому подписчику: \n",
    "\n",
    "```\n",
    "    {\"подписчик 1\" : [id его подписок],  .... }\n",
    "```\n",
    "\n",
    "Когда будут скачаны все паблики, из них надо сделать `set()` и по id каждого скачать: \n",
    "\n",
    "* Сотня последних постов с каждого паблика\n",
    "\n",
    "```\n",
    "    {\"id паблика\" :  [100 последних постов] , ....  }\n",
    "```"
   ]
  },
  {
   "cell_type": "code",
   "execution_count": 1,
   "metadata": {},
   "outputs": [],
   "source": [
    "# Загружаем необходимые библиотеки\n",
    "\n",
    "import datetime                  # Пакет для работы с временными форматами\n",
    "import pickle                    # Пакет для подгрузки данных специфического для питона формата\n",
    "import requests                  # Пакет для скачки данных из этих ваших интернетов\n",
    "import pandas as pd              # Пакет для работы с таблицами\n",
    "import numpy as np               # Пакет для работы с векторами и матрицами\n",
    "import matplotlib.pyplot as plt  # Пакет для строительства графиков\n",
    "import time            # Пакет для работы со временем. Например, помогает ставить заглушки \n",
    "                       # time.sleep(секунды), необходимые для того что ВК не банил нащего\n",
    "                       # сборщика данных из-за слишком частых запросов\n",
    "        \n",
    "# Пакет для красивых циклов. При желании его можно отключить. Тогда из всех циклов придётся \n",
    "# удалять команду tqdm_notebook.\n",
    "from tqdm import tqdm_notebook   # подробнее: https://github.com/tqdm/tqdm"
   ]
  },
  {
   "cell_type": "code",
   "execution_count": 2,
   "metadata": {},
   "outputs": [],
   "source": [
    "# мой номер странички\n",
    "my_user_id = 91857120\n",
    "# версия используемого API\n",
    "version = '5.73' \n",
    "# подгружаем токен\n",
    "with open('token.txt') as f:\n",
    "    token = f.read()"
   ]
  },
  {
   "cell_type": "code",
   "execution_count": 3,
   "metadata": {},
   "outputs": [
    {
     "data": {
      "text/plain": [
       "{'response': [{'first_name': 'Филипп',\n",
       "   'id': 6045249,\n",
       "   'last_name': 'Ульянкин'}]}"
      ]
     },
     "execution_count": 3,
     "metadata": {},
     "output_type": "execute_result"
    }
   ],
   "source": [
    "def vkDownload(method, parameters, token=token, version=version):\n",
    "    \"\"\"\n",
    "        Возвращает результат запроса по методу\n",
    "        \n",
    "        method: string\n",
    "            метод из документации, который хотим использовать\n",
    "            \n",
    "        parameters: string\n",
    "            параметры используемого метода\n",
    "            \n",
    "        token: string\n",
    "            токен Oauth доступа\n",
    "        \n",
    "        version: string\n",
    "            версия API\n",
    "    \"\"\"\n",
    "    \n",
    "    # составляем ссылку\n",
    "    url = 'https://api.vk.com/method/{method}?{parameters}&access_token={token}&v={version}'\n",
    "    url = url.format(method=method, parameters=parameters, token=token, version=version)\n",
    "    # запрашиваем ссылку и переводим в json (словарь)\n",
    "    response = requests.get(url).json()\n",
    "    \n",
    "    return response\n",
    "\n",
    "vkDownload('users.get','user_ids=ppilif')"
   ]
  },
  {
   "cell_type": "code",
   "execution_count": 4,
   "metadata": {},
   "outputs": [],
   "source": [
    "def makeBatch(uids, size=25):\n",
    "    \"\"\"\n",
    "        Возвращает лист листов из пользователей, батчами по size человек \n",
    "        По умолчанию size=25\n",
    "    \"\"\"\n",
    "    batches = [uids[i:i + size] for i in range(0,len(uids),size)]\n",
    "    \n",
    "    return batches "
   ]
  },
  {
   "cell_type": "markdown",
   "metadata": {},
   "source": [
    "## 1.1 Подписчики каждой группы для жанра"
   ]
  },
  {
   "cell_type": "code",
   "execution_count": 5,
   "metadata": {},
   "outputs": [],
   "source": [
    "music_style = 'эстрада'\n",
    "\n",
    "target_groups ={\n",
    "     #'Лепс' : '52228413',\n",
    "     'Пугачёва' : '24164800',\n",
    "     #'Михайлов' : '925262',\n",
    "     #'Меладзе' : '4336146',\n",
    "     #'Ваенга' : '57465816',\n",
    "     #'Киркоров' : '24344295',\n",
    "     #'Валерия' : '17890994',\n",
    "     #'Агутин' : '290390',\n",
    "     #'Газманов' : '5640401',\n",
    "     #'Басков' : '40705635',\n",
    "     #'Николаев' : '106027463',\n",
    "     'Ротару' : '37165678',\n",
    "     'Лолита' : '1162252',\n",
    "     'Леонтьев' : '9208',\n",
    "     'Буйнов' : '157276422'\n",
    "    }"
   ]
  },
  {
   "cell_type": "code",
   "execution_count": 6,
   "metadata": {},
   "outputs": [],
   "source": [
    "# слоаврь группа-юзеры\n",
    "group_users_dct = { }"
   ]
  },
  {
   "cell_type": "markdown",
   "metadata": {},
   "source": [
    "Перед тем, как сохранять юзеров, надо профильтровать их на предмет существования... "
   ]
  },
  {
   "cell_type": "code",
   "execution_count": 7,
   "metadata": {},
   "outputs": [
    {
     "data": {
      "text/plain": [
       "{'response': [{'deactivated': 'deleted',\n",
       "   'first_name': 'Наталья',\n",
       "   'id': 13034843,\n",
       "   'last_name': 'Савостьянова'}]}"
      ]
     },
     "execution_count": 7,
     "metadata": {},
     "output_type": "execute_result"
    }
   ],
   "source": [
    "vkDownload('users.get','user_ids=barbizon_kid')"
   ]
  },
  {
   "cell_type": "code",
   "execution_count": 8,
   "metadata": {},
   "outputs": [],
   "source": [
    "def checkExisting(uids):\n",
    "    \"\"\"\n",
    "        Проверяет существование id и оставляет только не удаленные \n",
    "    \"\"\"\n",
    "    \n",
    "    cur_inf = vkDownload('users.get','user_ids={}'.format(','.join(str(e) for e in uids)))\n",
    "    cur_inf = cur_inf['response']\n",
    "    clean_members = [us_inf['id'] for us_inf in cur_inf if us_inf.get('deactivated','real') == 'real']\n",
    "    return clean_members\n",
    "\n",
    "\n",
    "def getGroupMembers(group_id):\n",
    "    \"\"\"\n",
    "        Возвращает список всех пользователей данной группы\n",
    "        Итерации идут батчами по 1000 пользователей\n",
    "        \n",
    "        group_id: string\n",
    "            идентификатор группы (ссылка)\n",
    "    \"\"\"\n",
    "    \n",
    "    # Узнаём число запросов, которое надо сделать \n",
    "    count = vkDownload('groups.getMembers','group_id=' + group_id)['response']['count']\n",
    "    \n",
    "    # выясняем, сколько запросов нам понадобиться\n",
    "    n = int(np.ceil(count/1000))  \n",
    "    \n",
    "    # вектор, где мы будем хранить id пользователей\n",
    "    members = []     \n",
    "    \n",
    "    for i in tqdm_notebook(range(n)): \n",
    "        # при помощи метода groups.getMembers получаем пользователей группы\n",
    "        current_members = vkDownload('groups.getMembers','group_id='+group_id+'&offset='+str(1000*i))\n",
    "        current_members = current_members['response']['items']\n",
    "        \n",
    "        # проверим реально ли существуют все юзеры из списка выше\n",
    "        for i in range(0,1000,200):\n",
    "            time.sleep(0.3)\n",
    "            members.extend(checkExisting(current_members[i:i+200]))\n",
    "        \n",
    "        # перед следующим запросом немножко подождем\n",
    "        time.sleep(0.3)\n",
    "        \n",
    "    return members"
   ]
  },
  {
   "cell_type": "code",
   "execution_count": 9,
   "metadata": {},
   "outputs": [
    {
     "data": {
      "application/vnd.jupyter.widget-view+json": {
       "model_id": "6f2783347d6445d5a4baaffb33e32dd3",
       "version_major": 2,
       "version_minor": 0
      },
      "text/html": [
       "<p>Failed to display Jupyter Widget of type <code>HBox</code>.</p>\n",
       "<p>\n",
       "  If you're reading this message in the Jupyter Notebook or JupyterLab Notebook, it may mean\n",
       "  that the widgets JavaScript is still loading. If this message persists, it\n",
       "  likely means that the widgets JavaScript library is either not installed or\n",
       "  not enabled. See the <a href=\"https://ipywidgets.readthedocs.io/en/stable/user_install.html\">Jupyter\n",
       "  Widgets Documentation</a> for setup instructions.\n",
       "</p>\n",
       "<p>\n",
       "  If you're reading this message in another frontend (for example, a static\n",
       "  rendering on GitHub or <a href=\"https://nbviewer.jupyter.org/\">NBViewer</a>),\n",
       "  it may mean that your frontend doesn't currently support widgets.\n",
       "</p>\n"
      ],
      "text/plain": [
       "HBox(children=(IntProgress(value=0, max=5), HTML(value='')))"
      ]
     },
     "metadata": {},
     "output_type": "display_data"
    },
    {
     "data": {
      "application/vnd.jupyter.widget-view+json": {
       "model_id": "5e4f5cf6eb3540dc965c5c49c7a55dce",
       "version_major": 2,
       "version_minor": 0
      },
      "text/html": [
       "<p>Failed to display Jupyter Widget of type <code>HBox</code>.</p>\n",
       "<p>\n",
       "  If you're reading this message in the Jupyter Notebook or JupyterLab Notebook, it may mean\n",
       "  that the widgets JavaScript is still loading. If this message persists, it\n",
       "  likely means that the widgets JavaScript library is either not installed or\n",
       "  not enabled. See the <a href=\"https://ipywidgets.readthedocs.io/en/stable/user_install.html\">Jupyter\n",
       "  Widgets Documentation</a> for setup instructions.\n",
       "</p>\n",
       "<p>\n",
       "  If you're reading this message in another frontend (for example, a static\n",
       "  rendering on GitHub or <a href=\"https://nbviewer.jupyter.org/\">NBViewer</a>),\n",
       "  it may mean that your frontend doesn't currently support widgets.\n",
       "</p>\n"
      ],
      "text/plain": [
       "HBox(children=(IntProgress(value=0, max=33), HTML(value='')))"
      ]
     },
     "metadata": {},
     "output_type": "display_data"
    },
    {
     "name": "stdout",
     "output_type": "stream",
     "text": [
      "Пугачёва : 29177\n"
     ]
    },
    {
     "data": {
      "application/vnd.jupyter.widget-view+json": {
       "model_id": "758809e9ddae4a50b3477a226d72d7bf",
       "version_major": 2,
       "version_minor": 0
      },
      "text/html": [
       "<p>Failed to display Jupyter Widget of type <code>HBox</code>.</p>\n",
       "<p>\n",
       "  If you're reading this message in the Jupyter Notebook or JupyterLab Notebook, it may mean\n",
       "  that the widgets JavaScript is still loading. If this message persists, it\n",
       "  likely means that the widgets JavaScript library is either not installed or\n",
       "  not enabled. See the <a href=\"https://ipywidgets.readthedocs.io/en/stable/user_install.html\">Jupyter\n",
       "  Widgets Documentation</a> for setup instructions.\n",
       "</p>\n",
       "<p>\n",
       "  If you're reading this message in another frontend (for example, a static\n",
       "  rendering on GitHub or <a href=\"https://nbviewer.jupyter.org/\">NBViewer</a>),\n",
       "  it may mean that your frontend doesn't currently support widgets.\n",
       "</p>\n"
      ],
      "text/plain": [
       "HBox(children=(IntProgress(value=0, max=15), HTML(value='')))"
      ]
     },
     "metadata": {},
     "output_type": "display_data"
    },
    {
     "name": "stdout",
     "output_type": "stream",
     "text": [
      "Ротару : 12736\n"
     ]
    },
    {
     "data": {
      "application/vnd.jupyter.widget-view+json": {
       "model_id": "863c614c00fd4264bb2e9469731a5612",
       "version_major": 2,
       "version_minor": 0
      },
      "text/html": [
       "<p>Failed to display Jupyter Widget of type <code>HBox</code>.</p>\n",
       "<p>\n",
       "  If you're reading this message in the Jupyter Notebook or JupyterLab Notebook, it may mean\n",
       "  that the widgets JavaScript is still loading. If this message persists, it\n",
       "  likely means that the widgets JavaScript library is either not installed or\n",
       "  not enabled. See the <a href=\"https://ipywidgets.readthedocs.io/en/stable/user_install.html\">Jupyter\n",
       "  Widgets Documentation</a> for setup instructions.\n",
       "</p>\n",
       "<p>\n",
       "  If you're reading this message in another frontend (for example, a static\n",
       "  rendering on GitHub or <a href=\"https://nbviewer.jupyter.org/\">NBViewer</a>),\n",
       "  it may mean that your frontend doesn't currently support widgets.\n",
       "</p>\n"
      ],
      "text/plain": [
       "HBox(children=(IntProgress(value=0, max=31), HTML(value='')))"
      ]
     },
     "metadata": {},
     "output_type": "display_data"
    },
    {
     "name": "stdout",
     "output_type": "stream",
     "text": [
      "Лолита : 26313\n"
     ]
    },
    {
     "data": {
      "application/vnd.jupyter.widget-view+json": {
       "model_id": "cf8cb4acbd6347edb2b0350b5b3e4f76",
       "version_major": 2,
       "version_minor": 0
      },
      "text/html": [
       "<p>Failed to display Jupyter Widget of type <code>HBox</code>.</p>\n",
       "<p>\n",
       "  If you're reading this message in the Jupyter Notebook or JupyterLab Notebook, it may mean\n",
       "  that the widgets JavaScript is still loading. If this message persists, it\n",
       "  likely means that the widgets JavaScript library is either not installed or\n",
       "  not enabled. See the <a href=\"https://ipywidgets.readthedocs.io/en/stable/user_install.html\">Jupyter\n",
       "  Widgets Documentation</a> for setup instructions.\n",
       "</p>\n",
       "<p>\n",
       "  If you're reading this message in another frontend (for example, a static\n",
       "  rendering on GitHub or <a href=\"https://nbviewer.jupyter.org/\">NBViewer</a>),\n",
       "  it may mean that your frontend doesn't currently support widgets.\n",
       "</p>\n"
      ],
      "text/plain": [
       "HBox(children=(IntProgress(value=0, max=9), HTML(value='')))"
      ]
     },
     "metadata": {},
     "output_type": "display_data"
    },
    {
     "name": "stdout",
     "output_type": "stream",
     "text": [
      "Леонтьев : 7740\n"
     ]
    },
    {
     "data": {
      "application/vnd.jupyter.widget-view+json": {
       "model_id": "712087687d7d42039f881fb4fb048de4",
       "version_major": 2,
       "version_minor": 0
      },
      "text/html": [
       "<p>Failed to display Jupyter Widget of type <code>HBox</code>.</p>\n",
       "<p>\n",
       "  If you're reading this message in the Jupyter Notebook or JupyterLab Notebook, it may mean\n",
       "  that the widgets JavaScript is still loading. If this message persists, it\n",
       "  likely means that the widgets JavaScript library is either not installed or\n",
       "  not enabled. See the <a href=\"https://ipywidgets.readthedocs.io/en/stable/user_install.html\">Jupyter\n",
       "  Widgets Documentation</a> for setup instructions.\n",
       "</p>\n",
       "<p>\n",
       "  If you're reading this message in another frontend (for example, a static\n",
       "  rendering on GitHub or <a href=\"https://nbviewer.jupyter.org/\">NBViewer</a>),\n",
       "  it may mean that your frontend doesn't currently support widgets.\n",
       "</p>\n"
      ],
      "text/plain": [
       "HBox(children=(IntProgress(value=0, max=2), HTML(value='')))"
      ]
     },
     "metadata": {},
     "output_type": "display_data"
    },
    {
     "name": "stdout",
     "output_type": "stream",
     "text": [
      "Буйнов : 547\n",
      "\n"
     ]
    }
   ],
   "source": [
    "# по каждому id группы сохраняем подписчиков \n",
    "for k,v in tqdm_notebook(target_groups.items()):\n",
    "    members = getGroupMembers(target_groups[k]) \n",
    "    print(k,':',len(members))\n",
    "    group_users_dct[k] = members"
   ]
  },
  {
   "cell_type": "code",
   "execution_count": 11,
   "metadata": {
    "scrolled": true
   },
   "outputs": [
    {
     "data": {
      "text/plain": [
       "[521772661,\n",
       " 521887515,\n",
       " 521923792,\n",
       " 522548600,\n",
       " 522998936,\n",
       " 523271589,\n",
       " 523478186,\n",
       " 523508174,\n",
       " 523729785,\n",
       " 523830262]"
      ]
     },
     "execution_count": 11,
     "metadata": {},
     "output_type": "execute_result"
    }
   ],
   "source": [
    "group_users_dct['Пугачёва'][-10:]"
   ]
  },
  {
   "cell_type": "code",
   "execution_count": 12,
   "metadata": {},
   "outputs": [],
   "source": [
    "# Сохраняем словарик для текущего жанра \n",
    "with open('../data/{}_group_users'.format(music_style), 'wb') as f:\n",
    "    pickle.dump(group_users_dct, f)"
   ]
  },
  {
   "cell_type": "markdown",
   "metadata": {},
   "source": [
    "## 1.2 Файл с комментами каждой группы жанра"
   ]
  },
  {
   "cell_type": "markdown",
   "metadata": {},
   "source": [
    "Скачиваем с группы все посты."
   ]
  },
  {
   "cell_type": "code",
   "execution_count": 13,
   "metadata": {},
   "outputs": [],
   "source": [
    "def getPosts(group_id):\n",
    "    \"\"\"\n",
    "        Качает по группе список всех постов, которые в \n",
    "        ней есть и возвращает список из их id \n",
    "    \"\"\"\n",
    "    \n",
    "    post_ids = [ ] # для сбора id\n",
    "    \n",
    "    # Выясним сколько всего в группе постов \n",
    "    n = vkDownload('wall.get','owner_id=-{}'.format(group_id))['response']['count']\n",
    "    print(\"В группе {} должно быть {} постов\".format(group_id,n))\n",
    "    \n",
    "    for i in tqdm_notebook(range(0, n + 100, 100)):\n",
    "        time.sleep(0.3)\n",
    "        \n",
    "        wall = vkDownload('wall.get','owner_id=-{}&count=100&offset='.format(group_id)+str(i))['response']['items']\n",
    "        # если захочется отделить комменты группы от других, есть поле from_id \n",
    "        post_ids.extend([item['id'] for item in wall])\n",
    "        \n",
    "    return post_ids\n",
    "\n",
    "\n",
    "def prepareComments(group_id, posts):\n",
    "    \"\"\"\n",
    "        Мы будем скачивать 25 запросами за раз, эта функция готовит запросы \n",
    "        к последущему использованию, понимая сколько комментов под каким постом, \n",
    "        выкидывая посты с нулевым количеством комментов и делая тройки (группа, пост, оффсет)\n",
    "    \"\"\"\n",
    "\n",
    "    triple_comments = [ ] # для троек (group_id, post_id, offset)\n",
    "\n",
    "    # делаем из всех постов батчи по 25 штук, чтобы было быстрее\n",
    "    posts_batch = makeBatch(posts)\n",
    "\n",
    "    for batch in tqdm_notebook(posts_batch):\n",
    "        time.sleep(0.4)\n",
    "\n",
    "        # готовим запрос для комметов из батча, который выяснит число комментов под постом\n",
    "        begin = 'https://api.vk.com/method/execute?code=return['\n",
    "        end = '];&access_token='+token+'&v=5.78'\n",
    "        middle = ''\n",
    "\n",
    "        # для каждого поста из батча используем метод wall.getComments\n",
    "        for bt in batch:            \n",
    "            middle += 'API.wall.getComments({\"owner_id\":\"-' + str(group_id) + '\",\"post_id\":\"' + str(bt) + '\"}),'\n",
    "\n",
    "        # делаем запрос для текущих 25 комментов\n",
    "        requests.get(begin + middle[:-1] + end)\n",
    "\n",
    "        # выясняем сколько всего комментов под постом \n",
    "        s = requests.get(begin + middle[:-1] + end)\n",
    "\n",
    "        # СТРАННОСТЬ: \n",
    "        # В каждом запросе нужные мне 25 ответов в поле 'response' \n",
    "        # и 26 сообщений Permission to perform this action is denied  в поле 'execute_errors'\n",
    "        # Но но но я же могу его сделать...  Какие нафиг запреты? Мб скоро прикроют API - ? \n",
    "\n",
    "        # по добытой информации готовим запросы на будущее\n",
    "\n",
    "        for post,item in zip(batch, s.json()['response']):\n",
    "            if item is False:\n",
    "                print('False в посте {} группы {}'.format(post, group_id))\n",
    "                continue\n",
    "\n",
    "            n = item['count']\n",
    "\n",
    "            # пост с нулевым числом комментов игнорим\n",
    "            if n == 0:\n",
    "                continue \n",
    "            else:\n",
    "                # для каждой сотни комментов из-под поста с комментами будет свой запрос для добычи\n",
    "                for i in range(0, n, 100):\n",
    "                    triple_comments.append((group_id, post, i))\n",
    "    return triple_comments\n",
    "\n",
    "\n",
    "def getComments(triple_comments):\n",
    "    \"\"\"\n",
    "        Делит элементы вектора вида (group_id, post_id, offset), \n",
    "        на батчи по 15 штук и качает комменты аки демон\n",
    "    \"\"\"\n",
    "    \n",
    "    comments = [ ] # для сбора комментов \n",
    "\n",
    "    # делаем батчи \n",
    "    precom_batch = makeBatch(triple_comments, 15)\n",
    "\n",
    "    for batch in tqdm_notebook(precom_batch):\n",
    "        time.sleep(0.4)\n",
    "        # клепаем запрос \n",
    "        begin = 'https://api.vk.com/method/execute?code=return['\n",
    "        end = '];&access_token='+token+'&v=5.78'\n",
    "        middle = ''\n",
    "\n",
    "        for bt in batch:            \n",
    "            middle += 'API.wall.getComments({\"owner_id\":\"-' + str(bt[0]) + '\",\"post_id\":\"' + str(bt[1]) + '\",\\\n",
    "            \"need_likes\":\"1\",\"preview_length\":\"0\",\"count\":\"100\",\"offset\":\"'+ str(bt[2])+'\"}),'\n",
    "\n",
    "        # делаем запрос для текущих 20 комментов\n",
    "        s = requests.get(begin + middle[:-1] + end)\n",
    "\n",
    "        # распаковываем добытое добро\n",
    "        cur_com = [ ]\n",
    "        for item, post in zip(s.json()['response'], batch):\n",
    "            for jtem in item['items']:\n",
    "                jtem['likes'] = jtem['likes']['count']\n",
    "                jtem['post_id'] = post[1]\n",
    "                jtem['group_id'] = post[0]\n",
    "                cur_com.append(jtem)\n",
    "                \n",
    "        comments.extend(cur_com) \n",
    "        \n",
    "    return comments    "
   ]
  },
  {
   "cell_type": "code",
   "execution_count": 14,
   "metadata": {},
   "outputs": [
    {
     "name": "stdout",
     "output_type": "stream",
     "text": [
      "В группе 24164800 17024 постов\n"
     ]
    },
    {
     "data": {
      "application/vnd.jupyter.widget-view+json": {
       "model_id": "3b48092e17a8454fa129625c17b40011",
       "version_major": 2,
       "version_minor": 0
      },
      "text/html": [
       "<p>Failed to display Jupyter Widget of type <code>HBox</code>.</p>\n",
       "<p>\n",
       "  If you're reading this message in the Jupyter Notebook or JupyterLab Notebook, it may mean\n",
       "  that the widgets JavaScript is still loading. If this message persists, it\n",
       "  likely means that the widgets JavaScript library is either not installed or\n",
       "  not enabled. See the <a href=\"https://ipywidgets.readthedocs.io/en/stable/user_install.html\">Jupyter\n",
       "  Widgets Documentation</a> for setup instructions.\n",
       "</p>\n",
       "<p>\n",
       "  If you're reading this message in another frontend (for example, a static\n",
       "  rendering on GitHub or <a href=\"https://nbviewer.jupyter.org/\">NBViewer</a>),\n",
       "  it may mean that your frontend doesn't currently support widgets.\n",
       "</p>\n"
      ],
      "text/plain": [
       "HBox(children=(IntProgress(value=0, max=172), HTML(value='')))"
      ]
     },
     "metadata": {},
     "output_type": "display_data"
    },
    {
     "name": "stdout",
     "output_type": "stream",
     "text": [
      "\n",
      "Число постов в группе Пугачёва: 17024\n"
     ]
    },
    {
     "data": {
      "application/vnd.jupyter.widget-view+json": {
       "model_id": "16139712df1d4995b403bdbe2d1ac5eb",
       "version_major": 2,
       "version_minor": 0
      },
      "text/html": [
       "<p>Failed to display Jupyter Widget of type <code>HBox</code>.</p>\n",
       "<p>\n",
       "  If you're reading this message in the Jupyter Notebook or JupyterLab Notebook, it may mean\n",
       "  that the widgets JavaScript is still loading. If this message persists, it\n",
       "  likely means that the widgets JavaScript library is either not installed or\n",
       "  not enabled. See the <a href=\"https://ipywidgets.readthedocs.io/en/stable/user_install.html\">Jupyter\n",
       "  Widgets Documentation</a> for setup instructions.\n",
       "</p>\n",
       "<p>\n",
       "  If you're reading this message in another frontend (for example, a static\n",
       "  rendering on GitHub or <a href=\"https://nbviewer.jupyter.org/\">NBViewer</a>),\n",
       "  it may mean that your frontend doesn't currently support widgets.\n",
       "</p>\n"
      ],
      "text/plain": [
       "HBox(children=(IntProgress(value=0, max=681), HTML(value='')))"
      ]
     },
     "metadata": {},
     "output_type": "display_data"
    },
    {
     "ename": "KeyboardInterrupt",
     "evalue": "",
     "output_type": "error",
     "traceback": [
      "\u001b[0;31m---------------------------------------------------------------------------\u001b[0m",
      "\u001b[0;31mTypeError\u001b[0m                                 Traceback (most recent call last)",
      "\u001b[0;32m/usr/local/lib/python3.6/site-packages/urllib3/connectionpool.py\u001b[0m in \u001b[0;36m_make_request\u001b[0;34m(self, conn, method, url, timeout, chunked, **httplib_request_kw)\u001b[0m\n\u001b[1;32m    379\u001b[0m             \u001b[0;32mtry\u001b[0m\u001b[0;34m:\u001b[0m  \u001b[0;31m# Python 2.7, use buffering of HTTP responses\u001b[0m\u001b[0;34m\u001b[0m\u001b[0m\n\u001b[0;32m--> 380\u001b[0;31m                 \u001b[0mhttplib_response\u001b[0m \u001b[0;34m=\u001b[0m \u001b[0mconn\u001b[0m\u001b[0;34m.\u001b[0m\u001b[0mgetresponse\u001b[0m\u001b[0;34m(\u001b[0m\u001b[0mbuffering\u001b[0m\u001b[0;34m=\u001b[0m\u001b[0;32mTrue\u001b[0m\u001b[0;34m)\u001b[0m\u001b[0;34m\u001b[0m\u001b[0m\n\u001b[0m\u001b[1;32m    381\u001b[0m             \u001b[0;32mexcept\u001b[0m \u001b[0mTypeError\u001b[0m\u001b[0;34m:\u001b[0m  \u001b[0;31m# Python 2.6 and older, Python 3\u001b[0m\u001b[0;34m\u001b[0m\u001b[0m\n",
      "\u001b[0;31mTypeError\u001b[0m: getresponse() got an unexpected keyword argument 'buffering'",
      "\nDuring handling of the above exception, another exception occurred:\n",
      "\u001b[0;31mKeyboardInterrupt\u001b[0m                         Traceback (most recent call last)",
      "\u001b[0;32m<ipython-input-14-865c104def6e>\u001b[0m in \u001b[0;36m<module>\u001b[0;34m()\u001b[0m\n\u001b[1;32m     10\u001b[0m \u001b[0;34m\u001b[0m\u001b[0m\n\u001b[1;32m     11\u001b[0m     \u001b[0;31m# готовим батчи из запросов для комментов\u001b[0m\u001b[0;34m\u001b[0m\u001b[0;34m\u001b[0m\u001b[0m\n\u001b[0;32m---> 12\u001b[0;31m     \u001b[0mtriple_comments\u001b[0m \u001b[0;34m=\u001b[0m \u001b[0mprepareComments\u001b[0m\u001b[0;34m(\u001b[0m\u001b[0mgroup_id\u001b[0m\u001b[0;34m,\u001b[0m \u001b[0mposts\u001b[0m\u001b[0;34m)\u001b[0m\u001b[0;34m\u001b[0m\u001b[0m\n\u001b[0m\u001b[1;32m     13\u001b[0m \u001b[0;34m\u001b[0m\u001b[0m\n\u001b[1;32m     14\u001b[0m     \u001b[0mprint\u001b[0m\u001b[0;34m(\u001b[0m\u001b[0;34m'Число запросов: {}'\u001b[0m\u001b[0;34m.\u001b[0m\u001b[0mformat\u001b[0m\u001b[0;34m(\u001b[0m\u001b[0mlen\u001b[0m\u001b[0;34m(\u001b[0m\u001b[0mtriple_comments\u001b[0m\u001b[0;34m)\u001b[0m\u001b[0;34m)\u001b[0m\u001b[0;34m)\u001b[0m\u001b[0;34m\u001b[0m\u001b[0m\n",
      "\u001b[0;32m<ipython-input-13-b58e477f0e6c>\u001b[0m in \u001b[0;36mprepareComments\u001b[0;34m(group_id, posts)\u001b[0m\n\u001b[1;32m     49\u001b[0m \u001b[0;34m\u001b[0m\u001b[0m\n\u001b[1;32m     50\u001b[0m         \u001b[0;31m# выясняем сколько всего комментов под постом\u001b[0m\u001b[0;34m\u001b[0m\u001b[0;34m\u001b[0m\u001b[0m\n\u001b[0;32m---> 51\u001b[0;31m         \u001b[0ms\u001b[0m \u001b[0;34m=\u001b[0m \u001b[0mrequests\u001b[0m\u001b[0;34m.\u001b[0m\u001b[0mget\u001b[0m\u001b[0;34m(\u001b[0m\u001b[0mbegin\u001b[0m \u001b[0;34m+\u001b[0m \u001b[0mmiddle\u001b[0m\u001b[0;34m[\u001b[0m\u001b[0;34m:\u001b[0m\u001b[0;34m-\u001b[0m\u001b[0;36m1\u001b[0m\u001b[0;34m]\u001b[0m \u001b[0;34m+\u001b[0m \u001b[0mend\u001b[0m\u001b[0;34m)\u001b[0m\u001b[0;34m\u001b[0m\u001b[0m\n\u001b[0m\u001b[1;32m     52\u001b[0m \u001b[0;34m\u001b[0m\u001b[0m\n\u001b[1;32m     53\u001b[0m         \u001b[0;31m# СТРАННОСТЬ:\u001b[0m\u001b[0;34m\u001b[0m\u001b[0;34m\u001b[0m\u001b[0m\n",
      "\u001b[0;32m/usr/local/lib/python3.6/site-packages/requests/api.py\u001b[0m in \u001b[0;36mget\u001b[0;34m(url, params, **kwargs)\u001b[0m\n\u001b[1;32m     70\u001b[0m \u001b[0;34m\u001b[0m\u001b[0m\n\u001b[1;32m     71\u001b[0m     \u001b[0mkwargs\u001b[0m\u001b[0;34m.\u001b[0m\u001b[0msetdefault\u001b[0m\u001b[0;34m(\u001b[0m\u001b[0;34m'allow_redirects'\u001b[0m\u001b[0;34m,\u001b[0m \u001b[0;32mTrue\u001b[0m\u001b[0;34m)\u001b[0m\u001b[0;34m\u001b[0m\u001b[0m\n\u001b[0;32m---> 72\u001b[0;31m     \u001b[0;32mreturn\u001b[0m \u001b[0mrequest\u001b[0m\u001b[0;34m(\u001b[0m\u001b[0;34m'get'\u001b[0m\u001b[0;34m,\u001b[0m \u001b[0murl\u001b[0m\u001b[0;34m,\u001b[0m \u001b[0mparams\u001b[0m\u001b[0;34m=\u001b[0m\u001b[0mparams\u001b[0m\u001b[0;34m,\u001b[0m \u001b[0;34m**\u001b[0m\u001b[0mkwargs\u001b[0m\u001b[0;34m)\u001b[0m\u001b[0;34m\u001b[0m\u001b[0m\n\u001b[0m\u001b[1;32m     73\u001b[0m \u001b[0;34m\u001b[0m\u001b[0m\n\u001b[1;32m     74\u001b[0m \u001b[0;34m\u001b[0m\u001b[0m\n",
      "\u001b[0;32m/usr/local/lib/python3.6/site-packages/requests/api.py\u001b[0m in \u001b[0;36mrequest\u001b[0;34m(method, url, **kwargs)\u001b[0m\n\u001b[1;32m     56\u001b[0m     \u001b[0;31m# cases, and look like a memory leak in others.\u001b[0m\u001b[0;34m\u001b[0m\u001b[0;34m\u001b[0m\u001b[0m\n\u001b[1;32m     57\u001b[0m     \u001b[0;32mwith\u001b[0m \u001b[0msessions\u001b[0m\u001b[0;34m.\u001b[0m\u001b[0mSession\u001b[0m\u001b[0;34m(\u001b[0m\u001b[0;34m)\u001b[0m \u001b[0;32mas\u001b[0m \u001b[0msession\u001b[0m\u001b[0;34m:\u001b[0m\u001b[0;34m\u001b[0m\u001b[0m\n\u001b[0;32m---> 58\u001b[0;31m         \u001b[0;32mreturn\u001b[0m \u001b[0msession\u001b[0m\u001b[0;34m.\u001b[0m\u001b[0mrequest\u001b[0m\u001b[0;34m(\u001b[0m\u001b[0mmethod\u001b[0m\u001b[0;34m=\u001b[0m\u001b[0mmethod\u001b[0m\u001b[0;34m,\u001b[0m \u001b[0murl\u001b[0m\u001b[0;34m=\u001b[0m\u001b[0murl\u001b[0m\u001b[0;34m,\u001b[0m \u001b[0;34m**\u001b[0m\u001b[0mkwargs\u001b[0m\u001b[0;34m)\u001b[0m\u001b[0;34m\u001b[0m\u001b[0m\n\u001b[0m\u001b[1;32m     59\u001b[0m \u001b[0;34m\u001b[0m\u001b[0m\n\u001b[1;32m     60\u001b[0m \u001b[0;34m\u001b[0m\u001b[0m\n",
      "\u001b[0;32m/usr/local/lib/python3.6/site-packages/requests/sessions.py\u001b[0m in \u001b[0;36mrequest\u001b[0;34m(self, method, url, params, data, headers, cookies, files, auth, timeout, allow_redirects, proxies, hooks, stream, verify, cert, json)\u001b[0m\n\u001b[1;32m    506\u001b[0m         }\n\u001b[1;32m    507\u001b[0m         \u001b[0msend_kwargs\u001b[0m\u001b[0;34m.\u001b[0m\u001b[0mupdate\u001b[0m\u001b[0;34m(\u001b[0m\u001b[0msettings\u001b[0m\u001b[0;34m)\u001b[0m\u001b[0;34m\u001b[0m\u001b[0m\n\u001b[0;32m--> 508\u001b[0;31m         \u001b[0mresp\u001b[0m \u001b[0;34m=\u001b[0m \u001b[0mself\u001b[0m\u001b[0;34m.\u001b[0m\u001b[0msend\u001b[0m\u001b[0;34m(\u001b[0m\u001b[0mprep\u001b[0m\u001b[0;34m,\u001b[0m \u001b[0;34m**\u001b[0m\u001b[0msend_kwargs\u001b[0m\u001b[0;34m)\u001b[0m\u001b[0;34m\u001b[0m\u001b[0m\n\u001b[0m\u001b[1;32m    509\u001b[0m \u001b[0;34m\u001b[0m\u001b[0m\n\u001b[1;32m    510\u001b[0m         \u001b[0;32mreturn\u001b[0m \u001b[0mresp\u001b[0m\u001b[0;34m\u001b[0m\u001b[0m\n",
      "\u001b[0;32m/usr/local/lib/python3.6/site-packages/requests/sessions.py\u001b[0m in \u001b[0;36msend\u001b[0;34m(self, request, **kwargs)\u001b[0m\n\u001b[1;32m    616\u001b[0m \u001b[0;34m\u001b[0m\u001b[0m\n\u001b[1;32m    617\u001b[0m         \u001b[0;31m# Send the request\u001b[0m\u001b[0;34m\u001b[0m\u001b[0;34m\u001b[0m\u001b[0m\n\u001b[0;32m--> 618\u001b[0;31m         \u001b[0mr\u001b[0m \u001b[0;34m=\u001b[0m \u001b[0madapter\u001b[0m\u001b[0;34m.\u001b[0m\u001b[0msend\u001b[0m\u001b[0;34m(\u001b[0m\u001b[0mrequest\u001b[0m\u001b[0;34m,\u001b[0m \u001b[0;34m**\u001b[0m\u001b[0mkwargs\u001b[0m\u001b[0;34m)\u001b[0m\u001b[0;34m\u001b[0m\u001b[0m\n\u001b[0m\u001b[1;32m    619\u001b[0m \u001b[0;34m\u001b[0m\u001b[0m\n\u001b[1;32m    620\u001b[0m         \u001b[0;31m# Total elapsed time of the request (approximately)\u001b[0m\u001b[0;34m\u001b[0m\u001b[0;34m\u001b[0m\u001b[0m\n",
      "\u001b[0;32m/usr/local/lib/python3.6/site-packages/requests/adapters.py\u001b[0m in \u001b[0;36msend\u001b[0;34m(self, request, stream, timeout, verify, cert, proxies)\u001b[0m\n\u001b[1;32m    438\u001b[0m                     \u001b[0mdecode_content\u001b[0m\u001b[0;34m=\u001b[0m\u001b[0;32mFalse\u001b[0m\u001b[0;34m,\u001b[0m\u001b[0;34m\u001b[0m\u001b[0m\n\u001b[1;32m    439\u001b[0m                     \u001b[0mretries\u001b[0m\u001b[0;34m=\u001b[0m\u001b[0mself\u001b[0m\u001b[0;34m.\u001b[0m\u001b[0mmax_retries\u001b[0m\u001b[0;34m,\u001b[0m\u001b[0;34m\u001b[0m\u001b[0m\n\u001b[0;32m--> 440\u001b[0;31m                     \u001b[0mtimeout\u001b[0m\u001b[0;34m=\u001b[0m\u001b[0mtimeout\u001b[0m\u001b[0;34m\u001b[0m\u001b[0m\n\u001b[0m\u001b[1;32m    441\u001b[0m                 )\n\u001b[1;32m    442\u001b[0m \u001b[0;34m\u001b[0m\u001b[0m\n",
      "\u001b[0;32m/usr/local/lib/python3.6/site-packages/urllib3/connectionpool.py\u001b[0m in \u001b[0;36murlopen\u001b[0;34m(self, method, url, body, headers, retries, redirect, assert_same_host, timeout, pool_timeout, release_conn, chunked, body_pos, **response_kw)\u001b[0m\n\u001b[1;32m    599\u001b[0m                                                   \u001b[0mtimeout\u001b[0m\u001b[0;34m=\u001b[0m\u001b[0mtimeout_obj\u001b[0m\u001b[0;34m,\u001b[0m\u001b[0;34m\u001b[0m\u001b[0m\n\u001b[1;32m    600\u001b[0m                                                   \u001b[0mbody\u001b[0m\u001b[0;34m=\u001b[0m\u001b[0mbody\u001b[0m\u001b[0;34m,\u001b[0m \u001b[0mheaders\u001b[0m\u001b[0;34m=\u001b[0m\u001b[0mheaders\u001b[0m\u001b[0;34m,\u001b[0m\u001b[0;34m\u001b[0m\u001b[0m\n\u001b[0;32m--> 601\u001b[0;31m                                                   chunked=chunked)\n\u001b[0m\u001b[1;32m    602\u001b[0m \u001b[0;34m\u001b[0m\u001b[0m\n\u001b[1;32m    603\u001b[0m             \u001b[0;31m# If we're going to release the connection in ``finally:``, then\u001b[0m\u001b[0;34m\u001b[0m\u001b[0;34m\u001b[0m\u001b[0m\n",
      "\u001b[0;32m/usr/local/lib/python3.6/site-packages/urllib3/connectionpool.py\u001b[0m in \u001b[0;36m_make_request\u001b[0;34m(self, conn, method, url, timeout, chunked, **httplib_request_kw)\u001b[0m\n\u001b[1;32m    381\u001b[0m             \u001b[0;32mexcept\u001b[0m \u001b[0mTypeError\u001b[0m\u001b[0;34m:\u001b[0m  \u001b[0;31m# Python 2.6 and older, Python 3\u001b[0m\u001b[0;34m\u001b[0m\u001b[0m\n\u001b[1;32m    382\u001b[0m                 \u001b[0;32mtry\u001b[0m\u001b[0;34m:\u001b[0m\u001b[0;34m\u001b[0m\u001b[0m\n\u001b[0;32m--> 383\u001b[0;31m                     \u001b[0mhttplib_response\u001b[0m \u001b[0;34m=\u001b[0m \u001b[0mconn\u001b[0m\u001b[0;34m.\u001b[0m\u001b[0mgetresponse\u001b[0m\u001b[0;34m(\u001b[0m\u001b[0;34m)\u001b[0m\u001b[0;34m\u001b[0m\u001b[0m\n\u001b[0m\u001b[1;32m    384\u001b[0m                 \u001b[0;32mexcept\u001b[0m \u001b[0mException\u001b[0m \u001b[0;32mas\u001b[0m \u001b[0me\u001b[0m\u001b[0;34m:\u001b[0m\u001b[0;34m\u001b[0m\u001b[0m\n\u001b[1;32m    385\u001b[0m                     \u001b[0;31m# Remove the TypeError from the exception chain in Python 3;\u001b[0m\u001b[0;34m\u001b[0m\u001b[0;34m\u001b[0m\u001b[0m\n",
      "\u001b[0;32m/usr/local/Cellar/python/3.6.4_4/Frameworks/Python.framework/Versions/3.6/lib/python3.6/http/client.py\u001b[0m in \u001b[0;36mgetresponse\u001b[0;34m(self)\u001b[0m\n\u001b[1;32m   1329\u001b[0m         \u001b[0;32mtry\u001b[0m\u001b[0;34m:\u001b[0m\u001b[0;34m\u001b[0m\u001b[0m\n\u001b[1;32m   1330\u001b[0m             \u001b[0;32mtry\u001b[0m\u001b[0;34m:\u001b[0m\u001b[0;34m\u001b[0m\u001b[0m\n\u001b[0;32m-> 1331\u001b[0;31m                 \u001b[0mresponse\u001b[0m\u001b[0;34m.\u001b[0m\u001b[0mbegin\u001b[0m\u001b[0;34m(\u001b[0m\u001b[0;34m)\u001b[0m\u001b[0;34m\u001b[0m\u001b[0m\n\u001b[0m\u001b[1;32m   1332\u001b[0m             \u001b[0;32mexcept\u001b[0m \u001b[0mConnectionError\u001b[0m\u001b[0;34m:\u001b[0m\u001b[0;34m\u001b[0m\u001b[0m\n\u001b[1;32m   1333\u001b[0m                 \u001b[0mself\u001b[0m\u001b[0;34m.\u001b[0m\u001b[0mclose\u001b[0m\u001b[0;34m(\u001b[0m\u001b[0;34m)\u001b[0m\u001b[0;34m\u001b[0m\u001b[0m\n",
      "\u001b[0;32m/usr/local/Cellar/python/3.6.4_4/Frameworks/Python.framework/Versions/3.6/lib/python3.6/http/client.py\u001b[0m in \u001b[0;36mbegin\u001b[0;34m(self)\u001b[0m\n\u001b[1;32m    295\u001b[0m         \u001b[0;31m# read until we get a non-100 response\u001b[0m\u001b[0;34m\u001b[0m\u001b[0;34m\u001b[0m\u001b[0m\n\u001b[1;32m    296\u001b[0m         \u001b[0;32mwhile\u001b[0m \u001b[0;32mTrue\u001b[0m\u001b[0;34m:\u001b[0m\u001b[0;34m\u001b[0m\u001b[0m\n\u001b[0;32m--> 297\u001b[0;31m             \u001b[0mversion\u001b[0m\u001b[0;34m,\u001b[0m \u001b[0mstatus\u001b[0m\u001b[0;34m,\u001b[0m \u001b[0mreason\u001b[0m \u001b[0;34m=\u001b[0m \u001b[0mself\u001b[0m\u001b[0;34m.\u001b[0m\u001b[0m_read_status\u001b[0m\u001b[0;34m(\u001b[0m\u001b[0;34m)\u001b[0m\u001b[0;34m\u001b[0m\u001b[0m\n\u001b[0m\u001b[1;32m    298\u001b[0m             \u001b[0;32mif\u001b[0m \u001b[0mstatus\u001b[0m \u001b[0;34m!=\u001b[0m \u001b[0mCONTINUE\u001b[0m\u001b[0;34m:\u001b[0m\u001b[0;34m\u001b[0m\u001b[0m\n\u001b[1;32m    299\u001b[0m                 \u001b[0;32mbreak\u001b[0m\u001b[0;34m\u001b[0m\u001b[0m\n",
      "\u001b[0;32m/usr/local/Cellar/python/3.6.4_4/Frameworks/Python.framework/Versions/3.6/lib/python3.6/http/client.py\u001b[0m in \u001b[0;36m_read_status\u001b[0;34m(self)\u001b[0m\n\u001b[1;32m    256\u001b[0m \u001b[0;34m\u001b[0m\u001b[0m\n\u001b[1;32m    257\u001b[0m     \u001b[0;32mdef\u001b[0m \u001b[0m_read_status\u001b[0m\u001b[0;34m(\u001b[0m\u001b[0mself\u001b[0m\u001b[0;34m)\u001b[0m\u001b[0;34m:\u001b[0m\u001b[0;34m\u001b[0m\u001b[0m\n\u001b[0;32m--> 258\u001b[0;31m         \u001b[0mline\u001b[0m \u001b[0;34m=\u001b[0m \u001b[0mstr\u001b[0m\u001b[0;34m(\u001b[0m\u001b[0mself\u001b[0m\u001b[0;34m.\u001b[0m\u001b[0mfp\u001b[0m\u001b[0;34m.\u001b[0m\u001b[0mreadline\u001b[0m\u001b[0;34m(\u001b[0m\u001b[0m_MAXLINE\u001b[0m \u001b[0;34m+\u001b[0m \u001b[0;36m1\u001b[0m\u001b[0;34m)\u001b[0m\u001b[0;34m,\u001b[0m \u001b[0;34m\"iso-8859-1\"\u001b[0m\u001b[0;34m)\u001b[0m\u001b[0;34m\u001b[0m\u001b[0m\n\u001b[0m\u001b[1;32m    259\u001b[0m         \u001b[0;32mif\u001b[0m \u001b[0mlen\u001b[0m\u001b[0;34m(\u001b[0m\u001b[0mline\u001b[0m\u001b[0;34m)\u001b[0m \u001b[0;34m>\u001b[0m \u001b[0m_MAXLINE\u001b[0m\u001b[0;34m:\u001b[0m\u001b[0;34m\u001b[0m\u001b[0m\n\u001b[1;32m    260\u001b[0m             \u001b[0;32mraise\u001b[0m \u001b[0mLineTooLong\u001b[0m\u001b[0;34m(\u001b[0m\u001b[0;34m\"status line\"\u001b[0m\u001b[0;34m)\u001b[0m\u001b[0;34m\u001b[0m\u001b[0m\n",
      "\u001b[0;32m/usr/local/Cellar/python/3.6.4_4/Frameworks/Python.framework/Versions/3.6/lib/python3.6/socket.py\u001b[0m in \u001b[0;36mreadinto\u001b[0;34m(self, b)\u001b[0m\n\u001b[1;32m    584\u001b[0m         \u001b[0;32mwhile\u001b[0m \u001b[0;32mTrue\u001b[0m\u001b[0;34m:\u001b[0m\u001b[0;34m\u001b[0m\u001b[0m\n\u001b[1;32m    585\u001b[0m             \u001b[0;32mtry\u001b[0m\u001b[0;34m:\u001b[0m\u001b[0;34m\u001b[0m\u001b[0m\n\u001b[0;32m--> 586\u001b[0;31m                 \u001b[0;32mreturn\u001b[0m \u001b[0mself\u001b[0m\u001b[0;34m.\u001b[0m\u001b[0m_sock\u001b[0m\u001b[0;34m.\u001b[0m\u001b[0mrecv_into\u001b[0m\u001b[0;34m(\u001b[0m\u001b[0mb\u001b[0m\u001b[0;34m)\u001b[0m\u001b[0;34m\u001b[0m\u001b[0m\n\u001b[0m\u001b[1;32m    587\u001b[0m             \u001b[0;32mexcept\u001b[0m \u001b[0mtimeout\u001b[0m\u001b[0;34m:\u001b[0m\u001b[0;34m\u001b[0m\u001b[0m\n\u001b[1;32m    588\u001b[0m                 \u001b[0mself\u001b[0m\u001b[0;34m.\u001b[0m\u001b[0m_timeout_occurred\u001b[0m \u001b[0;34m=\u001b[0m \u001b[0;32mTrue\u001b[0m\u001b[0;34m\u001b[0m\u001b[0m\n",
      "\u001b[0;32m/usr/local/Cellar/python/3.6.4_4/Frameworks/Python.framework/Versions/3.6/lib/python3.6/ssl.py\u001b[0m in \u001b[0;36mrecv_into\u001b[0;34m(self, buffer, nbytes, flags)\u001b[0m\n\u001b[1;32m   1007\u001b[0m                   \u001b[0;34m\"non-zero flags not allowed in calls to recv_into() on %s\"\u001b[0m \u001b[0;34m%\u001b[0m\u001b[0;34m\u001b[0m\u001b[0m\n\u001b[1;32m   1008\u001b[0m                   self.__class__)\n\u001b[0;32m-> 1009\u001b[0;31m             \u001b[0;32mreturn\u001b[0m \u001b[0mself\u001b[0m\u001b[0;34m.\u001b[0m\u001b[0mread\u001b[0m\u001b[0;34m(\u001b[0m\u001b[0mnbytes\u001b[0m\u001b[0;34m,\u001b[0m \u001b[0mbuffer\u001b[0m\u001b[0;34m)\u001b[0m\u001b[0;34m\u001b[0m\u001b[0m\n\u001b[0m\u001b[1;32m   1010\u001b[0m         \u001b[0;32melse\u001b[0m\u001b[0;34m:\u001b[0m\u001b[0;34m\u001b[0m\u001b[0m\n\u001b[1;32m   1011\u001b[0m             \u001b[0;32mreturn\u001b[0m \u001b[0msocket\u001b[0m\u001b[0;34m.\u001b[0m\u001b[0mrecv_into\u001b[0m\u001b[0;34m(\u001b[0m\u001b[0mself\u001b[0m\u001b[0;34m,\u001b[0m \u001b[0mbuffer\u001b[0m\u001b[0;34m,\u001b[0m \u001b[0mnbytes\u001b[0m\u001b[0;34m,\u001b[0m \u001b[0mflags\u001b[0m\u001b[0;34m)\u001b[0m\u001b[0;34m\u001b[0m\u001b[0m\n",
      "\u001b[0;32m/usr/local/Cellar/python/3.6.4_4/Frameworks/Python.framework/Versions/3.6/lib/python3.6/ssl.py\u001b[0m in \u001b[0;36mread\u001b[0;34m(self, len, buffer)\u001b[0m\n\u001b[1;32m    869\u001b[0m             \u001b[0;32mraise\u001b[0m \u001b[0mValueError\u001b[0m\u001b[0;34m(\u001b[0m\u001b[0;34m\"Read on closed or unwrapped SSL socket.\"\u001b[0m\u001b[0;34m)\u001b[0m\u001b[0;34m\u001b[0m\u001b[0m\n\u001b[1;32m    870\u001b[0m         \u001b[0;32mtry\u001b[0m\u001b[0;34m:\u001b[0m\u001b[0;34m\u001b[0m\u001b[0m\n\u001b[0;32m--> 871\u001b[0;31m             \u001b[0;32mreturn\u001b[0m \u001b[0mself\u001b[0m\u001b[0;34m.\u001b[0m\u001b[0m_sslobj\u001b[0m\u001b[0;34m.\u001b[0m\u001b[0mread\u001b[0m\u001b[0;34m(\u001b[0m\u001b[0mlen\u001b[0m\u001b[0;34m,\u001b[0m \u001b[0mbuffer\u001b[0m\u001b[0;34m)\u001b[0m\u001b[0;34m\u001b[0m\u001b[0m\n\u001b[0m\u001b[1;32m    872\u001b[0m         \u001b[0;32mexcept\u001b[0m \u001b[0mSSLError\u001b[0m \u001b[0;32mas\u001b[0m \u001b[0mx\u001b[0m\u001b[0;34m:\u001b[0m\u001b[0;34m\u001b[0m\u001b[0m\n\u001b[1;32m    873\u001b[0m             \u001b[0;32mif\u001b[0m \u001b[0mx\u001b[0m\u001b[0;34m.\u001b[0m\u001b[0margs\u001b[0m\u001b[0;34m[\u001b[0m\u001b[0;36m0\u001b[0m\u001b[0;34m]\u001b[0m \u001b[0;34m==\u001b[0m \u001b[0mSSL_ERROR_EOF\u001b[0m \u001b[0;32mand\u001b[0m \u001b[0mself\u001b[0m\u001b[0;34m.\u001b[0m\u001b[0msuppress_ragged_eofs\u001b[0m\u001b[0;34m:\u001b[0m\u001b[0;34m\u001b[0m\u001b[0m\n",
      "\u001b[0;32m/usr/local/Cellar/python/3.6.4_4/Frameworks/Python.framework/Versions/3.6/lib/python3.6/ssl.py\u001b[0m in \u001b[0;36mread\u001b[0;34m(self, len, buffer)\u001b[0m\n\u001b[1;32m    629\u001b[0m         \"\"\"\n\u001b[1;32m    630\u001b[0m         \u001b[0;32mif\u001b[0m \u001b[0mbuffer\u001b[0m \u001b[0;32mis\u001b[0m \u001b[0;32mnot\u001b[0m \u001b[0;32mNone\u001b[0m\u001b[0;34m:\u001b[0m\u001b[0;34m\u001b[0m\u001b[0m\n\u001b[0;32m--> 631\u001b[0;31m             \u001b[0mv\u001b[0m \u001b[0;34m=\u001b[0m \u001b[0mself\u001b[0m\u001b[0;34m.\u001b[0m\u001b[0m_sslobj\u001b[0m\u001b[0;34m.\u001b[0m\u001b[0mread\u001b[0m\u001b[0;34m(\u001b[0m\u001b[0mlen\u001b[0m\u001b[0;34m,\u001b[0m \u001b[0mbuffer\u001b[0m\u001b[0;34m)\u001b[0m\u001b[0;34m\u001b[0m\u001b[0m\n\u001b[0m\u001b[1;32m    632\u001b[0m         \u001b[0;32melse\u001b[0m\u001b[0;34m:\u001b[0m\u001b[0;34m\u001b[0m\u001b[0m\n\u001b[1;32m    633\u001b[0m             \u001b[0mv\u001b[0m \u001b[0;34m=\u001b[0m \u001b[0mself\u001b[0m\u001b[0;34m.\u001b[0m\u001b[0m_sslobj\u001b[0m\u001b[0;34m.\u001b[0m\u001b[0mread\u001b[0m\u001b[0;34m(\u001b[0m\u001b[0mlen\u001b[0m\u001b[0;34m)\u001b[0m\u001b[0;34m\u001b[0m\u001b[0m\n",
      "\u001b[0;31mKeyboardInterrupt\u001b[0m: "
     ]
    }
   ],
   "source": [
    "unique_comments = { }\n",
    "\n",
    "for name in target_groups:\n",
    "    \n",
    "    # качаем посты \n",
    "    group_id = target_groups[name]\n",
    "    posts = getPosts(group_id)\n",
    "\n",
    "    print('Из группы {} имени {} скачалось {} постов'.format(target_groups[name], name, len(posts)))\n",
    "    \n",
    "    # готовим батчи из запросов для комментов\n",
    "    triple_comments = prepareComments(group_id, posts)\n",
    "    \n",
    "    print('Число запросов: {}'.format(len(triple_comments)))\n",
    "    \n",
    "    # качаем комменты\n",
    "    comments = getComments(triple_comments)\n",
    "    \n",
    "    setlen = len(set([str(comment['post_id']) + '_' + str(comment['id']) for comment in comments]))\n",
    "    print('Число комментов: {}, из них уникальных: {}'.format(len(comments), setlen ))\n",
    "    \n",
    "    # смотрим на сотню последних комментов \n",
    "    for comment in comments[-100:]:\n",
    "        print(comment['post_id'],comment['id'])\n",
    "        print(comment['text'])\n",
    "        print('--------------------')\n",
    "        \n",
    "    # записываем накачаное добро в словарик\n",
    "    unique_comments[name] = comments\n",
    "    \n",
    "    print('====================================================================')\n",
    "    "
   ]
  },
  {
   "cell_type": "code",
   "execution_count": null,
   "metadata": {},
   "outputs": [],
   "source": [
    "'../data/{}_group_comments'.format(music_style)"
   ]
  },
  {
   "cell_type": "code",
   "execution_count": null,
   "metadata": {},
   "outputs": [],
   "source": [
    "# Сохраняем ну хоть что-нибудь... \n",
    "with open('../data/{}_group_comments'.format(music_style), 'wb') as f:\n",
    "    pickle.dump(group_users_dct, f)"
   ]
  },
  {
   "cell_type": "code",
   "execution_count": null,
   "metadata": {
    "scrolled": false
   },
   "outputs": [],
   "source": [
    "!ls ../data"
   ]
  },
  {
   "cell_type": "code",
   "execution_count": null,
   "metadata": {},
   "outputs": [],
   "source": []
  },
  {
   "cell_type": "code",
   "execution_count": null,
   "metadata": {},
   "outputs": [],
   "source": []
  },
  {
   "cell_type": "markdown",
   "metadata": {},
   "source": [
    "## 1.3 Файл с топ-10 подписками по каждому подписчику"
   ]
  },
  {
   "cell_type": "code",
   "execution_count": null,
   "metadata": {},
   "outputs": [],
   "source": [
    "unique_users = group_users_dct['24164800'][:100]\n",
    "unique_users[:5]"
   ]
  },
  {
   "cell_type": "code",
   "execution_count": null,
   "metadata": {},
   "outputs": [],
   "source": [
    "def makePublicUrl(batch, token=token):\n",
    "    \"\"\"\n",
    "        Создаёт ссылку для метода execute на основе батчей пользователей для скачки пабликов\n",
    "            batch - батч из id \n",
    "            token - ключ доступа\n",
    "    \"\"\"\n",
    "    \n",
    "    # составляем ссылку из кусочков\n",
    "    begin = 'https://api.vk.com/method/execute?code=return['\n",
    "    end = '];&access_token='+token+'&v=5.78'\n",
    "    middle = ''\n",
    "    # для каждого пользователя из батча используем метод wall.get \n",
    "    for bt in batch:\n",
    "        middle += 'API.users.getSubscriptions({\"user_id\": \"'+str(bt)+'\"}),'   \n",
    "    return begin + middle[:-1] + end \n",
    "\n",
    "\n",
    "def getUsersPublics(uids):\n",
    "    \"\"\"\n",
    "    Достаёт список пабликов для всех людей из списка uids\n",
    "        uids - id людей \n",
    "    \"\"\"\n",
    "    \n",
    "    batches = makeBatch(uids) # дробим на батчи\n",
    "    \n",
    "    # сюда будем записывать соответсвие между юзером и пабликами \n",
    "    id_group_list = { }\n",
    "    \n",
    "    for item in tqdm_notebook(batches):\n",
    "        time.sleep(0.3)\n",
    "        response = requests.get(makePublicUrl(item))\n",
    "        cur_resp = response.json()['response']\n",
    "        \n",
    "        # распаковываем список подписок по подписчикам\n",
    "        for uid,cur in zip(item,cur_resp):\n",
    "            id_group_list[uid] = cur['groups']['items'][:10] # первые 10\n",
    "            \n",
    "    return(id_group_list)"
   ]
  },
  {
   "cell_type": "code",
   "execution_count": null,
   "metadata": {},
   "outputs": [],
   "source": [
    "users_top_publics = getUsersPublics(unique_users[:2])"
   ]
  },
  {
   "cell_type": "code",
   "execution_count": null,
   "metadata": {},
   "outputs": [],
   "source": [
    "users_top_publics"
   ]
  },
  {
   "cell_type": "code",
   "execution_count": null,
   "metadata": {},
   "outputs": [],
   "source": [
    "# Сохраняем это чудо "
   ]
  },
  {
   "cell_type": "code",
   "execution_count": null,
   "metadata": {},
   "outputs": [],
   "source": []
  },
  {
   "cell_type": "code",
   "execution_count": null,
   "metadata": {},
   "outputs": [],
   "source": []
  },
  {
   "cell_type": "code",
   "execution_count": null,
   "metadata": {},
   "outputs": [],
   "source": []
  },
  {
   "cell_type": "markdown",
   "metadata": {},
   "source": [
    "## 1.4 Файл со стенками подписчиков \n",
    "\n",
    "* Додумываем процедуру сбора"
   ]
  },
  {
   "cell_type": "code",
   "execution_count": null,
   "metadata": {},
   "outputs": [],
   "source": [
    "# !!! Внимание! По этому методу есть лимит в 10к запросов. Имеет смысл брать жанр, \n",
    "# после делать по нему случайную выборку в 15к людей и качать стенки только по ним !!!"
   ]
  },
  {
   "cell_type": "code",
   "execution_count": null,
   "metadata": {},
   "outputs": [],
   "source": [
    "def makeWallUrl(batch, token=token):\n",
    "    \"\"\"\n",
    "        Создаёт ссылку для метода execute на основе батчей пользователей\n",
    "    \"\"\"\n",
    "    # составляем ссылку из кусочков\n",
    "    begin = 'https://api.vk.com/method/execute?code=return['\n",
    "    end = '];&access_token='+token+'&v='+version\n",
    "    middle = ''\n",
    "    # для каждого пользователя из батча используем метод wall.get \n",
    "    for bt in batch:\n",
    "        middle += 'API.wall.get({\"owner_id\": \"'+str(bt)+'\",\"count\":\"100\"}),'\n",
    "        \n",
    "    return begin + middle[:-1] + end \n",
    "\n",
    "def getAllPosts(candidate):\n",
    "    \"\"\"\n",
    "        Возвращает список словарей, в каждом их которых посты пользователей\n",
    "    \"\"\"\n",
    "    \n",
    "    # инициализируем список для хранения постов\n",
    "    wall = []\n",
    "    # берем всех людей текущего кандидата\n",
    "    people = candidate_people[candidate]\n",
    "    \n",
    "    # рандомно перемешаем наших пользователей, чтобы обеспечить репрезентативность выборки\n",
    "    np.random.shuffle(people)\n",
    "    \n",
    "    # создадим свой небольшой класс для кастомной ошибки \n",
    "    # на случай превышения лимита запросов\n",
    "    class LimitExceeded(Exception):\n",
    "        pass\n",
    "    \n",
    "    # батчи пользователей\n",
    "    batches = makeBatch(people)\n",
    "    \n",
    "    # итерируем по батчам\n",
    "    for item in tqdm_notebook(batches):\n",
    "        # если насобирали 10 тысяч пользователей, останавливаемся\n",
    "        if len(wall) < 10000:\n",
    "            try:\n",
    "                # пробуем выгрузить по батчу стенки пользователей\n",
    "                res = requests.get(makeWallUrl(item))\n",
    "                res = res.json()['response']\n",
    "                \n",
    "                # если нас забанили (все респонсы пусты), поднимем ошибку\n",
    "                if res == [False]*25:\n",
    "                    raise LimitExceeded(\"Превышено число запросов\")\n",
    "                \n",
    "                # записываем полученные данные в список\n",
    "                wall.extend(res)\n",
    "                \n",
    "            except LimitExceeded:\n",
    "                # если забанили - подождем минутку, чтобы обновились лимиты запросов\n",
    "                time.sleep(60)\n",
    "                \n",
    "            # в конце каждой итерации ждем 2 секунды, чтобы не словить бан\n",
    "            time.sleep(2)\n",
    "        else:\n",
    "            break\n",
    "            \n",
    "    return wall"
   ]
  },
  {
   "cell_type": "markdown",
   "metadata": {},
   "source": [
    "## 1.5 Сотня последних постов с каждого паблика\n",
    "\n",
    "Мы скачали все топы подписок по каждому подписчику. Теперь нужно сделать по ним `set()`."
   ]
  },
  {
   "cell_type": "code",
   "execution_count": null,
   "metadata": {},
   "outputs": [],
   "source": [
    "# Тут появится код в самом-самом конце :3 "
   ]
  },
  {
   "cell_type": "code",
   "execution_count": null,
   "metadata": {},
   "outputs": [],
   "source": []
  },
  {
   "cell_type": "code",
   "execution_count": null,
   "metadata": {},
   "outputs": [],
   "source": []
  },
  {
   "cell_type": "code",
   "execution_count": null,
   "metadata": {},
   "outputs": [],
   "source": []
  },
  {
   "cell_type": "code",
   "execution_count": null,
   "metadata": {},
   "outputs": [],
   "source": [
    "# Сделать по аналогии для 100 постов с каждого паблика !!!\n",
    "\n",
    "def makePublicUrl(batch, token=token):\n",
    "    \"\"\"\n",
    "        Создаёт ссылку для метода execute на основе батчей пользователей для скачки пабликов\n",
    "            batch - батч из id \n",
    "            token - ключ доступа\n",
    "    \"\"\"\n",
    "    \n",
    "    # составляем ссылку из кусочков\n",
    "    begin = 'https://api.vk.com/method/execute?code=return['\n",
    "    end = '];&access_token='+token+'&v=5.78'\n",
    "    middle = ''\n",
    "    # для каждого пользователя из батча используем метод wall.get \n",
    "    for bt in batch:\n",
    "        middle += 'API.users.getSubscriptions({\"user_id\": \"'+str(bt)+'\"}),'   \n",
    "    return begin + middle[:-1] + end \n",
    "\n",
    "def getUsersPublics(uids):\n",
    "    \"\"\"\n",
    "    Достаёт список пабликов для всех людей из списка uids\n",
    "        uids - id людей \n",
    "    \"\"\"\n",
    "    \n",
    "    batches = makeBatch(uids) # дробим на батчи\n",
    "    \n",
    "    # сюда будем записывать соответсвие между юзером и пабликами \n",
    "    id_group_list = { }\n",
    "    \n",
    "    for item in tqdm_notebook(batches):\n",
    "        time.sleep(0.3)\n",
    "        response = requests.get(makePublicUrl(item))\n",
    "        cur_resp = response.json()['response']\n",
    "        \n",
    "        # распаковываем список подписок по подписчикам\n",
    "        for uid,cur in zip(item,cur_resp):\n",
    "            id_group_list[uid] = cur['groups']['items'][:10] # первые 10\n",
    "            \n",
    "    return(id_group_list)"
   ]
  },
  {
   "cell_type": "code",
   "execution_count": null,
   "metadata": {},
   "outputs": [],
   "source": []
  },
  {
   "cell_type": "code",
   "execution_count": null,
   "metadata": {},
   "outputs": [],
   "source": []
  },
  {
   "cell_type": "code",
   "execution_count": null,
   "metadata": {},
   "outputs": [],
   "source": []
  },
  {
   "cell_type": "code",
   "execution_count": null,
   "metadata": {},
   "outputs": [],
   "source": []
  },
  {
   "cell_type": "code",
   "execution_count": null,
   "metadata": {},
   "outputs": [],
   "source": []
  }
 ],
 "metadata": {
  "kernelspec": {
   "display_name": "Python 3",
   "language": "python",
   "name": "python3"
  },
  "language_info": {
   "codemirror_mode": {
    "name": "ipython",
    "version": 3
   },
   "file_extension": ".py",
   "mimetype": "text/x-python",
   "name": "python",
   "nbconvert_exporter": "python",
   "pygments_lexer": "ipython3",
   "version": "3.6.4"
  }
 },
 "nbformat": 4,
 "nbformat_minor": 2
}
