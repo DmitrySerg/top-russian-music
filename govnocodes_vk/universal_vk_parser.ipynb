{
 "cells": [
  {
   "cell_type": "markdown",
   "metadata": {},
   "source": [
    "# 1. Парсер vk\n",
    "\n",
    "По каждому жанру нам нужно сделать 5 файлов для решения различных задач. Именно по этим файлам дальше будет разбита вся наша тетрадка. \n",
    "\n",
    "* Файл с подписчиками каждой группы жанра: \n",
    "\n",
    "```\n",
    "    {\"id группы 1\" : [id подписчиков], .... }\n",
    "```\n",
    "\n",
    "* Файл с комментами каждой группы жанра: \n",
    "\n",
    "```\n",
    "    {\"id группы 1\" : [комменты], .... }\n",
    "```\n",
    "\n",
    "Когда по каждому жанру будут скачаны подписчики, из низ надо сделать `set()` и по id каждого подписчика скачать: \n",
    "\n",
    "\n",
    "* Файл со стенками подписчиков: \n",
    "\n",
    "```\n",
    "    {\"подписчик 1\" : [стена],  .... }\n",
    "```\n",
    "\n",
    "* Файл с топ-10 подписками по каждому подписчику: \n",
    "\n",
    "```\n",
    "    {\"подписчик 1\" : [id его подписок],  .... }\n",
    "```\n",
    "\n",
    "Когда будут скачаны все паблики, из них надо сделать `set()` и по id каждого скачать: \n",
    "\n",
    "* Сотня последних постов с каждого паблика\n",
    "\n",
    "```\n",
    "    {\"id паблика\" :  [100 последних постов] , ....  }\n",
    "```"
   ]
  },
  {
   "cell_type": "code",
   "execution_count": 303,
   "metadata": {},
   "outputs": [],
   "source": [
    "# Загружаем необходимые библиотеки\n",
    "\n",
    "import datetime                  # Пакет для работы с временными форматами\n",
    "import pickle                    # Пакет для подгрузки данных специфического для питона формата\n",
    "import requests                  # Пакет для скачки данных из этих ваших интернетов\n",
    "import pandas as pd              # Пакет для работы с таблицами\n",
    "import numpy as np               # Пакет для работы с векторами и матрицами\n",
    "import matplotlib.pyplot as plt  # Пакет для строительства графиков\n",
    "import time            # Пакет для работы со временем. Например, помогает ставить заглушки \n",
    "                       # time.sleep(секунды), необходимые для того что ВК не банил нащего\n",
    "                       # сборщика данных из-за слишком частых запросов\n",
    "        \n",
    "# Пакет для красивых циклов. При желании его можно отключить. Тогда из всех циклов придётся \n",
    "# удалять команду tqdm_notebook.\n",
    "from tqdm import tqdm_notebook   # подробнее: https://github.com/tqdm/tqdm"
   ]
  },
  {
   "cell_type": "code",
   "execution_count": 304,
   "metadata": {},
   "outputs": [],
   "source": [
    "# мой номер странички\n",
    "my_user_id = 91857120\n",
    "# версия используемого API\n",
    "version = '5.73' \n",
    "# подгружаем токен\n",
    "with open('token.txt') as f:\n",
    "    token = f.read()"
   ]
  },
  {
   "cell_type": "code",
   "execution_count": 305,
   "metadata": {},
   "outputs": [
    {
     "data": {
      "text/plain": [
       "{'response': [{'first_name': 'Филипп',\n",
       "   'id': 6045249,\n",
       "   'last_name': 'Ульянкин'}]}"
      ]
     },
     "execution_count": 305,
     "metadata": {},
     "output_type": "execute_result"
    }
   ],
   "source": [
    "def vkDownload(method, parameters, token=token, version=version):\n",
    "    \"\"\"\n",
    "        Возвращает результат запроса по методу\n",
    "        \n",
    "        method: string\n",
    "            метод из документации, который хотим использовать\n",
    "            \n",
    "        parameters: string\n",
    "            параметры используемого метода\n",
    "            \n",
    "        token: string\n",
    "            токен Oauth доступа\n",
    "        \n",
    "        version: string\n",
    "            версия API\n",
    "    \"\"\"\n",
    "    \n",
    "    # составляем ссылку\n",
    "    url = 'https://api.vk.com/method/{method}?{parameters}&access_token={token}&v={version}'\n",
    "    url = url.format(method=method, parameters=parameters, token=token, version=version)\n",
    "    # запрашиваем ссылку и переводим в json (словарь)\n",
    "    response = requests.get(url).json()\n",
    "    \n",
    "    return response\n",
    "\n",
    "vkDownload('users.get','user_ids=ppilif')"
   ]
  },
  {
   "cell_type": "code",
   "execution_count": 306,
   "metadata": {},
   "outputs": [],
   "source": [
    "def makeBatch(uids, size=25):\n",
    "    \"\"\"\n",
    "        Возвращает лист листов из пользователей, батчами по size человек \n",
    "        По умолчанию size=25\n",
    "    \"\"\"\n",
    "    batches = [uids[i:i + size] for i in range(0,len(uids),size)]\n",
    "    \n",
    "    return batches "
   ]
  },
  {
   "cell_type": "markdown",
   "metadata": {},
   "source": [
    "## 1.1 Подписчики каждой группы для жанра"
   ]
  },
  {
   "cell_type": "code",
   "execution_count": 307,
   "metadata": {},
   "outputs": [],
   "source": [
    "music_style = 'эстрада'\n",
    "\n",
    "target_groups ={\n",
    "     'Лепс' : '52228413',\n",
    "     'Пугачёва' : '24164800'\n",
    "    }"
   ]
  },
  {
   "cell_type": "code",
   "execution_count": 308,
   "metadata": {},
   "outputs": [],
   "source": [
    "# слоаврь группа-юзеры\n",
    "group_users_dct = { }"
   ]
  },
  {
   "cell_type": "markdown",
   "metadata": {},
   "source": [
    "Перед тем, как сохранять юзеров, надо профильтровать их на предмет существования... "
   ]
  },
  {
   "cell_type": "code",
   "execution_count": 309,
   "metadata": {},
   "outputs": [
    {
     "data": {
      "text/plain": [
       "{'response': [{'deactivated': 'deleted',\n",
       "   'first_name': 'Наталья',\n",
       "   'id': 13034843,\n",
       "   'last_name': 'Савостьянова'}]}"
      ]
     },
     "execution_count": 309,
     "metadata": {},
     "output_type": "execute_result"
    }
   ],
   "source": [
    "vkDownload('users.get','user_ids=barbizon_kid')"
   ]
  },
  {
   "cell_type": "code",
   "execution_count": 310,
   "metadata": {},
   "outputs": [],
   "source": [
    "def checkExisting(uids):\n",
    "    \"\"\"\n",
    "        Проверяет существование id и оставляет только не удаленные \n",
    "    \"\"\"\n",
    "    \n",
    "    cur_inf = vkDownload('users.get','user_ids={}'.format(','.join(str(e) for e in uids)))\n",
    "    cur_inf = cur_inf['response']\n",
    "    clean_members = [us_inf['id'] for us_inf in cur_inf if us_inf.get('deactivated','real') == 'real']\n",
    "    return clean_members\n",
    "\n",
    "\n",
    "def getGroupMembers(group_id):\n",
    "    \"\"\"\n",
    "        Возвращает список всех пользователей данной группы\n",
    "        Итерации идут батчами по 1000 пользователей\n",
    "        \n",
    "        group_id: string\n",
    "            идентификатор группы (ссылка)\n",
    "    \"\"\"\n",
    "    \n",
    "    # Узнаём число запросов, которое надо сделать \n",
    "    count = vkDownload('groups.getMembers','group_id=' + group_id)['response']['count']\n",
    "    \n",
    "    # выясняем, сколько запросов нам понадобиться\n",
    "    n = int(np.ceil(count/1000))  \n",
    "    \n",
    "    # вектор, где мы будем хранить id пользователей\n",
    "    members = []     \n",
    "    \n",
    "    for i in tqdm_notebook(range(n)): \n",
    "        # при помощи метода groups.getMembers получаем пользователей группы\n",
    "        current_members = vkDownload('groups.getMembers','group_id='+group_id+'&offset='+str(1000*i))\n",
    "        current_members = current_members['response']['items']\n",
    "        \n",
    "        # проверим реально ли существуют все юзеры из списка выше\n",
    "        for i in range(0,1000,200):\n",
    "            time.sleep(0.3)\n",
    "            members.extend(checkExisting(current_members[i:i+200]))\n",
    "        \n",
    "        # перед следующим запросом немножко подождем\n",
    "        time.sleep(0.3)\n",
    "        \n",
    "    return members"
   ]
  },
  {
   "cell_type": "code",
   "execution_count": 312,
   "metadata": {},
   "outputs": [
    {
     "data": {
      "application/vnd.jupyter.widget-view+json": {
       "model_id": "e33942b615384a05a1121777baa42545",
       "version_major": 2,
       "version_minor": 0
      },
      "text/html": [
       "<p>Failed to display Jupyter Widget of type <code>HBox</code>.</p>\n",
       "<p>\n",
       "  If you're reading this message in the Jupyter Notebook or JupyterLab Notebook, it may mean\n",
       "  that the widgets JavaScript is still loading. If this message persists, it\n",
       "  likely means that the widgets JavaScript library is either not installed or\n",
       "  not enabled. See the <a href=\"https://ipywidgets.readthedocs.io/en/stable/user_install.html\">Jupyter\n",
       "  Widgets Documentation</a> for setup instructions.\n",
       "</p>\n",
       "<p>\n",
       "  If you're reading this message in another frontend (for example, a static\n",
       "  rendering on GitHub or <a href=\"https://nbviewer.jupyter.org/\">NBViewer</a>),\n",
       "  it may mean that your frontend doesn't currently support widgets.\n",
       "</p>\n"
      ],
      "text/plain": [
       "HBox(children=(IntProgress(value=0, max=2), HTML(value='')))"
      ]
     },
     "metadata": {},
     "output_type": "display_data"
    },
    {
     "data": {
      "application/vnd.jupyter.widget-view+json": {
       "model_id": "20cb0977872e4f16a2f7dd2d4962aa8b",
       "version_major": 2,
       "version_minor": 0
      },
      "text/html": [
       "<p>Failed to display Jupyter Widget of type <code>HBox</code>.</p>\n",
       "<p>\n",
       "  If you're reading this message in the Jupyter Notebook or JupyterLab Notebook, it may mean\n",
       "  that the widgets JavaScript is still loading. If this message persists, it\n",
       "  likely means that the widgets JavaScript library is either not installed or\n",
       "  not enabled. See the <a href=\"https://ipywidgets.readthedocs.io/en/stable/user_install.html\">Jupyter\n",
       "  Widgets Documentation</a> for setup instructions.\n",
       "</p>\n",
       "<p>\n",
       "  If you're reading this message in another frontend (for example, a static\n",
       "  rendering on GitHub or <a href=\"https://nbviewer.jupyter.org/\">NBViewer</a>),\n",
       "  it may mean that your frontend doesn't currently support widgets.\n",
       "</p>\n"
      ],
      "text/plain": [
       "HBox(children=(IntProgress(value=0, max=75), HTML(value='')))"
      ]
     },
     "metadata": {},
     "output_type": "display_data"
    },
    {
     "name": "stdout",
     "output_type": "stream",
     "text": [
      "Лепс : 66005\n"
     ]
    },
    {
     "data": {
      "application/vnd.jupyter.widget-view+json": {
       "model_id": "1bb56566beb0474dae9830d00c460ae4",
       "version_major": 2,
       "version_minor": 0
      },
      "text/html": [
       "<p>Failed to display Jupyter Widget of type <code>HBox</code>.</p>\n",
       "<p>\n",
       "  If you're reading this message in the Jupyter Notebook or JupyterLab Notebook, it may mean\n",
       "  that the widgets JavaScript is still loading. If this message persists, it\n",
       "  likely means that the widgets JavaScript library is either not installed or\n",
       "  not enabled. See the <a href=\"https://ipywidgets.readthedocs.io/en/stable/user_install.html\">Jupyter\n",
       "  Widgets Documentation</a> for setup instructions.\n",
       "</p>\n",
       "<p>\n",
       "  If you're reading this message in another frontend (for example, a static\n",
       "  rendering on GitHub or <a href=\"https://nbviewer.jupyter.org/\">NBViewer</a>),\n",
       "  it may mean that your frontend doesn't currently support widgets.\n",
       "</p>\n"
      ],
      "text/plain": [
       "HBox(children=(IntProgress(value=0, max=33), HTML(value='')))"
      ]
     },
     "metadata": {},
     "output_type": "display_data"
    },
    {
     "name": "stdout",
     "output_type": "stream",
     "text": [
      "Пугачёва : 29175\n",
      "\n"
     ]
    }
   ],
   "source": [
    "# по каждому id группы сохраняем подписчиков \n",
    "for k,v in tqdm_notebook(target_groups.items()):\n",
    "    members = getGroupMembers(target_groups[k]) \n",
    "    print(k,':',len(members))\n",
    "    group_users_dct[v] = members"
   ]
  },
  {
   "cell_type": "code",
   "execution_count": 313,
   "metadata": {
    "scrolled": true
   },
   "outputs": [
    {
     "data": {
      "text/plain": [
       "[521772661,\n",
       " 521887515,\n",
       " 521923792,\n",
       " 522548600,\n",
       " 522998936,\n",
       " 523271589,\n",
       " 523478186,\n",
       " 523508174,\n",
       " 523729785,\n",
       " 523830262]"
      ]
     },
     "execution_count": 313,
     "metadata": {},
     "output_type": "execute_result"
    }
   ],
   "source": [
    "group_users_dct['24164800'][-10:]"
   ]
  },
  {
   "cell_type": "code",
   "execution_count": null,
   "metadata": {},
   "outputs": [],
   "source": [
    "# Сохраняем словарик для текущего жанра \n",
    "with open('data/{}_group_users'.format(music_style), 'wb') as f:\n",
    "    pickle.dump(group_users_dct, f)"
   ]
  },
  {
   "cell_type": "markdown",
   "metadata": {},
   "source": [
    "## 1.2 Файл с комментами каждой группы жанра"
   ]
  },
  {
   "cell_type": "markdown",
   "metadata": {},
   "source": [
    "Скачиваем с группы все посты."
   ]
  },
  {
   "cell_type": "code",
   "execution_count": 314,
   "metadata": {},
   "outputs": [],
   "source": [
    "def getPosts(group_id):\n",
    "    \"\"\"\n",
    "        Качает по группе список всех постов, которые в \n",
    "        ней есть и возвращает список из их id \n",
    "    \"\"\"\n",
    "    \n",
    "    post_ids = [ ] # для сбора id\n",
    "    \n",
    "    # Выясним сколько всего в группе постов \n",
    "    n = vkDownload('wall.get','owner_id=-{}'.format(group_id))['response']['count']\n",
    "    print(\"В группе {} {} постов\".format(group_id,n))\n",
    "    \n",
    "    for i in tqdm_notebook(range(0, n + 100, 100)):\n",
    "        time.sleep(0.3)\n",
    "        \n",
    "        wall = vkDownload('wall.get','owner_id=-{}&count=100&offset='.format(group_id)+str(i))['response']['items']\n",
    "        # если захочется отделить комменты группы от других, есть поле from_id \n",
    "        post_ids.extend([item['id'] for item in wall])\n",
    "        \n",
    "    return post_ids"
   ]
  },
  {
   "cell_type": "code",
   "execution_count": 315,
   "metadata": {},
   "outputs": [
    {
     "name": "stdout",
     "output_type": "stream",
     "text": [
      "В группе 24164800 17024 постов\n"
     ]
    },
    {
     "data": {
      "application/vnd.jupyter.widget-view+json": {
       "model_id": "aa63eca7079a48e9bc0914c0603d615a",
       "version_major": 2,
       "version_minor": 0
      },
      "text/html": [
       "<p>Failed to display Jupyter Widget of type <code>HBox</code>.</p>\n",
       "<p>\n",
       "  If you're reading this message in the Jupyter Notebook or JupyterLab Notebook, it may mean\n",
       "  that the widgets JavaScript is still loading. If this message persists, it\n",
       "  likely means that the widgets JavaScript library is either not installed or\n",
       "  not enabled. See the <a href=\"https://ipywidgets.readthedocs.io/en/stable/user_install.html\">Jupyter\n",
       "  Widgets Documentation</a> for setup instructions.\n",
       "</p>\n",
       "<p>\n",
       "  If you're reading this message in another frontend (for example, a static\n",
       "  rendering on GitHub or <a href=\"https://nbviewer.jupyter.org/\">NBViewer</a>),\n",
       "  it may mean that your frontend doesn't currently support widgets.\n",
       "</p>\n"
      ],
      "text/plain": [
       "HBox(children=(IntProgress(value=0, max=172), HTML(value='')))"
      ]
     },
     "metadata": {},
     "output_type": "display_data"
    },
    {
     "name": "stdout",
     "output_type": "stream",
     "text": [
      "\n"
     ]
    }
   ],
   "source": [
    "# посты из группы \n",
    "group_id = '24164800'\n",
    "posts = getPosts(group_id)"
   ]
  },
  {
   "cell_type": "code",
   "execution_count": 316,
   "metadata": {},
   "outputs": [
    {
     "data": {
      "text/plain": [
       "17024"
      ]
     },
     "execution_count": 316,
     "metadata": {},
     "output_type": "execute_result"
    }
   ],
   "source": [
    "len(posts)"
   ]
  },
  {
   "cell_type": "markdown",
   "metadata": {},
   "source": [
    "Готовим комменты к выкачке. Можно завернуть ячейку ниже в функцию `prepareComments(group_id, posts)`. Однако код будет иногда падать хуй пойми почему. Поэтому я не стал его заворачивать в функцию, чтобы не просрать все результаты выкачки при падении и сделать перезапуск с недостающего куска.  \n",
    "\n",
    "Мы будем скачивать 25 запросами за раз, эта функция готовит запросы к последущему использованию, понимая сколько комментов под каким постом, выкидывая посты с нулевым количеством комментов и делая тройки (группа, пост, оффсет)"
   ]
  },
  {
   "cell_type": "code",
   "execution_count": null,
   "metadata": {},
   "outputs": [],
   "source": [
    "triple_comments = [ ] # для троек (group_id, post_id, offset)"
   ]
  },
  {
   "cell_type": "code",
   "execution_count": 330,
   "metadata": {},
   "outputs": [
    {
     "data": {
      "application/vnd.jupyter.widget-view+json": {
       "model_id": "dcf1f4d79c7741588f3f86637da031a5",
       "version_major": 2,
       "version_minor": 0
      },
      "text/html": [
       "<p>Failed to display Jupyter Widget of type <code>HBox</code>.</p>\n",
       "<p>\n",
       "  If you're reading this message in the Jupyter Notebook or JupyterLab Notebook, it may mean\n",
       "  that the widgets JavaScript is still loading. If this message persists, it\n",
       "  likely means that the widgets JavaScript library is either not installed or\n",
       "  not enabled. See the <a href=\"https://ipywidgets.readthedocs.io/en/stable/user_install.html\">Jupyter\n",
       "  Widgets Documentation</a> for setup instructions.\n",
       "</p>\n",
       "<p>\n",
       "  If you're reading this message in another frontend (for example, a static\n",
       "  rendering on GitHub or <a href=\"https://nbviewer.jupyter.org/\">NBViewer</a>),\n",
       "  it may mean that your frontend doesn't currently support widgets.\n",
       "</p>\n"
      ],
      "text/plain": [
       "HBox(children=(IntProgress(value=0, max=11), HTML(value='')))"
      ]
     },
     "metadata": {},
     "output_type": "display_data"
    },
    {
     "name": "stdout",
     "output_type": "stream",
     "text": [
      "\n"
     ]
    }
   ],
   "source": [
    "# делаем из всех постов батчи по 25 штук, чтобы было быстрее\n",
    "posts_batch = makeBatch(posts)\n",
    "\n",
    "for batch in tqdm_notebook(posts_batch[670:]):\n",
    "    time.sleep(0.4)\n",
    "\n",
    "    # готовим запрос для комметов из батча, который выяснит число комментов под постом\n",
    "    begin = 'https://api.vk.com/method/execute?code=return['\n",
    "    end = '];&access_token='+token+'&v=5.78'\n",
    "    middle = ''\n",
    "\n",
    "    # для каждого поста из батча используем метод wall.getComments\n",
    "    for bt in batch:            \n",
    "        middle += 'API.wall.getComments({\"owner_id\":\"-' + str(group_id) + '\",\"post_id\":\"' + str(bt) + '\"}),'\n",
    "\n",
    "    # делаем запрос для текущих 25 комментов\n",
    "    requests.get(begin + middle[:-1] + end)\n",
    "\n",
    "    # выясняем сколько всего комментов под постом \n",
    "    s = requests.get(begin + middle[:-1] + end)\n",
    "\n",
    "    # СТРАННОСТЬ: \n",
    "    # В каждом запросе нужные мне 25 ответов в поле 'response' \n",
    "    # и 26 сообщений Permission to perform this action is denied  в поле 'execute_errors'\n",
    "    # Но но но я же могу его сделать...  Какие нафиг запреты? Мб скоро прикроют API - ? \n",
    "\n",
    "    # по добытой информации готовим запросы на будущее\n",
    "\n",
    "    for post,item in zip(batch, s.json()['response']):\n",
    "        if item is False:\n",
    "            print('False в посте {} группы {}'.format(post, group_id))\n",
    "            continue\n",
    "\n",
    "        n = item['count']\n",
    "\n",
    "        # пост с нулевым числом комментов игнорим\n",
    "        if n == 0:\n",
    "            continue \n",
    "        else:\n",
    "            # для каждой сотни комментов из-под поста с комментами будет свой запрос для добычи\n",
    "            for i in range(0, n + 100, 100):\n",
    "                triple_comments.append((group_id, post, i))"
   ]
  },
  {
   "cell_type": "code",
   "execution_count": 331,
   "metadata": {},
   "outputs": [
    {
     "data": {
      "text/plain": [
       "22085"
      ]
     },
     "execution_count": 331,
     "metadata": {},
     "output_type": "execute_result"
    }
   ],
   "source": [
    "len(triple_comments)"
   ]
  },
  {
   "cell_type": "code",
   "execution_count": 332,
   "metadata": {},
   "outputs": [
    {
     "data": {
      "text/plain": [
       "[('24164800', 179468, 0),\n",
       " ('24164800', 179468, 100),\n",
       " ('24164800', 179468, 200),\n",
       " ('24164800', 179468, 300),\n",
       " ('24164800', 179468, 400),\n",
       " ('24164800', 182286, 0),\n",
       " ('24164800', 182286, 100),\n",
       " ('24164800', 182254, 0),\n",
       " ('24164800', 182254, 100),\n",
       " ('24164800', 182243, 0)]"
      ]
     },
     "execution_count": 332,
     "metadata": {},
     "output_type": "execute_result"
    }
   ],
   "source": [
    "triple_comments[:10]"
   ]
  },
  {
   "cell_type": "markdown",
   "metadata": {},
   "source": [
    "Аналогично код ниже также можно завернуть в функцию `getComments(triple_comment_penetration)`, но он тоже будет падать хуй пойми почему. Чтобы не просрать все данные, я не буду заворачивать его в функцию.\n",
    "\n",
    "Ячейка делит элементы вектора вида (group_id, post_id, offset), на батчи по 15 штук и качает комменты аки демон "
   ]
  },
  {
   "cell_type": "code",
   "execution_count": 340,
   "metadata": {},
   "outputs": [],
   "source": [
    "comments = [ ] # для сбора комментов "
   ]
  },
  {
   "cell_type": "code",
   "execution_count": 341,
   "metadata": {},
   "outputs": [
    {
     "data": {
      "application/vnd.jupyter.widget-view+json": {
       "model_id": "36078c25ab93476b92d99f21ab2d5cf8",
       "version_major": 2,
       "version_minor": 0
      },
      "text/html": [
       "<p>Failed to display Jupyter Widget of type <code>HBox</code>.</p>\n",
       "<p>\n",
       "  If you're reading this message in the Jupyter Notebook or JupyterLab Notebook, it may mean\n",
       "  that the widgets JavaScript is still loading. If this message persists, it\n",
       "  likely means that the widgets JavaScript library is either not installed or\n",
       "  not enabled. See the <a href=\"https://ipywidgets.readthedocs.io/en/stable/user_install.html\">Jupyter\n",
       "  Widgets Documentation</a> for setup instructions.\n",
       "</p>\n",
       "<p>\n",
       "  If you're reading this message in another frontend (for example, a static\n",
       "  rendering on GitHub or <a href=\"https://nbviewer.jupyter.org/\">NBViewer</a>),\n",
       "  it may mean that your frontend doesn't currently support widgets.\n",
       "</p>\n"
      ],
      "text/plain": [
       "HBox(children=(IntProgress(value=0, max=1473), HTML(value='')))"
      ]
     },
     "metadata": {},
     "output_type": "display_data"
    },
    {
     "name": "stdout",
     "output_type": "stream",
     "text": [
      "\n"
     ]
    }
   ],
   "source": [
    "# делаем батчи \n",
    "precom_batch = makeBatch(triple_comments, 15)\n",
    "\n",
    "for batch in tqdm_notebook(precom_batch):\n",
    "    time.sleep(0.4)\n",
    "    # клепаем запрос \n",
    "    begin = 'https://api.vk.com/method/execute?code=return['\n",
    "    end = '];&access_token='+token+'&v=5.78'\n",
    "    middle = ''\n",
    "\n",
    "    for bt in batch:            \n",
    "        middle += 'API.wall.getComments({\"owner_id\":\"-' + str(bt[0]) + '\",\"post_id\":\"' + str(bt[1]) + '\",\\\n",
    "        \"need_likes\":\"1\",\"preview_length\":\"0\",\"count\":\"100\",\"offset\":\"'+ str(bt[2])+'\"}),'\n",
    "\n",
    "    # делаем запрос для текущих 20 комментов\n",
    "    s = requests.get(begin + middle[:-1] + end)\n",
    "\n",
    "    # распаковываем добытое добро\n",
    "    cur_com = [ ]\n",
    "    for item, post in zip(s.json()['response'], batch):\n",
    "        for jtem in item['items']:\n",
    "            jtem['likes'] = jtem['likes']['count']\n",
    "            jtem['post_id'] = post[1]\n",
    "            jtem['group_id'] = post[0]\n",
    "            cur_com.append(jtem)\n",
    "\n",
    "        comments.extend(cur_com)     "
   ]
  },
  {
   "cell_type": "code",
   "execution_count": 342,
   "metadata": {},
   "outputs": [
    {
     "data": {
      "text/plain": [
       "907769"
      ]
     },
     "execution_count": 342,
     "metadata": {},
     "output_type": "execute_result"
    }
   ],
   "source": [
    "len(comments)"
   ]
  },
  {
   "cell_type": "code",
   "execution_count": 345,
   "metadata": {},
   "outputs": [
    {
     "data": {
      "text/plain": [
       "{'date': 1545554756,\n",
       " 'from_id': 127469117,\n",
       " 'group_id': '24164800',\n",
       " 'id': 180496,\n",
       " 'likes': 0,\n",
       " 'post_id': 179468,\n",
       " 'reply_to_comment': 180494,\n",
       " 'reply_to_user': 43370541,\n",
       " 'text': '[id43370541|Антон], вас никто не заставляет покупать ничего. И билеты куплены не через сайт. Купите дешевле, буду рад)) Только вот ближе к концерту, уены будут только расти.'}"
      ]
     },
     "execution_count": 345,
     "metadata": {},
     "output_type": "execute_result"
    }
   ],
   "source": [
    "comments[2000]"
   ]
  },
  {
   "cell_type": "code",
   "execution_count": 351,
   "metadata": {},
   "outputs": [],
   "source": [
    "# Сохраняем ну хоть что-нибудь... \n",
    "with open('../data/{}_group_comments_{}'.format(music_style, group_id), 'wb') as f:\n",
    "    pickle.dump(group_users_dct, f)"
   ]
  },
  {
   "cell_type": "code",
   "execution_count": 352,
   "metadata": {},
   "outputs": [
    {
     "name": "stdout",
     "output_type": "stream",
     "text": [
      "test.txt                               эстрада_group_comments_24164800\r\n"
     ]
    }
   ],
   "source": [
    "!ls ../data"
   ]
  },
  {
   "cell_type": "markdown",
   "metadata": {},
   "source": [
    "## 1.3 Файл с топ-10 подписками по каждому подписчику"
   ]
  },
  {
   "cell_type": "code",
   "execution_count": null,
   "metadata": {},
   "outputs": [],
   "source": [
    "unique_users = group_users_dct['24164800'][:100]\n",
    "unique_users[:5]"
   ]
  },
  {
   "cell_type": "code",
   "execution_count": null,
   "metadata": {},
   "outputs": [],
   "source": [
    "def makePublicUrl(batch, token=token):\n",
    "    \"\"\"\n",
    "        Создаёт ссылку для метода execute на основе батчей пользователей для скачки пабликов\n",
    "            batch - батч из id \n",
    "            token - ключ доступа\n",
    "    \"\"\"\n",
    "    \n",
    "    # составляем ссылку из кусочков\n",
    "    begin = 'https://api.vk.com/method/execute?code=return['\n",
    "    end = '];&access_token='+token+'&v=5.78'\n",
    "    middle = ''\n",
    "    # для каждого пользователя из батча используем метод wall.get \n",
    "    for bt in batch:\n",
    "        middle += 'API.users.getSubscriptions({\"user_id\": \"'+str(bt)+'\"}),'   \n",
    "    return begin + middle[:-1] + end \n",
    "\n",
    "\n",
    "def getUsersPublics(uids):\n",
    "    \"\"\"\n",
    "    Достаёт список пабликов для всех людей из списка uids\n",
    "        uids - id людей \n",
    "    \"\"\"\n",
    "    \n",
    "    batches = makeBatch(uids) # дробим на батчи\n",
    "    \n",
    "    # сюда будем записывать соответсвие между юзером и пабликами \n",
    "    id_group_list = { }\n",
    "    \n",
    "    for item in tqdm_notebook(batches):\n",
    "        time.sleep(0.3)\n",
    "        response = requests.get(makePublicUrl(item))\n",
    "        cur_resp = response.json()['response']\n",
    "        \n",
    "        # распаковываем список подписок по подписчикам\n",
    "        for uid,cur in zip(item,cur_resp):\n",
    "            id_group_list[uid] = cur['groups']['items'][:10] # первые 10\n",
    "            \n",
    "    return(id_group_list)"
   ]
  },
  {
   "cell_type": "code",
   "execution_count": null,
   "metadata": {},
   "outputs": [],
   "source": [
    "users_top_publics = getUsersPublics(unique_users[:2])"
   ]
  },
  {
   "cell_type": "code",
   "execution_count": null,
   "metadata": {},
   "outputs": [],
   "source": [
    "users_top_publics"
   ]
  },
  {
   "cell_type": "code",
   "execution_count": null,
   "metadata": {},
   "outputs": [],
   "source": [
    "# Сохраняем это чудо "
   ]
  },
  {
   "cell_type": "code",
   "execution_count": null,
   "metadata": {},
   "outputs": [],
   "source": []
  },
  {
   "cell_type": "code",
   "execution_count": null,
   "metadata": {},
   "outputs": [],
   "source": []
  },
  {
   "cell_type": "code",
   "execution_count": null,
   "metadata": {},
   "outputs": [],
   "source": []
  },
  {
   "cell_type": "markdown",
   "metadata": {},
   "source": [
    "## 1.4 Файл со стенками подписчиков \n",
    "\n",
    "* Додумываем процедуру сбора"
   ]
  },
  {
   "cell_type": "code",
   "execution_count": null,
   "metadata": {},
   "outputs": [],
   "source": [
    "# !!! Внимание! По этому методу есть лимит в 10к запросов. Имеет смысл брать жанр, \n",
    "# после делать по нему случайную выборку в 15к людей и качать стенки только по ним !!!"
   ]
  },
  {
   "cell_type": "code",
   "execution_count": null,
   "metadata": {},
   "outputs": [],
   "source": [
    "def makeWallUrl(batch, token=token):\n",
    "    \"\"\"\n",
    "        Создаёт ссылку для метода execute на основе батчей пользователей\n",
    "    \"\"\"\n",
    "    # составляем ссылку из кусочков\n",
    "    begin = 'https://api.vk.com/method/execute?code=return['\n",
    "    end = '];&access_token='+token+'&v='+version\n",
    "    middle = ''\n",
    "    # для каждого пользователя из батча используем метод wall.get \n",
    "    for bt in batch:\n",
    "        middle += 'API.wall.get({\"owner_id\": \"'+str(bt)+'\",\"count\":\"100\"}),'\n",
    "        \n",
    "    return begin + middle[:-1] + end \n",
    "\n",
    "def getAllPosts(candidate):\n",
    "    \"\"\"\n",
    "        Возвращает список словарей, в каждом их которых посты пользователей\n",
    "    \"\"\"\n",
    "    \n",
    "    # инициализируем список для хранения постов\n",
    "    wall = []\n",
    "    # берем всех людей текущего кандидата\n",
    "    people = candidate_people[candidate]\n",
    "    \n",
    "    # рандомно перемешаем наших пользователей, чтобы обеспечить репрезентативность выборки\n",
    "    np.random.shuffle(people)\n",
    "    \n",
    "    # создадим свой небольшой класс для кастомной ошибки \n",
    "    # на случай превышения лимита запросов\n",
    "    class LimitExceeded(Exception):\n",
    "        pass\n",
    "    \n",
    "    # батчи пользователей\n",
    "    batches = makeBatch(people)\n",
    "    \n",
    "    # итерируем по батчам\n",
    "    for item in tqdm_notebook(batches):\n",
    "        # если насобирали 10 тысяч пользователей, останавливаемся\n",
    "        if len(wall) < 10000:\n",
    "            try:\n",
    "                # пробуем выгрузить по батчу стенки пользователей\n",
    "                res = requests.get(makeWallUrl(item))\n",
    "                res = res.json()['response']\n",
    "                \n",
    "                # если нас забанили (все респонсы пусты), поднимем ошибку\n",
    "                if res == [False]*25:\n",
    "                    raise LimitExceeded(\"Превышено число запросов\")\n",
    "                \n",
    "                # записываем полученные данные в список\n",
    "                wall.extend(res)\n",
    "                \n",
    "            except LimitExceeded:\n",
    "                # если забанили - подождем минутку, чтобы обновились лимиты запросов\n",
    "                time.sleep(60)\n",
    "                \n",
    "            # в конце каждой итерации ждем 2 секунды, чтобы не словить бан\n",
    "            time.sleep(2)\n",
    "        else:\n",
    "            break\n",
    "            \n",
    "    return wall"
   ]
  },
  {
   "cell_type": "markdown",
   "metadata": {},
   "source": [
    "## 1.5 Сотня последних постов с каждого паблика\n",
    "\n",
    "Мы скачали все топы подписок по каждому подписчику. Теперь нужно сделать по ним `set()`."
   ]
  },
  {
   "cell_type": "code",
   "execution_count": null,
   "metadata": {},
   "outputs": [],
   "source": [
    "# Тут появится код в самом-самом конце :3 "
   ]
  },
  {
   "cell_type": "code",
   "execution_count": null,
   "metadata": {},
   "outputs": [],
   "source": []
  },
  {
   "cell_type": "code",
   "execution_count": null,
   "metadata": {},
   "outputs": [],
   "source": []
  },
  {
   "cell_type": "code",
   "execution_count": null,
   "metadata": {},
   "outputs": [],
   "source": []
  },
  {
   "cell_type": "code",
   "execution_count": null,
   "metadata": {},
   "outputs": [],
   "source": [
    "# Сделать по аналогии для 100 постов с каждого паблика !!!\n",
    "\n",
    "def makePublicUrl(batch, token=token):\n",
    "    \"\"\"\n",
    "        Создаёт ссылку для метода execute на основе батчей пользователей для скачки пабликов\n",
    "            batch - батч из id \n",
    "            token - ключ доступа\n",
    "    \"\"\"\n",
    "    \n",
    "    # составляем ссылку из кусочков\n",
    "    begin = 'https://api.vk.com/method/execute?code=return['\n",
    "    end = '];&access_token='+token+'&v=5.78'\n",
    "    middle = ''\n",
    "    # для каждого пользователя из батча используем метод wall.get \n",
    "    for bt in batch:\n",
    "        middle += 'API.users.getSubscriptions({\"user_id\": \"'+str(bt)+'\"}),'   \n",
    "    return begin + middle[:-1] + end \n",
    "\n",
    "def getUsersPublics(uids):\n",
    "    \"\"\"\n",
    "    Достаёт список пабликов для всех людей из списка uids\n",
    "        uids - id людей \n",
    "    \"\"\"\n",
    "    \n",
    "    batches = makeBatch(uids) # дробим на батчи\n",
    "    \n",
    "    # сюда будем записывать соответсвие между юзером и пабликами \n",
    "    id_group_list = { }\n",
    "    \n",
    "    for item in tqdm_notebook(batches):\n",
    "        time.sleep(0.3)\n",
    "        response = requests.get(makePublicUrl(item))\n",
    "        cur_resp = response.json()['response']\n",
    "        \n",
    "        # распаковываем список подписок по подписчикам\n",
    "        for uid,cur in zip(item,cur_resp):\n",
    "            id_group_list[uid] = cur['groups']['items'][:10] # первые 10\n",
    "            \n",
    "    return(id_group_list)"
   ]
  },
  {
   "cell_type": "code",
   "execution_count": null,
   "metadata": {},
   "outputs": [],
   "source": []
  },
  {
   "cell_type": "code",
   "execution_count": null,
   "metadata": {},
   "outputs": [],
   "source": []
  },
  {
   "cell_type": "code",
   "execution_count": null,
   "metadata": {},
   "outputs": [],
   "source": []
  },
  {
   "cell_type": "code",
   "execution_count": null,
   "metadata": {},
   "outputs": [],
   "source": []
  },
  {
   "cell_type": "code",
   "execution_count": null,
   "metadata": {},
   "outputs": [],
   "source": []
  }
 ],
 "metadata": {
  "kernelspec": {
   "display_name": "Python 3",
   "language": "python",
   "name": "python3"
  },
  "language_info": {
   "codemirror_mode": {
    "name": "ipython",
    "version": 3
   },
   "file_extension": ".py",
   "mimetype": "text/x-python",
   "name": "python",
   "nbconvert_exporter": "python",
   "pygments_lexer": "ipython3",
   "version": "3.6.4"
  }
 },
 "nbformat": 4,
 "nbformat_minor": 2
}
