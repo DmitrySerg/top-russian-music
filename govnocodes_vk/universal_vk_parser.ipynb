{
 "cells": [
  {
   "cell_type": "markdown",
   "metadata": {},
   "source": [
    "# 1. Парсер vk\n",
    "\n",
    "По каждому жанру нам нужно сделать 5 файлов для решения различных задач. Именно по этим файлам дальше будет разбита вся наша тетрадка. \n",
    "\n",
    "* Файл с подписчиками каждой группы жанра: \n",
    "\n",
    "```\n",
    "    {\"id группы 1\" : [id подписчиков], .... }\n",
    "```\n",
    "\n",
    "* Файл с комментами каждой группы жанра: \n",
    "\n",
    "```\n",
    "    {\"id группы 1\" : [комменты], .... }\n",
    "```\n",
    "\n",
    "Когда по каждому жанру будут скачаны подписчики, из низ надо сделать `set()` и по id каждого подписчика скачать: \n",
    "\n",
    "\n",
    "* Файл со стенками подписчиков: \n",
    "\n",
    "```\n",
    "    {\"подписчик 1\" : [стена],  .... }\n",
    "```\n",
    "\n",
    "* Файл с топ-10 подписками по каждому подписчику: \n",
    "\n",
    "```\n",
    "    {\"подписчик 1\" : [id его подписок],  .... }\n",
    "```\n",
    "\n",
    "Когда будут скачаны все паблики, из них надо сделать `set()` и по id каждого скачать: \n",
    "\n",
    "* Сотня последних постов с каждого паблика\n",
    "\n",
    "```\n",
    "    {\"id паблика\" :  [100 последних постов] , ....  }\n",
    "```"
   ]
  },
  {
   "cell_type": "code",
   "execution_count": 1,
   "metadata": {},
   "outputs": [],
   "source": [
    "# Загружаем необходимые библиотеки\n",
    "\n",
    "import datetime                  # Пакет для работы с временными форматами\n",
    "import pickle                    # Пакет для подгрузки данных специфического для питона формата\n",
    "import requests                  # Пакет для скачки данных из этих ваших интернетов\n",
    "import pandas as pd              # Пакет для работы с таблицами\n",
    "import numpy as np               # Пакет для работы с векторами и матрицами\n",
    "import matplotlib.pyplot as plt  # Пакет для строительства графиков\n",
    "import time            # Пакет для работы со временем. Например, помогает ставить заглушки \n",
    "                       # time.sleep(секунды), необходимые для того что ВК не банил нащего\n",
    "                       # сборщика данных из-за слишком частых запросов\n",
    "        \n",
    "# Пакет для красивых циклов. При желании его можно отключить. Тогда из всех циклов придётся \n",
    "# удалять команду tqdm_notebook.\n",
    "from tqdm import tqdm_notebook   # подробнее: https://github.com/tqdm/tqdm"
   ]
  },
  {
   "cell_type": "code",
   "execution_count": 6,
   "metadata": {},
   "outputs": [],
   "source": [
    "# мой номер странички\n",
    "my_user_id = 91857120\n",
    "# версия используемого API\n",
    "version = '5.73' \n",
    "# подгружаем токен\n",
    "with open('../token.txt') as f:\n",
    "    token = f.read()"
   ]
  },
  {
   "cell_type": "code",
   "execution_count": 7,
   "metadata": {},
   "outputs": [
    {
     "data": {
      "text/plain": [
       "{'response': [{'id': 6045249,\n",
       "   'first_name': 'Филипп',\n",
       "   'last_name': 'Ульянкин'}]}"
      ]
     },
     "execution_count": 7,
     "metadata": {},
     "output_type": "execute_result"
    }
   ],
   "source": [
    "def vkDownload(method, parameters, token=token, version=version):\n",
    "    \"\"\"\n",
    "        Возвращает результат запроса по методу\n",
    "        \n",
    "        method: string\n",
    "            метод из документации, который хотим использовать\n",
    "            \n",
    "        parameters: string\n",
    "            параметры используемого метода\n",
    "            \n",
    "        token: string\n",
    "            токен Oauth доступа\n",
    "        \n",
    "        version: string\n",
    "            версия API\n",
    "    \"\"\"\n",
    "    \n",
    "    # составляем ссылку\n",
    "    url = 'https://api.vk.com/method/{method}?{parameters}&access_token={token}&v={version}'\n",
    "    url = url.format(method=method, parameters=parameters, token=token, version=version)\n",
    "    # запрашиваем ссылку и переводим в json (словарь)\n",
    "    response = requests.get(url).json()\n",
    "    \n",
    "    return response\n",
    "\n",
    "vkDownload('users.get','user_ids=ppilif')"
   ]
  },
  {
   "cell_type": "code",
   "execution_count": 8,
   "metadata": {},
   "outputs": [],
   "source": [
    "def makeBatch(uids, size=25):\n",
    "    \"\"\"\n",
    "        Возвращает лист листов из пользователей, батчами по size человек \n",
    "        По умолчанию size=25\n",
    "    \"\"\"\n",
    "    batches = [uids[i:i + size] for i in range(0,len(uids),size)]\n",
    "    \n",
    "    return batches "
   ]
  },
  {
   "cell_type": "markdown",
   "metadata": {},
   "source": [
    "## 1.1 Подписчики каждой группы для жанра"
   ]
  },
  {
   "cell_type": "code",
   "execution_count": 38,
   "metadata": {},
   "outputs": [],
   "source": [
    "music_style = 'эстрада'\n",
    "\n",
    "target_groups ={\n",
    "     'Лепс' : '52228413',\n",
    "     'Пугачёва' : '24164800'\n",
    "    }\n",
    "\n",
    "music_style = \"classic\"\n",
    "\n",
    "target_groups = {\n",
    "    'classic_relax':'30166068',\n",
    "    'classic_best':'49945538',\n",
    "    'inclassic':'26484100',\n",
    "    'classicstories':'67287907_',\n",
    "    'classical_music_guide':'153374206',\n",
    "    'contemporary_classical':'44705245',\n",
    "    'pi_a_no':'52678432',\n",
    "    'petertchaikovsky':'21244691',\n",
    "    'wmozart':'126406',\n",
    "    'ludvigvonbeethoven':'191869',\n",
    "}"
   ]
  },
  {
   "cell_type": "code",
   "execution_count": 21,
   "metadata": {},
   "outputs": [],
   "source": [
    "# слоаврь группа-юзеры\n",
    "group_users_dct = { }"
   ]
  },
  {
   "cell_type": "markdown",
   "metadata": {},
   "source": [
    "Перед тем, как сохранять юзеров, надо профильтровать их на предмет существования... "
   ]
  },
  {
   "cell_type": "code",
   "execution_count": 34,
   "metadata": {},
   "outputs": [
    {
     "data": {
      "text/plain": [
       "{'response': [{'id': 13034843,\n",
       "   'first_name': 'Наталья',\n",
       "   'last_name': 'Савостьянова',\n",
       "   'deactivated': 'deleted'}]}"
      ]
     },
     "execution_count": 34,
     "metadata": {},
     "output_type": "execute_result"
    }
   ],
   "source": [
    "vkDownload('users.get','user_ids=barbizon_kid')"
   ]
  },
  {
   "cell_type": "code",
   "execution_count": 13,
   "metadata": {},
   "outputs": [],
   "source": [
    "def checkExisting(uids):\n",
    "    \"\"\"\n",
    "        Проверяет существование id и оставляет только не удаленные \n",
    "    \"\"\"\n",
    "    \n",
    "    cur_inf = vkDownload('users.get','user_ids={}'.format(','.join(str(e) for e in uids)))\n",
    "    cur_inf = cur_inf['response']\n",
    "    clean_members = [us_inf['id'] for us_inf in cur_inf if us_inf.get('deactivated','real') == 'real']\n",
    "    return clean_members\n",
    "\n",
    "\n",
    "def getGroupMembers(group_id):\n",
    "    \"\"\"\n",
    "        Возвращает список всех пользователей данной группы\n",
    "        Итерации идут батчами по 1000 пользователей\n",
    "        \n",
    "        group_id: string\n",
    "            идентификатор группы (ссылка)\n",
    "    \"\"\"\n",
    "    \n",
    "    # Узнаём число запросов, которое надо сделать \n",
    "    count = vkDownload('groups.getMembers','group_id=' + group_id)['response']['count']\n",
    "    \n",
    "    # выясняем, сколько запросов нам понадобиться\n",
    "    n = int(np.ceil(count/1000))  \n",
    "    \n",
    "    # вектор, где мы будем хранить id пользователей\n",
    "    members = []     \n",
    "    \n",
    "    for i in tqdm_notebook(range(n)): \n",
    "        # при помощи метода groups.getMembers получаем пользователей группы\n",
    "        current_members = vkDownload('groups.getMembers','group_id='+group_id+'&offset='+str(1000*i))\n",
    "        current_members = current_members['response']['items']\n",
    "        \n",
    "        # проверим реально ли существуют все юзеры из списка выше\n",
    "        for i in range(0,1000,200):\n",
    "            time.sleep(0.3)\n",
    "            members.extend(checkExisting(current_members[i:i+200]))\n",
    "        \n",
    "        # перед следующим запросом немножко подождем\n",
    "        time.sleep(0.3)\n",
    "        \n",
    "    return members"
   ]
  },
  {
   "cell_type": "code",
   "execution_count": 22,
   "metadata": {},
   "outputs": [
    {
     "data": {
      "application/vnd.jupyter.widget-view+json": {
       "model_id": "b8be5687d6bf4860b7ece2c50448d8e6",
       "version_major": 2,
       "version_minor": 0
      },
      "text/plain": [
       "HBox(children=(IntProgress(value=0, max=10), HTML(value='')))"
      ]
     },
     "metadata": {},
     "output_type": "display_data"
    },
    {
     "data": {
      "application/vnd.jupyter.widget-view+json": {
       "model_id": "372aefdc34a8437386b9b2f4d0c6be1e",
       "version_major": 2,
       "version_minor": 0
      },
      "text/plain": [
       "HBox(children=(IntProgress(value=0), HTML(value='')))"
      ]
     },
     "metadata": {},
     "output_type": "display_data"
    },
    {
     "name": "stdout",
     "output_type": "stream",
     "text": [
      "classic_relax : 82171\n"
     ]
    },
    {
     "data": {
      "application/vnd.jupyter.widget-view+json": {
       "model_id": "efa3a82d6bcf4558afbe2e0ca70b7ae9",
       "version_major": 2,
       "version_minor": 0
      },
      "text/plain": [
       "HBox(children=(IntProgress(value=0, max=31), HTML(value='')))"
      ]
     },
     "metadata": {},
     "output_type": "display_data"
    },
    {
     "name": "stdout",
     "output_type": "stream",
     "text": [
      "classic_best : 25439\n"
     ]
    },
    {
     "data": {
      "application/vnd.jupyter.widget-view+json": {
       "model_id": "8601b410542a4c5cb6b7b5c5304b6321",
       "version_major": 2,
       "version_minor": 0
      },
      "text/plain": [
       "HBox(children=(IntProgress(value=0, max=23), HTML(value='')))"
      ]
     },
     "metadata": {},
     "output_type": "display_data"
    },
    {
     "name": "stdout",
     "output_type": "stream",
     "text": [
      "inclassic : 18251\n"
     ]
    },
    {
     "data": {
      "application/vnd.jupyter.widget-view+json": {
       "model_id": "b281b7e315a0409eace1290e2055f117",
       "version_major": 2,
       "version_minor": 0
      },
      "text/plain": [
       "HBox(children=(IntProgress(value=0, max=23), HTML(value='')))"
      ]
     },
     "metadata": {},
     "output_type": "display_data"
    },
    {
     "name": "stdout",
     "output_type": "stream",
     "text": [
      "classicstories : 20251\n"
     ]
    },
    {
     "data": {
      "application/vnd.jupyter.widget-view+json": {
       "model_id": "047a537eff6848468d1343aa16703d55",
       "version_major": 2,
       "version_minor": 0
      },
      "text/plain": [
       "HBox(children=(IntProgress(value=0, max=9), HTML(value='')))"
      ]
     },
     "metadata": {},
     "output_type": "display_data"
    },
    {
     "name": "stdout",
     "output_type": "stream",
     "text": [
      "classical_music_guide : 6201\n"
     ]
    },
    {
     "data": {
      "application/vnd.jupyter.widget-view+json": {
       "model_id": "62c53556086545c5beb4913121bf0ee2",
       "version_major": 2,
       "version_minor": 0
      },
      "text/plain": [
       "HBox(children=(IntProgress(value=0, max=15), HTML(value='')))"
      ]
     },
     "metadata": {},
     "output_type": "display_data"
    },
    {
     "name": "stdout",
     "output_type": "stream",
     "text": [
      "contemporary_classical : 12336\n"
     ]
    },
    {
     "data": {
      "application/vnd.jupyter.widget-view+json": {
       "model_id": "ad45a005e331423db055b5d5077aa7e6",
       "version_major": 2,
       "version_minor": 0
      },
      "text/plain": [
       "HBox(children=(IntProgress(value=0, max=17), HTML(value='')))"
      ]
     },
     "metadata": {},
     "output_type": "display_data"
    },
    {
     "name": "stdout",
     "output_type": "stream",
     "text": [
      "pi_a_no : 12367\n"
     ]
    },
    {
     "data": {
      "application/vnd.jupyter.widget-view+json": {
       "model_id": "ee9c13dd0d7e45e293b702701cf43bf8",
       "version_major": 2,
       "version_minor": 0
      },
      "text/plain": [
       "HBox(children=(IntProgress(value=0, max=23), HTML(value='')))"
      ]
     },
     "metadata": {},
     "output_type": "display_data"
    },
    {
     "name": "stdout",
     "output_type": "stream",
     "text": [
      "petertchaikovsky : 19279\n"
     ]
    },
    {
     "data": {
      "application/vnd.jupyter.widget-view+json": {
       "model_id": "d84198c1793e466d860d4a9e700a7b28",
       "version_major": 2,
       "version_minor": 0
      },
      "text/plain": [
       "HBox(children=(IntProgress(value=0, max=94), HTML(value='')))"
      ]
     },
     "metadata": {},
     "output_type": "display_data"
    },
    {
     "name": "stdout",
     "output_type": "stream",
     "text": [
      "wmozart : 80533\n"
     ]
    },
    {
     "data": {
      "application/vnd.jupyter.widget-view+json": {
       "model_id": "e45c279e22a44b24bdf115713562cf9a",
       "version_major": 2,
       "version_minor": 0
      },
      "text/plain": [
       "HBox(children=(IntProgress(value=0, max=36), HTML(value='')))"
      ]
     },
     "metadata": {},
     "output_type": "display_data"
    },
    {
     "name": "stdout",
     "output_type": "stream",
     "text": [
      "ludvigvonbeethoven : 28380\n",
      "\n"
     ]
    }
   ],
   "source": [
    "# по каждому id группы сохраняем подписчиков \n",
    "for k,v in tqdm_notebook(target_groups.items()):\n",
    "    members = getGroupMembers(target_groups[k]) \n",
    "    print(k,':',len(members))\n",
    "    group_users_dct[v] = members"
   ]
  },
  {
   "cell_type": "code",
   "execution_count": 24,
   "metadata": {},
   "outputs": [],
   "source": [
    "# Сохраняем словарик для текущего жанра \n",
    "with open('../data/{}_group_users'.format(music_style), 'wb') as f:\n",
    "    pickle.dump(group_users_dct, f)"
   ]
  },
  {
   "cell_type": "markdown",
   "metadata": {},
   "source": [
    "## 1.2 Файл с комментами каждой группы жанра"
   ]
  },
  {
   "cell_type": "markdown",
   "metadata": {},
   "source": [
    "Скачиваем с группы все посты."
   ]
  },
  {
   "cell_type": "code",
   "execution_count": 28,
   "metadata": {},
   "outputs": [],
   "source": [
    "def getPosts(group_id):\n",
    "    \"\"\"\n",
    "        Качает по группе список всех постов, которые в \n",
    "        ней есть и возвращает список из их id \n",
    "    \"\"\"\n",
    "    \n",
    "    post_ids = [ ] # для сбора id\n",
    "    \n",
    "    # Выясним сколько всего в группе постов \n",
    "    n = vkDownload('wall.get','owner_id=-{}'.format(group_id))['response']['count']\n",
    "    print(\"В группе {} {} постов\".format(group_id,n))\n",
    "    \n",
    "    for i in tqdm_notebook(range(0, n + 100, 100)):\n",
    "        time.sleep(0.3)\n",
    "        \n",
    "        wall = vkDownload('wall.get','owner_id=-{}&count=100&offset='.format(group_id)+str(i))['response']['items']\n",
    "        # если захочется отделить комменты группы от других, есть поле from_id \n",
    "        post_ids.extend([item['id'] for item in wall])\n",
    "        \n",
    "    return post_ids"
   ]
  },
  {
   "cell_type": "code",
   "execution_count": 26,
   "metadata": {},
   "outputs": [
    {
     "data": {
      "text/plain": [
       "{'classic_relax': 'classic_relax',\n",
       " 'classic_best': 'classic_best',\n",
       " 'inclassic': 'inclassic',\n",
       " 'classicstories': 'classicstories',\n",
       " 'classical_music_guide': 'classical_music_guide',\n",
       " 'contemporary_classical': 'contemporary_classical',\n",
       " 'pi_a_no': 'pi_a_no',\n",
       " 'petertchaikovsky': 'petertchaikovsky',\n",
       " 'wmozart': 'wmozart',\n",
       " 'ludvigvonbeethoven': 'ludvigvonbeethoven'}"
      ]
     },
     "execution_count": 26,
     "metadata": {},
     "output_type": "execute_result"
    }
   ],
   "source": [
    "target_groups"
   ]
  },
  {
   "cell_type": "code",
   "execution_count": 33,
   "metadata": {},
   "outputs": [
    {
     "data": {
      "text/plain": [
       "[523534967,\n",
       " 523607609,\n",
       " 523617843,\n",
       " 523660650,\n",
       " 523736868,\n",
       " 523755485,\n",
       " 523785961,\n",
       " 523827563,\n",
       " 523955980,\n",
       " 524155541]"
      ]
     },
     "execution_count": 33,
     "metadata": {},
     "output_type": "execute_result"
    }
   ],
   "source": [
    "group_users_dct['classic_relax'][-10:]"
   ]
  },
  {
   "cell_type": "code",
   "execution_count": 39,
   "metadata": {},
   "outputs": [
    {
     "data": {
      "text/plain": [
       "{'classic_relax': '30166068',\n",
       " 'classic_best': '49945538',\n",
       " 'inclassic': '26484100',\n",
       " 'classicstories': '67287907_',\n",
       " 'classical_music_guide': '153374206',\n",
       " 'contemporary_classical': '44705245',\n",
       " 'pi_a_no': '52678432',\n",
       " 'petertchaikovsky': '21244691',\n",
       " 'wmozart': '126406',\n",
       " 'ludvigvonbeethoven': '191869'}"
      ]
     },
     "execution_count": 39,
     "metadata": {},
     "output_type": "execute_result"
    }
   ],
   "source": [
    "target_groups"
   ]
  },
  {
   "cell_type": "code",
   "execution_count": 60,
   "metadata": {},
   "outputs": [],
   "source": [
    "group_names = {v:k for k,v in target_groups.items()}"
   ]
  },
  {
   "cell_type": "code",
   "execution_count": 40,
   "metadata": {},
   "outputs": [
    {
     "name": "stdout",
     "output_type": "stream",
     "text": [
      "В группе 30166068 7000 постов\n"
     ]
    },
    {
     "data": {
      "application/vnd.jupyter.widget-view+json": {
       "model_id": "1d2829febb124da48ef223219e2f63ad",
       "version_major": 2,
       "version_minor": 0
      },
      "text/plain": [
       "HBox(children=(IntProgress(value=0, max=71), HTML(value='')))"
      ]
     },
     "metadata": {},
     "output_type": "display_data"
    },
    {
     "name": "stdout",
     "output_type": "stream",
     "text": [
      "\n"
     ]
    }
   ],
   "source": [
    "# посты из группы \n",
    "group_id = '30166068'\n",
    "posts = getPosts(group_id)"
   ]
  },
  {
   "cell_type": "code",
   "execution_count": 41,
   "metadata": {},
   "outputs": [
    {
     "data": {
      "text/plain": [
       "7000"
      ]
     },
     "execution_count": 41,
     "metadata": {},
     "output_type": "execute_result"
    }
   ],
   "source": [
    "len(posts)"
   ]
  },
  {
   "cell_type": "code",
   "execution_count": 128,
   "metadata": {},
   "outputs": [
    {
     "data": {
      "text/plain": [
       "7000"
      ]
     },
     "execution_count": 128,
     "metadata": {},
     "output_type": "execute_result"
    }
   ],
   "source": [
    "len(set(posts))"
   ]
  },
  {
   "cell_type": "markdown",
   "metadata": {},
   "source": [
    "Готовим комменты к выкачке. Можно завернуть ячейку ниже в функцию `prepareComments(group_id, posts)`. Однако код будет иногда падать хуй пойми почему. Поэтому я не стал его заворачивать в функцию, чтобы не просрать все результаты выкачки при падении и сделать перезапуск с недостающего куска.  \n",
    "\n",
    "Мы будем скачивать 25 запросами за раз, эта функция готовит запросы к последущему использованию, понимая сколько комментов под каким постом, выкидывая посты с нулевым количеством комментов и делая тройки (группа, пост, оффсет)"
   ]
  },
  {
   "cell_type": "code",
   "execution_count": 105,
   "metadata": {},
   "outputs": [],
   "source": [
    "triple_comments = [ ] # для троек (group_id, post_id, offset)"
   ]
  },
  {
   "cell_type": "code",
   "execution_count": 106,
   "metadata": {},
   "outputs": [
    {
     "data": {
      "application/vnd.jupyter.widget-view+json": {
       "model_id": "8ed0c4025eb1471899499804aeadcd45",
       "version_major": 2,
       "version_minor": 0
      },
      "text/plain": [
       "HBox(children=(IntProgress(value=0, max=280), HTML(value='')))"
      ]
     },
     "metadata": {},
     "output_type": "display_data"
    },
    {
     "name": "stdout",
     "output_type": "stream",
     "text": [
      "\n"
     ]
    }
   ],
   "source": [
    "# делаем из всех постов батчи по 25 штук, чтобы было быстрее\n",
    "posts_batch = makeBatch(posts)\n",
    "\n",
    "for batch in tqdm_notebook(posts_batch):\n",
    "    time.sleep(0.4)\n",
    "\n",
    "    # готовим запрос для комметов из батча, который выяснит число комментов под постом\n",
    "    begin = 'https://api.vk.com/method/execute?code=return['\n",
    "    end = '];&access_token='+token+'&v=5.78'\n",
    "    middle = ''\n",
    "\n",
    "    # для каждого поста из батча используем метод wall.getComments\n",
    "    for bt in batch:            \n",
    "        middle += 'API.wall.getComments({\"owner_id\":\"-' + str(group_id) + '\",\"post_id\":\"' + str(bt) + '\"}),'\n",
    "\n",
    "    # делаем запрос для текущих 25 комментов\n",
    "    #requests.get(begin + middle[:-1] + end)\n",
    "\n",
    "    # выясняем сколько всего комментов под постом \n",
    "    s = requests.get(begin + middle[:-1] + end)\n",
    "\n",
    "    # СТРАННОСТЬ: \n",
    "    # В каждом запросе нужные мне 25 ответов в поле 'response' \n",
    "    # и 26 сообщений Permission to perform this action is denied  в поле 'execute_errors'\n",
    "    # Но но но я же могу его сделать...  Какие нафиг запреты? Мб скоро прикроют API - ? \n",
    "\n",
    "    # по добытой информации готовим запросы на будущее\n",
    "\n",
    "    for post,item in zip(batch, s.json()['response']):\n",
    "        if item is False:\n",
    "            print('False в посте {} группы {}'.format(post, group_id))\n",
    "            continue\n",
    "\n",
    "        n = item['count']\n",
    "\n",
    "        # пост с нулевым числом комментов игнорим\n",
    "        if n == 0:\n",
    "            continue \n",
    "        else:\n",
    "            # для каждой сотни комментов из-под поста с комментами будет свой запрос для добычи\n",
    "            for i in range(0, n, 100):\n",
    "                triple_comments.append((group_id, post, i))"
   ]
  },
  {
   "cell_type": "code",
   "execution_count": 121,
   "metadata": {},
   "outputs": [
    {
     "data": {
      "text/plain": [
       "2580"
      ]
     },
     "execution_count": 121,
     "metadata": {},
     "output_type": "execute_result"
    }
   ],
   "source": [
    "len(triple_comments)"
   ]
  },
  {
   "cell_type": "code",
   "execution_count": 112,
   "metadata": {},
   "outputs": [
    {
     "data": {
      "text/plain": [
       "[('30166068', 24241, 0),\n",
       " ('30166068', 24256, 0),\n",
       " ('30166068', 24251, 0),\n",
       " ('30166068', 24247, 0),\n",
       " ('30166068', 24245, 0),\n",
       " ('30166068', 24240, 0),\n",
       " ('30166068', 24231, 0),\n",
       " ('30166068', 24224, 0),\n",
       " ('30166068', 24217, 0),\n",
       " ('30166068', 24216, 0)]"
      ]
     },
     "execution_count": 112,
     "metadata": {},
     "output_type": "execute_result"
    }
   ],
   "source": [
    "triple_comments[:10]"
   ]
  },
  {
   "cell_type": "markdown",
   "metadata": {},
   "source": [
    "Аналогично код ниже также можно завернуть в функцию `getComments(triple_comment_penetration)`, но он тоже будет падать хуй пойми почему. Чтобы не просрать все данные, я не буду заворачивать его в функцию.\n",
    "\n",
    "Ячейка делит элементы вектора вида (group_id, post_id, offset), на батчи по 15 штук и качает комменты аки демон "
   ]
  },
  {
   "cell_type": "code",
   "execution_count": 113,
   "metadata": {},
   "outputs": [],
   "source": [
    "comments = [ ] # для сбора комментов "
   ]
  },
  {
   "cell_type": "code",
   "execution_count": 123,
   "metadata": {},
   "outputs": [
    {
     "data": {
      "text/plain": [
       "[('30166068', 24241, 0),\n",
       " ('30166068', 24256, 0),\n",
       " ('30166068', 24251, 0),\n",
       " ('30166068', 24247, 0),\n",
       " ('30166068', 24245, 0),\n",
       " ('30166068', 24240, 0),\n",
       " ('30166068', 24231, 0),\n",
       " ('30166068', 24224, 0),\n",
       " ('30166068', 24217, 0),\n",
       " ('30166068', 24216, 0),\n",
       " ('30166068', 24195, 0),\n",
       " ('30166068', 24189, 0),\n",
       " ('30166068', 24151, 0),\n",
       " ('30166068', 24148, 0),\n",
       " ('30166068', 24145, 0)]"
      ]
     },
     "execution_count": 123,
     "metadata": {},
     "output_type": "execute_result"
    }
   ],
   "source": [
    "precom_batch[0]"
   ]
  },
  {
   "cell_type": "code",
   "execution_count": 114,
   "metadata": {},
   "outputs": [
    {
     "data": {
      "application/vnd.jupyter.widget-view+json": {
       "model_id": "e5661e7fffeb4b9b9d546ddaf93d6ee8",
       "version_major": 2,
       "version_minor": 0
      },
      "text/plain": [
       "HBox(children=(IntProgress(value=0, max=172), HTML(value='')))"
      ]
     },
     "metadata": {},
     "output_type": "display_data"
    },
    {
     "name": "stdout",
     "output_type": "stream",
     "text": [
      "\n"
     ]
    }
   ],
   "source": [
    "# делаем батчи \n",
    "precom_batch = makeBatch(triple_comments, 15)\n",
    "\n",
    "for batch in tqdm_notebook(precom_batch):\n",
    "    time.sleep(0.4)\n",
    "    # клепаем запрос \n",
    "    begin = 'https://api.vk.com/method/execute?code=return['\n",
    "    end = '];&access_token='+token+'&v=5.78'\n",
    "    middle = ''\n",
    "\n",
    "    for bt in batch:            \n",
    "        middle += 'API.wall.getComments({\"owner_id\":\"-' + str(bt[0]) + '\",\"post_id\":\"' + str(bt[1]) + '\",\\\n",
    "        \"need_likes\":\"1\",\"preview_length\":\"0\",\"count\":\"100\",\"offset\":\"'+ str(bt[2])+'\"}),'\n",
    "\n",
    "    # делаем запрос для текущих 20 комментов\n",
    "    s = requests.get(begin + middle[:-1] + end)\n",
    "\n",
    "    # распаковываем добытое добро\n",
    "    cur_com = [ ]\n",
    "    for item, post in zip(s.json()['response'], batch):\n",
    "        for jtem in item['items']:\n",
    "            jtem['likes'] = jtem['likes']['count']\n",
    "            jtem['post_id'] = post[1]\n",
    "            jtem['group_id'] = post[0]\n",
    "            cur_com.append(jtem)\n",
    "\n",
    "        comments.extend(cur_com)     "
   ]
  },
  {
   "cell_type": "code",
   "execution_count": 119,
   "metadata": {
    "scrolled": false
   },
   "outputs": [
    {
     "name": "stdout",
     "output_type": "stream",
     "text": [
      "0 А про что это?\n",
      "24242\n",
      "==================\n",
      "1 [id243640711|Людмила], конечно же про любовь)\n",
      "24243\n",
      "==================\n",
      "2 А про что это?\n",
      "24242\n",
      "==================\n",
      "3 [id243640711|Людмила], конечно же про любовь)\n",
      "24243\n",
      "==================\n",
      "4 \n",
      "24257\n",
      "==================\n",
      "5 \n",
      "24258\n",
      "==================\n",
      "6 💖\n",
      "24262\n",
      "==================\n",
      "7 А про что это?\n",
      "24242\n",
      "==================\n",
      "8 [id243640711|Людмила], конечно же про любовь)\n",
      "24243\n",
      "==================\n",
      "9 \n",
      "24257\n",
      "==================\n",
      "10 \n",
      "24258\n",
      "==================\n",
      "11 💖\n",
      "24262\n",
      "==================\n",
      "12 \n",
      "24252\n",
      "==================\n",
      "13 Кстати, любителям классики (не знаю, где написать в соответствующей теме):\n",
      "АМАДЕЙ, концерт в консерватории 29 декабря. Не смогу пойти - есть билеты в партер. Отдам с большой скидкой. Тут можно подробнее прочитать:\n",
      "https://msk.kassir.ru/koncert/konservatoriya-chajkovskogo/amadey-live-in-concert_2018-12-29\n",
      "24254\n",
      "==================\n",
      "14 \n",
      "24264\n",
      "==================\n",
      "15 А про что это?\n",
      "24242\n",
      "==================\n",
      "16 [id243640711|Людмила], конечно же про любовь)\n",
      "24243\n",
      "==================\n",
      "17 \n",
      "24257\n",
      "==================\n",
      "18 \n",
      "24258\n",
      "==================\n",
      "19 💖\n",
      "24262\n",
      "==================\n",
      "20 \n",
      "24252\n",
      "==================\n",
      "21 Кстати, любителям классики (не знаю, где написать в соответствующей теме):\n",
      "АМАДЕЙ, концерт в консерватории 29 декабря. Не смогу пойти - есть билеты в партер. Отдам с большой скидкой. Тут можно подробнее прочитать:\n",
      "https://msk.kassir.ru/koncert/konservatoriya-chajkovskogo/amadey-live-in-concert_2018-12-29\n",
      "24254\n",
      "==================\n",
      "22 \n",
      "24264\n",
      "==================\n",
      "23 ✌👌\n",
      "24249\n",
      "==================\n",
      "24 Божественная музыка! Прекрасная группа!\n",
      "24253\n",
      "==================\n",
      "25 А про что это?\n",
      "24242\n",
      "==================\n",
      "26 [id243640711|Людмила], конечно же про любовь)\n",
      "24243\n",
      "==================\n",
      "27 \n",
      "24257\n",
      "==================\n",
      "28 \n",
      "24258\n",
      "==================\n",
      "29 💖\n",
      "24262\n",
      "==================\n",
      "30 \n",
      "24252\n",
      "==================\n",
      "31 Кстати, любителям классики (не знаю, где написать в соответствующей теме):\n",
      "АМАДЕЙ, концерт в консерватории 29 декабря. Не смогу пойти - есть билеты в партер. Отдам с большой скидкой. Тут можно подробнее прочитать:\n",
      "https://msk.kassir.ru/koncert/konservatoriya-chajkovskogo/amadey-live-in-concert_2018-12-29\n",
      "24254\n",
      "==================\n",
      "32 \n",
      "24264\n",
      "==================\n",
      "33 ✌👌\n",
      "24249\n",
      "==================\n",
      "34 Божественная музыка! Прекрасная группа!\n",
      "24253\n",
      "==================\n",
      "35 Как оно\n",
      "24246\n",
      "==================\n",
      "36 А про что это?\n",
      "24242\n",
      "==================\n",
      "37 [id243640711|Людмила], конечно же про любовь)\n",
      "24243\n",
      "==================\n",
      "38 \n",
      "24257\n",
      "==================\n",
      "39 \n",
      "24258\n",
      "==================\n",
      "40 💖\n",
      "24262\n",
      "==================\n",
      "41 \n",
      "24252\n",
      "==================\n",
      "42 Кстати, любителям классики (не знаю, где написать в соответствующей теме):\n",
      "АМАДЕЙ, концерт в консерватории 29 декабря. Не смогу пойти - есть билеты в партер. Отдам с большой скидкой. Тут можно подробнее прочитать:\n",
      "https://msk.kassir.ru/koncert/konservatoriya-chajkovskogo/amadey-live-in-concert_2018-12-29\n",
      "24254\n",
      "==================\n",
      "43 \n",
      "24264\n",
      "==================\n",
      "44 ✌👌\n",
      "24249\n",
      "==================\n",
      "45 Божественная музыка! Прекрасная группа!\n",
      "24253\n",
      "==================\n",
      "46 Как оно\n",
      "24246\n",
      "==================\n",
      "47 📌\n",
      "24261\n",
      "==================\n",
      "48 А про что это?\n",
      "24242\n",
      "==================\n",
      "49 [id243640711|Людмила], конечно же про любовь)\n",
      "24243\n",
      "==================\n",
      "50 \n",
      "24257\n",
      "==================\n",
      "51 \n",
      "24258\n",
      "==================\n",
      "52 💖\n",
      "24262\n",
      "==================\n",
      "53 \n",
      "24252\n",
      "==================\n",
      "54 Кстати, любителям классики (не знаю, где написать в соответствующей теме):\n",
      "АМАДЕЙ, концерт в консерватории 29 декабря. Не смогу пойти - есть билеты в партер. Отдам с большой скидкой. Тут можно подробнее прочитать:\n",
      "https://msk.kassir.ru/koncert/konservatoriya-chajkovskogo/amadey-live-in-concert_2018-12-29\n",
      "24254\n",
      "==================\n",
      "55 \n",
      "24264\n",
      "==================\n",
      "56 ✌👌\n",
      "24249\n",
      "==================\n",
      "57 Божественная музыка! Прекрасная группа!\n",
      "24253\n",
      "==================\n",
      "58 Как оно\n",
      "24246\n",
      "==================\n",
      "59 📌\n",
      "24261\n",
      "==================\n",
      "60 [club175622366|неплохо]👌🏻\n",
      "24233\n",
      "==================\n",
      "61 Hallo\n",
      "24235\n",
      "==================\n",
      "62 А про что это?\n",
      "24242\n",
      "==================\n",
      "63 [id243640711|Людмила], конечно же про любовь)\n",
      "24243\n",
      "==================\n",
      "64 \n",
      "24257\n",
      "==================\n",
      "65 \n",
      "24258\n",
      "==================\n",
      "66 💖\n",
      "24262\n",
      "==================\n",
      "67 \n",
      "24252\n",
      "==================\n",
      "68 Кстати, любителям классики (не знаю, где написать в соответствующей теме):\n",
      "АМАДЕЙ, концерт в консерватории 29 декабря. Не смогу пойти - есть билеты в партер. Отдам с большой скидкой. Тут можно подробнее прочитать:\n",
      "https://msk.kassir.ru/koncert/konservatoriya-chajkovskogo/amadey-live-in-concert_2018-12-29\n",
      "24254\n",
      "==================\n",
      "69 \n",
      "24264\n",
      "==================\n",
      "70 ✌👌\n",
      "24249\n",
      "==================\n",
      "71 Божественная музыка! Прекрасная группа!\n",
      "24253\n",
      "==================\n",
      "72 Как оно\n",
      "24246\n",
      "==================\n",
      "73 📌\n",
      "24261\n",
      "==================\n",
      "74 [club175622366|неплохо]👌🏻\n",
      "24233\n",
      "==================\n",
      "75 Hallo\n",
      "24235\n",
      "==================\n",
      "76 Ф.В.ГИНЗБУРГ. \"НАТАЛИ-ВАЛЬС\" ИСПОЛНЯЕТ АВТОР.\n",
      "https://www.youtube.com/watch?v=ilaPF_g4dV0\n",
      "24237\n",
      "==================\n",
      "77 \"ЭТО БЫЛА ВОЛШЕБНАЯ НОЧЬ...\" МУЗЫКА Ф.В.ГИНЗБУРГА. ИСП. АВТОР.\n",
      "https://www.youtube.com/watch?v=nmvm8FUReGk\n",
      "24238\n",
      "==================\n",
      "78 Ф.В.ГИНЗБУРГ. \"СВЕТЛАЯ ГРУСТЬ...\" ИСПОЛНЯЕТ АВТОР.\n",
      "https://www.youtube.com/watch?v=HR98OoeLTzk&index=126&list=PLN428v7ztWwBthmLN5sPx_VetKhvlPHms\n",
      "24239\n",
      "==================\n",
      "79 А про что это?\n",
      "24242\n",
      "==================\n",
      "80 [id243640711|Людмила], конечно же про любовь)\n",
      "24243\n",
      "==================\n",
      "81 \n",
      "24257\n",
      "==================\n",
      "82 \n",
      "24258\n",
      "==================\n",
      "83 💖\n",
      "24262\n",
      "==================\n",
      "84 \n",
      "24252\n",
      "==================\n",
      "85 Кстати, любителям классики (не знаю, где написать в соответствующей теме):\n",
      "АМАДЕЙ, концерт в консерватории 29 декабря. Не смогу пойти - есть билеты в партер. Отдам с большой скидкой. Тут можно подробнее прочитать:\n",
      "https://msk.kassir.ru/koncert/konservatoriya-chajkovskogo/amadey-live-in-concert_2018-12-29\n",
      "24254\n",
      "==================\n",
      "86 \n",
      "24264\n",
      "==================\n",
      "87 ✌👌\n",
      "24249\n",
      "==================\n",
      "88 Божественная музыка! Прекрасная группа!\n",
      "24253\n",
      "==================\n",
      "89 Как оно\n",
      "24246\n",
      "==================\n",
      "90 📌\n",
      "24261\n",
      "==================\n",
      "91 [club175622366|неплохо]👌🏻\n",
      "24233\n",
      "==================\n",
      "92 Hallo\n",
      "24235\n",
      "==================\n",
      "93 Ф.В.ГИНЗБУРГ. \"НАТАЛИ-ВАЛЬС\" ИСПОЛНЯЕТ АВТОР.\n",
      "https://www.youtube.com/watch?v=ilaPF_g4dV0\n",
      "24237\n",
      "==================\n",
      "94 \"ЭТО БЫЛА ВОЛШЕБНАЯ НОЧЬ...\" МУЗЫКА Ф.В.ГИНЗБУРГА. ИСП. АВТОР.\n",
      "https://www.youtube.com/watch?v=nmvm8FUReGk\n",
      "24238\n",
      "==================\n",
      "95 Ф.В.ГИНЗБУРГ. \"СВЕТЛАЯ ГРУСТЬ...\" ИСПОЛНЯЕТ АВТОР.\n",
      "https://www.youtube.com/watch?v=HR98OoeLTzk&index=126&list=PLN428v7ztWwBthmLN5sPx_VetKhvlPHms\n",
      "24239\n",
      "==================\n",
      "96 Пожизненная подборка...\n",
      "24218\n",
      "==================\n",
      "97 😢😢😔😔\n",
      "24219\n",
      "==================\n",
      "98 Музыка для тех, кому ХОЧЕТСЯ погрустить! А если Вы уже в печали, то не стоит ее слушать, вгонит в еще большую грусть.\n",
      "24222\n",
      "==================\n",
      "99 [id81398697|Вера], у всех по-разному работает)\n",
      "24227\n",
      "==================\n",
      "100 как раз вовремя\n",
      "24228\n",
      "==================\n",
      "101 😌\n",
      "24236\n",
      "==================\n",
      "102 А про что это?\n",
      "24242\n",
      "==================\n",
      "103 [id243640711|Людмила], конечно же про любовь)\n",
      "24243\n",
      "==================\n",
      "104 \n",
      "24257\n",
      "==================\n",
      "105 \n",
      "24258\n",
      "==================\n",
      "106 💖\n",
      "24262\n",
      "==================\n",
      "107 \n",
      "24252\n",
      "==================\n",
      "108 Кстати, любителям классики (не знаю, где написать в соответствующей теме):\n",
      "АМАДЕЙ, концерт в консерватории 29 декабря. Не смогу пойти - есть билеты в партер. Отдам с большой скидкой. Тут можно подробнее прочитать:\n",
      "https://msk.kassir.ru/koncert/konservatoriya-chajkovskogo/amadey-live-in-concert_2018-12-29\n",
      "24254\n",
      "==================\n",
      "109 \n",
      "24264\n",
      "==================\n",
      "110 ✌👌\n",
      "24249\n",
      "==================\n",
      "111 Божественная музыка! Прекрасная группа!\n",
      "24253\n",
      "==================\n",
      "112 Как оно\n",
      "24246\n",
      "==================\n",
      "113 📌\n",
      "24261\n",
      "==================\n",
      "114 [club175622366|неплохо]👌🏻\n",
      "24233\n",
      "==================\n",
      "115 Hallo\n",
      "24235\n",
      "==================\n",
      "116 Ф.В.ГИНЗБУРГ. \"НАТАЛИ-ВАЛЬС\" ИСПОЛНЯЕТ АВТОР.\n",
      "https://www.youtube.com/watch?v=ilaPF_g4dV0\n",
      "24237\n",
      "==================\n",
      "117 \"ЭТО БЫЛА ВОЛШЕБНАЯ НОЧЬ...\" МУЗЫКА Ф.В.ГИНЗБУРГА. ИСП. АВТОР.\n",
      "https://www.youtube.com/watch?v=nmvm8FUReGk\n",
      "24238\n",
      "==================\n",
      "118 Ф.В.ГИНЗБУРГ. \"СВЕТЛАЯ ГРУСТЬ...\" ИСПОЛНЯЕТ АВТОР.\n",
      "https://www.youtube.com/watch?v=HR98OoeLTzk&index=126&list=PLN428v7ztWwBthmLN5sPx_VetKhvlPHms\n",
      "24239\n",
      "==================\n",
      "119 Пожизненная подборка...\n",
      "24218\n",
      "==================\n",
      "120 😢😢😔😔\n",
      "24219\n",
      "==================\n",
      "121 Музыка для тех, кому ХОЧЕТСЯ погрустить! А если Вы уже в печали, то не стоит ее слушать, вгонит в еще большую грусть.\n",
      "24222\n",
      "==================\n",
      "122 [id81398697|Вера], у всех по-разному работает)\n",
      "24227\n",
      "==================\n",
      "123 как раз вовремя\n",
      "24228\n",
      "==================\n",
      "124 😌\n",
      "24236\n",
      "==================\n",
      "125 класс, чё за город??\n",
      "24223\n",
      "==================\n",
      "126 А про что это?\n",
      "24242\n",
      "==================\n",
      "127 [id243640711|Людмила], конечно же про любовь)\n",
      "24243\n",
      "==================\n",
      "128 \n",
      "24257\n",
      "==================\n",
      "129 \n",
      "24258\n",
      "==================\n",
      "130 💖\n",
      "24262\n",
      "==================\n",
      "131 \n",
      "24252\n",
      "==================\n",
      "132 Кстати, любителям классики (не знаю, где написать в соответствующей теме):\n",
      "АМАДЕЙ, концерт в консерватории 29 декабря. Не смогу пойти - есть билеты в партер. Отдам с большой скидкой. Тут можно подробнее прочитать:\n",
      "https://msk.kassir.ru/koncert/konservatoriya-chajkovskogo/amadey-live-in-concert_2018-12-29\n",
      "24254\n",
      "==================\n",
      "133 \n",
      "24264\n",
      "==================\n",
      "134 ✌👌\n",
      "24249\n",
      "==================\n",
      "135 Божественная музыка! Прекрасная группа!\n",
      "24253\n",
      "==================\n",
      "136 Как оно\n",
      "24246\n",
      "==================\n",
      "137 📌\n",
      "24261\n",
      "==================\n",
      "138 [club175622366|неплохо]👌🏻\n",
      "24233\n",
      "==================\n",
      "139 Hallo\n",
      "24235\n",
      "==================\n",
      "140 Ф.В.ГИНЗБУРГ. \"НАТАЛИ-ВАЛЬС\" ИСПОЛНЯЕТ АВТОР.\n",
      "https://www.youtube.com/watch?v=ilaPF_g4dV0\n",
      "24237\n",
      "==================\n",
      "141 \"ЭТО БЫЛА ВОЛШЕБНАЯ НОЧЬ...\" МУЗЫКА Ф.В.ГИНЗБУРГА. ИСП. АВТОР.\n",
      "https://www.youtube.com/watch?v=nmvm8FUReGk\n",
      "24238\n",
      "==================\n",
      "142 Ф.В.ГИНЗБУРГ. \"СВЕТЛАЯ ГРУСТЬ...\" ИСПОЛНЯЕТ АВТОР.\n",
      "https://www.youtube.com/watch?v=HR98OoeLTzk&index=126&list=PLN428v7ztWwBthmLN5sPx_VetKhvlPHms\n",
      "24239\n",
      "==================\n",
      "143 Пожизненная подборка...\n",
      "24218\n",
      "==================\n",
      "144 😢😢😔😔\n",
      "24219\n",
      "==================\n",
      "145 Музыка для тех, кому ХОЧЕТСЯ погрустить! А если Вы уже в печали, то не стоит ее слушать, вгонит в еще большую грусть.\n",
      "24222\n",
      "==================\n",
      "146 [id81398697|Вера], у всех по-разному работает)\n",
      "24227\n",
      "==================\n",
      "147 как раз вовремя\n",
      "24228\n",
      "==================\n",
      "148 😌\n",
      "24236\n",
      "==================\n",
      "149 класс, чё за город??\n",
      "24223\n",
      "==================\n",
      "150 Что вытворил барабанщик 😃😃\n",
      "24208\n",
      "==================\n",
      "151 Почитайте блог А. Богомаз Мир без чудес\n",
      "24211\n",
      "==================\n",
      "152 А про что это?\n",
      "24242\n",
      "==================\n",
      "153 [id243640711|Людмила], конечно же про любовь)\n",
      "24243\n",
      "==================\n",
      "154 \n",
      "24257\n",
      "==================\n",
      "155 \n",
      "24258\n",
      "==================\n",
      "156 💖\n",
      "24262\n",
      "==================\n",
      "157 \n",
      "24252\n",
      "==================\n",
      "158 Кстати, любителям классики (не знаю, где написать в соответствующей теме):\n",
      "АМАДЕЙ, концерт в консерватории 29 декабря. Не смогу пойти - есть билеты в партер. Отдам с большой скидкой. Тут можно подробнее прочитать:\n",
      "https://msk.kassir.ru/koncert/konservatoriya-chajkovskogo/amadey-live-in-concert_2018-12-29\n",
      "24254\n",
      "==================\n",
      "159 \n",
      "24264\n",
      "==================\n",
      "160 ✌👌\n",
      "24249\n",
      "==================\n",
      "161 Божественная музыка! Прекрасная группа!\n",
      "24253\n",
      "==================\n",
      "162 Как оно\n",
      "24246\n",
      "==================\n",
      "163 📌\n",
      "24261\n",
      "==================\n",
      "164 [club175622366|неплохо]👌🏻\n",
      "24233\n",
      "==================\n",
      "165 Hallo\n",
      "24235\n",
      "==================\n",
      "166 Ф.В.ГИНЗБУРГ. \"НАТАЛИ-ВАЛЬС\" ИСПОЛНЯЕТ АВТОР.\n",
      "https://www.youtube.com/watch?v=ilaPF_g4dV0\n",
      "24237\n",
      "==================\n",
      "167 \"ЭТО БЫЛА ВОЛШЕБНАЯ НОЧЬ...\" МУЗЫКА Ф.В.ГИНЗБУРГА. ИСП. АВТОР.\n",
      "https://www.youtube.com/watch?v=nmvm8FUReGk\n",
      "24238\n",
      "==================\n",
      "168 Ф.В.ГИНЗБУРГ. \"СВЕТЛАЯ ГРУСТЬ...\" ИСПОЛНЯЕТ АВТОР.\n",
      "https://www.youtube.com/watch?v=HR98OoeLTzk&index=126&list=PLN428v7ztWwBthmLN5sPx_VetKhvlPHms\n",
      "24239\n",
      "==================\n",
      "169 Пожизненная подборка...\n",
      "24218\n",
      "==================\n",
      "170 😢😢😔😔\n",
      "24219\n",
      "==================\n",
      "171 Музыка для тех, кому ХОЧЕТСЯ погрустить! А если Вы уже в печали, то не стоит ее слушать, вгонит в еще большую грусть.\n",
      "24222\n",
      "==================\n",
      "172 [id81398697|Вера], у всех по-разному работает)\n",
      "24227\n",
      "==================\n",
      "173 как раз вовремя\n",
      "24228\n",
      "==================\n",
      "174 😌\n",
      "24236\n",
      "==================\n",
      "175 класс, чё за город??\n",
      "24223\n",
      "==================\n",
      "176 Что вытворил барабанщик 😃😃\n",
      "24208\n",
      "==================\n",
      "177 Почитайте блог А. Богомаз Мир без чудес\n",
      "24211\n",
      "==================\n",
      "178 👍\n",
      "24190\n",
      "==================\n",
      "179 📌\n",
      "24191\n",
      "==================\n",
      "180 А про что это?\n",
      "24242\n",
      "==================\n",
      "181 [id243640711|Людмила], конечно же про любовь)\n",
      "24243\n",
      "==================\n",
      "182 \n",
      "24257\n",
      "==================\n",
      "183 \n",
      "24258\n",
      "==================\n",
      "184 💖\n",
      "24262\n",
      "==================\n",
      "185 \n",
      "24252\n",
      "==================\n",
      "186 Кстати, любителям классики (не знаю, где написать в соответствующей теме):\n",
      "АМАДЕЙ, концерт в консерватории 29 декабря. Не смогу пойти - есть билеты в партер. Отдам с большой скидкой. Тут можно подробнее прочитать:\n",
      "https://msk.kassir.ru/koncert/konservatoriya-chajkovskogo/amadey-live-in-concert_2018-12-29\n",
      "24254\n",
      "==================\n",
      "187 \n",
      "24264\n",
      "==================\n",
      "188 ✌👌\n",
      "24249\n",
      "==================\n",
      "189 Божественная музыка! Прекрасная группа!\n",
      "24253\n",
      "==================\n",
      "190 Как оно\n",
      "24246\n",
      "==================\n",
      "191 📌\n",
      "24261\n",
      "==================\n",
      "192 [club175622366|неплохо]👌🏻\n",
      "24233\n",
      "==================\n",
      "193 Hallo\n",
      "24235\n",
      "==================\n",
      "194 Ф.В.ГИНЗБУРГ. \"НАТАЛИ-ВАЛЬС\" ИСПОЛНЯЕТ АВТОР.\n",
      "https://www.youtube.com/watch?v=ilaPF_g4dV0\n",
      "24237\n",
      "==================\n",
      "195 \"ЭТО БЫЛА ВОЛШЕБНАЯ НОЧЬ...\" МУЗЫКА Ф.В.ГИНЗБУРГА. ИСП. АВТОР.\n",
      "https://www.youtube.com/watch?v=nmvm8FUReGk\n",
      "24238\n",
      "==================\n",
      "196 Ф.В.ГИНЗБУРГ. \"СВЕТЛАЯ ГРУСТЬ...\" ИСПОЛНЯЕТ АВТОР.\n",
      "https://www.youtube.com/watch?v=HR98OoeLTzk&index=126&list=PLN428v7ztWwBthmLN5sPx_VetKhvlPHms\n",
      "24239\n",
      "==================\n",
      "197 Пожизненная подборка...\n",
      "24218\n",
      "==================\n",
      "198 😢😢😔😔\n",
      "24219\n",
      "==================\n",
      "199 Музыка для тех, кому ХОЧЕТСЯ погрустить! А если Вы уже в печали, то не стоит ее слушать, вгонит в еще большую грусть.\n",
      "24222\n",
      "==================\n"
     ]
    }
   ],
   "source": [
    "for i in range(200):\n",
    "    print(i, comments[i]['text'])\n",
    "    print(comments[i]['id'])\n",
    "    print('==================')"
   ]
  },
  {
   "cell_type": "code",
   "execution_count": 117,
   "metadata": {},
   "outputs": [],
   "source": [
    "# Сохраняем ну хоть что-нибудь... \n",
    "with open('../data/{}_group_comments_{}'.format(music_style, group_names[group_id]), 'wb') as f:\n",
    "    pickle.dump(group_users_dct, f)"
   ]
  },
  {
   "cell_type": "code",
   "execution_count": 118,
   "metadata": {},
   "outputs": [
    {
     "name": "stdout",
     "output_type": "stream",
     "text": [
      "classic_group_comments_classic_relax test.txt\r\n",
      "classic_group_users\r\n"
     ]
    }
   ],
   "source": [
    "!ls ../data"
   ]
  },
  {
   "cell_type": "markdown",
   "metadata": {},
   "source": [
    "## 1.3 Файл с топ-10 подписками по каждому подписчику"
   ]
  },
  {
   "cell_type": "code",
   "execution_count": null,
   "metadata": {},
   "outputs": [],
   "source": [
    "unique_users = group_users_dct['24164800'][:100]\n",
    "unique_users[:5]"
   ]
  },
  {
   "cell_type": "code",
   "execution_count": null,
   "metadata": {},
   "outputs": [],
   "source": [
    "def makePublicUrl(batch, token=token):\n",
    "    \"\"\"\n",
    "        Создаёт ссылку для метода execute на основе батчей пользователей для скачки пабликов\n",
    "            batch - батч из id \n",
    "            token - ключ доступа\n",
    "    \"\"\"\n",
    "    \n",
    "    # составляем ссылку из кусочков\n",
    "    begin = 'https://api.vk.com/method/execute?code=return['\n",
    "    end = '];&access_token='+token+'&v=5.78'\n",
    "    middle = ''\n",
    "    # для каждого пользователя из батча используем метод wall.get \n",
    "    for bt in batch:\n",
    "        middle += 'API.users.getSubscriptions({\"user_id\": \"'+str(bt)+'\"}),'   \n",
    "    return begin + middle[:-1] + end \n",
    "\n",
    "\n",
    "def getUsersPublics(uids):\n",
    "    \"\"\"\n",
    "    Достаёт список пабликов для всех людей из списка uids\n",
    "        uids - id людей \n",
    "    \"\"\"\n",
    "    \n",
    "    batches = makeBatch(uids) # дробим на батчи\n",
    "    \n",
    "    # сюда будем записывать соответсвие между юзером и пабликами \n",
    "    id_group_list = { }\n",
    "    \n",
    "    for item in tqdm_notebook(batches):\n",
    "        time.sleep(0.3)\n",
    "        response = requests.get(makePublicUrl(item))\n",
    "        cur_resp = response.json()['response']\n",
    "        \n",
    "        # распаковываем список подписок по подписчикам\n",
    "        for uid,cur in zip(item,cur_resp):\n",
    "            id_group_list[uid] = cur['groups']['items'][:10] # первые 10\n",
    "            \n",
    "    return(id_group_list)"
   ]
  },
  {
   "cell_type": "code",
   "execution_count": null,
   "metadata": {},
   "outputs": [],
   "source": [
    "users_top_publics = getUsersPublics(unique_users[:2])"
   ]
  },
  {
   "cell_type": "code",
   "execution_count": null,
   "metadata": {},
   "outputs": [],
   "source": [
    "users_top_publics"
   ]
  },
  {
   "cell_type": "code",
   "execution_count": null,
   "metadata": {},
   "outputs": [],
   "source": [
    "# Сохраняем это чудо "
   ]
  },
  {
   "cell_type": "code",
   "execution_count": null,
   "metadata": {},
   "outputs": [],
   "source": []
  },
  {
   "cell_type": "code",
   "execution_count": null,
   "metadata": {},
   "outputs": [],
   "source": []
  },
  {
   "cell_type": "code",
   "execution_count": null,
   "metadata": {},
   "outputs": [],
   "source": []
  },
  {
   "cell_type": "markdown",
   "metadata": {},
   "source": [
    "## 1.4 Файл со стенками подписчиков \n",
    "\n",
    "* Додумываем процедуру сбора"
   ]
  },
  {
   "cell_type": "code",
   "execution_count": null,
   "metadata": {},
   "outputs": [],
   "source": [
    "# !!! Внимание! По этому методу есть лимит в 10к запросов. Имеет смысл брать жанр, \n",
    "# после делать по нему случайную выборку в 15к людей и качать стенки только по ним !!!"
   ]
  },
  {
   "cell_type": "code",
   "execution_count": null,
   "metadata": {},
   "outputs": [],
   "source": [
    "def makeWallUrl(batch, token=token):\n",
    "    \"\"\"\n",
    "        Создаёт ссылку для метода execute на основе батчей пользователей\n",
    "    \"\"\"\n",
    "    # составляем ссылку из кусочков\n",
    "    begin = 'https://api.vk.com/method/execute?code=return['\n",
    "    end = '];&access_token='+token+'&v='+version\n",
    "    middle = ''\n",
    "    # для каждого пользователя из батча используем метод wall.get \n",
    "    for bt in batch:\n",
    "        middle += 'API.wall.get({\"owner_id\": \"'+str(bt)+'\",\"count\":\"100\"}),'\n",
    "        \n",
    "    return begin + middle[:-1] + end \n",
    "\n",
    "def getAllPosts(candidate):\n",
    "    \"\"\"\n",
    "        Возвращает список словарей, в каждом их которых посты пользователей\n",
    "    \"\"\"\n",
    "    \n",
    "    # инициализируем список для хранения постов\n",
    "    wall = []\n",
    "    # берем всех людей текущего кандидата\n",
    "    people = candidate_people[candidate]\n",
    "    \n",
    "    # рандомно перемешаем наших пользователей, чтобы обеспечить репрезентативность выборки\n",
    "    np.random.shuffle(people)\n",
    "    \n",
    "    # создадим свой небольшой класс для кастомной ошибки \n",
    "    # на случай превышения лимита запросов\n",
    "    class LimitExceeded(Exception):\n",
    "        pass\n",
    "    \n",
    "    # батчи пользователей\n",
    "    batches = makeBatch(people)\n",
    "    \n",
    "    # итерируем по батчам\n",
    "    for item in tqdm_notebook(batches):\n",
    "        # если насобирали 10 тысяч пользователей, останавливаемся\n",
    "        if len(wall) < 10000:\n",
    "            try:\n",
    "                # пробуем выгрузить по батчу стенки пользователей\n",
    "                res = requests.get(makeWallUrl(item))\n",
    "                res = res.json()['response']\n",
    "                \n",
    "                # если нас забанили (все респонсы пусты), поднимем ошибку\n",
    "                if res == [False]*25:\n",
    "                    raise LimitExceeded(\"Превышено число запросов\")\n",
    "                \n",
    "                # записываем полученные данные в список\n",
    "                wall.extend(res)\n",
    "                \n",
    "            except LimitExceeded:\n",
    "                # если забанили - подождем минутку, чтобы обновились лимиты запросов\n",
    "                time.sleep(60)\n",
    "                \n",
    "            # в конце каждой итерации ждем 2 секунды, чтобы не словить бан\n",
    "            time.sleep(2)\n",
    "        else:\n",
    "            break\n",
    "            \n",
    "    return wall"
   ]
  },
  {
   "cell_type": "markdown",
   "metadata": {},
   "source": [
    "## 1.5 Сотня последних постов с каждого паблика\n",
    "\n",
    "Мы скачали все топы подписок по каждому подписчику. Теперь нужно сделать по ним `set()`."
   ]
  },
  {
   "cell_type": "code",
   "execution_count": null,
   "metadata": {},
   "outputs": [],
   "source": [
    "# Тут появится код в самом-самом конце :3 "
   ]
  },
  {
   "cell_type": "code",
   "execution_count": null,
   "metadata": {},
   "outputs": [],
   "source": []
  },
  {
   "cell_type": "code",
   "execution_count": null,
   "metadata": {},
   "outputs": [],
   "source": []
  },
  {
   "cell_type": "code",
   "execution_count": null,
   "metadata": {},
   "outputs": [],
   "source": []
  },
  {
   "cell_type": "code",
   "execution_count": null,
   "metadata": {},
   "outputs": [],
   "source": [
    "# Сделать по аналогии для 100 постов с каждого паблика !!!\n",
    "\n",
    "def makePublicUrl(batch, token=token):\n",
    "    \"\"\"\n",
    "        Создаёт ссылку для метода execute на основе батчей пользователей для скачки пабликов\n",
    "            batch - батч из id \n",
    "            token - ключ доступа\n",
    "    \"\"\"\n",
    "    \n",
    "    # составляем ссылку из кусочков\n",
    "    begin = 'https://api.vk.com/method/execute?code=return['\n",
    "    end = '];&access_token='+token+'&v=5.78'\n",
    "    middle = ''\n",
    "    # для каждого пользователя из батча используем метод wall.get \n",
    "    for bt in batch:\n",
    "        middle += 'API.users.getSubscriptions({\"user_id\": \"'+str(bt)+'\"}),'   \n",
    "    return begin + middle[:-1] + end \n",
    "\n",
    "def getUsersPublics(uids):\n",
    "    \"\"\"\n",
    "    Достаёт список пабликов для всех людей из списка uids\n",
    "        uids - id людей \n",
    "    \"\"\"\n",
    "    \n",
    "    batches = makeBatch(uids) # дробим на батчи\n",
    "    \n",
    "    # сюда будем записывать соответсвие между юзером и пабликами \n",
    "    id_group_list = { }\n",
    "    \n",
    "    for item in tqdm_notebook(batches):\n",
    "        time.sleep(0.3)\n",
    "        response = requests.get(makePublicUrl(item))\n",
    "        cur_resp = response.json()['response']\n",
    "        \n",
    "        # распаковываем список подписок по подписчикам\n",
    "        for uid,cur in zip(item,cur_resp):\n",
    "            id_group_list[uid] = cur['groups']['items'][:10] # первые 10\n",
    "            \n",
    "    return(id_group_list)"
   ]
  },
  {
   "cell_type": "code",
   "execution_count": null,
   "metadata": {},
   "outputs": [],
   "source": []
  },
  {
   "cell_type": "code",
   "execution_count": null,
   "metadata": {},
   "outputs": [],
   "source": []
  },
  {
   "cell_type": "code",
   "execution_count": null,
   "metadata": {},
   "outputs": [],
   "source": []
  },
  {
   "cell_type": "code",
   "execution_count": null,
   "metadata": {},
   "outputs": [],
   "source": []
  },
  {
   "cell_type": "code",
   "execution_count": null,
   "metadata": {},
   "outputs": [],
   "source": []
  }
 ],
 "metadata": {
  "kernelspec": {
   "display_name": "Python 3",
   "language": "python",
   "name": "python3"
  },
  "language_info": {
   "codemirror_mode": {
    "name": "ipython",
    "version": 3
   },
   "file_extension": ".py",
   "mimetype": "text/x-python",
   "name": "python",
   "nbconvert_exporter": "python",
   "pygments_lexer": "ipython3",
   "version": "3.6.5"
  },
  "varInspector": {
   "cols": {
    "lenName": 16,
    "lenType": 16,
    "lenVar": 40
   },
   "kernels_config": {
    "python": {
     "delete_cmd_postfix": "",
     "delete_cmd_prefix": "del ",
     "library": "var_list.py",
     "varRefreshCmd": "print(var_dic_list())"
    },
    "r": {
     "delete_cmd_postfix": ") ",
     "delete_cmd_prefix": "rm(",
     "library": "var_list.r",
     "varRefreshCmd": "cat(var_dic_list()) "
    }
   },
   "types_to_exclude": [
    "module",
    "function",
    "builtin_function_or_method",
    "instance",
    "_Feature"
   ],
   "window_display": false
  }
 },
 "nbformat": 4,
 "nbformat_minor": 2
}
