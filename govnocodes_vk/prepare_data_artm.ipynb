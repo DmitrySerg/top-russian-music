{
 "cells": [
  {
   "cell_type": "markdown",
   "metadata": {},
   "source": [
    "# Готовим данные для ARTM\n",
    "\n",
    "В этом блокноте готовим данные, взятые из контакта для ARTM. Библиотека поддерживает [конкретные виды входа.](http://docs.bigartm.org/en/stable/tutorials/datasets.html) Будем перегонять их в **vowpal wabbit** формат, как наиболее хайповый. В нашей статье всё хайповое и трендовое. Также будем чистить данные от всякой мерзости и лемматизировать. "
   ]
  },
  {
   "cell_type": "code",
   "execution_count": 17,
   "metadata": {},
   "outputs": [],
   "source": [
    "import pandas as pd              # Пакет для работы с таблицами\n",
    "import numpy as np               # Пакет для работы с векторами и матрицами\n",
    "\n",
    "# Пакет для красивых циклов. При желании его можно отключить. \n",
    "# Тогда из всех циклов придётся  удалять команду tqdm_notebook.\n",
    "from tqdm import tqdm_notebook   # подробнее: https://github.com/tqdm/tqdm\n",
    "\n",
    "import re      # пакет для работы с регулярными выражениями \n",
    "import pickle  # пакет для подгрузки данных специфического для питона формата\n",
    "\n",
    "# работа со временем\n",
    "from datetime import datetime\n",
    "\n",
    "# Токенизатор\n",
    "from nltk.tokenize import RegexpTokenizer\n",
    "tokenizer = RegexpTokenizer(r'\\w+')\n",
    "\n",
    "# Лемматизатор (приводит слова к нормальной форме)\n",
    "import pymorphy2\n",
    "morph = pymorphy2.MorphAnalyzer()\n",
    "\n",
    "# Список стоп-слов\n",
    "from nltk.corpus import stopwords\n",
    "stop_ru = stopwords.words('russian')\n",
    "stop_en = stopwords.words('english')\n",
    "stop = stop_ru + stop_en\n",
    "\n",
    "# Для распараллеливания кода\n",
    "from joblib import Parallel, delayed\n",
    "\n",
    "# Для перемешивания\n",
    "from random import shuffle"
   ]
  },
  {
   "cell_type": "code",
   "execution_count": 2,
   "metadata": {},
   "outputs": [],
   "source": [
    "# Путь к данным\n",
    "path = '../data/'\n",
    "\n",
    "# жанры \n",
    "music = ['classic', 'rap', 'shanson', 'jazz']"
   ]
  },
  {
   "cell_type": "code",
   "execution_count": 3,
   "metadata": {},
   "outputs": [],
   "source": [
    "def dataLoad(music_name, path = path, data_type='group_comments'):\n",
    "    \"\"\" \n",
    "        Подгружает что-нибудь эдакое\n",
    "        music_name: string\n",
    "            название жанра\n",
    "        path: string\n",
    "            путь до директории с данными\n",
    "        data_type\n",
    "            суффикс файла (group_comments - комментарии, users_wall, ...) \n",
    "    \"\"\"\n",
    "    # подгружаем данные \n",
    "    with open(path + music_name + '_' + data_type, 'rb') as f:\n",
    "        df = pickle.load(f)\n",
    "    return df"
   ]
  },
  {
   "cell_type": "code",
   "execution_count": 4,
   "metadata": {},
   "outputs": [],
   "source": [
    "def dataLoadv2(music_name, path=path, data_type='group_comments'):\n",
    "    \"\"\" \n",
    "        Подгружает что-нибудь эдакое\n",
    "        music_name: string\n",
    "            название жанра\n",
    "        path: string\n",
    "            путь до директории с данными\n",
    "        data_type\n",
    "            суффикс файла (group_comments - комментарии, users_wall, ...) \n",
    "    \"\"\"\n",
    "    # находим все файлы директории\n",
    "    files = os.listdir(path='{}/{}/'.format(path, music_name))\n",
    "    files = [f for f in files if data_type in f]\n",
    "    \n",
    "    data = {}\n",
    "    # подгружаем данные \n",
    "    for file in files:\n",
    "        group_name = file.split(data_type+'_')[-1]\n",
    "        with open('{}/{}/{}'.format(path, music_name, file), 'rb') as f:\n",
    "            df = pickle.load(f)\n",
    "        data[group_name] = df\n",
    "    \n",
    "    return data"
   ]
  },
  {
   "cell_type": "code",
   "execution_count": 5,
   "metadata": {},
   "outputs": [],
   "source": [
    "def htmlStrip(text):\n",
    "    \"\"\" \n",
    "        Возвращает текст, очещенный от html тэгов\n",
    "        text: string\n",
    "            Текст поста \n",
    "    \"\"\"\n",
    "    \n",
    "    return re.sub('<[^<]+?>', '', str(text)) \n",
    "\n",
    "\n",
    "def tokenLemma(text, stop = stop):\n",
    "    \"\"\" \n",
    "        Возвращает список слов, очищенный от тэгов, пролемматизированный и без стоп слов\n",
    "        text: string\n",
    "            Текст поста\n",
    "        \n",
    "        parameters: list \n",
    "            stop: список из стоп-слов, example: ['политик', 'выбирать']\n",
    "    \"\"\"\n",
    "    \n",
    "    # понижение регистра, очистка от тэгов, токенизация\n",
    "    out_1 = tokenizer.tokenize(htmlStrip(text.lower()))\n",
    "    # лемматизация и очистка от стоп-слов, ещё выкидывает слова короче 3 символов\n",
    "    out_2 = [morph.parse(tx)[0].normal_form for tx in out_1 if tx not in stop and len(tx) > 2]\n",
    "    return ' '.join(out_2)"
   ]
  },
  {
   "cell_type": "markdown",
   "metadata": {},
   "source": [
    "## 1. Предобработка комментариев\n",
    "\n",
    "В конечном итоге нам нужно, чтобы каждый комментарий перегонялся в формат **vowpal wabbit:**\n",
    "\n",
    "```\n",
    "'popsa_бузова_4887563_208109_208174 |@default_class id289877716 глеб публикация какой какой число день какой коммент ольга ответить это плохой комментатор один видеть олечка ответить коммент|@likes 0 |@stickers sticker_1 sticker_2  |@audio николай басков шарманка |@video клип басков шарманка |@link плейлист киркоров |@emoji 😊😊😊'\n",
    "```\n",
    "\n",
    "Модальности: \n",
    "\n",
    "* имя коммента `жанр исполнитель id группы_id поста_id коммента`\n",
    "* текст коммента \n",
    "* число лайков\n",
    "* стикеры в комменте \n",
    "* название аудиозаписи, вложенной в коммент \n",
    "* название и описание видеозаписи, вложенной в коммент \n",
    "* ссылка на плейлист или ещё куда и её описание\n",
    "* эмодзи, которые были в комменте\n",
    "\n",
    "Именно в таком виде мы будем подавать комменты в модель для обучения. Кроме такого формата будем делать прмоежуточный: обычный массив из словарей с комментами. Его можно будет быстро отфильтровать по какому-то признаку, превратить в табличку и тп. Именно его будем использовать для сентимент-модели и матерных списков Олечки. "
   ]
  },
  {
   "cell_type": "code",
   "execution_count": 6,
   "metadata": {},
   "outputs": [],
   "source": [
    "def firstCommentPrepare(comment, style, performer):\n",
    "    \"\"\"\n",
    "        Первичная предобработка комментария в словарик\n",
    "    \"\"\"\n",
    "    \n",
    "    # интересные вложения\n",
    "    stickers = [ ]  # стикеры \n",
    "    audio = [ ]     # музыка \n",
    "    video = [ ]     # видяшки\n",
    "    # photo_cnt = 0   # счётчик для фоточек с красоточками\n",
    "    # doc_cnt = 0     # чаще всего это фотки либо гифки\n",
    "    link = [ ]      # ссылки на плейлисты или ещё куда\n",
    "        \n",
    "    if isinstance(comment, str):\n",
    "        print(comment)\n",
    "        return None\n",
    "\n",
    "    attach = comment.get('attachments')\n",
    "    if attach is not None:\n",
    "        for at in attach:\n",
    "            tp = at['type']\n",
    "            if tp == 'sticker':\n",
    "                stickers.append(tp + '_' + str(at[tp]['sticker_id']))\n",
    "            elif tp == 'audio':\n",
    "                audio.append(at[tp]['artist'] + ' ' + at[tp]['title'])\n",
    "            elif tp == 'video':\n",
    "                # из интересных вложений есть ещё shows, comments, duration\n",
    "                video.append(at[tp]['title'] + ' ' + at[tp]['description'])\n",
    "            # elif tp == 'photo':\n",
    "            #     photo_cnt += 1\n",
    "            # elif tp == 'doc':\n",
    "            #     doc_cnt += 1\n",
    "            elif tp == 'link':\n",
    "                link.append(at[tp]['title'] + ' ' + at[tp]['description']) \n",
    "                \n",
    "    # Выбрасываем из записи все символы, кроме эмодзи и редких символов вроде иероглифов         \n",
    "    emoji = re.sub('[a-яa-zA-ZА-Я -.,0-9<>:=;/_—@$^?–ё`%#*&!№…\\|/\\\"\\]\\[\\\"\\'\\n\\t”“’‘]','',comment['text'])\n",
    "                    \n",
    "    comment_infa = {     \n",
    "        'music_style' : style,\n",
    "        'performer' : performer,\n",
    "        'comment_id' :  str(comment['group_id']) + '_' + str(comment['post_id'])  + '_' + str(comment['id']),\n",
    "        'author' : str(comment['from_id']),\n",
    "        'likes' : str(comment['likes']),\n",
    "        'date' : datetime.utcfromtimestamp(comment['date']).strftime('%Y-%m-%d %H:%M:%S'),\n",
    "        'text' : tokenLemma(comment['text']),\n",
    "        'dirty_text' : comment['text'],\n",
    "        'emoji' : emoji if len(emoji) > 1 else None,\n",
    "        'stickers' : ' '.join(stickers) if len(stickers) > 0 else None, \n",
    "        'audio' : tokenLemma(' '.join(audio)) if len(audio) > 0 else None,\n",
    "        'video' : tokenLemma(' '.join(video)) if len(video) > 0 else None,\n",
    "        'link' : tokenLemma(' '.join(link)) if len(link) > 0 else None\n",
    "        }\n",
    "    return comment_infa\n",
    "\n",
    "\n",
    "def secondCommentPrepare(comment, modality=True):\n",
    "    \"\"\"\n",
    "    Вторичная предобработка комментариев из словаря в vw\n",
    "        comment : string \n",
    "            словарик с комментарием\n",
    "        modality : bool\n",
    "            нужны ли модальности по видео, аудио, ссылкам и тп\n",
    "    \"\"\"\n",
    "    # инфу про автора и дату я нигде не использую \n",
    "    comment_name = comment['music_style'] + '_' + comment['performer'] + '_' + comment['comment_id']\n",
    "    likes = '|@likes {} '.format(comment['likes'])\n",
    "    text = '|@default_class {}'.format(comment['text'])\n",
    "    \n",
    "    # базовая инфа для модели \n",
    "    comment_body = comment_name + text  + likes\n",
    "    \n",
    "    # дополнительные модальности \n",
    "    if modality:\n",
    "        if comment['stickers']:\n",
    "            comment_body = comment_body + ' |@stickers ' + comment['stickers']\n",
    "        if comment['audio']:\n",
    "            comment_body = comment_body + ' |@audio ' + comment['audio']\n",
    "        if comment['video']:\n",
    "            comment_body = comment_body + ' |@video ' + comment['video']\n",
    "        if comment['link']:\n",
    "            comment_body = comment_body + ' |@link ' + comment['link']\n",
    "        if comment['emoji']:\n",
    "            comment_body = comment_body + ' |@emoji ' + comment['emoji']\n",
    "        \n",
    "            \n",
    "    return comment_body"
   ]
  },
  {
   "cell_type": "code",
   "execution_count": 25,
   "metadata": {},
   "outputs": [
    {
     "data": {
      "text/plain": [
       "dict_keys(['jazz_music', 'jazz_джаз', 'best_jazz', 'e_music_jazz', 'jazz_от_тео'])"
      ]
     },
     "execution_count": 25,
     "metadata": {},
     "output_type": "execute_result"
    }
   ],
   "source": [
    "df = dataLoadv2('jazz')\n",
    "df.keys()"
   ]
  },
  {
   "cell_type": "code",
   "execution_count": 26,
   "metadata": {},
   "outputs": [
    {
     "data": {
      "text/plain": [
       "{'music_style': 'jazz',\n",
       " 'performer': 'jazz_music',\n",
       " 'comment_id': '81892801_3140_3141',\n",
       " 'author': '423170807',\n",
       " 'likes': '0',\n",
       " 'date': '2018-10-13 17:07:01',\n",
       " 'text': 'честь назвать книга',\n",
       " 'dirty_text': 'А так же в честь нее названа книга)',\n",
       " 'emoji': None,\n",
       " 'stickers': None,\n",
       " 'audio': None,\n",
       " 'video': None,\n",
       " 'link': None}"
      ]
     },
     "execution_count": 26,
     "metadata": {},
     "output_type": "execute_result"
    }
   ],
   "source": [
    "test = firstCommentPrepare(df['jazz_music'][10],'jazz','jazz_music')\n",
    "test"
   ]
  },
  {
   "cell_type": "code",
   "execution_count": 27,
   "metadata": {},
   "outputs": [
    {
     "data": {
      "text/plain": [
       "'jazz_jazz_music_81892801_3140_3141|@default_class честь назвать книга|@likes 0 '"
      ]
     },
     "execution_count": 27,
     "metadata": {},
     "output_type": "execute_result"
    }
   ],
   "source": [
    "secondCommentPrepare(test)"
   ]
  },
  {
   "cell_type": "code",
   "execution_count": 28,
   "metadata": {},
   "outputs": [
    {
     "data": {
      "text/plain": [
       "'jazz_jazz_music_81892801_3140_3141|@default_class честь назвать книга|@likes 0 '"
      ]
     },
     "execution_count": 28,
     "metadata": {},
     "output_type": "execute_result"
    }
   ],
   "source": [
    "secondCommentPrepare(test, modality=True)"
   ]
  },
  {
   "cell_type": "code",
   "execution_count": 32,
   "metadata": {
    "scrolled": true
   },
   "outputs": [
    {
     "data": {
      "application/vnd.jupyter.widget-view+json": {
       "model_id": "d07f9b6d0fa342308306fda77b7dbab7",
       "version_major": 2,
       "version_minor": 0
      },
      "text/plain": [
       "HBox(children=(IntProgress(value=0, max=11), HTML(value='')))"
      ]
     },
     "metadata": {},
     "output_type": "display_data"
    },
    {
     "name": "stdout",
     "output_type": "stream",
     "text": [
      "Предобрабатывают classic\n"
     ]
    },
    {
     "data": {
      "application/vnd.jupyter.widget-view+json": {
       "model_id": "04d39bafaf9a41318392cef336534061",
       "version_major": 2,
       "version_minor": 0
      },
      "text/plain": [
       "HBox(children=(IntProgress(value=0, max=1084), HTML(value='')))"
      ]
     },
     "metadata": {},
     "output_type": "display_data"
    },
    {
     "name": "stdout",
     "output_type": "stream",
     "text": [
      "Текущее число комментариев: 1084\n",
      "Предобрабатывают classic\n"
     ]
    },
    {
     "data": {
      "application/vnd.jupyter.widget-view+json": {
       "model_id": "d607a9f8c7744464ad79026a084555f5",
       "version_major": 2,
       "version_minor": 0
      },
      "text/plain": [
       "HBox(children=(IntProgress(value=0, max=23), HTML(value='')))"
      ]
     },
     "metadata": {},
     "output_type": "display_data"
    },
    {
     "name": "stdout",
     "output_type": "stream",
     "text": [
      "Текущее число комментариев: 1107\n",
      "Предобрабатывают classic\n"
     ]
    },
    {
     "data": {
      "application/vnd.jupyter.widget-view+json": {
       "model_id": "4d879134997a4be19fd61a9fd6800f59",
       "version_major": 2,
       "version_minor": 0
      },
      "text/plain": [
       "HBox(children=(IntProgress(value=0, max=3644), HTML(value='')))"
      ]
     },
     "metadata": {},
     "output_type": "display_data"
    },
    {
     "name": "stdout",
     "output_type": "stream",
     "text": [
      "Текущее число комментариев: 4751\n",
      "Предобрабатывают classic\n"
     ]
    },
    {
     "data": {
      "application/vnd.jupyter.widget-view+json": {
       "model_id": "4c422e45447b4943950d243727fef343",
       "version_major": 2,
       "version_minor": 0
      },
      "text/plain": [
       "HBox(children=(IntProgress(value=0, max=887), HTML(value='')))"
      ]
     },
     "metadata": {},
     "output_type": "display_data"
    },
    {
     "name": "stdout",
     "output_type": "stream",
     "text": [
      "Текущее число комментариев: 5638\n",
      "Предобрабатывают classic\n"
     ]
    },
    {
     "data": {
      "application/vnd.jupyter.widget-view+json": {
       "model_id": "fc080190b608469a83e2ec16bf8c4740",
       "version_major": 2,
       "version_minor": 0
      },
      "text/plain": [
       "HBox(children=(IntProgress(value=0, max=2072), HTML(value='')))"
      ]
     },
     "metadata": {},
     "output_type": "display_data"
    },
    {
     "name": "stdout",
     "output_type": "stream",
     "text": [
      "Текущее число комментариев: 7710\n",
      "Предобрабатывают classic\n"
     ]
    },
    {
     "data": {
      "application/vnd.jupyter.widget-view+json": {
       "model_id": "54c8d61cf3f94822b018f224eff90881",
       "version_major": 2,
       "version_minor": 0
      },
      "text/plain": [
       "HBox(children=(IntProgress(value=0, max=557), HTML(value='')))"
      ]
     },
     "metadata": {},
     "output_type": "display_data"
    },
    {
     "name": "stdout",
     "output_type": "stream",
     "text": [
      "Текущее число комментариев: 8267\n",
      "Предобрабатывают classic\n"
     ]
    },
    {
     "data": {
      "application/vnd.jupyter.widget-view+json": {
       "model_id": "0c7d39ceefd343ab941d89f1f09e182a",
       "version_major": 2,
       "version_minor": 0
      },
      "text/plain": [
       "HBox(children=(IntProgress(value=0, max=355), HTML(value='')))"
      ]
     },
     "metadata": {},
     "output_type": "display_data"
    },
    {
     "name": "stdout",
     "output_type": "stream",
     "text": [
      "Текущее число комментариев: 8622\n",
      "Предобрабатывают classic\n"
     ]
    },
    {
     "data": {
      "application/vnd.jupyter.widget-view+json": {
       "model_id": "2663de53d65f4da0b7bbfd9721aead3e",
       "version_major": 2,
       "version_minor": 0
      },
      "text/plain": [
       "HBox(children=(IntProgress(value=0, max=10), HTML(value='')))"
      ]
     },
     "metadata": {},
     "output_type": "display_data"
    },
    {
     "name": "stdout",
     "output_type": "stream",
     "text": [
      "Текущее число комментариев: 8632\n",
      "Предобрабатывают classic\n"
     ]
    },
    {
     "data": {
      "application/vnd.jupyter.widget-view+json": {
       "model_id": "e662f4f75d624f8082c2490dbcefecfd",
       "version_major": 2,
       "version_minor": 0
      },
      "text/plain": [
       "HBox(children=(IntProgress(value=0, max=115010), HTML(value='')))"
      ]
     },
     "metadata": {},
     "output_type": "display_data"
    },
    {
     "name": "stdout",
     "output_type": "stream",
     "text": [
      "Текущее число комментариев: 123642\n",
      "Предобрабатывают classic\n"
     ]
    },
    {
     "data": {
      "application/vnd.jupyter.widget-view+json": {
       "model_id": "79f55a67241f4eb58ce41595435985c4",
       "version_major": 2,
       "version_minor": 0
      },
      "text/plain": [
       "HBox(children=(IntProgress(value=0, max=376), HTML(value='')))"
      ]
     },
     "metadata": {},
     "output_type": "display_data"
    },
    {
     "name": "stdout",
     "output_type": "stream",
     "text": [
      "Текущее число комментариев: 124018\n",
      "Предобрабатывают classic\n"
     ]
    },
    {
     "data": {
      "application/vnd.jupyter.widget-view+json": {
       "model_id": "fdcd730b59784a65aea34eae5cb641aa",
       "version_major": 2,
       "version_minor": 0
      },
      "text/plain": [
       "HBox(children=(IntProgress(value=0, max=2415), HTML(value='')))"
      ]
     },
     "metadata": {},
     "output_type": "display_data"
    },
    {
     "name": "stdout",
     "output_type": "stream",
     "text": [
      "Текущее число комментариев: 126433\n"
     ]
    },
    {
     "data": {
      "application/vnd.jupyter.widget-view+json": {
       "model_id": "56bc3e44284f40cea1d231f808dd6143",
       "version_major": 2,
       "version_minor": 0
      },
      "text/plain": [
       "HBox(children=(IntProgress(value=0, max=14), HTML(value='')))"
      ]
     },
     "metadata": {},
     "output_type": "display_data"
    },
    {
     "name": "stdout",
     "output_type": "stream",
     "text": [
      "Предобрабатывают rap\n"
     ]
    },
    {
     "data": {
      "application/vnd.jupyter.widget-view+json": {
       "model_id": "759a641aab184f38b2d8014c7fa92ba9",
       "version_major": 2,
       "version_minor": 0
      },
      "text/plain": [
       "HBox(children=(IntProgress(value=0, max=302901), HTML(value='')))"
      ]
     },
     "metadata": {},
     "output_type": "display_data"
    },
    {
     "name": "stdout",
     "output_type": "stream",
     "text": [
      "Текущее число комментариев: 429334\n",
      "Предобрабатывают rap\n"
     ]
    },
    {
     "data": {
      "application/vnd.jupyter.widget-view+json": {
       "model_id": "dcbce5575b9f43c7a3d1679c35c22a98",
       "version_major": 2,
       "version_minor": 0
      },
      "text/plain": [
       "HBox(children=(IntProgress(value=0, max=170847), HTML(value='')))"
      ]
     },
     "metadata": {},
     "output_type": "display_data"
    },
    {
     "name": "stdout",
     "output_type": "stream",
     "text": [
      "Текущее число комментариев: 600181\n",
      "Предобрабатывают rap\n"
     ]
    },
    {
     "data": {
      "application/vnd.jupyter.widget-view+json": {
       "model_id": "3b51acdeafd146d6a52c1740b29dbb20",
       "version_major": 2,
       "version_minor": 0
      },
      "text/plain": [
       "HBox(children=(IntProgress(value=0, max=222487), HTML(value='')))"
      ]
     },
     "metadata": {},
     "output_type": "display_data"
    },
    {
     "name": "stdout",
     "output_type": "stream",
     "text": [
      "Текущее число комментариев: 822668\n",
      "Предобрабатывают rap\n"
     ]
    },
    {
     "data": {
      "application/vnd.jupyter.widget-view+json": {
       "model_id": "c28a84d103e84fbba6e229badeb8be2d",
       "version_major": 2,
       "version_minor": 0
      },
      "text/plain": [
       "HBox(children=(IntProgress(value=0, max=90962), HTML(value='')))"
      ]
     },
     "metadata": {},
     "output_type": "display_data"
    },
    {
     "name": "stdout",
     "output_type": "stream",
     "text": [
      "Текущее число комментариев: 913630\n",
      "Предобрабатывают rap\n"
     ]
    },
    {
     "data": {
      "application/vnd.jupyter.widget-view+json": {
       "model_id": "31b4b26cf0d740809077b9af9fa9f60b",
       "version_major": 2,
       "version_minor": 0
      },
      "text/plain": [
       "HBox(children=(IntProgress(value=0, max=135375), HTML(value='')))"
      ]
     },
     "metadata": {},
     "output_type": "display_data"
    },
    {
     "name": "stdout",
     "output_type": "stream",
     "text": [
      "Текущее число комментариев: 1049005\n",
      "Предобрабатывают rap\n"
     ]
    },
    {
     "data": {
      "application/vnd.jupyter.widget-view+json": {
       "model_id": "db400c708f304acbaa5671d09515453d",
       "version_major": 2,
       "version_minor": 0
      },
      "text/plain": [
       "HBox(children=(IntProgress(value=0, max=231782), HTML(value='')))"
      ]
     },
     "metadata": {},
     "output_type": "display_data"
    },
    {
     "name": "stdout",
     "output_type": "stream",
     "text": [
      "Текущее число комментариев: 1280787\n",
      "Предобрабатывают rap\n"
     ]
    },
    {
     "data": {
      "application/vnd.jupyter.widget-view+json": {
       "model_id": "a79face637f346138ecb21b9dc263f2b",
       "version_major": 2,
       "version_minor": 0
      },
      "text/plain": [
       "HBox(children=(IntProgress(value=0, max=224611), HTML(value='')))"
      ]
     },
     "metadata": {},
     "output_type": "display_data"
    },
    {
     "name": "stdout",
     "output_type": "stream",
     "text": [
      "Текущее число комментариев: 1505398\n",
      "Предобрабатывают rap\n"
     ]
    },
    {
     "data": {
      "application/vnd.jupyter.widget-view+json": {
       "model_id": "bbc1c2d6ba2d4ee48476abf2b67095b7",
       "version_major": 2,
       "version_minor": 0
      },
      "text/plain": [
       "HBox(children=(IntProgress(value=0, max=58228), HTML(value='')))"
      ]
     },
     "metadata": {},
     "output_type": "display_data"
    },
    {
     "name": "stdout",
     "output_type": "stream",
     "text": [
      "Текущее число комментариев: 1563626\n",
      "Предобрабатывают rap\n"
     ]
    },
    {
     "data": {
      "application/vnd.jupyter.widget-view+json": {
       "model_id": "79657fc8cd5d45938bf8b29d46a40ef4",
       "version_major": 2,
       "version_minor": 0
      },
      "text/plain": [
       "HBox(children=(IntProgress(value=0, max=228252), HTML(value='')))"
      ]
     },
     "metadata": {},
     "output_type": "display_data"
    },
    {
     "name": "stdout",
     "output_type": "stream",
     "text": [
      "Текущее число комментариев: 1791878\n",
      "Предобрабатывают rap\n"
     ]
    },
    {
     "data": {
      "application/vnd.jupyter.widget-view+json": {
       "model_id": "2d58e49b231c49e38a19f6ecfb5ef979",
       "version_major": 2,
       "version_minor": 0
      },
      "text/plain": [
       "HBox(children=(IntProgress(value=0, max=158356), HTML(value='')))"
      ]
     },
     "metadata": {},
     "output_type": "display_data"
    },
    {
     "name": "stdout",
     "output_type": "stream",
     "text": [
      "Текущее число комментариев: 1950234\n",
      "Предобрабатывают rap\n"
     ]
    },
    {
     "data": {
      "application/vnd.jupyter.widget-view+json": {
       "model_id": "ebd457d121e14aa89e54c19e05433f0c",
       "version_major": 2,
       "version_minor": 0
      },
      "text/plain": [
       "HBox(children=(IntProgress(value=0, max=559224), HTML(value='')))"
      ]
     },
     "metadata": {},
     "output_type": "display_data"
    },
    {
     "name": "stdout",
     "output_type": "stream",
     "text": [
      "Текущее число комментариев: 2509458\n",
      "Предобрабатывают rap\n"
     ]
    },
    {
     "data": {
      "application/vnd.jupyter.widget-view+json": {
       "model_id": "809065eedfe940f38c6c068324d563f8",
       "version_major": 2,
       "version_minor": 0
      },
      "text/plain": [
       "HBox(children=(IntProgress(value=0, max=26456), HTML(value='')))"
      ]
     },
     "metadata": {},
     "output_type": "display_data"
    },
    {
     "name": "stdout",
     "output_type": "stream",
     "text": [
      "Текущее число комментариев: 2535914\n",
      "Предобрабатывают rap\n"
     ]
    },
    {
     "data": {
      "application/vnd.jupyter.widget-view+json": {
       "model_id": "9e19c8ffbcb945cfbae2767487cbf3be",
       "version_major": 2,
       "version_minor": 0
      },
      "text/plain": [
       "HBox(children=(IntProgress(value=0, max=12765), HTML(value='')))"
      ]
     },
     "metadata": {},
     "output_type": "display_data"
    },
    {
     "name": "stdout",
     "output_type": "stream",
     "text": [
      "Текущее число комментариев: 2548679\n",
      "Предобрабатывают rap\n"
     ]
    },
    {
     "data": {
      "application/vnd.jupyter.widget-view+json": {
       "model_id": "9c8c60e07fd845cc907561ea24cad1fd",
       "version_major": 2,
       "version_minor": 0
      },
      "text/plain": [
       "HBox(children=(IntProgress(value=0, max=34394), HTML(value='')))"
      ]
     },
     "metadata": {},
     "output_type": "display_data"
    },
    {
     "name": "stdout",
     "output_type": "stream",
     "text": [
      "Текущее число комментариев: 2583073\n"
     ]
    },
    {
     "data": {
      "application/vnd.jupyter.widget-view+json": {
       "model_id": "10dd9f2959ed47e2a6504e9ed9e27e45",
       "version_major": 2,
       "version_minor": 0
      },
      "text/plain": [
       "HBox(children=(IntProgress(value=0, max=10), HTML(value='')))"
      ]
     },
     "metadata": {},
     "output_type": "display_data"
    },
    {
     "name": "stdout",
     "output_type": "stream",
     "text": [
      "Предобрабатывают shanson\n"
     ]
    },
    {
     "data": {
      "application/vnd.jupyter.widget-view+json": {
       "model_id": "bbaf881db30f47ecb316c62e332efdaa",
       "version_major": 2,
       "version_minor": 0
      },
      "text/plain": [
       "HBox(children=(IntProgress(value=0, max=4076), HTML(value='')))"
      ]
     },
     "metadata": {},
     "output_type": "display_data"
    },
    {
     "name": "stdout",
     "output_type": "stream",
     "text": [
      "Текущее число комментариев: 2587149\n",
      "Предобрабатывают shanson\n"
     ]
    },
    {
     "data": {
      "application/vnd.jupyter.widget-view+json": {
       "model_id": "02b584a6063a4d80ab618e0dd83fa367",
       "version_major": 2,
       "version_minor": 0
      },
      "text/plain": [
       "HBox(children=(IntProgress(value=0, max=9265), HTML(value='')))"
      ]
     },
     "metadata": {},
     "output_type": "display_data"
    },
    {
     "name": "stdout",
     "output_type": "stream",
     "text": [
      "Текущее число комментариев: 2596414\n",
      "Предобрабатывают shanson\n"
     ]
    },
    {
     "data": {
      "application/vnd.jupyter.widget-view+json": {
       "model_id": "191a341710344c72b1f1c4d9b665e261",
       "version_major": 2,
       "version_minor": 0
      },
      "text/plain": [
       "HBox(children=(IntProgress(value=0, max=9801), HTML(value='')))"
      ]
     },
     "metadata": {},
     "output_type": "display_data"
    },
    {
     "name": "stdout",
     "output_type": "stream",
     "text": [
      "Текущее число комментариев: 2606215\n",
      "Предобрабатывают shanson\n"
     ]
    },
    {
     "data": {
      "application/vnd.jupyter.widget-view+json": {
       "model_id": "ba257c17dfdb4e32aa68d7738f738903",
       "version_major": 2,
       "version_minor": 0
      },
      "text/plain": [
       "HBox(children=(IntProgress(value=0, max=2622), HTML(value='')))"
      ]
     },
     "metadata": {},
     "output_type": "display_data"
    },
    {
     "name": "stdout",
     "output_type": "stream",
     "text": [
      "Текущее число комментариев: 2608837\n",
      "Предобрабатывают shanson\n"
     ]
    },
    {
     "data": {
      "application/vnd.jupyter.widget-view+json": {
       "model_id": "ad92aa1eb2584903b8d9e20225ab0038",
       "version_major": 2,
       "version_minor": 0
      },
      "text/plain": [
       "HBox(children=(IntProgress(value=0, max=25304), HTML(value='')))"
      ]
     },
     "metadata": {},
     "output_type": "display_data"
    },
    {
     "name": "stdout",
     "output_type": "stream",
     "text": [
      "Текущее число комментариев: 2634141\n",
      "Предобрабатывают shanson\n"
     ]
    },
    {
     "data": {
      "application/vnd.jupyter.widget-view+json": {
       "model_id": "765d527a9b6d40028442febb7e62cd29",
       "version_major": 2,
       "version_minor": 0
      },
      "text/plain": [
       "HBox(children=(IntProgress(value=0, max=17163), HTML(value='')))"
      ]
     },
     "metadata": {},
     "output_type": "display_data"
    },
    {
     "name": "stdout",
     "output_type": "stream",
     "text": [
      "Текущее число комментариев: 2651304\n",
      "Предобрабатывают shanson\n"
     ]
    },
    {
     "data": {
      "application/vnd.jupyter.widget-view+json": {
       "model_id": "66009603576848a29c14600f2405490a",
       "version_major": 2,
       "version_minor": 0
      },
      "text/plain": [
       "HBox(children=(IntProgress(value=0, max=5744), HTML(value='')))"
      ]
     },
     "metadata": {},
     "output_type": "display_data"
    },
    {
     "name": "stdout",
     "output_type": "stream",
     "text": [
      "Текущее число комментариев: 2657048\n",
      "Предобрабатывают shanson\n"
     ]
    },
    {
     "data": {
      "application/vnd.jupyter.widget-view+json": {
       "model_id": "6d02601c7d6f45acadcbdf5bcdf14c8e",
       "version_major": 2,
       "version_minor": 0
      },
      "text/plain": [
       "HBox(children=(IntProgress(value=0, max=3075), HTML(value='')))"
      ]
     },
     "metadata": {},
     "output_type": "display_data"
    },
    {
     "name": "stdout",
     "output_type": "stream",
     "text": [
      "Текущее число комментариев: 2660123\n",
      "Предобрабатывают shanson\n"
     ]
    },
    {
     "data": {
      "application/vnd.jupyter.widget-view+json": {
       "model_id": "6d7becf51685463a9bae430fac20ff7d",
       "version_major": 2,
       "version_minor": 0
      },
      "text/plain": [
       "HBox(children=(IntProgress(value=0, max=1357), HTML(value='')))"
      ]
     },
     "metadata": {},
     "output_type": "display_data"
    },
    {
     "name": "stdout",
     "output_type": "stream",
     "text": [
      "Текущее число комментариев: 2661480\n",
      "Предобрабатывают shanson\n"
     ]
    },
    {
     "data": {
      "application/vnd.jupyter.widget-view+json": {
       "model_id": "50e0601fced54850bab4414d92a2cd78",
       "version_major": 2,
       "version_minor": 0
      },
      "text/plain": [
       "HBox(children=(IntProgress(value=0, max=19271), HTML(value='')))"
      ]
     },
     "metadata": {},
     "output_type": "display_data"
    },
    {
     "name": "stdout",
     "output_type": "stream",
     "text": [
      "Текущее число комментариев: 2680751\n"
     ]
    },
    {
     "data": {
      "application/vnd.jupyter.widget-view+json": {
       "model_id": "d6692c63a64f4fc393e15aefdadcaffa",
       "version_major": 2,
       "version_minor": 0
      },
      "text/plain": [
       "HBox(children=(IntProgress(value=0, max=5), HTML(value='')))"
      ]
     },
     "metadata": {},
     "output_type": "display_data"
    },
    {
     "name": "stdout",
     "output_type": "stream",
     "text": [
      "Предобрабатывают jazz\n"
     ]
    },
    {
     "data": {
      "application/vnd.jupyter.widget-view+json": {
       "model_id": "d7d11024076645939d95d817bb5d1828",
       "version_major": 2,
       "version_minor": 0
      },
      "text/plain": [
       "HBox(children=(IntProgress(value=0, max=43), HTML(value='')))"
      ]
     },
     "metadata": {},
     "output_type": "display_data"
    },
    {
     "name": "stdout",
     "output_type": "stream",
     "text": [
      "Текущее число комментариев: 2680794\n",
      "Предобрабатывают jazz\n"
     ]
    },
    {
     "data": {
      "application/vnd.jupyter.widget-view+json": {
       "model_id": "f772c861f40e4e3a84384769f8919f0d",
       "version_major": 2,
       "version_minor": 0
      },
      "text/plain": [
       "HBox(children=(IntProgress(value=0, max=21244), HTML(value='')))"
      ]
     },
     "metadata": {},
     "output_type": "display_data"
    },
    {
     "name": "stdout",
     "output_type": "stream",
     "text": [
      "Текущее число комментариев: 2702038\n",
      "Предобрабатывают jazz\n"
     ]
    },
    {
     "data": {
      "application/vnd.jupyter.widget-view+json": {
       "model_id": "cd39ce46485c42328d075652b0451191",
       "version_major": 2,
       "version_minor": 0
      },
      "text/plain": [
       "HBox(children=(IntProgress(value=0, max=23529), HTML(value='')))"
      ]
     },
     "metadata": {},
     "output_type": "display_data"
    },
    {
     "name": "stdout",
     "output_type": "stream",
     "text": [
      "Текущее число комментариев: 2725567\n",
      "Предобрабатывают jazz\n"
     ]
    },
    {
     "data": {
      "application/vnd.jupyter.widget-view+json": {
       "model_id": "ccd3987840034c77aafcec9f44e29f8d",
       "version_major": 2,
       "version_minor": 0
      },
      "text/plain": [
       "HBox(children=(IntProgress(value=0, max=1925), HTML(value='')))"
      ]
     },
     "metadata": {},
     "output_type": "display_data"
    },
    {
     "name": "stdout",
     "output_type": "stream",
     "text": [
      "Текущее число комментариев: 2727492\n",
      "Предобрабатывают jazz\n"
     ]
    },
    {
     "data": {
      "application/vnd.jupyter.widget-view+json": {
       "model_id": "b17e7e552e4b433e991439a35279ae9f",
       "version_major": 2,
       "version_minor": 0
      },
      "text/plain": [
       "HBox(children=(IntProgress(value=0, max=15229), HTML(value='')))"
      ]
     },
     "metadata": {},
     "output_type": "display_data"
    },
    {
     "name": "stdout",
     "output_type": "stream",
     "text": [
      "Текущее число комментариев: 2742721\n"
     ]
    }
   ],
   "source": [
    "comments = [ ]\n",
    "\n",
    "for name in music:\n",
    "    df = dataLoadv2(name)\n",
    "    \n",
    "    for key in tqdm_notebook(df):\n",
    "        print('Предобрабатывают',name)\n",
    "        # Внимание, костыль! \n",
    "        def prCom(w):\n",
    "            return firstCommentPrepare(w,name,key)\n",
    "        \n",
    "        n_jobs = -1 # параллелим на все ядра \n",
    "        result = Parallel(n_jobs=n_jobs)(delayed(prCom)(text) for text in tqdm_notebook(df[key]))\n",
    "        comments.extend(result)\n",
    "        print('Текущее число комментариев:', len(comments))"
   ]
  },
  {
   "cell_type": "code",
   "execution_count": 33,
   "metadata": {},
   "outputs": [
    {
     "name": "stdout",
     "output_type": "stream",
     "text": [
      "2742721\n"
     ]
    },
    {
     "data": {
      "text/plain": [
       "{'music_style': 'classic',\n",
       " 'performer': 'inclassic',\n",
       " 'comment_id': '26484100_3572_3573',\n",
       " 'author': '176733397',\n",
       " 'likes': '58',\n",
       " 'date': '2015-11-15 20:35:30',\n",
       " 'text': 'просто огромный спасибо такой чудесный подборка настроение',\n",
       " 'dirty_text': 'Просто огромное спасибо за такую чудесную подборку! \\nКак раз под настроение!',\n",
       " 'emoji': None,\n",
       " 'stickers': None,\n",
       " 'audio': None,\n",
       " 'video': None,\n",
       " 'link': None}"
      ]
     },
     "execution_count": 33,
     "metadata": {},
     "output_type": "execute_result"
    }
   ],
   "source": [
    "print(len(comments))\n",
    "comments[0]"
   ]
  },
  {
   "cell_type": "code",
   "execution_count": 35,
   "metadata": {},
   "outputs": [
    {
     "data": {
      "text/plain": [
       "{'music_style': 'classic',\n",
       " 'performer': 'inclassic',\n",
       " 'comment_id': '95470601_100826_113382',\n",
       " 'author': '373874355',\n",
       " 'likes': '4',\n",
       " 'date': '2017-09-11 17:52:23',\n",
       " 'text': 'посмотреть разнообразный сравнивать трек это просто разный человек быть знать фейс включить этот трек поверить это человек творчество это просто история однако спасибо новый альбом трек репить',\n",
       " 'dirty_text': 'Вот вы только посмотрите как он разнообразен.\\nЕсли сравнивать 1 трек и 2 - это просто 2 разных человека. \\nЕсли бы я будучи не зная фейса и мне включили 2 этих трека, я бы не поверила, что это один человек, да.\\nЕго творчество это просто как какая-то история.\\nОднако спасибо за новый альбом.\\n1 трек на репите.',\n",
       " 'emoji': None,\n",
       " 'stickers': None,\n",
       " 'audio': None,\n",
       " 'video': None,\n",
       " 'link': None}"
      ]
     },
     "execution_count": 35,
     "metadata": {},
     "output_type": "execute_result"
    }
   ],
   "source": [
    "shuffle(comments) # перемешаем комменты\n",
    "comments[0]"
   ]
  },
  {
   "cell_type": "code",
   "execution_count": 36,
   "metadata": {},
   "outputs": [
    {
     "data": {
      "text/plain": [
       "'classic_rap_shanson_jazz'"
      ]
     },
     "execution_count": 36,
     "metadata": {},
     "output_type": "execute_result"
    }
   ],
   "source": [
    "'_'.join(music)"
   ]
  },
  {
   "cell_type": "code",
   "execution_count": 37,
   "metadata": {},
   "outputs": [],
   "source": [
    "# сохраним предобработанные данные \n",
    "with open('../data/{}_clean_comments'.format('_'.join(music)), 'wb') as f:\n",
    "    pickle.dump(comments, f)"
   ]
  },
  {
   "cell_type": "code",
   "execution_count": 10,
   "metadata": {},
   "outputs": [],
   "source": [
    "with open('../data/{}_clean_comments'.format('_'.join(music)), 'rb') as f:\n",
    "    comments = pickle.load(f)"
   ]
  },
  {
   "cell_type": "code",
   "execution_count": 11,
   "metadata": {},
   "outputs": [
    {
     "data": {
      "text/plain": [
       "2742721"
      ]
     },
     "execution_count": 11,
     "metadata": {},
     "output_type": "execute_result"
    }
   ],
   "source": [
    "len(comments)"
   ]
  },
  {
   "cell_type": "code",
   "execution_count": 12,
   "metadata": {},
   "outputs": [],
   "source": [
    "comments = [com for com in comments if com!=None]"
   ]
  },
  {
   "cell_type": "code",
   "execution_count": 13,
   "metadata": {},
   "outputs": [
    {
     "data": {
      "text/plain": [
       "1858741"
      ]
     },
     "execution_count": 13,
     "metadata": {},
     "output_type": "execute_result"
    }
   ],
   "source": [
    "# отфильтруем слишком короткие комменты (меньше 10 символов) \n",
    "# тут же надо будет сделать сурьёзные махинации с отбором комментов по длине и сэмплом по жанрам \n",
    "comments = [com for com in comments if len(com['text']) > 10]\n",
    "len(comments)"
   ]
  },
  {
   "cell_type": "code",
   "execution_count": 14,
   "metadata": {},
   "outputs": [
    {
     "data": {
      "application/vnd.jupyter.widget-view+json": {
       "model_id": "7a4c62e781824e1fa8e8df9f6da5065b",
       "version_major": 2,
       "version_minor": 0
      },
      "text/plain": [
       "HBox(children=(IntProgress(value=0, max=1858741), HTML(value='')))"
      ]
     },
     "metadata": {},
     "output_type": "display_data"
    },
    {
     "name": "stdout",
     "output_type": "stream",
     "text": [
      "\n"
     ]
    }
   ],
   "source": [
    "n_jobs = -1 # параллелим на все ядра \n",
    "artm_result = Parallel(n_jobs=n_jobs)(delayed(secondCommentPrepare)(\n",
    "    text) for text in tqdm_notebook(comments))"
   ]
  },
  {
   "cell_type": "code",
   "execution_count": 15,
   "metadata": {},
   "outputs": [
    {
     "data": {
      "text/plain": [
       "'classic_inclassic_95470601_100826_113382|@default_class посмотреть разнообразный сравнивать трек это просто разный человек быть знать фейс включить этот трек поверить это человек творчество это просто история однако спасибо новый альбом трек репить|@likes 4 '"
      ]
     },
     "execution_count": 15,
     "metadata": {},
     "output_type": "execute_result"
    }
   ],
   "source": [
    "artm_result[0]"
   ]
  },
  {
   "cell_type": "code",
   "execution_count": 16,
   "metadata": {},
   "outputs": [
    {
     "data": {
      "application/vnd.jupyter.widget-view+json": {
       "model_id": "40181594270649d89f37f0101a681658",
       "version_major": 2,
       "version_minor": 0
      },
      "text/plain": [
       "HBox(children=(IntProgress(value=0, max=1858741), HTML(value='')))"
      ]
     },
     "metadata": {},
     "output_type": "display_data"
    },
    {
     "name": "stdout",
     "output_type": "stream",
     "text": [
      "\n"
     ]
    }
   ],
   "source": [
    "# сохраняем полученное добро \n",
    "with open('../data_artm/classic_rap_shanson_jazz_comments_v1', 'a') as out:\n",
    "    for item in tqdm_notebook(artm_result):\n",
    "        out.write(\"{}\\n\".format(item))"
   ]
  },
  {
   "cell_type": "code",
   "execution_count": 8,
   "metadata": {},
   "outputs": [],
   "source": [
    "with open('../data_artm/classic_rap_shanson_jazz_comments_v1', 'r') as f:\n",
    "    comments = f.read()"
   ]
  },
  {
   "cell_type": "code",
   "execution_count": 18,
   "metadata": {},
   "outputs": [
    {
     "data": {
      "text/plain": [
       "[{'music_style': 'classic',\n",
       "  'performer': 'inclassic',\n",
       "  'comment_id': '95470601_100826_113382',\n",
       "  'author': '373874355',\n",
       "  'likes': '4',\n",
       "  'date': '2017-09-11 17:52:23',\n",
       "  'text': 'посмотреть разнообразный сравнивать трек это просто разный человек быть знать фейс включить этот трек поверить это человек творчество это просто история однако спасибо новый альбом трек репить',\n",
       "  'dirty_text': 'Вот вы только посмотрите как он разнообразен.\\nЕсли сравнивать 1 трек и 2 - это просто 2 разных человека. \\nЕсли бы я будучи не зная фейса и мне включили 2 этих трека, я бы не поверила, что это один человек, да.\\nЕго творчество это просто как какая-то история.\\nОднако спасибо за новый альбом.\\n1 трек на репите.',\n",
       "  'emoji': None,\n",
       "  'stickers': None,\n",
       "  'audio': None,\n",
       "  'video': None,\n",
       "  'link': None},\n",
       " {'music_style': 'classic',\n",
       "  'performer': 'inclassic',\n",
       "  'comment_id': '38213334_118857_118889',\n",
       "  'author': '86352833',\n",
       "  'likes': '0',\n",
       "  'date': '2015-08-04 19:31:08',\n",
       "  'text': 'дать бог мечта исполниться готовый смотреть идти свой цель',\n",
       "  'dirty_text': 'Дай бог чтоб все мечты исполнились у всех кто готов ни смотря ни на что идти к своим целям!!',\n",
       "  'emoji': None,\n",
       "  'stickers': None,\n",
       "  'audio': None,\n",
       "  'video': None,\n",
       "  'link': None},\n",
       " {'music_style': 'classic',\n",
       "  'performer': 'inclassic',\n",
       "  'comment_id': '3113588_241497_241569',\n",
       "  'author': '162104724',\n",
       "  'likes': '1',\n",
       "  'date': '2015-11-13 12:15:38',\n",
       "  'text': 'id302059637 андрей сегодня должный альбом',\n",
       "  'dirty_text': '[id302059637|Андрей], сегодня должен быть альбом???',\n",
       "  'emoji': None,\n",
       "  'stickers': None,\n",
       "  'audio': None,\n",
       "  'video': None,\n",
       "  'link': None},\n",
       " {'music_style': 'classic',\n",
       "  'performer': 'inclassic',\n",
       "  'comment_id': '38213334_275928_276039',\n",
       "  'author': '134239349',\n",
       "  'likes': '0',\n",
       "  'date': '2017-12-05 13:42:41',\n",
       "  'text': 'брать свой тигр',\n",
       "  'dirty_text': 'Все или ничего, Бери Своё, Тигр',\n",
       "  'emoji': None,\n",
       "  'stickers': None,\n",
       "  'audio': None,\n",
       "  'video': None,\n",
       "  'link': None},\n",
       " {'music_style': 'classic',\n",
       "  'performer': 'inclassic',\n",
       "  'comment_id': '77521_425288_425301',\n",
       "  'author': '40254644',\n",
       "  'likes': '6',\n",
       "  'date': '2017-01-03 14:19:42',\n",
       "  'text': 'хороший трек монеточка гоша рубчинский',\n",
       "  'dirty_text': 'Лучший трек: Монеточка - Гоша Рубчинский)))0))',\n",
       "  'emoji': None,\n",
       "  'stickers': None,\n",
       "  'audio': None,\n",
       "  'video': None,\n",
       "  'link': None},\n",
       " {'music_style': 'classic',\n",
       "  'performer': 'inclassic',\n",
       "  'comment_id': '3113588_95825_96915',\n",
       "  'author': '93930645',\n",
       "  'likes': '0',\n",
       "  'date': '2012-02-27 20:41:25',\n",
       "  'text': 'id97597686 серёг хахах',\n",
       "  'dirty_text': '[id97597686|Серёга], ХАХАХА',\n",
       "  'emoji': None,\n",
       "  'stickers': None,\n",
       "  'audio': None,\n",
       "  'video': None,\n",
       "  'link': None},\n",
       " {'music_style': 'classic',\n",
       "  'performer': 'inclassic',\n",
       "  'comment_id': '18022279_19824_20152',\n",
       "  'author': '273719759',\n",
       "  'likes': '2',\n",
       "  'date': '2017-06-23 05:59:42',\n",
       "  'text': 'сказать бомбальбом',\n",
       "  'dirty_text': 'ну что сказать, БОМБАЛЬБОМ',\n",
       "  'emoji': None,\n",
       "  'stickers': None,\n",
       "  'audio': None,\n",
       "  'video': None,\n",
       "  'link': None},\n",
       " {'music_style': 'classic',\n",
       "  'performer': 'inclassic',\n",
       "  'comment_id': '97439489_161696_161808',\n",
       "  'author': '456862822',\n",
       "  'likes': '3',\n",
       "  'date': '2018-01-30 14:35:56',\n",
       "  'text': 'санкт петербург',\n",
       "  'dirty_text': 'Санкт-Петербург',\n",
       "  'emoji': None,\n",
       "  'stickers': None,\n",
       "  'audio': None,\n",
       "  'video': None,\n",
       "  'link': None},\n",
       " {'music_style': 'classic',\n",
       "  'performer': 'inclassic',\n",
       "  'comment_id': '148220303_137204_137222',\n",
       "  'author': '506373458',\n",
       "  'likes': '2',\n",
       "  'date': '2018-10-31 16:38:50',\n",
       "  'text': 'бошка дымиться',\n",
       "  'dirty_text': 'А бошки дымятся',\n",
       "  'emoji': None,\n",
       "  'stickers': None,\n",
       "  'audio': None,\n",
       "  'video': None,\n",
       "  'link': None},\n",
       " {'music_style': 'classic',\n",
       "  'performer': 'inclassic',\n",
       "  'comment_id': '1415705_385754_386156',\n",
       "  'author': '259677343',\n",
       "  'likes': '0',\n",
       "  'date': '2015-03-15 16:03:18',\n",
       "  'text': 'васянить опопсел',\n",
       "  'dirty_text': 'Васяня опопсел(',\n",
       "  'emoji': None,\n",
       "  'stickers': None,\n",
       "  'audio': None,\n",
       "  'video': None,\n",
       "  'link': None},\n",
       " {'music_style': 'classic',\n",
       "  'performer': 'inclassic',\n",
       "  'comment_id': '48749102_29633_29641',\n",
       "  'author': '399343847',\n",
       "  'likes': '1',\n",
       "  'date': '2017-05-09 08:59:35',\n",
       "  'text': 'id179733088 іванна никто хотеть обидеть выразить свой личный мнение играть нишевый музыка который лично любить телик остаться клубный винницкий команда музыка это известность заработок худой',\n",
       "  'dirty_text': '[id179733088|Іванна], никого не хотел обидеть. Выразил свое личное мнение. \\nИграют \"нишевую\" музыку, которую лично я люблю. Без телика, так и остались бы \"клубной винницкой командой\". Для музыки это было бы лучше, для известности и заработков - хуже.',\n",
       "  'emoji': None,\n",
       "  'stickers': None,\n",
       "  'audio': None,\n",
       "  'video': None,\n",
       "  'link': None},\n",
       " {'music_style': 'classic',\n",
       "  'performer': 'inclassic',\n",
       "  'comment_id': '97439489_271859_271882',\n",
       "  'author': '398162127',\n",
       "  'likes': '0',\n",
       "  'date': '2018-10-01 15:19:31',\n",
       "  'text': 'id297490214 дима работа просто обработать фотка',\n",
       "  'dirty_text': '[id297490214|Дима], какая работа, я просто обработала фотку🤣',\n",
       "  'emoji': None,\n",
       "  'stickers': None,\n",
       "  'audio': None,\n",
       "  'video': None,\n",
       "  'link': None},\n",
       " {'music_style': 'classic',\n",
       "  'performer': 'inclassic',\n",
       "  'comment_id': '1415705_340839_342580',\n",
       "  'author': '181649817',\n",
       "  'likes': '9',\n",
       "  'date': '2014-12-16 11:45:58',\n",
       "  'text': 'id217628205 давид гавный это',\n",
       "  'dirty_text': '[id217628205|Давид], гавно это ты!!!)))',\n",
       "  'emoji': None,\n",
       "  'stickers': None,\n",
       "  'audio': None,\n",
       "  'video': None,\n",
       "  'link': None},\n",
       " {'music_style': 'classic',\n",
       "  'performer': 'inclassic',\n",
       "  'comment_id': '1415705_379999_380003',\n",
       "  'author': '281292554',\n",
       "  'likes': '1',\n",
       "  'date': '2015-03-04 13:03:15',\n",
       "  'text': 'здравствовать',\n",
       "  'dirty_text': 'Здравствуйте.. ✋ 👍 ✌ ☝',\n",
       "  'emoji': '✋👍✌☝',\n",
       "  'stickers': None,\n",
       "  'audio': None,\n",
       "  'video': None,\n",
       "  'link': None},\n",
       " {'music_style': 'classic',\n",
       "  'performer': 'inclassic',\n",
       "  'comment_id': '847771_105438_105463',\n",
       "  'author': '229727314',\n",
       "  'likes': '0',\n",
       "  'date': '2016-07-04 10:00:25',\n",
       "  'text': 'id366876349 маргарита говорить это мой',\n",
       "  'dirty_text': '[id366876349|Маргарита], я и не говорю что это мои',\n",
       "  'emoji': None,\n",
       "  'stickers': None,\n",
       "  'audio': None,\n",
       "  'video': None,\n",
       "  'link': None},\n",
       " {'music_style': 'classic',\n",
       "  'performer': 'inclassic',\n",
       "  'comment_id': '30314549_43690_65153',\n",
       "  'author': '222346188',\n",
       "  'likes': '0',\n",
       "  'date': '2017-08-20 18:35:00',\n",
       "  'text': 'ммм весь утихнуть',\n",
       "  'dirty_text': 'Ммм всё уже утихло',\n",
       "  'emoji': None,\n",
       "  'stickers': None,\n",
       "  'audio': None,\n",
       "  'video': None,\n",
       "  'link': None},\n",
       " {'music_style': 'classic',\n",
       "  'performer': 'inclassic',\n",
       "  'comment_id': '38213334_6254_6396',\n",
       "  'author': '60966016',\n",
       "  'likes': '0',\n",
       "  'date': '2013-04-11 13:33:12',\n",
       "  'text': 'club38213334 one black star inc one black star inc простить информация давать предстоящий выступление облако кутузовский находиться',\n",
       "  'dirty_text': \"[club38213334|L'ONE | BLACK STAR Inc. ✔], L'ONE | BLACK STAR Inc. ✔, простите! тогда можно чуть больше информации давать о предстоящих выступлениях? Облака на Кутузовском находятся?\",\n",
       "  'emoji': '✔✔',\n",
       "  'stickers': None,\n",
       "  'audio': None,\n",
       "  'video': None,\n",
       "  'link': None},\n",
       " {'music_style': 'classic',\n",
       "  'performer': 'inclassic',\n",
       "  'comment_id': '1415705_607229_607778',\n",
       "  'author': '280078688',\n",
       "  'likes': '0',\n",
       "  'date': '2016-09-16 13:21:37',\n",
       "  'text': 'кто угодный',\n",
       "  'dirty_text': 'кого угодно',\n",
       "  'emoji': None,\n",
       "  'stickers': None,\n",
       "  'audio': None,\n",
       "  'video': None,\n",
       "  'link': None},\n",
       " {'music_style': 'classic',\n",
       "  'performer': 'inclassic',\n",
       "  'comment_id': '1415705_149383_150743',\n",
       "  'author': '117797933',\n",
       "  'likes': '0',\n",
       "  'date': '2012-10-19 11:58:53',\n",
       "  'text': 'сказать школьник',\n",
       "  'dirty_text': 'Сказал школьник...',\n",
       "  'emoji': None,\n",
       "  'stickers': None,\n",
       "  'audio': None,\n",
       "  'video': None,\n",
       "  'link': None},\n",
       " {'music_style': 'classic',\n",
       "  'performer': 'inclassic',\n",
       "  'comment_id': '38213334_12415_13590',\n",
       "  'author': '158841810',\n",
       "  'likes': '0',\n",
       "  'date': '2013-08-24 18:34:50',\n",
       "  'text': 'id132572694 дмитрий слушать ловить мысль это слышать',\n",
       "  'dirty_text': '[id132572694|Дмитрий], я такой слушаю,потом ловлю себя на мысли,что где-то это уже слышал)',\n",
       "  'emoji': None,\n",
       "  'stickers': None,\n",
       "  'audio': None,\n",
       "  'video': None,\n",
       "  'link': None},\n",
       " {'music_style': 'classic',\n",
       "  'performer': 'inclassic',\n",
       "  'comment_id': '30314549_75383_76138',\n",
       "  'author': '404717198',\n",
       "  'likes': '0',\n",
       "  'date': '2017-10-02 19:58:38',\n",
       "  'text': 'id201275800 валерий быть смотреть выпуск',\n",
       "  'dirty_text': '[id201275800|Валерия], будешь смотреть этот выпуск??',\n",
       "  'emoji': None,\n",
       "  'stickers': None,\n",
       "  'audio': None,\n",
       "  'video': None,\n",
       "  'link': None},\n",
       " {'music_style': 'classic',\n",
       "  'performer': 'inclassic',\n",
       "  'comment_id': '847771_80233_81270',\n",
       "  'author': '354011401',\n",
       "  'likes': '0',\n",
       "  'date': '2016-04-27 07:24:32',\n",
       "  'text': 'гитара играть',\n",
       "  'dirty_text': 'я тоже на гитаре играю',\n",
       "  'emoji': None,\n",
       "  'stickers': None,\n",
       "  'audio': None,\n",
       "  'video': None,\n",
       "  'link': None},\n",
       " {'music_style': 'classic',\n",
       "  'performer': 'inclassic',\n",
       "  'comment_id': '97439489_301190_301325',\n",
       "  'author': '178370173',\n",
       "  'likes': '1',\n",
       "  'date': '2018-11-24 19:14:14',\n",
       "  'text': 'id464055265 black warum nein sie ist neu',\n",
       "  'dirty_text': '[id464055265|Black], warum \"nein\"? Sie ist neu.🙂',\n",
       "  'emoji': None,\n",
       "  'stickers': None,\n",
       "  'audio': None,\n",
       "  'video': None,\n",
       "  'link': None},\n",
       " {'music_style': 'classic',\n",
       "  'performer': 'inclassic',\n",
       "  'comment_id': '1415705_345083_347915',\n",
       "  'author': '214256070',\n",
       "  'likes': '1',\n",
       "  'date': '2014-12-26 14:57:38',\n",
       "  'text': 'id274560093 big эээ нигер хйиня говорить',\n",
       "  'dirty_text': '[id274560093|Big], эээ нигер , хйиню не говори',\n",
       "  'emoji': None,\n",
       "  'stickers': None,\n",
       "  'audio': None,\n",
       "  'video': None,\n",
       "  'link': None},\n",
       " {'music_style': 'classic',\n",
       "  'performer': 'inclassic',\n",
       "  'comment_id': '1415705_460864_460953',\n",
       "  'author': '187966277',\n",
       "  'likes': '10',\n",
       "  'date': '2015-09-26 07:19:44',\n",
       "  'text': 'id36654618 андрей такой сложный цель интересный уверенный причём вес вася чуйка тот сразу сказать гнаться профессионал посмотреть очень интересно получиться выиграть сделать худой другой болеть михаил талантище',\n",
       "  'dirty_text': '[id36654618|Андрей], есть такое,но чем сложнее цель тем интересней, уверен что и из этого что то будет причём не так как у вес.у Васи чуйка)))к тому же он сразу сказал что не гонится за профессионалами.посмотрим,очень интересно что получится.может и не выиграет но сделает не хуже других,болеем за Михалыча!Талантище!',\n",
       "  'emoji': None,\n",
       "  'stickers': None,\n",
       "  'audio': None,\n",
       "  'video': None,\n",
       "  'link': None},\n",
       " {'music_style': 'classic',\n",
       "  'performer': 'inclassic',\n",
       "  'comment_id': '30314549_127397_127425',\n",
       "  'author': '465163258',\n",
       "  'likes': '4',\n",
       "  'date': '2018-04-08 18:47:34',\n",
       "  'text': 'делать фанатеть лсп ты отпускать концерт',\n",
       "  'dirty_text': 'Чё делать если ты фанатеешь от ЛСП но тебе нет 18 и тебя не отпускают на концерт',\n",
       "  'emoji': None,\n",
       "  'stickers': None,\n",
       "  'audio': None,\n",
       "  'video': None,\n",
       "  'link': None},\n",
       " {'music_style': 'classic',\n",
       "  'performer': 'inclassic',\n",
       "  'comment_id': '847771_8558_8586',\n",
       "  'author': '224230019',\n",
       "  'likes': '3',\n",
       "  'date': '2014-05-04 10:07:18',\n",
       "  'text': 'никто ебета слушать',\n",
       "  'dirty_text': 'Никого не ебет что ты слушаешь',\n",
       "  'emoji': None,\n",
       "  'stickers': None,\n",
       "  'audio': None,\n",
       "  'video': None,\n",
       "  'link': None},\n",
       " {'music_style': 'classic',\n",
       "  'performer': 'inclassic',\n",
       "  'comment_id': '97439489_282632_282740',\n",
       "  'author': '151462561',\n",
       "  'likes': '0',\n",
       "  'date': '2018-10-23 08:42:20',\n",
       "  'text': 'концерт фараон москва ноябрь билет',\n",
       "  'dirty_text': 'Концерт фараона\\nМосква 4 ноября , у меня билеты',\n",
       "  'emoji': None,\n",
       "  'stickers': None,\n",
       "  'audio': None,\n",
       "  'video': None,\n",
       "  'link': None},\n",
       " {'music_style': 'classic',\n",
       "  'performer': 'inclassic',\n",
       "  'comment_id': '85512864_247744_248557',\n",
       "  'author': '419503176',\n",
       "  'likes': '0',\n",
       "  'date': '2017-09-25 16:50:03',\n",
       "  'text': 'заплаканный',\n",
       "  'dirty_text': 'Заплаканная',\n",
       "  'emoji': None,\n",
       "  'stickers': None,\n",
       "  'audio': None,\n",
       "  'video': None,\n",
       "  'link': None},\n",
       " {'music_style': 'classic',\n",
       "  'performer': 'inclassic',\n",
       "  'comment_id': '1415705_559352_562891',\n",
       "  'author': '188136939',\n",
       "  'likes': '0',\n",
       "  'date': '2016-04-22 17:15:06',\n",
       "  'text': 'собираться вася взять газзза кто чита',\n",
       "  'dirty_text': 'Собирается ли Вася взять в ГАЗЗЗ кого из Читы???',\n",
       "  'emoji': None,\n",
       "  'stickers': None,\n",
       "  'audio': None,\n",
       "  'video': None,\n",
       "  'link': None},\n",
       " {'music_style': 'classic',\n",
       "  'performer': 'inclassic',\n",
       "  'comment_id': '3113588_369211_370058',\n",
       "  'author': '346221850',\n",
       "  'likes': '4',\n",
       "  'date': '2016-10-28 13:46:37',\n",
       "  'text': 'id276706726 марат распечатать',\n",
       "  'dirty_text': '[id276706726|Марат], а если будет  распечатан -ничего?',\n",
       "  'emoji': None,\n",
       "  'stickers': None,\n",
       "  'audio': None,\n",
       "  'video': None,\n",
       "  'link': None},\n",
       " {'music_style': 'classic',\n",
       "  'performer': 'inclassic',\n",
       "  'comment_id': '77521_180946_180954',\n",
       "  'author': '122268382',\n",
       "  'likes': '18',\n",
       "  'date': '2012-09-03 17:57:31',\n",
       "  'text': 'повезти сосед один квартира никто жить сосед порой батлы случаться кто музыка громкий',\n",
       "  'dirty_text': 'А мне повезло с соседями :)\\nВ одной квартире никто не живет, с соседями из другой у нас порой батлы случаются - у кого музыка громче %)',\n",
       "  'emoji': None,\n",
       "  'stickers': None,\n",
       "  'audio': None,\n",
       "  'video': None,\n",
       "  'link': None},\n",
       " {'music_style': 'classic',\n",
       "  'performer': 'inclassic',\n",
       "  'comment_id': '30609426_669_672',\n",
       "  'author': '1077396',\n",
       "  'likes': '0',\n",
       "  'date': '2011-12-01 10:31:20',\n",
       "  'text': 'id10975086 олег помнится заслушиваться альбом дюк именно композиция',\n",
       "  'dirty_text': '[id10975086|Олег], да, помнится сам заслушивался тем альбомом Дюка, и именно этой композицией с него.ю',\n",
       "  'emoji': None,\n",
       "  'stickers': None,\n",
       "  'audio': None,\n",
       "  'video': None,\n",
       "  'link': None},\n",
       " {'music_style': 'classic',\n",
       "  'performer': 'inclassic',\n",
       "  'comment_id': '847771_40173_40207',\n",
       "  'author': '265138756',\n",
       "  'likes': '0',\n",
       "  'date': '2015-08-12 13:58:29',\n",
       "  'text': 'блин давать мотька отдохнуть нормальный',\n",
       "  'dirty_text': 'Блин не дают Мотьке отдохнуть нормально(',\n",
       "  'emoji': None,\n",
       "  'stickers': None,\n",
       "  'audio': None,\n",
       "  'video': None,\n",
       "  'link': None},\n",
       " {'music_style': 'classic',\n",
       "  'performer': 'inclassic',\n",
       "  'comment_id': '120376084_11807_12949',\n",
       "  'author': '356144595',\n",
       "  'likes': '3',\n",
       "  'date': '2016-11-12 05:21:58',\n",
       "  'text': 'панама вообще вписываться',\n",
       "  'dirty_text': 'Панама вообще не вписывается',\n",
       "  'emoji': None,\n",
       "  'stickers': None,\n",
       "  'audio': None,\n",
       "  'video': None,\n",
       "  'link': None},\n",
       " {'music_style': 'classic',\n",
       "  'performer': 'inclassic',\n",
       "  'comment_id': '1415705_191127_191159',\n",
       "  'author': '135743942',\n",
       "  'likes': '0',\n",
       "  'date': '2013-04-23 12:07:56',\n",
       "  'text': 'везти ребята ddd',\n",
       "  'dirty_text': 'Везёт вам ребята:DDD',\n",
       "  'emoji': None,\n",
       "  'stickers': None,\n",
       "  'audio': None,\n",
       "  'video': None,\n",
       "  'link': None},\n",
       " {'music_style': 'classic',\n",
       "  'performer': 'inclassic',\n",
       "  'comment_id': '97439489_309268_309346',\n",
       "  'author': '495057133',\n",
       "  'likes': '0',\n",
       "  'date': '2018-12-15 12:37:35',\n",
       "  'text': 'id471686519 алесь охуенно спасиб',\n",
       "  'dirty_text': '[id471686519|Алеся], охуенно спасиб😍🤗❤❤',\n",
       "  'emoji': '😍🤗❤❤',\n",
       "  'stickers': None,\n",
       "  'audio': None,\n",
       "  'video': None,\n",
       "  'link': None},\n",
       " {'music_style': 'classic',\n",
       "  'performer': 'inclassic',\n",
       "  'comment_id': '10697541_147144_147162',\n",
       "  'author': '304284926',\n",
       "  'likes': '3',\n",
       "  'date': '2018-12-27 09:33:04',\n",
       "  'text': 'пушка ебать',\n",
       "  'dirty_text': 'Пушка ебать',\n",
       "  'emoji': None,\n",
       "  'stickers': None,\n",
       "  'audio': None,\n",
       "  'video': None,\n",
       "  'link': None},\n",
       " {'music_style': 'classic',\n",
       "  'performer': 'inclassic',\n",
       "  'comment_id': '847771_174784_174798',\n",
       "  'author': '206175574',\n",
       "  'likes': '1',\n",
       "  'date': '2017-03-07 10:32:41',\n",
       "  'text': 'мотя приезжать томск',\n",
       "  'dirty_text': 'Мотя,приезжай в Томск😱💚💛💜',\n",
       "  'emoji': '😱💚💛💜',\n",
       "  'stickers': None,\n",
       "  'audio': None,\n",
       "  'video': None,\n",
       "  'link': None},\n",
       " {'music_style': 'classic',\n",
       "  'performer': 'inclassic',\n",
       "  'comment_id': '85512864_363547_363567',\n",
       "  'author': '366862681',\n",
       "  'likes': '0',\n",
       "  'date': '2018-06-24 12:17:05',\n",
       "  'text': 'совместный трек скинуть',\n",
       "  'dirty_text': 'У них есть совместный трек? Скиньте)',\n",
       "  'emoji': None,\n",
       "  'stickers': None,\n",
       "  'audio': None,\n",
       "  'video': None,\n",
       "  'link': None},\n",
       " {'music_style': 'classic',\n",
       "  'performer': 'inclassic',\n",
       "  'comment_id': '3113588_378113_378362',\n",
       "  'author': '272188051',\n",
       "  'likes': '1',\n",
       "  'date': '2016-12-03 16:43:51',\n",
       "  'text': 'id364684250 николай кароч похуй просто бомбить',\n",
       "  'dirty_text': '[id364684250|Николай], кароче похуй..у меня просто бомбит, что меня там нет😅😒',\n",
       "  'emoji': '😅😒',\n",
       "  'stickers': None,\n",
       "  'audio': None,\n",
       "  'video': None,\n",
       "  'link': None},\n",
       " {'music_style': 'classic',\n",
       "  'performer': 'inclassic',\n",
       "  'comment_id': '1415705_608708_608767',\n",
       "  'author': '320884628',\n",
       "  'likes': '0',\n",
       "  'date': '2016-09-22 06:01:10',\n",
       "  'text': 'ребята сказать это нормальный долгий время заживать трещина мазать мазь зачастую',\n",
       "  'dirty_text': 'Ребят скажите,это нормально?уже долгое время не заживает,и с трещинами,мажу мазью зачастую',\n",
       "  'emoji': None,\n",
       "  'stickers': None,\n",
       "  'audio': None,\n",
       "  'video': None,\n",
       "  'link': None},\n",
       " {'music_style': 'classic',\n",
       "  'performer': 'inclassic',\n",
       "  'comment_id': '47951262_105329_105367',\n",
       "  'author': '402720522',\n",
       "  'likes': '1',\n",
       "  'date': '2018-10-27 17:29:05',\n",
       "  'text': 'ребята беречь близкие',\n",
       "  'dirty_text': '🤧😔. Ребята берегите себя и близких',\n",
       "  'emoji': '🤧😔',\n",
       "  'stickers': None,\n",
       "  'audio': None,\n",
       "  'video': None,\n",
       "  'link': None},\n",
       " {'music_style': 'classic',\n",
       "  'performer': 'inclassic',\n",
       "  'comment_id': '1415705_528982_529570',\n",
       "  'author': '338168460',\n",
       "  'likes': '0',\n",
       "  'date': '2016-02-04 01:59:21',\n",
       "  'text': 'id140517283 alex это заплатить',\n",
       "  'dirty_text': '[id140517283|Alex], когда ему за это заплатят',\n",
       "  'emoji': None,\n",
       "  'stickers': None,\n",
       "  'audio': None,\n",
       "  'video': None,\n",
       "  'link': None},\n",
       " {'music_style': 'classic',\n",
       "  'performer': 'inclassic',\n",
       "  'comment_id': '97439489_219474_219558',\n",
       "  'author': '491695915',\n",
       "  'likes': '0',\n",
       "  'date': '2018-06-12 19:12:21',\n",
       "  'text': 'жадничать поделиться братски нуу',\n",
       "  'dirty_text': 'Ну че ты,ну че ,а?Че ты жадничаешь?Ну поделись,а.Ну по-братски,нуу',\n",
       "  'emoji': None,\n",
       "  'stickers': None,\n",
       "  'audio': None,\n",
       "  'video': None,\n",
       "  'link': None},\n",
       " {'music_style': 'classic',\n",
       "  'performer': 'inclassic',\n",
       "  'comment_id': '1415705_503984_504224',\n",
       "  'author': '314667594',\n",
       "  'likes': '0',\n",
       "  'date': '2015-12-15 06:52:31',\n",
       "  'text': 'вообще вставить какой унылый однообразный',\n",
       "  'dirty_text': 'Вообще ничего не вставило. Все какое-то унылое и однообразное.',\n",
       "  'emoji': None,\n",
       "  'stickers': None,\n",
       "  'audio': None,\n",
       "  'video': None,\n",
       "  'link': None},\n",
       " {'music_style': 'classic',\n",
       "  'performer': 'inclassic',\n",
       "  'comment_id': '847771_76836_76933',\n",
       "  'author': '310214655',\n",
       "  'likes': '0',\n",
       "  'date': '2016-04-15 17:12:33',\n",
       "  'text': 'семья хрен плавать',\n",
       "  'dirty_text': 'Семей) но хрен там плавал!',\n",
       "  'emoji': None,\n",
       "  'stickers': None,\n",
       "  'audio': None,\n",
       "  'video': None,\n",
       "  'link': None},\n",
       " {'music_style': 'classic',\n",
       "  'performer': 'inclassic',\n",
       "  'comment_id': '38213334_99996_100078',\n",
       "  'author': '204958353',\n",
       "  'likes': '0',\n",
       "  'date': '2015-05-23 18:26:48',\n",
       "  'text': 'даа молодец получить премия',\n",
       "  'dirty_text': 'Даа, молодец, получил премию',\n",
       "  'emoji': None,\n",
       "  'stickers': None,\n",
       "  'audio': None,\n",
       "  'video': None,\n",
       "  'link': None},\n",
       " {'music_style': 'classic',\n",
       "  'performer': 'inclassic',\n",
       "  'comment_id': '3113588_448739_448847',\n",
       "  'author': '240590979',\n",
       "  'likes': '1',\n",
       "  'date': '2017-11-30 15:39:01',\n",
       "  'text': 'фристайл такой читка ниодин рэпер выдумать ход',\n",
       "  'dirty_text': 'фристайл) такую читку ниодин рэпер не выдумает с ходу)))',\n",
       "  'emoji': None,\n",
       "  'stickers': None,\n",
       "  'audio': None,\n",
       "  'video': None,\n",
       "  'link': None},\n",
       " {'music_style': 'classic',\n",
       "  'performer': 'inclassic',\n",
       "  'comment_id': '3113588_319281_319987',\n",
       "  'author': '194488039',\n",
       "  'likes': '0',\n",
       "  'date': '2016-04-21 18:38:58',\n",
       "  'text': 'куплет пересвести',\n",
       "  'dirty_text': 'Когда куплет пересведут?',\n",
       "  'emoji': None,\n",
       "  'stickers': None,\n",
       "  'audio': None,\n",
       "  'video': None,\n",
       "  'link': None},\n",
       " {'music_style': 'classic',\n",
       "  'performer': 'inclassic',\n",
       "  'comment_id': '159882_23711_23713',\n",
       "  'author': '140059048',\n",
       "  'likes': '0',\n",
       "  'date': '2012-12-02 17:57:17',\n",
       "  'text': 'очень сказать',\n",
       "  'dirty_text': 'очень хорошо сказал.',\n",
       "  'emoji': None,\n",
       "  'stickers': None,\n",
       "  'audio': None,\n",
       "  'video': None,\n",
       "  'link': None},\n",
       " {'music_style': 'classic',\n",
       "  'performer': 'inclassic',\n",
       "  'comment_id': '1415705_805953_806002',\n",
       "  'author': '328930708',\n",
       "  'likes': '1',\n",
       "  'date': '2018-04-17 20:45:41',\n",
       "  'text': 'https www youtube com watch htucbf_i_uu',\n",
       "  'dirty_text': 'https://www.youtube.com/watch?v=hTUcBf_i_uU&t=2s',\n",
       "  'emoji': None,\n",
       "  'stickers': None,\n",
       "  'audio': None,\n",
       "  'video': None,\n",
       "  'link': None},\n",
       " {'music_style': 'classic',\n",
       "  'performer': 'inclassic',\n",
       "  'comment_id': '1415705_428940_429226',\n",
       "  'author': '136246113',\n",
       "  'likes': '3',\n",
       "  'date': '2015-06-22 16:52:19',\n",
       "  'text': 'http com yoma1984',\n",
       "  'dirty_text': 'http://vk.com/yoma1984',\n",
       "  'emoji': None,\n",
       "  'stickers': None,\n",
       "  'audio': 'ёма наследие dropflow rec',\n",
       "  'video': None,\n",
       "  'link': None},\n",
       " {'music_style': 'classic',\n",
       "  'performer': 'inclassic',\n",
       "  'comment_id': '38213334_1798_1929',\n",
       "  'author': '73507691',\n",
       "  'likes': '0',\n",
       "  'date': '2012-11-26 15:55:20',\n",
       "  'text': 'леван обожать хороший казань тимати обещать приедить блёкнуть старый ждать зделать автограф сессия',\n",
       "  'dirty_text': 'Леван,мы тебя обожаем:))ты такой хороший:))Когда в Казань?Тимати обещал что ты тоже приедишь в Блек Стар:)Мы тебя ждём,и зделай автограф-сессию',\n",
       "  'emoji': None,\n",
       "  'stickers': None,\n",
       "  'audio': None,\n",
       "  'video': None,\n",
       "  'link': None},\n",
       " {'music_style': 'classic',\n",
       "  'performer': 'inclassic',\n",
       "  'comment_id': '38213334_79731_79808',\n",
       "  'author': '270290035',\n",
       "  'likes': '0',\n",
       "  'date': '2015-03-20 11:49:40',\n",
       "  'text': 'естественно',\n",
       "  'dirty_text': 'Нет естественно',\n",
       "  'emoji': None,\n",
       "  'stickers': None,\n",
       "  'audio': None,\n",
       "  'video': None,\n",
       "  'link': None},\n",
       " {'music_style': 'classic',\n",
       "  'performer': 'inclassic',\n",
       "  'comment_id': '1415705_424880_424889',\n",
       "  'author': '155648670',\n",
       "  'likes': '5',\n",
       "  'date': '2015-06-11 10:16:05',\n",
       "  'text': 'давать астан',\n",
       "  'dirty_text': 'Давайте в Астану .',\n",
       "  'emoji': None,\n",
       "  'stickers': None,\n",
       "  'audio': None,\n",
       "  'video': None,\n",
       "  'link': None},\n",
       " {'music_style': 'classic',\n",
       "  'performer': 'inclassic',\n",
       "  'comment_id': '95470601_350133_365206',\n",
       "  'author': '82279928',\n",
       "  'likes': '0',\n",
       "  'date': '2018-09-04 12:30:46',\n",
       "  'text': 'id227676532 игорь ссать сколько факт факт сасатба',\n",
       "  'dirty_text': '[id227676532|Игорь], ССАТЬ СКОЛЬКО ФАКТ ЕСТЬ ФАКТ САСАТб',\n",
       "  'emoji': None,\n",
       "  'stickers': None,\n",
       "  'audio': None,\n",
       "  'video': None,\n",
       "  'link': None},\n",
       " {'music_style': 'classic',\n",
       "  'performer': 'inclassic',\n",
       "  'comment_id': '38213334_281279_281331',\n",
       "  'author': '257714049',\n",
       "  'likes': '0',\n",
       "  'date': '2018-02-13 06:40:48',\n",
       "  'text': 'блогер хотеть',\n",
       "  'dirty_text': 'Блогером хочу быть',\n",
       "  'emoji': None,\n",
       "  'stickers': None,\n",
       "  'audio': None,\n",
       "  'video': None,\n",
       "  'link': None},\n",
       " {'music_style': 'classic',\n",
       "  'performer': 'inclassic',\n",
       "  'comment_id': '77521_360558_361544',\n",
       "  'author': '246590282',\n",
       "  'likes': '0',\n",
       "  'date': '2015-12-28 14:08:39',\n",
       "  'text': 'id154569623 лёша час мина',\n",
       "  'dirty_text': '[id154569623|Лёша], Через 2 часа 52 мин',\n",
       "  'emoji': None,\n",
       "  'stickers': None,\n",
       "  'audio': None,\n",
       "  'video': None,\n",
       "  'link': None},\n",
       " {'music_style': 'classic',\n",
       "  'performer': 'inclassic',\n",
       "  'comment_id': '95470601_58210_88003',\n",
       "  'author': '285533609',\n",
       "  'likes': '1',\n",
       "  'date': '2017-09-10 17:20:36',\n",
       "  'text': 'блять альбом',\n",
       "  'dirty_text': 'НУ, БЛЯТЬ, АЛЬБОМ ГДЕ?',\n",
       "  'emoji': None,\n",
       "  'stickers': None,\n",
       "  'audio': None,\n",
       "  'video': None,\n",
       "  'link': None},\n",
       " {'music_style': 'classic',\n",
       "  'performer': 'inclassic',\n",
       "  'comment_id': '97439489_185655_186367',\n",
       "  'author': '131892890',\n",
       "  'likes': '1',\n",
       "  'date': '2018-03-24 23:10:09',\n",
       "  'text': 'трек охуенный',\n",
       "  'dirty_text': 'Но трек охуенный',\n",
       "  'emoji': None,\n",
       "  'stickers': None,\n",
       "  'audio': None,\n",
       "  'video': None,\n",
       "  'link': None},\n",
       " {'music_style': 'classic',\n",
       "  'performer': 'inclassic',\n",
       "  'comment_id': '1415705_218254_218271',\n",
       "  'author': '167279665',\n",
       "  'likes': '0',\n",
       "  'date': '2013-11-03 10:27:28',\n",
       "  'text': 'дададададад',\n",
       "  'dirty_text': 'ДададаДадада',\n",
       "  'emoji': None,\n",
       "  'stickers': None,\n",
       "  'audio': None,\n",
       "  'video': None,\n",
       "  'link': None},\n",
       " {'music_style': 'classic',\n",
       "  'performer': 'inclassic',\n",
       "  'comment_id': '1415705_555972_560355',\n",
       "  'author': '141512681',\n",
       "  'likes': '1',\n",
       "  'date': '2016-04-19 13:40:40',\n",
       "  'text': 'рэп нравиться молодец бабосик косить',\n",
       "  'dirty_text': 'рэп не нравится его, но молодец, бабосики косит',\n",
       "  'emoji': None,\n",
       "  'stickers': None,\n",
       "  'audio': None,\n",
       "  'video': None,\n",
       "  'link': None},\n",
       " {'music_style': 'classic',\n",
       "  'performer': 'inclassic',\n",
       "  'comment_id': '95470601_268906_277543',\n",
       "  'author': '113823442',\n",
       "  'likes': '1',\n",
       "  'date': '2018-03-05 14:58:35',\n",
       "  'text': 'ронять запад гимн россия будущее https www youtube com watch 9z4exx_543a feature youtu',\n",
       "  'dirty_text': 'Я Роняю Запад - Гимн России Будущего\\n\\nhttps://www.youtube.com/watch?v=9z4exx_543A&feature=youtu.be',\n",
       "  'emoji': None,\n",
       "  'stickers': None,\n",
       "  'audio': None,\n",
       "  'video': 'ронять запад гимн россия будущее ронять запад гимн россия будущее фильм обитаемый остров бондарчук песня простить господь иван дремин face',\n",
       "  'link': None},\n",
       " {'music_style': 'classic',\n",
       "  'performer': 'inclassic',\n",
       "  'comment_id': '77521_180518_180689',\n",
       "  'author': '95822396',\n",
       "  'likes': '0',\n",
       "  'date': '2012-09-03 16:39:29',\n",
       "  'text': 'весь привет',\n",
       "  'dirty_text': 'Всем привет',\n",
       "  'emoji': None,\n",
       "  'stickers': None,\n",
       "  'audio': None,\n",
       "  'video': None,\n",
       "  'link': None},\n",
       " {'music_style': 'classic',\n",
       "  'performer': 'inclassic',\n",
       "  'comment_id': '77521_341699_341975',\n",
       "  'author': '310308437',\n",
       "  'likes': '0',\n",
       "  'date': '2015-09-05 21:45:55',\n",
       "  'text': 'https com event96627558 екатеринбург вступаать',\n",
       "  'dirty_text': 'https://vk.com/event96627558 Екатеринбург 3.10 вступааем)',\n",
       "  'emoji': None,\n",
       "  'stickers': None,\n",
       "  'audio': None,\n",
       "  'video': None,\n",
       "  'link': None},\n",
       " {'music_style': 'classic',\n",
       "  'performer': 'inclassic',\n",
       "  'comment_id': '1415705_111793_112086',\n",
       "  'author': '18262968',\n",
       "  'likes': '0',\n",
       "  'date': '2012-04-28 15:06:46',\n",
       "  'text': 'видос скинуть крокус сити',\n",
       "  'dirty_text': 'а видос кто скинет с крокус сити.',\n",
       "  'emoji': None,\n",
       "  'stickers': None,\n",
       "  'audio': None,\n",
       "  'video': None,\n",
       "  'link': None},\n",
       " {'music_style': 'classic',\n",
       "  'performer': 'inclassic',\n",
       "  'comment_id': '8509_54883_54892',\n",
       "  'author': '3211899',\n",
       "  'likes': '8',\n",
       "  'date': '2018-01-20 20:19:42',\n",
       "  'text': 'дада это специально придумать важность большой нужно просто слушать играть чувствовать вон куча известный народ делать школа нужно отменить математик остальной пусть гений сразу понимать чутьё нутро хотя судить тот знать сегодняшний ребёнок школа отменить',\n",
       "  'dirty_text': 'дада, все это специально придумали, чтобы важности побольше было. Нужно просто слушать и играть, как чувствуешь, вон куча известного народа так делает. И школы нужно отменить. И математику тоже и остальное, пусть гении сразу понимают чутьем и нутром все. Хотя судя по тому, что знают сегодняшние дети, школу уже отменили....)))',\n",
       "  'emoji': None,\n",
       "  'stickers': None,\n",
       "  'audio': None,\n",
       "  'video': None,\n",
       "  'link': None},\n",
       " {'music_style': 'classic',\n",
       "  'performer': 'inclassic',\n",
       "  'comment_id': '847771_209138_211307',\n",
       "  'author': '343739186',\n",
       "  'likes': '0',\n",
       "  'date': '2017-11-01 04:04:09',\n",
       "  'text': 'https com off_music777',\n",
       "  'dirty_text': 'https://vk.com/off_music777',\n",
       "  'emoji': None,\n",
       "  'stickers': None,\n",
       "  'audio': None,\n",
       "  'video': None,\n",
       "  'link': None},\n",
       " {'music_style': 'classic',\n",
       "  'performer': 'inclassic',\n",
       "  'comment_id': '3113588_123017_123996',\n",
       "  'author': '182533431',\n",
       "  'likes': '0',\n",
       "  'date': '2012-10-06 18:17:53',\n",
       "  'text': 'id31136165 даниил какой чувство юмор идти речь сабж подписать мдк лола',\n",
       "  'dirty_text': '[id31136165|Даниил], о каком чувстве юмора идет речь, если сабж подписан на МДК?\\nВот лол',\n",
       "  'emoji': None,\n",
       "  'stickers': None,\n",
       "  'audio': None,\n",
       "  'video': None,\n",
       "  'link': None},\n",
       " {'music_style': 'classic',\n",
       "  'performer': 'inclassic',\n",
       "  'comment_id': '847771_190742_201502',\n",
       "  'author': '380839730',\n",
       "  'likes': '0',\n",
       "  'date': '2017-08-15 09:50:09',\n",
       "  'text': 'загадка пьяный мужик ползать газон ряд стоить знак газон ходить штраф 5000 рубль мочь оштрафовать победитель обьявить четверг',\n",
       "  'dirty_text': 'Загадка:Пьяный мужик ползает по газону. Рядом стоит знак : \"по газонам не ходить, штраф 5000 руб\". Могут ли его оштрафовать?\\nПобедителей обьявлю в этот четверг.',\n",
       "  'emoji': None,\n",
       "  'stickers': None,\n",
       "  'audio': None,\n",
       "  'video': None,\n",
       "  'link': None},\n",
       " {'music_style': 'classic',\n",
       "  'performer': 'inclassic',\n",
       "  'comment_id': '1415705_241821_242069',\n",
       "  'author': '4662624',\n",
       "  'likes': '1',\n",
       "  'date': '2014-02-10 15:07:52',\n",
       "  'text': 'http com deti_peruna',\n",
       "  'dirty_text': 'http://vk.com/deti_peruna',\n",
       "  'emoji': None,\n",
       "  'stickers': None,\n",
       "  'audio': 'cat путь вершина instr shorty',\n",
       "  'video': None,\n",
       "  'link': None},\n",
       " {'music_style': 'classic',\n",
       "  'performer': 'inclassic',\n",
       "  'comment_id': '847771_31369_31551',\n",
       "  'author': '231802085',\n",
       "  'likes': '0',\n",
       "  'date': '2015-04-09 14:24:08',\n",
       "  'text': 'какой музыка какой исполнитель слушать',\n",
       "  'dirty_text': 'Какую музыку и Каких исполнителей ты слушаешь?',\n",
       "  'emoji': None,\n",
       "  'stickers': None,\n",
       "  'audio': None,\n",
       "  'video': None,\n",
       "  'link': None},\n",
       " {'music_style': 'classic',\n",
       "  'performer': 'inclassic',\n",
       "  'comment_id': '120376084_28807_43122',\n",
       "  'author': '329248672',\n",
       "  'likes': '0',\n",
       "  'date': '2017-04-01 15:42:00',\n",
       "  'text': 'пародия яшка цыган таять лёд гриб гриб таетлёд пародия https www youtube com watch 7wb3vnx8te feature youtu',\n",
       "  'dirty_text': 'Пародия: Яшка-цыган - Тает Лёд (Грибы) \\n#Грибы #Таетлед #пародия \\nhttps://www.youtube.com/watch?v=-7WB3vNx8tE&feature=youtu.be',\n",
       "  'emoji': None,\n",
       "  'stickers': None,\n",
       "  'audio': None,\n",
       "  'video': 'пародия яшка цыган таять лёд гриб ролик использовать песня группа гриб таять лёд фрагмент кинофильм неуловимый мститель 1966 коммерческий цель искать бахча другой социальный сеть instagram https instagram com bahchatv вконтакте https com bahchatv facebook https www facebook com bahchatv',\n",
       "  'link': None},\n",
       " {'music_style': 'classic',\n",
       "  'performer': 'inclassic',\n",
       "  'comment_id': '95470601_100826_162870',\n",
       "  'author': '398129260',\n",
       "  'likes': '0',\n",
       "  'date': '2017-10-27 12:13:59',\n",
       "  'text': 'id352772635 cupcake писать думать лезть',\n",
       "  'dirty_text': '[id352772635|Cupcake], Я пишу что думаю. Не лезь',\n",
       "  'emoji': None,\n",
       "  'stickers': None,\n",
       "  'audio': None,\n",
       "  'video': None,\n",
       "  'link': None},\n",
       " {'music_style': 'classic',\n",
       "  'performer': 'inclassic',\n",
       "  'comment_id': '847771_159108_159542',\n",
       "  'author': '241315261',\n",
       "  'likes': '0',\n",
       "  'date': '2016-12-15 10:23:49',\n",
       "  'text': 'радоваться стадион хотеть рад хуть увидеть мота',\n",
       "  'dirty_text': 'Он радуется что на стадионе я хочу рад да хуть увидеть мота',\n",
       "  'emoji': None,\n",
       "  'stickers': None,\n",
       "  'audio': None,\n",
       "  'video': None,\n",
       "  'link': None},\n",
       " {'music_style': 'classic',\n",
       "  'performer': 'inclassic',\n",
       "  'comment_id': '10697541_123982_124089',\n",
       "  'author': '257318132',\n",
       "  'likes': '0',\n",
       "  'date': '2018-07-02 17:37:14',\n",
       "  'text': 'id194967257 алин перечитать мой комментарий писать',\n",
       "  'dirty_text': '[id194967257|Алина], Перечитай все мои комментарии, и тогда пиши.)',\n",
       "  'emoji': None,\n",
       "  'stickers': None,\n",
       "  'audio': None,\n",
       "  'video': None,\n",
       "  'link': None},\n",
       " {'music_style': 'classic',\n",
       "  'performer': 'inclassic',\n",
       "  'comment_id': '38213334_72630_72763',\n",
       "  'author': '174302976',\n",
       "  'likes': '3',\n",
       "  'date': '2015-02-22 19:39:05',\n",
       "  'text': 'думать уйти создать свой лейбл познакомиться тимати',\n",
       "  'dirty_text': '1)Не думал уйти и создать свой лейбл? \\n2)Как ты познакомился с Тимати?',\n",
       "  'emoji': None,\n",
       "  'stickers': None,\n",
       "  'audio': None,\n",
       "  'video': None,\n",
       "  'link': None},\n",
       " {'music_style': 'classic',\n",
       "  'performer': 'inclassic',\n",
       "  'comment_id': '847771_204992_205335',\n",
       "  'author': '46078392',\n",
       "  'likes': '0',\n",
       "  'date': '2017-09-27 16:10:12',\n",
       "  'text': 'лайкнуть запись стена охренела',\n",
       "  'dirty_text': 'Он лайкнул мне запись на стене, Я ОХРЕНЕЛ 😃',\n",
       "  'emoji': None,\n",
       "  'stickers': None,\n",
       "  'audio': None,\n",
       "  'video': None,\n",
       "  'link': None},\n",
       " {'music_style': 'classic',\n",
       "  'performer': 'inclassic',\n",
       "  'comment_id': '3113588_268706_269255',\n",
       "  'author': '28704616',\n",
       "  'likes': '0',\n",
       "  'date': '2015-11-21 19:24:40',\n",
       "  'text': 'id183195865 владислав знать мирон',\n",
       "  'dirty_text': '[id183195865|Владислав], Может я чего-то не знаю о Мироне?)',\n",
       "  'emoji': None,\n",
       "  'stickers': None,\n",
       "  'audio': None,\n",
       "  'video': None,\n",
       "  'link': None},\n",
       " {'music_style': 'classic',\n",
       "  'performer': 'inclassic',\n",
       "  'comment_id': '148220303_124046_124141',\n",
       "  'author': '344537749',\n",
       "  'likes': '0',\n",
       "  'date': '2018-10-01 04:50:19',\n",
       "  'text': 'id468605406 настя это число отгадать',\n",
       "  'dirty_text': '[id468605406|Настя], как ты это число отгадала',\n",
       "  'emoji': None,\n",
       "  'stickers': None,\n",
       "  'audio': None,\n",
       "  'video': None,\n",
       "  'link': None},\n",
       " {'music_style': 'classic',\n",
       "  'performer': 'inclassic',\n",
       "  'comment_id': '1415705_133847_140820',\n",
       "  'author': '132672307',\n",
       "  'likes': '0',\n",
       "  'date': '2012-09-18 21:29:24',\n",
       "  'text': 'самый суперовыя рэпер ноггано',\n",
       "  'dirty_text': 'САМЫЙ СУПЕРОВЫЙ РЭПЕР НОГГАНО',\n",
       "  'emoji': None,\n",
       "  'stickers': None,\n",
       "  'audio': None,\n",
       "  'video': None,\n",
       "  'link': None},\n",
       " {'music_style': 'classic',\n",
       "  'performer': 'inclassic',\n",
       "  'comment_id': '1415705_253939_262205',\n",
       "  'author': '160589289',\n",
       "  'likes': '1',\n",
       "  'date': '2014-03-29 15:53:47',\n",
       "  'text': 'русский нигерский чувак убейти',\n",
       "  'dirty_text': 'русские нигерские чуваки убейти',\n",
       "  'emoji': None,\n",
       "  'stickers': None,\n",
       "  'audio': None,\n",
       "  'video': None,\n",
       "  'link': None},\n",
       " {'music_style': 'classic',\n",
       "  'performer': 'inclassic',\n",
       "  'comment_id': '97439489_142370_142373',\n",
       "  'author': '434561286',\n",
       "  'likes': '37',\n",
       "  'date': '2017-12-19 20:02:19',\n",
       "  'text': 'фара пизда дать',\n",
       "  'dirty_text': 'Ему там один Фара пизды даст. 🌚',\n",
       "  'emoji': None,\n",
       "  'stickers': None,\n",
       "  'audio': None,\n",
       "  'video': None,\n",
       "  'link': None},\n",
       " {'music_style': 'classic',\n",
       "  'performer': 'inclassic',\n",
       "  'comment_id': '3113588_291948_297027',\n",
       "  'author': '18780086',\n",
       "  'likes': '0',\n",
       "  'date': '2016-02-27 01:46:49',\n",
       "  'text': 'id211059758 сергей просто смешно написать',\n",
       "  'dirty_text': '[id211059758|Сергей], да просто смешно написал :3',\n",
       "  'emoji': None,\n",
       "  'stickers': None,\n",
       "  'audio': None,\n",
       "  'video': None,\n",
       "  'link': None},\n",
       " {'music_style': 'classic',\n",
       "  'performer': 'inclassic',\n",
       "  'comment_id': '30314549_39799_39902',\n",
       "  'author': '386710173',\n",
       "  'likes': '1',\n",
       "  'date': '2017-06-05 18:54:29',\n",
       "  'text': 'способ особый',\n",
       "  'dirty_text': 'Мой способ будет особым.',\n",
       "  'emoji': None,\n",
       "  'stickers': None,\n",
       "  'audio': None,\n",
       "  'video': None,\n",
       "  'link': None},\n",
       " {'music_style': 'classic',\n",
       "  'performer': 'inclassic',\n",
       "  'comment_id': '1415705_482221_482234',\n",
       "  'author': '150328372',\n",
       "  'likes': '5',\n",
       "  'date': '2015-11-09 12:02:05',\n",
       "  'text': 'https com wall 1415705_482221',\n",
       "  'dirty_text': 'https://vk.com/wall-1415705_482221',\n",
       "  'emoji': None,\n",
       "  'stickers': None,\n",
       "  'audio': 'guf выдох вдох',\n",
       "  'video': None,\n",
       "  'link': None},\n",
       " {'music_style': 'classic',\n",
       "  'performer': 'inclassic',\n",
       "  'comment_id': '1415705_510056_510105',\n",
       "  'author': '6120857',\n",
       "  'likes': '0',\n",
       "  'date': '2015-12-25 18:53:22',\n",
       "  'text': 'ребята голосовать команда баста 4447 номер',\n",
       "  'dirty_text': 'Ребята голосуем за команду Басты 4447 номер 01',\n",
       "  'emoji': None,\n",
       "  'stickers': None,\n",
       "  'audio': None,\n",
       "  'video': None,\n",
       "  'link': None},\n",
       " {'music_style': 'classic',\n",
       "  'performer': 'inclassic',\n",
       "  'comment_id': '1415705_788153_788226',\n",
       "  'author': '31057680',\n",
       "  'likes': '3',\n",
       "  'date': '2018-02-21 11:43:28',\n",
       "  'text': 'подобие кизар кроме сиська писька говорить',\n",
       "  'dirty_text': 'Подобие кизару. 😒 кроме сисек, писек не о чем говорить.',\n",
       "  'emoji': None,\n",
       "  'stickers': None,\n",
       "  'audio': None,\n",
       "  'video': None,\n",
       "  'link': None},\n",
       " {'music_style': 'classic',\n",
       "  'performer': 'inclassic',\n",
       "  'comment_id': '10697541_120716_120733',\n",
       "  'author': '211955990',\n",
       "  'likes': '0',\n",
       "  'date': '2018-06-25 13:24:37',\n",
       "  'text': 'россия уругвай',\n",
       "  'dirty_text': 'Россия 2:0 Уругвай',\n",
       "  'emoji': None,\n",
       "  'stickers': None,\n",
       "  'audio': None,\n",
       "  'video': None,\n",
       "  'link': None},\n",
       " {'music_style': 'classic',\n",
       "  'performer': 'inclassic',\n",
       "  'comment_id': '85512864_198811_212325',\n",
       "  'author': '400913032',\n",
       "  'likes': '0',\n",
       "  'date': '2017-05-25 10:17:40',\n",
       "  'text': 'умшакалак июнь',\n",
       "  'dirty_text': 'Умшакалака будет в июне........💪😍❤',\n",
       "  'emoji': '💪😍❤',\n",
       "  'stickers': None,\n",
       "  'audio': None,\n",
       "  'video': None,\n",
       "  'link': None},\n",
       " {'music_style': 'classic',\n",
       "  'performer': 'inclassic',\n",
       "  'comment_id': '1415705_176935_181066',\n",
       "  'author': '60119370',\n",
       "  'likes': '1',\n",
       "  'date': '2013-03-02 20:27:04',\n",
       "  'text': 'дерьмо этот',\n",
       "  'dirty_text': 'да дерьмо ето !!!',\n",
       "  'emoji': None,\n",
       "  'stickers': None,\n",
       "  'audio': None,\n",
       "  'video': None,\n",
       "  'link': None},\n",
       " {'music_style': 'classic',\n",
       "  'performer': 'inclassic',\n",
       "  'comment_id': '847771_182311_182335',\n",
       "  'author': '304258564',\n",
       "  'likes': '4',\n",
       "  'date': '2017-04-24 12:21:27',\n",
       "  'text': 'трогательно',\n",
       "  'dirty_text': 'Как трогательно 😭😭😭',\n",
       "  'emoji': '😭😭😭',\n",
       "  'stickers': None,\n",
       "  'audio': None,\n",
       "  'video': None,\n",
       "  'link': None},\n",
       " {'music_style': 'classic',\n",
       "  'performer': 'inclassic',\n",
       "  'comment_id': '95470601_100826_145227',\n",
       "  'author': '444689431',\n",
       "  'likes': '0',\n",
       "  'date': '2017-10-09 14:01:48',\n",
       "  'text': 'id362042688 splin удевляться',\n",
       "  'dirty_text': '[id362042688|Splin], да я тоже удевляюсь',\n",
       "  'emoji': None,\n",
       "  'stickers': None,\n",
       "  'audio': None,\n",
       "  'video': None,\n",
       "  'link': None},\n",
       " {'music_style': 'classic',\n",
       "  'performer': 'inclassic',\n",
       "  'comment_id': '3113588_430192_430759',\n",
       "  'author': '287926626',\n",
       "  'likes': '0',\n",
       "  'date': '2017-09-27 08:01:06',\n",
       "  'text': 'кинуть трек',\n",
       "  'dirty_text': 'Киньте трек',\n",
       "  'emoji': None,\n",
       "  'stickers': None,\n",
       "  'audio': None,\n",
       "  'video': None,\n",
       "  'link': None},\n",
       " {'music_style': 'classic',\n",
       "  'performer': 'inclassic',\n",
       "  'comment_id': '1415705_154885_159802',\n",
       "  'author': '82737687',\n",
       "  'likes': '0',\n",
       "  'date': '2012-11-13 17:14:37',\n",
       "  'text': 'блять скушной правда интересно слушать тот читета гуф писать трек веселух некоторые товарищ прикол весёлый песенка слушать сердючка',\n",
       "  'dirty_text': 'да блять\\nскушная правда,мне не интересно слушать тех,кто читет о том чего у него нет и не было\\nГуф пишет треки не для веселухи,если вам некоторым товарищам в прикол веселые песенки-слушайте Сердючку',\n",
       "  'emoji': None,\n",
       "  'stickers': None,\n",
       "  'audio': None,\n",
       "  'video': None,\n",
       "  'link': None},\n",
       " {'music_style': 'classic',\n",
       "  'performer': 'inclassic',\n",
       "  'comment_id': '847771_140929_141460',\n",
       "  'author': '167606284',\n",
       "  'likes': '0',\n",
       "  'date': '2016-08-27 09:04:13',\n",
       "  'text': 'кристина one love',\n",
       "  'dirty_text': 'Кристина Си one love 😘',\n",
       "  'emoji': None,\n",
       "  'stickers': None,\n",
       "  'audio': None,\n",
       "  'video': None,\n",
       "  'link': None},\n",
       " {'music_style': 'classic',\n",
       "  'performer': 'inclassic',\n",
       "  'comment_id': '120376084_28807_28890',\n",
       "  'author': '291473003',\n",
       "  'likes': '8',\n",
       "  'date': '2017-03-10 14:20:43',\n",
       "  'text': 'видео залипать должный',\n",
       "  'dirty_text': 'Я чо под видео залипать должен?',\n",
       "  'emoji': None,\n",
       "  'stickers': None,\n",
       "  'audio': None,\n",
       "  'video': None,\n",
       "  'link': None},\n",
       " {'music_style': 'classic',\n",
       "  'performer': 'inclassic',\n",
       "  'comment_id': '85512864_239924_282139',\n",
       "  'author': '174280828',\n",
       "  'likes': '0',\n",
       "  'date': '2017-11-23 20:50:21',\n",
       "  'text': 'личинка хач',\n",
       "  'dirty_text': '-личинка хача',\n",
       "  'emoji': None,\n",
       "  'stickers': None,\n",
       "  'audio': None,\n",
       "  'video': None,\n",
       "  'link': None},\n",
       " {'music_style': 'classic',\n",
       "  'performer': 'inclassic',\n",
       "  'comment_id': '77521_434565_434608',\n",
       "  'author': '379699',\n",
       "  'likes': '1',\n",
       "  'date': '2017-06-02 10:42:23',\n",
       "  'text': 'id175174822 дима вообще крупный новостной портал лента афиша каноб собака',\n",
       "  'dirty_text': '[id175174822|Дима], не только, но и вообще в крупных новостных порталах: лента, афиша, канобу, собака и т.п.',\n",
       "  'emoji': None,\n",
       "  'stickers': None,\n",
       "  'audio': None,\n",
       "  'video': None,\n",
       "  'link': None}]"
      ]
     },
     "execution_count": 18,
     "metadata": {},
     "output_type": "execute_result"
    }
   ],
   "source": [
    "comments[:100]"
   ]
  },
  {
   "cell_type": "markdown",
   "metadata": {},
   "source": [
    "## 2. Предобработка стенок юзеров"
   ]
  },
  {
   "cell_type": "code",
   "execution_count": null,
   "metadata": {},
   "outputs": [],
   "source": [
    "# задел на будущее"
   ]
  },
  {
   "cell_type": "code",
   "execution_count": null,
   "metadata": {},
   "outputs": [],
   "source": []
  },
  {
   "cell_type": "markdown",
   "metadata": {},
   "source": [
    "## 3. Предобраьотка постов из групп"
   ]
  },
  {
   "cell_type": "code",
   "execution_count": null,
   "metadata": {},
   "outputs": [],
   "source": [
    "# задел на будущее"
   ]
  },
  {
   "cell_type": "code",
   "execution_count": null,
   "metadata": {},
   "outputs": [],
   "source": []
  }
 ],
 "metadata": {
  "kernelspec": {
   "display_name": "Python 3",
   "language": "python",
   "name": "python3"
  },
  "language_info": {
   "codemirror_mode": {
    "name": "ipython",
    "version": 3
   },
   "file_extension": ".py",
   "mimetype": "text/x-python",
   "name": "python",
   "nbconvert_exporter": "python",
   "pygments_lexer": "ipython3",
   "version": "3.6.5"
  },
  "varInspector": {
   "cols": {
    "lenName": 16,
    "lenType": 16,
    "lenVar": 40
   },
   "kernels_config": {
    "python": {
     "delete_cmd_postfix": "",
     "delete_cmd_prefix": "del ",
     "library": "var_list.py",
     "varRefreshCmd": "print(var_dic_list())"
    },
    "r": {
     "delete_cmd_postfix": ") ",
     "delete_cmd_prefix": "rm(",
     "library": "var_list.r",
     "varRefreshCmd": "cat(var_dic_list()) "
    }
   },
   "types_to_exclude": [
    "module",
    "function",
    "builtin_function_or_method",
    "instance",
    "_Feature"
   ],
   "window_display": false
  }
 },
 "nbformat": 4,
 "nbformat_minor": 2
}
