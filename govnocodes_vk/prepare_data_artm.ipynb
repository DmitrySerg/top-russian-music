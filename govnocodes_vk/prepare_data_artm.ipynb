{
 "cells": [
  {
   "cell_type": "markdown",
   "metadata": {},
   "source": [
    "# Готовим данные для ARTM\n",
    "\n",
    "В этом блокноте готовим данные, взятые из контакта для ARTM. Библиотека поддерживает [конкретные виды входа.](http://docs.bigartm.org/en/stable/tutorials/datasets.html) Будем перегонять их в **vowpal wabbit** формат, как наиболее хайповый. В нашей статье всё хайповое и трендовое. Также будем чистить данные от всякой мерзости и лемматизировать. "
   ]
  },
  {
   "cell_type": "code",
   "execution_count": 1,
   "metadata": {},
   "outputs": [],
   "source": [
    "import pandas as pd              # Пакет для работы с таблицами\n",
    "import numpy as np               # Пакет для работы с векторами и матрицами\n",
    "\n",
    "# Пакет для красивых циклов. При желании его можно отключить. \n",
    "# Тогда из всех циклов придётся  удалять команду tqdm_notebook.\n",
    "from tqdm import tqdm_notebook   # подробнее: https://github.com/tqdm/tqdm\n",
    "\n",
    "import re      # пакет для работы с регулярными выражениями \n",
    "import pickle  # пакет для подгрузки данных специфического для питона формата\n",
    "\n",
    "# работа со временем\n",
    "from datetime import datetime\n",
    "\n",
    "# Токенизатор\n",
    "from nltk.tokenize import RegexpTokenizer\n",
    "tokenizer = RegexpTokenizer(r'\\w+')\n",
    "\n",
    "# Лемматизатор (приводит слова к нормальной форме)\n",
    "import pymorphy2\n",
    "morph = pymorphy2.MorphAnalyzer()\n",
    "\n",
    "# Список стоп-слов\n",
    "from nltk.corpus import stopwords\n",
    "stop_ru = stopwords.words('russian')\n",
    "stop_en = stopwords.words('english')\n",
    "stop = stop_ru + stop_en\n",
    "\n",
    "# Для распараллеливания кода\n",
    "from joblib import Parallel, delayed\n",
    "\n",
    "# Для перемешивания\n",
    "from random import shuffle"
   ]
  },
  {
   "cell_type": "code",
   "execution_count": 2,
   "metadata": {},
   "outputs": [],
   "source": [
    "# Путь к данным\n",
    "path = '../data/'\n",
    "\n",
    "# жанры \n",
    "music = ['estrada', 'popsa', 'rock']"
   ]
  },
  {
   "cell_type": "code",
   "execution_count": 3,
   "metadata": {},
   "outputs": [],
   "source": [
    "def dataLoad(music_name, path = path, data_type='group_comments'):\n",
    "    \"\"\" \n",
    "        Подгружает что-нибудь эдакое\n",
    "        music_name: string\n",
    "            название жанра\n",
    "        path: string\n",
    "            путь до директории с данными\n",
    "        data_type\n",
    "            суффикс файла (group_comments - комментарии, users_wall, ...) \n",
    "    \"\"\"\n",
    "    # подгружаем данные \n",
    "    with open(path + music_name + '_' + data_type, 'rb') as f:\n",
    "        df = pickle.load(f)\n",
    "    return df"
   ]
  },
  {
   "cell_type": "code",
   "execution_count": 4,
   "metadata": {},
   "outputs": [],
   "source": [
    "def htmlStrip(text):\n",
    "    \"\"\" \n",
    "        Возвращает текст, очещенный от html тэгов\n",
    "        text: string\n",
    "            Текст поста \n",
    "    \"\"\"\n",
    "    \n",
    "    return re.sub('<[^<]+?>', '', str(text)) \n",
    "\n",
    "\n",
    "def tokenLemma(text, stop = stop):\n",
    "    \"\"\" \n",
    "        Возвращает список слов, очищенный от тэгов, пролемматизированный и без стоп слов\n",
    "        text: string\n",
    "            Текст поста\n",
    "        \n",
    "        parameters: list \n",
    "            stop: список из стоп-слов, example: ['политик', 'выбирать']\n",
    "    \"\"\"\n",
    "    \n",
    "    # понижение регистра, очистка от тэгов, токенизация\n",
    "    out_1 = tokenizer.tokenize(htmlStrip(text.lower()))\n",
    "    # лемматизация и очистка от стоп-слов, ещё выкидывает слова короче 3 символов\n",
    "    out_2 = [morph.parse(tx)[0].normal_form for tx in out_1 if tx not in stop and len(tx) > 2]\n",
    "    return ' '.join(out_2)"
   ]
  },
  {
   "cell_type": "markdown",
   "metadata": {},
   "source": [
    "## 1. Предобработка комментариев\n",
    "\n",
    "В конечном итоге нам нужно, чтобы каждый комментарий перегонялся в формат **vowpal wabbit:**\n",
    "\n",
    "```\n",
    "'popsa_бузова_4887563_208109_208174 |@default_class id289877716 глеб публикация какой какой число день какой коммент ольга ответить это плохой комментатор один видеть олечка ответить коммент|@likes 0 |@stickers sticker_1 sticker_2  |@audio николай басков шарманка |@video клип басков шарманка |@link плейлист киркоров |@emoji 😊😊😊'\n",
    "```\n",
    "\n",
    "Модальности: \n",
    "\n",
    "* имя коммента `жанр исполнитель id группы_id поста_id коммента`\n",
    "* текст коммента \n",
    "* число лайков\n",
    "* стикеры в комменте \n",
    "* название аудиозаписи, вложенной в коммент \n",
    "* название и описание видеозаписи, вложенной в коммент \n",
    "* ссылка на плейлист или ещё куда и её описание\n",
    "* эмодзи, которые были в комменте\n",
    "\n",
    "Именно в таком виде мы будем подавать комменты в модель для обучения. Кроме такого формата будем делать прмоежуточный: обычный массив из словарей с комментами. Его можно будет быстро отфильтровать по какому-то признаку, превратить в табличку и тп. Именно его будем использовать для сентимент-модели и матерных списков Олечки. "
   ]
  },
  {
   "cell_type": "code",
   "execution_count": 8,
   "metadata": {},
   "outputs": [],
   "source": [
    "def firstCommentPrepare(comment, style, performer):\n",
    "    \"\"\"\n",
    "        Первичная предобработка комментария в словарик\n",
    "    \"\"\"\n",
    "    \n",
    "    # интересные вложения\n",
    "    stickers = [ ]  # стикеры \n",
    "    audio = [ ]     # музыка \n",
    "    video = [ ]     # видяшки\n",
    "    # photo_cnt = 0   # счётчик для фоточек с красоточками\n",
    "    # doc_cnt = 0     # чаще всего это фотки либо гифки\n",
    "    link = [ ]      # ссылки на плейлисты или ещё куда\n",
    "        \n",
    "    attach = comment.get('attachments')\n",
    "    if attach is not None:\n",
    "        for at in attach:\n",
    "            tp = at['type']\n",
    "            if tp == 'sticker':\n",
    "                stickers.append(tp + '_' + str(at[tp]['sticker_id']))\n",
    "            elif tp == 'audio':\n",
    "                audio.append(at[tp]['artist'] + ' ' + at[tp]['title'])\n",
    "            elif tp == 'video':\n",
    "                # из интересных вложений есть ещё shows, comments, duration\n",
    "                video.append(at[tp]['title'] + ' ' + at[tp]['description'])\n",
    "            # elif tp == 'photo':\n",
    "            #     photo_cnt += 1\n",
    "            # elif tp == 'doc':\n",
    "            #     doc_cnt += 1\n",
    "            elif tp == 'link':\n",
    "                link.append(at[tp]['title'] + ' ' + at[tp]['description']) \n",
    "                \n",
    "    # Выбрасываем из записи все символы, кроме эмодзи и редких символов вроде иероглифов         \n",
    "    emoji = re.sub('[a-яa-zA-ZА-Я -.,0-9<>:=;/_—@$^?–ё`%#*&!№…\\|/\\\"\\]\\[\\\"\\'\\n\\t”“’‘]','',comment['text'])\n",
    "                    \n",
    "    comment_infa = {     \n",
    "        'music_style' : style,\n",
    "        'performer' : performer,\n",
    "        'comment_id' :  str(comment['group_id']) + '_' + str(comment['post_id'])  + '_' + str(comment['id']),\n",
    "        'author' : str(comment['from_id']),\n",
    "        'likes' : str(comment['likes']),\n",
    "        'date' : datetime.utcfromtimestamp(comment['date']).strftime('%Y-%m-%d %H:%M:%S'),\n",
    "        'text' : tokenLemma(comment['text']),\n",
    "        'dirty_text' : comment['text'],\n",
    "        'emoji' : emoji if len(emoji) > 1 else None,\n",
    "        'stickers' : ' '.join(stickers) if len(stickers) > 0 else None, \n",
    "        'audio' : tokenLemma(' '.join(audio)) if len(audio) > 0 else None,\n",
    "        'video' : tokenLemma(' '.join(video)) if len(video) > 0 else None,\n",
    "        'link' : tokenLemma(' '.join(link)) if len(link) > 0 else None\n",
    "        }\n",
    "    return comment_infa\n",
    "\n",
    "\n",
    "def secondCommentPrepare(comment, modality=True):\n",
    "    \"\"\"\n",
    "    Вторичная предобработка комментариев из словаря в vw\n",
    "        comment : string \n",
    "            словарик с комментарием\n",
    "        modality : bool\n",
    "            нужны ли модальности по видео, аудио, ссылкам и тп\n",
    "    \"\"\"\n",
    "    # инфу про автора и дату я нигде не использую \n",
    "    comment_name = comment['music_style'] + '_' + comment['performer'] + '_' + comment['comment_id']\n",
    "    likes = '|@likes {} '.format(comment['likes'])\n",
    "    text = '|@default_class {}'.format(comment['text'])\n",
    "    \n",
    "    # базовая инфа для модели \n",
    "    comment_body = comment_name + text  + likes\n",
    "    \n",
    "    # дополнительные модальности \n",
    "    if modality:\n",
    "        if comment['stickers']:\n",
    "            comment_body = comment_body + ' |@stickers ' + comment['stickers']\n",
    "        if comment['audio']:\n",
    "            comment_body = comment_body + ' |@audio ' + comment['audio']\n",
    "        if comment['video']:\n",
    "            comment_body = comment_body + ' |@video ' + comment['video']\n",
    "        if comment['link']:\n",
    "            comment_body = comment_body + ' |@link ' + comment['link']\n",
    "        if comment['emoji']:\n",
    "            comment_body = comment_body + ' |@emoji ' + comment['emoji']\n",
    "        \n",
    "            \n",
    "    return comment_body"
   ]
  },
  {
   "cell_type": "code",
   "execution_count": 6,
   "metadata": {},
   "outputs": [
    {
     "data": {
      "text/plain": [
       "dict_keys(['Бузова', 'Тимати', 'Нюша', 'LOBODA', 'Билан', 'Крид', '2Маши', 'Барских', 'Гагарина', 'Темникова', 'SEREBRO', 'Лазарев', 'Ёлка', 'Руки вверх', 'МакSим', 'Градусы', 'ВИА ГРА', \"A'Studio\", 'IOWA', 'Караулова', 'Кока', 'Майами', 'Беляев'])"
      ]
     },
     "execution_count": 6,
     "metadata": {},
     "output_type": "execute_result"
    }
   ],
   "source": [
    "df = dataLoad('popsa')\n",
    "df.keys()"
   ]
  },
  {
   "cell_type": "code",
   "execution_count": 9,
   "metadata": {},
   "outputs": [
    {
     "data": {
      "text/plain": [
       "{'audio': 'dmitriev ольга бузов танцевать бузов',\n",
       " 'author': '8838081',\n",
       " 'comment_id': '4887563_208109_208139',\n",
       " 'date': '2018-12-31 08:54:53',\n",
       " 'dirty_text': 'и тут же записан кавер 😊😊😊\\nhttps://vk.com/dmitriev05',\n",
       " 'emoji': '😊😊😊',\n",
       " 'likes': '2',\n",
       " 'link': None,\n",
       " 'music_style': 'popsa',\n",
       " 'performer': 'бузова',\n",
       " 'stickers': None,\n",
       " 'text': 'записать кавер https com dmitriev05',\n",
       " 'video': None}"
      ]
     },
     "execution_count": 9,
     "metadata": {},
     "output_type": "execute_result"
    }
   ],
   "source": [
    "test = firstCommentPrepare(df['Бузова'][10],'popsa','бузова')\n",
    "test"
   ]
  },
  {
   "cell_type": "code",
   "execution_count": null,
   "metadata": {},
   "outputs": [],
   "source": [
    "secondCommentPrepare(test)"
   ]
  },
  {
   "cell_type": "code",
   "execution_count": null,
   "metadata": {},
   "outputs": [],
   "source": [
    "secondCommentPrepare(test, modality=True)"
   ]
  },
  {
   "cell_type": "code",
   "execution_count": null,
   "metadata": {
    "scrolled": true
   },
   "outputs": [],
   "source": [
    "comments = [ ]\n",
    "\n",
    "for name in music:\n",
    "    df = dataLoad(name)\n",
    "    \n",
    "    for key in tqdm_notebook(df):\n",
    "        print('Предобрабатывают',name)\n",
    "        # Внимание, костыль! \n",
    "        def prCom(w):\n",
    "            return firstCommentPrepare(w,name,key)\n",
    "        \n",
    "        n_jobs = -1 # параллелим на все ядра \n",
    "        result = Parallel(n_jobs=n_jobs)(delayed(prCom)(text) for text in tqdm_notebook(df[key]))\n",
    "        comments.extend(result)\n",
    "        print('Текущее число комментариев:', len(comments))"
   ]
  },
  {
   "cell_type": "code",
   "execution_count": null,
   "metadata": {},
   "outputs": [],
   "source": [
    "print(len(comments))\n",
    "comments[0]"
   ]
  },
  {
   "cell_type": "code",
   "execution_count": null,
   "metadata": {},
   "outputs": [],
   "source": [
    "shuffle(comments) # перемешаем комменты\n",
    "comments[0]"
   ]
  },
  {
   "cell_type": "code",
   "execution_count": null,
   "metadata": {},
   "outputs": [],
   "source": [
    "# сохраним предобработанные данные \n",
    "with open('../data/clean_comments'.format(music_style), 'wb') as f:\n",
    "    pickle.dump(group_users_dct, f)"
   ]
  },
  {
   "cell_type": "code",
   "execution_count": 71,
   "metadata": {},
   "outputs": [
    {
     "data": {
      "text/plain": [
       "375031"
      ]
     },
     "execution_count": 71,
     "metadata": {},
     "output_type": "execute_result"
    }
   ],
   "source": [
    "# отфильтруем слишком короткие комменты (меньше 10 символов) \n",
    "# тут же надо будет сделать сурьёзные махинации с отбором комментов по длине и сэмплом по жанрам \n",
    "\n",
    "comments = [com for com in comments if len(com['text']) > 10]\n",
    "len(comments)"
   ]
  },
  {
   "cell_type": "code",
   "execution_count": 73,
   "metadata": {},
   "outputs": [
    {
     "data": {
      "application/vnd.jupyter.widget-view+json": {
       "model_id": "8e08dc0c225b4f949f534fb653685e13",
       "version_major": 2,
       "version_minor": 0
      },
      "text/html": [
       "<p>Failed to display Jupyter Widget of type <code>HBox</code>.</p>\n",
       "<p>\n",
       "  If you're reading this message in the Jupyter Notebook or JupyterLab Notebook, it may mean\n",
       "  that the widgets JavaScript is still loading. If this message persists, it\n",
       "  likely means that the widgets JavaScript library is either not installed or\n",
       "  not enabled. See the <a href=\"https://ipywidgets.readthedocs.io/en/stable/user_install.html\">Jupyter\n",
       "  Widgets Documentation</a> for setup instructions.\n",
       "</p>\n",
       "<p>\n",
       "  If you're reading this message in another frontend (for example, a static\n",
       "  rendering on GitHub or <a href=\"https://nbviewer.jupyter.org/\">NBViewer</a>),\n",
       "  it may mean that your frontend doesn't currently support widgets.\n",
       "</p>\n"
      ],
      "text/plain": [
       "HBox(children=(IntProgress(value=0, max=375031), HTML(value='')))"
      ]
     },
     "metadata": {},
     "output_type": "display_data"
    }
   ],
   "source": [
    "n_jobs = -1 # параллелим на все ядра \n",
    "artm_result = Parallel(n_jobs=n_jobs)(delayed(secondCommentPrepare)(\n",
    "    text) for text in tqdm_notebook(comments))"
   ]
  },
  {
   "cell_type": "code",
   "execution_count": 74,
   "metadata": {},
   "outputs": [
    {
     "data": {
      "text/plain": [
       "'estrada_Пугачёва_24164800_93961_93987|@default_class id186711409 никита католический праздник иначе называть днём влюбить творчество пугачёвый никакой отношение иметь однозначно|@likes 0 '"
      ]
     },
     "execution_count": 74,
     "metadata": {},
     "output_type": "execute_result"
    }
   ],
   "source": [
    "artm_result[0]"
   ]
  },
  {
   "cell_type": "code",
   "execution_count": null,
   "metadata": {},
   "outputs": [],
   "source": [
    "# сохраняем полученное добро \n",
    "with open('../data_artm/comments_v1', 'a') as out:\n",
    "    for item in comments:\n",
    "        out.write(\"{}\\n\".format(item))"
   ]
  },
  {
   "cell_type": "code",
   "execution_count": null,
   "metadata": {},
   "outputs": [],
   "source": []
  },
  {
   "cell_type": "code",
   "execution_count": null,
   "metadata": {},
   "outputs": [],
   "source": []
  },
  {
   "cell_type": "markdown",
   "metadata": {},
   "source": [
    "## 2. Предобработка стенок юзеров"
   ]
  },
  {
   "cell_type": "code",
   "execution_count": null,
   "metadata": {},
   "outputs": [],
   "source": [
    "# задел на будущее"
   ]
  },
  {
   "cell_type": "code",
   "execution_count": null,
   "metadata": {},
   "outputs": [],
   "source": []
  },
  {
   "cell_type": "markdown",
   "metadata": {},
   "source": [
    "## 3. Предобраьотка постов из групп"
   ]
  },
  {
   "cell_type": "code",
   "execution_count": null,
   "metadata": {},
   "outputs": [],
   "source": [
    "# задел на будущее"
   ]
  },
  {
   "cell_type": "code",
   "execution_count": null,
   "metadata": {},
   "outputs": [],
   "source": []
  }
 ],
 "metadata": {
  "kernelspec": {
   "display_name": "Python 3",
   "language": "python",
   "name": "python3"
  },
  "language_info": {
   "codemirror_mode": {
    "name": "ipython",
    "version": 3
   },
   "file_extension": ".py",
   "mimetype": "text/x-python",
   "name": "python",
   "nbconvert_exporter": "python",
   "pygments_lexer": "ipython3",
   "version": "3.6.4"
  }
 },
 "nbformat": 4,
 "nbformat_minor": 2
}
