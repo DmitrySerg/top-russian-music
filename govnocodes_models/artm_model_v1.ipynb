{
 "cells": [
  {
   "cell_type": "markdown",
   "metadata": {},
   "source": [
    "# Наша первая ARTM\n",
    "\n",
    "- подобрать число тем, гиперпараметры, попробовать разные регуляризаторы, разные размеры словаря\n",
    "- сохранять хорошие модели с внятными названиями\n",
    "- скрипт должен быть +- универсальным для всех трёх входов "
   ]
  },
  {
   "cell_type": "code",
   "execution_count": 1,
   "metadata": {},
   "outputs": [],
   "source": [
    "import artm"
   ]
  },
  {
   "cell_type": "code",
   "execution_count": 4,
   "metadata": {},
   "outputs": [],
   "source": [
    "# batch_vectorizer = artm.BatchVectorizer(data_path='../data_artm/comments_v1',\n",
    "#                                         data_format='vowpal_wabbit',\n",
    "#                                         target_folder='../data_artm/top_music_batches')\n",
    "\n",
    "# # заводим словарь\n",
    "# dictionary = artm.Dictionary()\n",
    "# dictionary.gather(data_path='../data_artm/top_music_batches')\n",
    "\n",
    "# dictionary.save(dictionary_path='../data_artm/top_music_batches/top_music_dictionary')\n",
    "\n",
    "\n",
    "#когда батчи уже сварены и словарь уже создан\n",
    "batch_vectorizer = artm.BatchVectorizer(data_path='../data_artm/top_music_batches',\n",
    "                                        data_format='batches')\n",
    "\n",
    "dictionary = artm.Dictionary()\n",
    "dictionary.load(dictionary_path='../data_artm/top_music_batches/top_music_dictionary')"
   ]
  },
  {
   "cell_type": "code",
   "execution_count": 7,
   "metadata": {},
   "outputs": [],
   "source": [
    "model = artm.ARTM(num_topics=20, dictionary=dictionary)"
   ]
  },
  {
   "cell_type": "code",
   "execution_count": 9,
   "metadata": {},
   "outputs": [],
   "source": [
    "# Накинули сверху перплексию \n",
    "perplexity = artm.PerplexityScore(name='perplexity_score', dictionary=dictionary)\n",
    "model.scores.add(perplexity)"
   ]
  },
  {
   "cell_type": "markdown",
   "metadata": {},
   "source": [
    "Важно: возможно, нам нужно офлайновое обучение!"
   ]
  },
  {
   "cell_type": "code",
   "execution_count": 10,
   "metadata": {},
   "outputs": [],
   "source": [
    "model.fit_offline(batch_vectorizer=batch_vectorizer, num_collection_passes=10)"
   ]
  },
  {
   "cell_type": "code",
   "execution_count": null,
   "metadata": {},
   "outputs": [],
   "source": []
  },
  {
   "cell_type": "code",
   "execution_count": null,
   "metadata": {},
   "outputs": [],
   "source": []
  },
  {
   "cell_type": "code",
   "execution_count": null,
   "metadata": {},
   "outputs": [],
   "source": []
  },
  {
   "cell_type": "code",
   "execution_count": null,
   "metadata": {},
   "outputs": [],
   "source": []
  },
  {
   "cell_type": "code",
   "execution_count": null,
   "metadata": {},
   "outputs": [],
   "source": []
  },
  {
   "cell_type": "code",
   "execution_count": null,
   "metadata": {},
   "outputs": [],
   "source": []
  },
  {
   "cell_type": "code",
   "execution_count": null,
   "metadata": {},
   "outputs": [],
   "source": []
  },
  {
   "cell_type": "code",
   "execution_count": null,
   "metadata": {},
   "outputs": [],
   "source": []
  },
  {
   "cell_type": "code",
   "execution_count": null,
   "metadata": {},
   "outputs": [],
   "source": []
  }
 ],
 "metadata": {
  "kernelspec": {
   "display_name": "Python 3",
   "language": "python",
   "name": "python3"
  },
  "language_info": {
   "codemirror_mode": {
    "name": "ipython",
    "version": 3
   },
   "file_extension": ".py",
   "mimetype": "text/x-python",
   "name": "python",
   "nbconvert_exporter": "python",
   "pygments_lexer": "ipython3",
   "version": "3.6.4"
  }
 },
 "nbformat": 4,
 "nbformat_minor": 2
}
