{
 "cells": [
  {
   "cell_type": "markdown",
   "metadata": {},
   "source": [
    "# Наша первая ARTM\n",
    "\n",
    "- подобрать число тем, гиперпараметры, попробовать разные регуляризаторы, разные размеры словаря\n",
    "- сохранять хорошие модели с внятными названиями\n",
    "- скрипт должен быть +- универсальным для всех трёх входов "
   ]
  },
  {
   "cell_type": "code",
   "execution_count": 6,
   "metadata": {},
   "outputs": [],
   "source": [
    "import sys\n",
    "sys.path.append(\"/Users/dmitrys/bigartm/python\")\n",
    "import artm"
   ]
  },
  {
   "cell_type": "code",
   "execution_count": 10,
   "metadata": {},
   "outputs": [],
   "source": [
    "# batch_vectorizer = artm.BatchVectorizer(data_path='../data_artm/classic_rap_shanson_jazz_comments_v1',\n",
    "#                                         data_format='vowpal_wabbit',\n",
    "#                                         target_folder='../data_artm/top_music_batches')\n",
    "\n",
    "# # заводим словарь\n",
    "# dictionary = artm.Dictionary()\n",
    "# dictionary.gather(data_path='../data_artm/top_music_batches')\n",
    "\n",
    "# dictionary.save(dictionary_path='../data_artm/top_music_batches/top_music_dictionary.dict')\n",
    "\n",
    "\n",
    "#когда батчи уже сварены и словарь уже создан\n",
    "batch_vectorizer = artm.BatchVectorizer(data_path='../data_artm/top_music_batches',\n",
    "                                        data_format='batches')\n",
    "\n",
    "dictionary = artm.Dictionary()\n",
    "dictionary.load(dictionary_path='../data_artm/top_music_batches/top_music_dictionary.dict')"
   ]
  },
  {
   "cell_type": "code",
   "execution_count": 11,
   "metadata": {},
   "outputs": [],
   "source": [
    "model = artm.ARTM(num_topics=20, dictionary=dictionary)"
   ]
  },
  {
   "cell_type": "code",
   "execution_count": 12,
   "metadata": {},
   "outputs": [],
   "source": [
    "# Накинули сверху перплексию \n",
    "perplexity = artm.PerplexityScore(name='perplexity_score', dictionary=dictionary)\n",
    "model.scores.add(perplexity)"
   ]
  },
  {
   "cell_type": "markdown",
   "metadata": {},
   "source": [
    "Важно: возможно, нам нужно офлайновое обучение!"
   ]
  },
  {
   "cell_type": "code",
   "execution_count": 13,
   "metadata": {},
   "outputs": [],
   "source": [
    "model.fit_offline(batch_vectorizer=batch_vectorizer, num_collection_passes=10)"
   ]
  },
  {
   "cell_type": "code",
   "execution_count": 21,
   "metadata": {},
   "outputs": [
    {
     "data": {
      "text/plain": [
       "1234.240478515625"
      ]
     },
     "execution_count": 21,
     "metadata": {},
     "output_type": "execute_result"
    }
   ],
   "source": [
    "model.score_tracker['perplexity_score'].last_value"
   ]
  },
  {
   "cell_type": "code",
   "execution_count": 23,
   "metadata": {},
   "outputs": [
    {
     "data": {
      "text/plain": [
       "[418297.4375,\n",
       " 2645.9619140625,\n",
       " 1924.11962890625,\n",
       " 1626.799072265625,\n",
       " 1470.090576171875,\n",
       " 1375.2349853515625,\n",
       " 1315.6241455078125,\n",
       " 1277.2752685546875,\n",
       " 1251.8311767578125,\n",
       " 1234.240478515625]"
      ]
     },
     "execution_count": 23,
     "metadata": {},
     "output_type": "execute_result"
    }
   ],
   "source": [
    "model.score_tracker['perplexity_score'].value"
   ]
  },
  {
   "cell_type": "code",
   "execution_count": 24,
   "metadata": {},
   "outputs": [],
   "source": [
    "model.scores.add(artm.SparsityPhiScore(name='sparsity_phi_score'))\n",
    "model.scores.add(artm.SparsityThetaScore(name='sparsity_theta_score'))\n",
    "model.scores.add(artm.TopTokensScore(name='top_tokens_score'))"
   ]
  },
  {
   "cell_type": "code",
   "execution_count": 25,
   "metadata": {},
   "outputs": [],
   "source": [
    "model.scores.add(artm.SparsityPhiScore(name='sparsity_phi_score_10_topics', topic_names=model.topic_names[0: 9]))"
   ]
  },
  {
   "cell_type": "code",
   "execution_count": 26,
   "metadata": {},
   "outputs": [],
   "source": [
    "model.num_tokens = 20"
   ]
  },
  {
   "cell_type": "code",
   "execution_count": 27,
   "metadata": {},
   "outputs": [],
   "source": [
    "model.fit_offline(batch_vectorizer=batch_vectorizer, num_collection_passes=10)"
   ]
  },
  {
   "cell_type": "code",
   "execution_count": 30,
   "metadata": {},
   "outputs": [],
   "source": [
    "import matplotlib.pyplot as plt\n",
    "%matplotlib inline"
   ]
  },
  {
   "cell_type": "code",
   "execution_count": 32,
   "metadata": {},
   "outputs": [
    {
     "data": {
      "text/plain": [
       "[<matplotlib.lines.Line2D at 0x115e2b5f8>]"
      ]
     },
     "execution_count": 32,
     "metadata": {},
     "output_type": "execute_result"
    },
    {
     "data": {
      "image/png": "[encoded data removed]",
      "text/plain": [
       "<Figure size 432x288 with 1 Axes>"
      ]
     },
     "metadata": {},
     "output_type": "display_data"
    }
   ],
   "source": [
    "plt.plot(model.score_tracker['perplexity_score'].value)      # .last_value"
   ]
  },
  {
   "cell_type": "code",
   "execution_count": 33,
   "metadata": {},
   "outputs": [
    {
     "data": {
      "text/plain": [
       "[<matplotlib.lines.Line2D at 0x113ceedd8>]"
      ]
     },
     "execution_count": 33,
     "metadata": {},
     "output_type": "execute_result"
    },
    {
     "data": {
      "image/png": "[encoded data removed]",
      "text/plain": [
       "<Figure size 432x288 with 1 Axes>"
      ]
     },
     "metadata": {},
     "output_type": "display_data"
    }
   ],
   "source": [
    "plt.plot(model.score_tracker['sparsity_phi_score'].value)    # .last_value"
   ]
  },
  {
   "cell_type": "code",
   "execution_count": 34,
   "metadata": {},
   "outputs": [
    {
     "data": {
      "text/plain": [
       "[<matplotlib.lines.Line2D at 0x113d6d1d0>]"
      ]
     },
     "execution_count": 34,
     "metadata": {},
     "output_type": "execute_result"
    },
    {
     "data": {
      "image/png": "[encoded data removed]",
      "text/plain": [
       "<Figure size 432x288 with 1 Axes>"
      ]
     },
     "metadata": {},
     "output_type": "display_data"
    }
   ],
   "source": [
    "plt.plot(model.score_tracker['sparsity_theta_score'].value)  # .last_value"
   ]
  },
  {
   "cell_type": "code",
   "execution_count": 35,
   "metadata": {},
   "outputs": [
    {
     "name": "stdout",
     "output_type": "stream",
     "text": [
      "['0', 'ребята', 'мота', 'никита', 'любить', 'хороший|@likes', 'песня|@likes', 'егор', 'пожалуйста|@likes', 'саша']\n",
      "['трек', 'быть', 'клип', 'знать', '0', 'песнь', 'слушать', 'билет', 'какой', 'новое']\n",
      "['свой', 'такой', 'ты', 'человек', 'сказать', 'мочь', 'вообще', 'который', 'твой', 'делать']\n",
      "['весь', 'ваня', 'деньга', 'давно', 'василий', 'топ', 'рука', 'нужно', 'жить', 'который']\n",
      "['мой', 'год', 'мирон', 'кто', 'нойз', 'время', 'кома', 'говорить', 'хотя', 'нужный']\n",
      "['это', 'один', 'фэйскрыса', 'рэп', 'русский', 'наш', 'жизнь', 'большой', 'сам', 'надеяться']\n",
      "['хороший', 'музыка', 'думать', 'ваш', 'этот', 'текст', 'другой', 'читать', 'стать', 'должный']\n",
      "['фейскрыса', 'эщкер', 'сухой', 'пенза', 'лог', 'фейскрыса|@likes', '0', 'абажай', 'мияг', 'эншпылять']\n",
      "['2', 'очень', 'ещё', '7', 'крутой', 'олег', 'круто', 'понравиться', 'согласный', 'отличный']\n",
      "['0', 'просто', 'песня', 'почему', 'трек|@likes', 'найти', 'купить', 'любимый', 'кирилл', 'слушать|@likes']\n",
      "['1', '3', 'хотеть', 'оксить', 'друг', 'посмотреть', 'one', 'govnooooooooface', 'noize', 'умереть']\n",
      "['com', '0', 'https', 'http', 'face', 'группа', 'www', 'фейс', 'youtube', 'watch']\n",
      "['0', 'альбом|@likes', 'говно', 'сергей', 'денис', 'бля', 'евгений', 'блять', 'илья', 'михаил']\n",
      "['самый', 'идти', 'день', 'сделать', 'дмитрий', 'видеть', 'гуф', 'нахуй', '9', 'слышать']\n",
      "['0', 'это', 'вася', 'здравьдрузый|@likes', 'антон', 'точно', 'дима', 'пиздец', 'бог', 'группа|@likes']\n",
      "['0', 'новый', 'александр', 'смотреть', 'выйти', 'иван', 'концерт|@likes', 'два', 'вроде', 'интересно']\n",
      "['0', 'альбом', 'спасибо', 'писать', 'написать', 'давать', 'андрей', 'лсп', 'пока', 'классный']\n",
      "['баста', '4', 'павлодар', '5', '6', 'видео', 'мы', 'дроп', 'добавить', 'запись']\n",
      "['0', 'днём', 'максим', 'фильм', 'ждать|@likes', 'скинуть', 'рождение', 'город', 'это|@likes', 'скоро']\n",
      "['0', 'концерт', 'ждать', 'твой', 'спасибо|@likes', 'алексей', 'сколько', 'артём', 'влад', 'знать|@likes']\n"
     ]
    }
   ],
   "source": [
    "saved_top_tokens = model.score_tracker['top_tokens_score'].last_tokens\n",
    "\n",
    "for topic_name in model.topic_names:\n",
    "    print(saved_top_tokens[topic_name])"
   ]
  },
  {
   "cell_type": "code",
   "execution_count": null,
   "metadata": {},
   "outputs": [],
   "source": []
  }
 ],
 "metadata": {
  "kernelspec": {
   "display_name": "Python 3",
   "language": "python",
   "name": "python3"
  },
  "language_info": {
   "codemirror_mode": {
    "name": "ipython",
    "version": 3
   },
   "file_extension": ".py",
   "mimetype": "text/x-python",
   "name": "python",
   "nbconvert_exporter": "python",
   "pygments_lexer": "ipython3",
   "version": "3.6.5"
  },
  "varInspector": {
   "cols": {
    "lenName": 16,
    "lenType": 16,
    "lenVar": 40
   },
   "kernels_config": {
    "python": {
     "delete_cmd_postfix": "",
     "delete_cmd_prefix": "del ",
     "library": "var_list.py",
     "varRefreshCmd": "print(var_dic_list())"
    },
    "r": {
     "delete_cmd_postfix": ") ",
     "delete_cmd_prefix": "rm(",
     "library": "var_list.r",
     "varRefreshCmd": "cat(var_dic_list()) "
    }
   },
   "types_to_exclude": [
    "module",
    "function",
    "builtin_function_or_method",
    "instance",
    "_Feature"
   ],
   "window_display": false
  }
 },
 "nbformat": 4,
 "nbformat_minor": 2
}
