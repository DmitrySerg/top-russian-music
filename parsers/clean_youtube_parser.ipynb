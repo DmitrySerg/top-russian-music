{
 "cells": [
  {
   "cell_type": "markdown",
   "metadata": {},
   "source": [
    "# Качаем комментарии с youtube \n",
    "\n",
    "* https://medium.com/greyatom/youtube-data-in-python-6147160c5833\n",
    "* https://console.developers.google.com/apis/api/youtube.googleapis.com/quotas?project=hopeful-vim-228218"
   ]
  },
  {
   "cell_type": "code",
   "execution_count": 1,
   "metadata": {},
   "outputs": [],
   "source": [
    "import requests\n",
    "import pickle\n",
    "from tqdm import tqdm_notebook\n",
    "from joblib import Parallel, delayed"
   ]
  },
  {
   "cell_type": "code",
   "execution_count": 2,
   "metadata": {},
   "outputs": [],
   "source": [
    "with open('api_key.txt') as f:\n",
    "    api_key = f.read()"
   ]
  },
  {
   "cell_type": "markdown",
   "metadata": {},
   "source": [
    "В коде страницы искать id по ссылке как: \"externalId\":"
   ]
  },
  {
   "cell_type": "code",
   "execution_count": 3,
   "metadata": {},
   "outputs": [
    {
     "data": {
      "text/plain": [
       "<Response [403]>"
      ]
     },
     "execution_count": 3,
     "metadata": {},
     "output_type": "execute_result"
    }
   ],
   "source": [
    "base_search_url = 'https://www.googleapis.com/youtube/v3/search?'\n",
    "\n",
    "url = base_search_url+'key={}&channelId={}&part=snippet,id&order=date&maxResults=25'.format(api_key, \"UCs6h0i7chZZX3fWD4IOh1kQ\")\n",
    "\n",
    "req = requests.get(url)\n",
    "req"
   ]
  },
  {
   "cell_type": "code",
   "execution_count": 3,
   "metadata": {},
   "outputs": [],
   "source": [
    "def get_all_video_in_channel(channel_id, api_key):\n",
    "    \"\"\"\n",
    "    Достаёт словарь из id и имен всех видео с канала по его id\n",
    "        channel_id : string\n",
    "            id канала\n",
    "        api_key : string\n",
    "            ключ доступа к API\n",
    "    \"\"\"\n",
    "\n",
    "    base_search_url = 'https://www.googleapis.com/youtube/v3/search?'\n",
    "    \n",
    "    first_url = base_search_url+'key={}&channelId={}&part=snippet,id&order=date&maxResults=25'.format(api_key, channel_id)\n",
    "\n",
    "    video_links = { }\n",
    "    url = first_url\n",
    "    while True:\n",
    "        req = requests.get(url)\n",
    "        resp = req.json()\n",
    "\n",
    "        for i in resp['items']:\n",
    "            if i['id']['kind'] == \"youtube#video\":\n",
    "                video_links.update({i['id']['videoId'] : i['snippet']['title']})\n",
    "\n",
    "        try:\n",
    "            next_page_token = resp['nextPageToken']\n",
    "            url = first_url + '&pageToken={}'.format(next_page_token)\n",
    "        except:\n",
    "            break\n",
    "    return video_links\n",
    "\n",
    "\n",
    "def get_all_video_in_playlist(playlist_id, api_key):\n",
    "    \"\"\"\n",
    "    Достаёт словарь из id и имен всех видео с плейлиста по его id\n",
    "        playlist_id : string\n",
    "            id канала\n",
    "        api_key : string\n",
    "            ключ доступа к API\n",
    "    \"\"\"\n",
    "\n",
    "    base_search_url = 'https://www.googleapis.com/youtube/v3/playlistItems?'\n",
    "    \n",
    "    first_url = base_search_url+'key={}&playlistId={}&part=id,snippet&order=date&maxResults=25'.format(api_key, playlist_id)\n",
    "\n",
    "    video_links = { }\n",
    "    url = first_url\n",
    "    while True:\n",
    "        req = requests.get(url)\n",
    "        resp = req.json()\n",
    "\n",
    "        for i in resp['items']:\n",
    "            if i['snippet']['resourceId']['kind'] == \"youtube#video\":\n",
    "                video_links.update({i['snippet']['resourceId']['videoId'] : i['snippet']['title']})\n",
    "\n",
    "        try:\n",
    "            next_page_token = resp['nextPageToken']\n",
    "            url = first_url + '&pageToken={}'.format(next_page_token)\n",
    "        except:\n",
    "            break\n",
    "    return video_links\n",
    "\n",
    "\n",
    "def get_comment_threads(video_id, api_key, style, performer, video_dict, limit=2000):\n",
    "    \"\"\"\n",
    "    Достёт из-под видео 500 комментов\n",
    "        video_id : string \n",
    "            id видяшки\n",
    "        api_key : string\n",
    "            ключ доступа к API \n",
    "        style : string\n",
    "            стиль музыки \n",
    "        performer : string\n",
    "            исполнитель\n",
    "        video_divt : dict\n",
    "            словарь с соответствием id и названий видео\n",
    "    \"\"\"\n",
    "\n",
    "    base_search_url = 'https://www.googleapis.com/youtube/v3/commentThreads?'\n",
    "    first_url = base_search_url+'key={}&videoId={}&part=snippet&maxResults=100&textFormat=plainText'.format(api_key, video_id)\n",
    "\n",
    "    com_inf = [ ]\n",
    "    url = first_url\n",
    "\n",
    "    while len(com_inf) < limit:\n",
    "        req = requests.get(url)\n",
    "        resp = req.json()\n",
    "\n",
    "        for item in resp['items']:\n",
    "            comment = item[\"snippet\"][\"topLevelComment\"]\n",
    "            if comment['kind'] == 'youtube#comment':\n",
    "                cur_infa = {\n",
    "                    'music_style' : style,\n",
    "                    'performer' : performer,\n",
    "                    'video_name' : video_dict[video_id],\n",
    "                    'comment_id' : comment[\"id\"],\n",
    "                    'author' : comment[\"snippet\"][\"authorDisplayName\"],\n",
    "                    'text' : comment[\"snippet\"][\"textDisplay\"],\n",
    "                    'date' : comment[\"snippet\"]['publishedAt'],\n",
    "                    'likes' : comment[\"snippet\"]['likeCount']\n",
    "                }\n",
    "\n",
    "                com_inf.append(cur_infa)       \n",
    "        try:\n",
    "            next_page_token = resp['nextPageToken']\n",
    "            url = first_url + '&pageToken={}'.format(next_page_token)\n",
    "        except:\n",
    "            break    \n",
    "    return com_inf"
   ]
  },
  {
   "cell_type": "code",
   "execution_count": null,
   "metadata": {},
   "outputs": [],
   "source": [
    "style = 'popsa'\n",
    "\n",
    "target = {\n",
    "    \"loboda\" : {'канал' : \"UCiU8w7NabK3xFgjxmHovjCg\", 'листы' : [\"PL2944ACC2EC785BD5\"]},\n",
    "    'билан' : {'канал' : \"UCrnxeDn1Biodm9jO8yAyj3g\", 'листы' : [\"PL57Ql2OzGW1BDEuMJ3qi6fbzYON26fUTU\"]},\n",
    "    'темникова' : {'канал' : \"UC4EiMlCetZkEOfFK8pfRAvw\", 'листы' : [\"PLQ7t2Z77CsoW6oeoaMxa665eO7hWA4s-t\"]},\n",
    "    'serebro' : {'канал' : \"UCE3faOl-pvohsu7hof1Fnsw\", 'листы' : [\"PLcH8mHDiTxZ0DadRGyfEpSZFA6RZ203Ln\"]},\n",
    "    'гагарина' : {'канал' : \"UCs6h0i7chZZX3fWD4IOh1kQ\", 'листы' : [\"PLjtCcgIBP_Ttn3N5JvdhQRBQGqrNTaQwK\"]},\n",
    "    'ёлка' : {'канал' : \"UC3-HSETEZNYumQ4GXUiQAuw\", 'листы' : [ ]},\n",
    "    'виа_гра' : {'канал' : \"UCgpnEoslcNaqYuf_78avHXw\", 'листы' : [\"PLmR3vfNp_YiO_fNanIM1ym-l8qqRbY0-i\"]},\n",
    "    'бузова' : {'канал' : \"UCzTom8k7UduI9jcs6umWD9Q\", 'листы' : [\"PLqM15F9IQUAFbQW1XjBY3c7trFyOZ9Uol\"]},\n",
    "    'караулова' : {'канал' : \"UCDGjJgCgyrbMfyjBzuo1xiA\", 'листы' : [\"PLP2A5cnvW__Ur_S0EOLCoLRyOZzUdCaFm\"]},\n",
    "    'кока' : {'канал' : \"UCbj1rZy7-qktxZTawl1S_nA\", 'листы' : [\"PLdnFu7fbWUIMRoI5lFpait4mxL1JzU7Go\"]},\n",
    "    'нюша' : {'канал' : \"UCm9VWKAFz0aXpuEHPHMae7w\", 'листы' : [\"PLJIRUPzMCrKKvenaGgQmjCDo49o7YByyT\"]},\n",
    "    'макsим' : {'канал' : \"UCUy_4pyOCyQK7VM6pR5WxSw\", 'листы' : [\"PL6E039C93D2424F75\"]},\n",
    "    'градусы' : {'канал' : \"UCBKvd5NasOgVXB1JmCL1urg\", 'листы' : [\"PLHb8DB_PqBc9fypbfTj0Hh41DP3CtwDnZ\"]},\n",
    "    'лазарев' : {'канал' : \"UCRSZzzNedo9M2629ZTKBANA\", 'листы' : [\"PLVwU9Hicy4XVXQ6uHamkBfDygMbN53Tx7\"]},\n",
    "    'барских' : {'канал' : \"UCSZP_I8E-_pRFVm90S0Zy6Q\", 'листы' : [\"PLyqQ1XMQ458rhd1QaXWhkX3YLuEO9CRTO\"]},\n",
    "    'крид' : {'канал' : \"UCZeinbsBPa37qf4HPj_w-lw\", 'листы' : [\"PLomtNzMp4OgW3gmEb-IO35ojDS83gRgAe\"]},\n",
    "    'тимати' : {'канал' : \"UCJjMGnyycI7f4Vl_UMuDB1Q\", 'листы' : [\"PLFBB9F68AF5C4F818\"]},\n",
    "    'руки_вверх' : {'канал' : \"UCf5XmQY79pqR3i2oliGqMQg\", 'листы' : [\"PLLf5zOiu21LGS51xGPeHeDgO8H8QIPtbs\"]},\n",
    "    'astudio' : {'канал' : \"UC0cst8k3zK9A8BRwZ4tE3AA\", 'листы' : [\"PLA9467A4A29649490\"]},\n",
    "    'iowa' : {'канал' : \"UCj2K424HxCZTLWuw-PLBGNA\", 'листы' : [\"PLy3FBKe3LReDB5zQMMU9F9TB2_XjlQW3n\"]},\n",
    "    '2маши' : {'канал' : \"UCt2p-g_IT0F_yuCfz79yKRw\", 'листы' : [\"PLrG9pIP1c-m9fyzfQfvFMVXHedc8LO-S5\"]}\n",
    "    }"
   ]
  },
  {
   "cell_type": "code",
   "execution_count": null,
   "metadata": {},
   "outputs": [],
   "source": [
    "style = 'estrada'\n",
    "\n",
    "target = {\n",
    "    'киркоров' : {'канал' : \"UCJgUXBCxgiWUivJV2RmLD6g\", 'листы' : [\"PL1T7-Rtn2AzkT55xxmXmC01gKGXb0Br-b\"]},\n",
    "    'лепс' : {'канал' : \"UCWopWNCej06Z3S4IG39yHLA\", 'листы' : [\"PLfBFsBXvPtQ5UCjScTwQxR2i00rKXN9ZM\", \"PLQuC5fFp9MxdUV0tNpkYcQMskJFhoFlN0\"]},\n",
    "    'пугачёва' : {'канал' : \"UCtLuREHRfDQbKAzlomUvgzQ\", 'листы' : [ ]},\n",
    "    'михайлов': {'канал' : \"UCc_rpSa6PXPow6aVRhlnQ8g\", 'листы' : [\"PLA360E570CE8C6566\"]},\n",
    "    'меладзе': {'канал' : \"UCQKQrhLrtENPdxCNjeYUReg\", 'листы' : [ ]},\n",
    "    'ваенга': {'канал' : \"UCyAcXWJxwjraTlzckEbgMfQ\", 'листы' : [\"PLS6Hv_KxWNTxZtQ3PyyfZNZaxW7D02rL8\"]},\n",
    "    'валерия': {'канал' : \"UC8ctItMhn_FNS1c301_Q-zA\", 'листы' : [\"PLapk1eIugjg4wTQYSsAPNz9ZQnaH8ijSP\"]},\n",
    "    'агутин': {'канал' : \"UCVafaAr4oDm-DurxwclK3Zg\", 'листы' : [ ]},\n",
    "    'басков': {'канал' : \"UCJqsNPrsH71EnsP8kbtrHoA\", 'листы' : [\"PLU3z5rOtm15b41T47fJiX1GRqDA1LVbcP\"]},\n",
    "    'ротару': {'канал' : \"UC0Ux11GJjRsXA-DbU6zUMkw\", 'листы' : [ ]},\n",
    "    'лолита' : {'канал' : \"UCaKeasZJuQ_ZYw0o9hsfGbg\", 'листы' : [\"PL7Mdigi3VDUd2hkYvisfOEojlzkO3XZp4\"]},\n",
    "    'газманов': {'канал' : \"UCxPUxaXn8sVLABf7HxxMabQ\", 'листы' : [\"PL7yxEFBiOVQYSFwc9Rn_G1tHM2epv5IxH\"]},\n",
    "    'николаев': {'канал' : \"UC9nYweZwDnAr-kIkADlJA6A\", 'листы' : [\"PL23vzKgeCvbwQVzrR23jSSV5G9D_KHOOX\"]},\n",
    "    'леонтьев': {'канал' : \"UCi0x0GBJ7095DM4qjTIwp9w\", 'листы' : [ ]},\n",
    "    'буйнов': {'канал' : \"UCRlcuihl8_Qp657AYTC_KUA\", 'листы' : [ ]}      \n",
    "    }\n"
   ]
  },
  {
   "cell_type": "code",
   "execution_count": null,
   "metadata": {},
   "outputs": [],
   "source": [
    "style = 'rock'\n",
    "\n",
    "target = {\n",
    "    'би_2' : {'канал' : \"UC8yXiBwG4BbMtKpWuV8TwKw\", 'листы' : [\"PLB4966DCD2AA75A41\"]},\n",
    "    'ленинград' : {'канал' : \"UCY0C6A3t3RTUN3BB65rWAgQ\", 'листы' : [\"PLkndHGjlDk4nG35TQhUrZobCTZWgI07Gm\"]},\n",
    "    'кино' : {'канал' : \"UC8mndg3Tr2g9iMoJMI4ob5A\", 'листы' : [\"PL-6nI_KhZ10Rw_TnRxKFpIuCM4vxW41VX\"]},\n",
    "    'сплин' : {'канал' : \"UCqrFVh8KBoivpwJZEKprJLA\", 'листы' : [\"PLsaQXb_TMEB62QPKCgNgg-ddOnoAaSHEG\"]},\n",
    "    'мумий_тролль' : {'канал' : \"UCq4N3IijMRNvsbp9aeV6JZg\", 'листы' : [\"PL24C5808E49A41C43\"]},\n",
    "    'звери' : {'канал' : \"UCBU_tBl_50vukdRbI5g5wUQ\", 'листы' : [\"PLlam7yXvvlZOMmoK6xUEmoLK2rMWdFS3X\"]},\n",
    "    'гребенщиков' : {'канал' : \"UCawVzkkGUvxTvwn_c_WJ-lA\", 'листы' : [\"PLWuSxNGNHHaDtSdIDKze7gNYiidPQyF6I\"]},\n",
    "    'земфира' : {'канал' : \"UCaYQXoII8_plzI_nDrmlZJQ\", 'листы' : [\"PLueeXBHkZzqHFWsb2J3-EDT9cEfyCWnJX\"]},\n",
    "    'ддт' : {'канал' : \"UCWgb__tbz50Re3ocakN6_Vw\", 'листы' : [ ]},\n",
    "    'кукрыниксы' : {'канал' : \"UCFq49ivT4GaT0FPGvj4WJ3Q\", 'листы' : [\"PLvU3IxYn61-4t4vhRI_T2rcvNW80ocDnB\"]},\n",
    "    'арбенина' : {'канал' : \"UC-SeYae4GU47pQf-0lb72_Q\", 'листы' : [\"PL6TM8DkKQQM1q9xUS6zZoVtm10aPocrAw\"]},\n",
    "    'чичерина' : {'канал' : \"UCENXKVDUNk6GaNzIFF0Xf5A\", 'листы' : [\"PLRbEiKmVKW66UTA2OBfL7lnWqADh6BhWc\"]},\n",
    "    'несчастный_случай' : {'канал' : \"UCk8xIo1TbXPSFMemR3b19lQ\", 'листы' : [\"PLKbT03_kKOYTnX0ZXtgbaOV_SK0Dqibrg\"]},\n",
    "    'смысловые_галлюцинации' : {'канал' : \"UCURsyF1culXEGs7w24xOmzQ\", 'листы' : [\"PLCOdOdLTv07EECaCLscazIpidglLXmsdT\"]},\n",
    "    'ногу_свело' : {'канал' : \"UC9Lkz6OveCnO9VEFe6Wv3pQ\", 'листы' : [\"PLA9D5A04D6885F7E8\"]},\n",
    "    'агата_кристи' : {'канал' : \"UCRJMtae35RCaS_GTfaxmf3g\", 'листы' : []},\n",
    "}\n"
   ]
  },
  {
   "cell_type": "code",
   "execution_count": null,
   "metadata": {},
   "outputs": [],
   "source": [
    "style = 'metal'\n",
    "\n",
    "target = {\n",
    "    'ария' : {'канал' : \"UC9GpCtyxsW6zTm2u_7LTt9Q\", 'листы' : [\"PLwbk0klXps3ufUSpwkv9NnixgkHdgA_I8\"]},\n",
    "    'louna' : {'канал' : \"UCRnu_KhjPHhyOiXCLF_WlLg\", 'листы' : [\"PLLqM6m0hE0dijJsmL5eRJJCBGIItPplNw\"]}, \n",
    "    'чёрный обелиск' : {'канал' : \"UCCmJXd1oU-1pH9QNDdHM9Rg\", 'листы' : [ ]} ,\n",
    "    'кипелов' : {'канал' : \"UCCDEukPgZgZIsGMh8nCf-jA\", 'листы' : [\"PLDFA9D335158220C6\"]} ,\n",
    "    'коррозия_метала' : {'канал' : \"UCL5fqnGw2N6ubL3Mc_oHK2g\", 'листы' : [\"PLRE9L4YJiL01qZqvnJkfg-c-3_YKjDEnl\"]}, \n",
    "    'маврин' : {'канал' : \"UCdp92sFWeIl193wO2SKd6LQ\", 'листы' : [ ]} ,\n",
    "    'эпидемия' : {'канал' : \"UCJoDCkzPaQjbKUz9zP0ho3Q\", 'листы' : [ ]} ,\n",
    "    'птвп' : {'канал' : \"UCi7_-zvQY8dROvUDVjK7SLQ\", 'листы' : [ ]} ,\n",
    "    'marschak' : {'канал' : \"UCs9gBVBhrKprj0eZu_iMXNQ\", 'листы' : [ ]} ,\n",
    "    'tracktorbowling' : {'канал' : \"UCLXU3lmGchA2W4drZa4Gc8w\", 'листы' : [\"PL96BaF94qlvvKKHWGYPv7719HaC5FxpcV\"]}  ,\n",
    "    'my_autumn' : {'канал' : \"UCoRVq9mSNfs8fXLVca_yhFg\", 'листы' : [ ]} ,\n",
    "    'molecul' : {'канал' : \"UCIYYzMlRYtGy1bTkKJinC9Q\", 'листы' : [ ]} ,\n",
    "    'fail_emotions' : {'канал' : \"UCiIse2puwr0KMc1CSmO4rgQ\", 'листы' : [\"PLwr99ZgDQY8zYZ328Hg6OdX9PVtj4yxWA\"]} ,\n",
    "    'neonate' : {'канал' : \"UC--lDSnzOE_rug9YLhmpH8g\", 'листы' : [ ]} ,\n",
    "    'состояние_птиц' : {'канал' : \"UCF1oACOoJDqX5wf-nRf-rDw\", 'листы' : [\"PLoVeVlPN3-FnBy0XVYxPcT1ik8TdZe069\"]} ,\n",
    "    'stigmata' : {'канал' : \"UCbg2nHQ5cl8f5UBCEdPd9NQ\", 'листы' : [\"PLMb8PgOlpig83Nh_jX1xmgnq8_101MNiC\"]} ,\n",
    "    'idea_fix' : {'канал' : \"UCMLLwpK3GFUa4cmSEY1wqiA\", 'листы' : [ ]} ,\n",
    "    'ena' : {'канал' : \"UC9nD8XG34ElR9tiQPKRwpgg\", 'листы' : [ ]} ,\n",
    "    'korea' : {'канал' : \"UCfAKWhsYaccd41ZjMveoSrw\", 'листы' : [ ]} ,\n",
    "    'gknr' : {'канал' : \"UC1PtnT9u7wyX_4RpODFfqzg\", 'листы' : [ ]}    ,\n",
    "    'pictures_inside_me' : {'канал' : \"UCublkZsf9y6CbJm6P0iErxg\", 'листы' : [ ]}\n",
    " }"
   ]
  },
  {
   "cell_type": "code",
   "execution_count": null,
   "metadata": {},
   "outputs": [],
   "source": [
    "style = 'indi'\n",
    "\n",
    "target = {\n",
    "    'монеточка' : {'канал' : \"UC53JOxGaJlh6vD0ZHUjWhsA\", 'листы' : [\"PLgAT5eZui0q6GnAXkkqd4TumZavXKxyvi\", \"PLgAT5eZui0q6VgmNvNk8nwOm-2-tHC2Tv\"]},\n",
    "    'гречка' : {'канал' : \"UCMBvRL5TIshLV2iDCRJgKCQ\", 'листы' : [\"PLZCo8btGoaYc0y2pGWeQjWdivsJK4JOA3\"]},\n",
    "    'хадн_дадн' : {'канал' : \"UCpWFDabgSGgvsuLkOmDw29w\", 'листы' : [\"V75mV2iIeLs&list=PLgSBd00wJXIcHeOdi047PYU975ocaAAP8\"]},\n",
    "    'алоэ_вера' : {'канал' : \"UCXger0X0bKd0adzG3dBdVhg\", 'листы' : [\"PL-HtAWBg31M95ez7YOV6YYZ2oDVG_6fTm\"]},\n",
    "    'наадя' : {'канал' : \"UCuzptdNvIypH-_umvjV4xXw\", 'листы' : [ ]},\n",
    "    'пошлая_молли' : {'канал' : \"UCDVnp5x53g5L-kBvQsGOW9w\", 'листы' : [\"PLrLCBBnpufnL56likFh7g_ryK3tNJHIJv\"]},\n",
    "    'женя_любич' : {'канал' : \"UC4y0Vb3hQUTsw_sZ9nE1_uw\", 'листы' : [\"PLgf2biZ_ixoMyBf4ik27vwq-wzd4gYTMf\"]},\n",
    "    'ic3peak' : {'канал' : \"UC8FTRaCE2WlR3ZJcvLSJR8g\", 'листы' : [ ]},\n",
    "    'rsac' : {'канал' : \"UCpfnHNpQEfJY94ulWbWzUFg\", 'листы' : [ ]},\n",
    "    'cбпч' : {'канал' : \"UCg2VrielzgQTA1fGdsRJnRg\", 'листы' : [ ]},\n",
    "    'буерак' : {'канал' : \"UC9Qb-JPdRwx8k2cfa7v6rgQ\", 'листы' : [ ]},\n",
    "    'пасош' : {'канал' : \"UCzlqVPjqRr6zBm4Y979pa5w\", 'листы' : [ ]},\n",
    "    'казускома' : {'канал' : \"UCBtJCD9JbhzzeqbeQFjOw7g\", 'листы' : [ ]},\n",
    "    'sonic_death' : {'канал' : \"UCSedMCgu0jlrUK3ifz_bsgA\", 'листы' : [ ]},\n",
    "    'деревянные киты' : {'канал' : \"UCFOz1uLnPd-9cNMTUEe3eLw\", 'листы' : [ ]},\n",
    "    'электрофорез' : {'канал' : \"UCkK2swbqf9ENq13OW4Ju_VQ\", 'листы' : [ ]},\n",
    "    'pompeya' : {'канал' : \"UC1pzrD-FkbgCc8MtSBAdjRw\", 'листы' : [\"PL_P8WTjOs4NcX0sQi44erQdRGBUyqqBKK\"]},\n",
    "    'motorama' : {'канал' : \"UC9Vtn5WRFoHdkb5fbXswmWw\", 'листы' : []},\n",
    "    'антоха_мс' : {'канал' : \"UCKLObxxmmAN4bBXdRtdqEJA\", 'листы' : []},\n",
    "    'retuses' : {'канал' : \"UCJmbZhP4x3pGJDYjpyJU7Wg\", 'листы' : [ ]},\n",
    "    'мальбэк' : {'канал' : \"UCnE0DWdkLRoP2BcJavvDqDQ\", 'листы' : [\"PL_QO9QMbbcKLhxCd5OZ0n5Y7CYB7NcGz6\"]},\n",
    "    'гш' : {'канал' : \"UCbwgX0rn7LQrVT98grYIpDg\", 'листы' : [ ]},\n",
    "    'краснознаменная_дивизия_имени_моей_бабушки' : {'канал' : \"UCq8DFwAD58-V9sXJD5CCmuQ\", 'листы' : [\"PLxfB-2J9-pLnGQBYxm6YPZA6mANkqJmYB\"]},\n",
    "    'рыцарные_рыцари' : {'канал' : \"UCm1EgHvLr1DzDxWEBRMt3VQ\", 'листы' : [ ]},\n",
    "    'интурист' : {'канал' : \"MrJenyaGorbunov\", 'листы' : [ ]}\n",
    "}"
   ]
  },
  {
   "cell_type": "code",
   "execution_count": 5,
   "metadata": {},
   "outputs": [],
   "source": [
    "comments_dict = { }"
   ]
  },
  {
   "cell_type": "code",
   "execution_count": 100,
   "metadata": {},
   "outputs": [],
   "source": [
    "style = 'pank'\n",
    "\n",
    "target = {\n",
    "    'autoscan' : {'канал' : \"UCuxp1QzyahPlNORjEmEe9iw\", 'листы' : [\"PLL3nbPiIl0nMRcG_NJX52VBMM4VJQC99f\"]},\n",
    "    'ёптыть' : {'канал' : \"UCwTDWaq6s7qrHAiBITxoF6w\", 'листы' : [ ]},\n",
    "    'йорш' : {'канал' : \"UCpFl6cp4SeUeSOpUp5o01OA\", 'листы' : [\"PLW0gZnAirx6TprcJMnmHfS6HZeR2nxoyn\", \"PLW0gZnAirx6T9BLqbFCACswKjvzsTRyr-\"]},\n",
    "    'fpg' : {'канал' : \"UC7XEDFtS1uTDVS0u6j-MnWQ\", 'листы' : [ ]},\n",
    "    'элизиум' : {'канал' : \"UCS5VpC1BQXWZSGnGnBFti8w\", 'листы' : [\"PLKP0pmm7wiTfAZXFS3Q0mtUaW9WWLF4fv\"]},\n",
    "    'пурген' : {'канал' : \"UCQfnFmEOudWDz1ef9zgw2hQ\", 'листы' : [ ]},\n",
    "    'deadkedы' : {'канал' : \"UCklL_clJ2Y0YiEDUY6UXkmw\", 'листы' : [ ]},\n",
    "    '2nd_season' : {'канал' : \"UCDyBj41wllLeEf9KSDfX11A\", 'листы' : [ ]},\n",
    "    'кожаный_олень' : {'канал' : \"UCKsQl6G1S645wu0GnaGFRBQ\", 'листы' : [ ]},\n",
    "    'химера' : {'канал' : \"UCx7PJGn1h2_-KlC286HsDbg\", 'листы' : [ ]},\n",
    "    'тени_свободы' : {'канал' : \"UCauSvxqQ2tlUJKoyLbrVg8w\", 'листы' : [ ]},\n",
    "   'княzz' : {'канал' : \"UCPMZ_PFf_z3xpcJh-2S-mmQ\", 'листы' : ['PL9G-MXq1lSOSuZAPpn0RGsq9APM8E7tPq']},\n",
    "    'план ломоносова' : {'канал' : \"UCIFOybBK_5tn_PV9PAl5VKQ\", 'листы' : [\"PLjxRw_O_H2EsX1CLNc1p5yMBgJeRnpR8N\"]},\n",
    "    'порнофильмы' : {'канал' : \"UCffMEYFHnAY_qnIYJr3n-Wg\", 'листы' : [\"PLn0JfJEnm6fQi6rgqJ7_-x4EZTFV24cgc\"]},\n",
    "    'король_и_шут' : {'канал' : \"UCKSClb5P4hMTmNeynTzEm7A\", 'листы' : [\"PLO25aJdStWmuGeEelOgIrCKAtOGQifyNS\"]},\n",
    "    'сектор_газа' : {'канал' : \"UCnTUe--YzQw8GYwmT_3LMww\", 'листы' : [ ]},\n",
    "    'тараканы' : {'канал' : \"UCHWQBE_V-TQLpZv-Tu2wFwQ\", 'листы' : [\"PL0407F996BA5AD989\"]},\n",
    "    'наив' : {'канал' : \"UCruJRxZMwKLhnxXmRRRehAQ\", 'листы' : [\"PL97XakTtJGlG2yFIA0dY-JToYj37SmRBF\"]},\n",
    "    'гражданская_оборона' : {'канал' : \"UCeMsJJOE6avjyvbqP4Kf24g\", 'листы' : [ ]},\n",
    "    'летов' : {'канал' : \"UCOH7H-J4BAi-lR0c9MGwi7g\", 'листы' : [ ]}\n",
    "}"
   ]
  },
  {
   "cell_type": "code",
   "execution_count": 24,
   "metadata": {},
   "outputs": [],
   "source": [
    "style = 'shanson'\n",
    "\n",
    "target = {\n",
    "     'михаил_круг' : {'канал': 'UCNCnMXQTm9lCunw-UIMFnhw', 'листы': [\n",
    "        'PLI5DBAR-knxHnZlqTci8Cfi2RibpYnJpx', \n",
    "        'PLI5DBAR-knxEzq5lmZN4nrbPyXLNvoZpW', \n",
    "        'PLI5DBAR-knxELibvMI0xEJpaPb3yvnVLk'\n",
    "    ]},\n",
    "    'ирина_круг' : {'канал': 'UCArZO6LevX_-43iy_dqmlZg', 'листы': [\n",
    "        'PLk2zkNwKIjUI2kST3Db31pHZSbe9IuANT'\n",
    "    ]},\n",
    "    'бутырка' : {'канал' : 'UCtZQJSi3v6O3eU_pych6ZQQ', 'листы': [\n",
    "        'PLvZofFI2m4GJ-qygAfh3TofUGR9GP6NiM'\n",
    "    ]},\n",
    "    'трофимов' : {'канал' : 'UCk7l9hpgLbpfHJR3Ssz6Njw', 'листы': [\n",
    "        'PLhjB_FUFY4p0FSsgIh0b0grl8SFpQA9uz'\n",
    "    ]},\n",
    "    'жека' : {'канал' : 'UCk7l9hpgLbpfHJR3Ssz6Njw', 'листы': [\n",
    "        'PLsK47AUy3CkLGW5hEhFo_IwimS1vrhNWz'\n",
    "    ]},\n",
    "    'дюмин' : {'канал' : 'UCHiDKtT9BLzCbb3sH_DWbDw', 'листы': [\n",
    "        'PLbwZwB-W4n4OIO9VDT5cHOfaIHUx9OAZH',\n",
    "        'OLAK5uy_lVwvyCdzL2jOoCDxFj0eAh7xL50FdTy9c'\n",
    "    ]},\n",
    "    'воровайки' : {'канал' : 'UCQ6S7-gdPqdnzP4jUV2gqjQ', 'листы': [\n",
    "        'PLqSyQLbcuqeEWybyfRuLeWA0Uhj6z8cjO',\n",
    "        'PLqSyQLbcuqeEcpfsW_2PYAQF_KyowTkWG'\n",
    "    ]},\n",
    "    'шуфутинский' : {'канал' : 'UC9G759R-e1jZ5xfsi6naqHw', 'листы': [\n",
    "        'PLgcDoyCYSpOQ-P7G6WX-W6Lp78Zbi1hDm'\n",
    "    ]}\n",
    "}"
   ]
  },
  {
   "cell_type": "code",
   "execution_count": 25,
   "metadata": {
    "scrolled": false
   },
   "outputs": [
    {
     "name": "stdout",
     "output_type": "stream",
     "text": [
      "Качаю воровайки\n",
      "Видео с канала: 90\n",
      "Видео с плейлиста: 219\n",
      "Видео всего: 291\n"
     ]
    },
    {
     "data": {
      "application/vnd.jupyter.widget-view+json": {
       "model_id": "74e4719d2dcc4de8a0cfc1e2443258eb",
       "version_major": 2,
       "version_minor": 0
      },
      "text/plain": [
       "HBox(children=(IntProgress(value=0, max=291), HTML(value='')))"
      ]
     },
     "metadata": {},
     "output_type": "display_data"
    },
    {
     "name": "stdout",
     "output_type": "stream",
     "text": [
      "\n",
      "Добыто комментариев 0\n",
      "==================================================\n"
     ]
    }
   ],
   "source": [
    "\n",
    "for performer in target.keys():\n",
    "    print('Качаю {}'.format(performer))\n",
    "    \n",
    "    channel_id = target[performer]['канал']\n",
    "    playlist_ids =  target[performer]['листы']\n",
    "\n",
    "    # видосы с основного канала \n",
    "    video_chanel = get_all_video_in_channel(channel_id, api_key)\n",
    "\n",
    "    # видосы с плейлистов\n",
    "    video_playlist = { }\n",
    "    for lst in playlist_ids:\n",
    "        video_playlist.update(get_all_video_in_playlist(lst, api_key))\n",
    "\n",
    "    print('Видео с канала:',len(video_chanel))\n",
    "    print('Видео с плейлиста:',len(video_playlist))\n",
    "    video_playlist.update(video_chanel)\n",
    "    print('Видео всего:',len(video_playlist))\n",
    "    \n",
    "    # пошли комменты\n",
    "    def getCom(x):\n",
    "        try:\n",
    "            return get_comment_threads(x, api_key, style, performer, video_playlist)\n",
    "        except:\n",
    "            print('Error in https://www.youtube.com/watch?time_continue=1&v={}'.format(x))\n",
    "            return [ ]\n",
    "\n",
    "    n_jobs = -1 # параллелим на все ядра \n",
    "    result = Parallel(n_jobs=n_jobs)(delayed(getCom)(\n",
    "        text) for text in tqdm_notebook(list(video_playlist.keys())))\n",
    "    \n",
    "    comments = [ ]\n",
    "    for item in result:\n",
    "        comments.extend(item)\n",
    "\n",
    "    print('Добыто комментариев', len(comments))\n",
    "    \n",
    "    # воткнуть сюда сохранялку\n",
    "    comments_dict[performer] = comments\n",
    "    print(\"==================================================\")"
   ]
  },
  {
   "cell_type": "code",
   "execution_count": 64,
   "metadata": {},
   "outputs": [],
   "source": [
    "# Путь к данным\n",
    "path = '/Users/fulyankin/Yandex.Disk.localized/Проекты/top_russian_music/comments/youtube/by_styles/'\n",
    "\n",
    "with open(path + 'youtube_{}'.format(style), 'wb') as f:\n",
    "    pickle.dump(comments_dict, f)"
   ]
  },
  {
   "cell_type": "code",
   "execution_count": 84,
   "metadata": {},
   "outputs": [
    {
     "data": {
      "text/plain": [
       "34795"
      ]
     },
     "execution_count": 84,
     "metadata": {},
     "output_type": "execute_result"
    }
   ],
   "source": [
    "full_comments = [ ]\n",
    "for item in comments_dict:\n",
    "    full_comments.extend(comments_dict[item])\n",
    "    \n",
    "len(full_comments)"
   ]
  },
  {
   "cell_type": "code",
   "execution_count": 63,
   "metadata": {},
   "outputs": [
    {
     "data": {
      "text/plain": [
       "{'author': 'Василиса Красотина',\n",
       " 'comment_id': 'Ugxsu5CqmaPr20Ocezl4AaABAg',\n",
       " 'date': '2018-06-16T18:43:15.000Z',\n",
       " 'likes': 0,\n",
       " 'music_style': 'rock',\n",
       " 'performer': 'ленинград',\n",
       " 'text': '1:28 ФАРАОН?!?!?!',\n",
       " 'video_name': 'Ленинград — Ч.П.Х.'}"
      ]
     },
     "execution_count": 63,
     "metadata": {},
     "output_type": "execute_result"
    }
   ],
   "source": [
    "full_comments[40000]"
   ]
  },
  {
   "cell_type": "code",
   "execution_count": 70,
   "metadata": {},
   "outputs": [
    {
     "data": {
      "text/plain": [
       "dict_keys(['элизиум', 'план ломоносова', 'порнофильмы', 'йорш', 'король_и_шут'])"
      ]
     },
     "execution_count": 70,
     "metadata": {},
     "output_type": "execute_result"
    }
   ],
   "source": [
    "comments_dict.keys()"
   ]
  }
 ],
 "metadata": {
  "kernelspec": {
   "display_name": "Python 3",
   "language": "python",
   "name": "python3"
  },
  "language_info": {
   "codemirror_mode": {
    "name": "ipython",
    "version": 3
   },
   "file_extension": ".py",
   "mimetype": "text/x-python",
   "name": "python",
   "nbconvert_exporter": "python",
   "pygments_lexer": "ipython3",
   "version": "3.6.5"
  },
  "varInspector": {
   "cols": {
    "lenName": 16,
    "lenType": 16,
    "lenVar": 40
   },
   "kernels_config": {
    "python": {
     "delete_cmd_postfix": "",
     "delete_cmd_prefix": "del ",
     "library": "var_list.py",
     "varRefreshCmd": "print(var_dic_list())"
    },
    "r": {
     "delete_cmd_postfix": ") ",
     "delete_cmd_prefix": "rm(",
     "library": "var_list.r",
     "varRefreshCmd": "cat(var_dic_list()) "
    }
   },
   "types_to_exclude": [
    "module",
    "function",
    "builtin_function_or_method",
    "instance",
    "_Feature"
   ],
   "window_display": false
  }
 },
 "nbformat": 4,
 "nbformat_minor": 2
}
